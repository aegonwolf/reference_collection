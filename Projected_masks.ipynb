{
  "nbformat": 4,
  "nbformat_minor": 5,
  "metadata": {
    "kernelspec": {
      "display_name": "Python 3 (ipykernel)",
      "language": "python",
      "name": "python3"
    },
    "language_info": {
      "codemirror_mode": {
        "name": "ipython",
        "version": 3
      },
      "file_extension": ".py",
      "mimetype": "text/x-python",
      "name": "python",
      "nbconvert_exporter": "python",
      "pygments_lexer": "ipython3",
      "version": "3.9.7"
    },
    "colab": {
      "name": "Projected_masks.ipynb",
      "provenance": []
    }
  },
  "cells": [
    {
      "cell_type": "markdown",
      "metadata": {
        "id": "7e9efc25-d9c7-48b9-a031-95dca96821ea"
      },
      "source": [
        "# save some example tifs in a folder named test or rename my test folder in the for loop (should really make function of it)\n",
        "Need to install osmnx and all packages in individual environment iwth strict channel priority\n",
        "install everything from conda forge incompatibility runs strong in these packae"
      ],
      "id": "7e9efc25-d9c7-48b9-a031-95dca96821ea"
    },
    {
      "cell_type": "code",
      "metadata": {
        "colab": {
          "base_uri": "https://localhost:8080/"
        },
        "id": "gf5a4w83FdXL",
        "outputId": "6b4af013-ed1a-49e5-ed05-58c11cbcada3"
      },
      "source": [
        "from google.colab import drive\n",
        "drive.mount('/content/drive')"
      ],
      "id": "gf5a4w83FdXL",
      "execution_count": null,
      "outputs": [
        {
          "output_type": "stream",
          "name": "stdout",
          "text": [
            "Mounted at /content/drive\n"
          ]
        }
      ]
    },
    {
      "cell_type": "code",
      "metadata": {
        "colab": {
          "base_uri": "https://localhost:8080/"
        },
        "id": "WWdjWp51GKpU",
        "outputId": "234dcc26-785b-41da-a736-05f4a163f88d"
      },
      "source": [
        "!pip install rasterio"
      ],
      "id": "WWdjWp51GKpU",
      "execution_count": null,
      "outputs": [
        {
          "output_type": "stream",
          "name": "stdout",
          "text": [
            "Collecting rasterio\n",
            "  Downloading rasterio-1.2.10-cp37-cp37m-manylinux1_x86_64.whl (19.3 MB)\n",
            "\u001b[K     |████████████████████████████████| 19.3 MB 1.3 MB/s \n",
            "\u001b[?25hCollecting affine\n",
            "  Downloading affine-2.3.0-py2.py3-none-any.whl (15 kB)\n",
            "Collecting click-plugins\n",
            "  Downloading click_plugins-1.1.1-py2.py3-none-any.whl (7.5 kB)\n",
            "Requirement already satisfied: setuptools in /usr/local/lib/python3.7/dist-packages (from rasterio) (57.4.0)\n",
            "Requirement already satisfied: attrs in /usr/local/lib/python3.7/dist-packages (from rasterio) (21.2.0)\n",
            "Collecting cligj>=0.5\n",
            "  Downloading cligj-0.7.2-py3-none-any.whl (7.1 kB)\n",
            "Collecting snuggs>=1.4.1\n",
            "  Downloading snuggs-1.4.7-py3-none-any.whl (5.4 kB)\n",
            "Requirement already satisfied: click>=4.0 in /usr/local/lib/python3.7/dist-packages (from rasterio) (7.1.2)\n",
            "Requirement already satisfied: certifi in /usr/local/lib/python3.7/dist-packages (from rasterio) (2021.10.8)\n",
            "Requirement already satisfied: numpy in /usr/local/lib/python3.7/dist-packages (from rasterio) (1.19.5)\n",
            "Requirement already satisfied: pyparsing>=2.1.6 in /usr/local/lib/python3.7/dist-packages (from snuggs>=1.4.1->rasterio) (3.0.6)\n",
            "Installing collected packages: snuggs, cligj, click-plugins, affine, rasterio\n",
            "Successfully installed affine-2.3.0 click-plugins-1.1.1 cligj-0.7.2 rasterio-1.2.10 snuggs-1.4.7\n"
          ]
        }
      ]
    },
    {
      "cell_type": "code",
      "metadata": {
        "colab": {
          "base_uri": "https://localhost:8080/"
        },
        "id": "R7r0Ib2TGV0r",
        "outputId": "602e9215-a59a-48ee-cdc6-4e2a4a477e3a"
      },
      "source": [
        "!pip install utm"
      ],
      "id": "R7r0Ib2TGV0r",
      "execution_count": null,
      "outputs": [
        {
          "output_type": "stream",
          "name": "stdout",
          "text": [
            "Collecting utm\n",
            "  Downloading utm-0.7.0.tar.gz (8.7 kB)\n",
            "Building wheels for collected packages: utm\n",
            "  Building wheel for utm (setup.py) ... \u001b[?25l\u001b[?25hdone\n",
            "  Created wheel for utm: filename=utm-0.7.0-py3-none-any.whl size=6109 sha256=67edf3744a5cad4de66fa7947e972f0db517ca66b7d2e7607419aecb23363eb1\n",
            "  Stored in directory: /root/.cache/pip/wheels/a5/b0/12/7ee4fdb0f9fbb4157100bd02390436ed5d58ebfd3c6d6a0886\n",
            "Successfully built utm\n",
            "Installing collected packages: utm\n",
            "Successfully installed utm-0.7.0\n"
          ]
        }
      ]
    },
    {
      "cell_type": "code",
      "metadata": {
        "colab": {
          "base_uri": "https://localhost:8080/"
        },
        "id": "k6LmGM5LGbRC",
        "outputId": "16a13e50-24bd-498d-de4c-538b43921a75"
      },
      "source": [
        "!pip install rioxarray"
      ],
      "id": "k6LmGM5LGbRC",
      "execution_count": null,
      "outputs": [
        {
          "output_type": "stream",
          "name": "stdout",
          "text": [
            "Collecting rioxarray\n",
            "  Downloading rioxarray-0.8.0.tar.gz (46 kB)\n",
            "\u001b[?25l\r\u001b[K     |███████                         | 10 kB 19.5 MB/s eta 0:00:01\r\u001b[K     |██████████████                  | 20 kB 10.1 MB/s eta 0:00:01\r\u001b[K     |█████████████████████           | 30 kB 8.4 MB/s eta 0:00:01\r\u001b[K     |████████████████████████████    | 40 kB 7.6 MB/s eta 0:00:01\r\u001b[K     |████████████████████████████████| 46 kB 2.1 MB/s \n",
            "\u001b[?25h  Installing build dependencies ... \u001b[?25l\u001b[?25hdone\n",
            "  Getting requirements to build wheel ... \u001b[?25l\u001b[?25hdone\n",
            "    Preparing wheel metadata ... \u001b[?25l\u001b[?25hdone\n",
            "Requirement already satisfied: rasterio in /usr/local/lib/python3.7/dist-packages (from rioxarray) (1.2.10)\n",
            "Requirement already satisfied: packaging in /usr/local/lib/python3.7/dist-packages (from rioxarray) (21.3)\n",
            "Collecting pyproj>=2.2\n",
            "  Downloading pyproj-3.2.1-cp37-cp37m-manylinux2010_x86_64.whl (6.3 MB)\n",
            "\u001b[K     |████████████████████████████████| 6.3 MB 8.8 MB/s \n",
            "\u001b[?25hRequirement already satisfied: xarray>=0.17 in /usr/local/lib/python3.7/dist-packages (from rioxarray) (0.18.2)\n",
            "Requirement already satisfied: certifi in /usr/local/lib/python3.7/dist-packages (from pyproj>=2.2->rioxarray) (2021.10.8)\n",
            "Requirement already satisfied: setuptools>=40.4 in /usr/local/lib/python3.7/dist-packages (from xarray>=0.17->rioxarray) (57.4.0)\n",
            "Requirement already satisfied: numpy>=1.17 in /usr/local/lib/python3.7/dist-packages (from xarray>=0.17->rioxarray) (1.19.5)\n",
            "Requirement already satisfied: pandas>=1.0 in /usr/local/lib/python3.7/dist-packages (from xarray>=0.17->rioxarray) (1.1.5)\n",
            "Requirement already satisfied: pytz>=2017.2 in /usr/local/lib/python3.7/dist-packages (from pandas>=1.0->xarray>=0.17->rioxarray) (2018.9)\n",
            "Requirement already satisfied: python-dateutil>=2.7.3 in /usr/local/lib/python3.7/dist-packages (from pandas>=1.0->xarray>=0.17->rioxarray) (2.8.2)\n",
            "Requirement already satisfied: six>=1.5 in /usr/local/lib/python3.7/dist-packages (from python-dateutil>=2.7.3->pandas>=1.0->xarray>=0.17->rioxarray) (1.15.0)\n",
            "Requirement already satisfied: pyparsing!=3.0.5,>=2.0.2 in /usr/local/lib/python3.7/dist-packages (from packaging->rioxarray) (3.0.6)\n",
            "Requirement already satisfied: attrs in /usr/local/lib/python3.7/dist-packages (from rasterio->rioxarray) (21.2.0)\n",
            "Requirement already satisfied: click-plugins in /usr/local/lib/python3.7/dist-packages (from rasterio->rioxarray) (1.1.1)\n",
            "Requirement already satisfied: affine in /usr/local/lib/python3.7/dist-packages (from rasterio->rioxarray) (2.3.0)\n",
            "Requirement already satisfied: snuggs>=1.4.1 in /usr/local/lib/python3.7/dist-packages (from rasterio->rioxarray) (1.4.7)\n",
            "Requirement already satisfied: click>=4.0 in /usr/local/lib/python3.7/dist-packages (from rasterio->rioxarray) (7.1.2)\n",
            "Requirement already satisfied: cligj>=0.5 in /usr/local/lib/python3.7/dist-packages (from rasterio->rioxarray) (0.7.2)\n",
            "Building wheels for collected packages: rioxarray\n",
            "  Building wheel for rioxarray (PEP 517) ... \u001b[?25l\u001b[?25hdone\n",
            "  Created wheel for rioxarray: filename=rioxarray-0.8.0-py3-none-any.whl size=54247 sha256=696994a29f6f758822bf90629fcda4a20d1ee6da304088eba247084833563d76\n",
            "  Stored in directory: /root/.cache/pip/wheels/0a/e5/fb/5ac6dcd7faf126d92239d03f0e7d6c46648094d7a8706d2a63\n",
            "Successfully built rioxarray\n",
            "Installing collected packages: pyproj, rioxarray\n",
            "Successfully installed pyproj-3.2.1 rioxarray-0.8.0\n"
          ]
        }
      ]
    },
    {
      "cell_type": "code",
      "metadata": {
        "id": "QyDTx0yVF8sT",
        "colab": {
          "base_uri": "https://localhost:8080/",
          "height": 1000
        },
        "outputId": "34c4849b-be66-4a86-ccce-8727bfc5a93d"
      },
      "source": [
        "!pip install osmnx"
      ],
      "id": "QyDTx0yVF8sT",
      "execution_count": null,
      "outputs": [
        {
          "output_type": "stream",
          "name": "stdout",
          "text": [
            "Collecting osmnx\n",
            "  Downloading osmnx-1.1.2-py2.py3-none-any.whl (95 kB)\n",
            "\u001b[?25l\r\u001b[K     |███▍                            | 10 kB 22.9 MB/s eta 0:00:01\r\u001b[K     |██████▉                         | 20 kB 13.1 MB/s eta 0:00:01\r\u001b[K     |██████████▎                     | 30 kB 10.3 MB/s eta 0:00:01\r\u001b[K     |█████████████▋                  | 40 kB 9.1 MB/s eta 0:00:01\r\u001b[K     |█████████████████               | 51 kB 5.0 MB/s eta 0:00:01\r\u001b[K     |████████████████████▌           | 61 kB 5.5 MB/s eta 0:00:01\r\u001b[K     |████████████████████████        | 71 kB 5.5 MB/s eta 0:00:01\r\u001b[K     |███████████████████████████▎    | 81 kB 6.1 MB/s eta 0:00:01\r\u001b[K     |██████████████████████████████▊ | 92 kB 6.2 MB/s eta 0:00:01\r\u001b[K     |████████████████████████████████| 95 kB 2.7 MB/s \n",
            "\u001b[?25hRequirement already satisfied: Shapely<2.0,>=1.7 in /usr/local/lib/python3.7/dist-packages (from osmnx) (1.8.0)\n",
            "Collecting numpy>=1.21\n",
            "  Downloading numpy-1.21.4-cp37-cp37m-manylinux_2_12_x86_64.manylinux2010_x86_64.whl (15.7 MB)\n",
            "\u001b[K     |████████████████████████████████| 15.7 MB 124 kB/s \n",
            "\u001b[?25hCollecting requests>=2.26\n",
            "  Downloading requests-2.26.0-py2.py3-none-any.whl (62 kB)\n",
            "\u001b[K     |████████████████████████████████| 62 kB 764 kB/s \n",
            "\u001b[?25hRequirement already satisfied: networkx>=2.6 in /usr/local/lib/python3.7/dist-packages (from osmnx) (2.6.3)\n",
            "Collecting geopandas>=0.10\n",
            "  Downloading geopandas-0.10.2-py2.py3-none-any.whl (1.0 MB)\n",
            "\u001b[K     |████████████████████████████████| 1.0 MB 58.4 MB/s \n",
            "\u001b[?25hCollecting Rtree>=0.9\n",
            "  Downloading Rtree-0.9.7-cp37-cp37m-manylinux2010_x86_64.whl (994 kB)\n",
            "\u001b[K     |████████████████████████████████| 994 kB 58.6 MB/s \n",
            "\u001b[?25hCollecting pandas>=1.3\n",
            "  Downloading pandas-1.3.4-cp37-cp37m-manylinux_2_17_x86_64.manylinux2014_x86_64.whl (11.3 MB)\n",
            "\u001b[K     |████████████████████████████████| 11.3 MB 48.3 MB/s \n",
            "\u001b[?25hRequirement already satisfied: pyproj>=3.2 in /usr/local/lib/python3.7/dist-packages (from osmnx) (3.2.1)\n",
            "Collecting matplotlib>=3.4\n",
            "  Downloading matplotlib-3.5.0-cp37-cp37m-manylinux_2_5_x86_64.manylinux1_x86_64.whl (11.2 MB)\n",
            "\u001b[K     |████████████████████████████████| 11.2 MB 28.2 MB/s \n",
            "\u001b[?25hCollecting fiona>=1.8\n",
            "  Downloading Fiona-1.8.20-cp37-cp37m-manylinux1_x86_64.whl (15.4 MB)\n",
            "\u001b[K     |████████████████████████████████| 15.4 MB 39 kB/s \n",
            "\u001b[?25hRequirement already satisfied: click-plugins>=1.0 in /usr/local/lib/python3.7/dist-packages (from fiona>=1.8->geopandas>=0.10->osmnx) (1.1.1)\n",
            "Requirement already satisfied: certifi in /usr/local/lib/python3.7/dist-packages (from fiona>=1.8->geopandas>=0.10->osmnx) (2021.10.8)\n",
            "Requirement already satisfied: six>=1.7 in /usr/local/lib/python3.7/dist-packages (from fiona>=1.8->geopandas>=0.10->osmnx) (1.15.0)\n",
            "Requirement already satisfied: setuptools in /usr/local/lib/python3.7/dist-packages (from fiona>=1.8->geopandas>=0.10->osmnx) (57.4.0)\n",
            "Requirement already satisfied: click>=4.0 in /usr/local/lib/python3.7/dist-packages (from fiona>=1.8->geopandas>=0.10->osmnx) (7.1.2)\n",
            "Requirement already satisfied: attrs>=17 in /usr/local/lib/python3.7/dist-packages (from fiona>=1.8->geopandas>=0.10->osmnx) (21.2.0)\n",
            "Requirement already satisfied: cligj>=0.5 in /usr/local/lib/python3.7/dist-packages (from fiona>=1.8->geopandas>=0.10->osmnx) (0.7.2)\n",
            "Collecting munch\n",
            "  Downloading munch-2.5.0-py2.py3-none-any.whl (10 kB)\n",
            "Requirement already satisfied: setuptools-scm>=4 in /usr/local/lib/python3.7/dist-packages (from matplotlib>=3.4->osmnx) (6.3.2)\n",
            "Requirement already satisfied: pyparsing>=2.2.1 in /usr/local/lib/python3.7/dist-packages (from matplotlib>=3.4->osmnx) (3.0.6)\n",
            "Requirement already satisfied: packaging>=20.0 in /usr/local/lib/python3.7/dist-packages (from matplotlib>=3.4->osmnx) (21.3)\n",
            "Requirement already satisfied: fonttools>=4.22.0 in /usr/local/lib/python3.7/dist-packages (from matplotlib>=3.4->osmnx) (4.28.1)\n",
            "Requirement already satisfied: cycler>=0.10 in /usr/local/lib/python3.7/dist-packages (from matplotlib>=3.4->osmnx) (0.11.0)\n",
            "Requirement already satisfied: python-dateutil>=2.7 in /usr/local/lib/python3.7/dist-packages (from matplotlib>=3.4->osmnx) (2.8.2)\n",
            "Requirement already satisfied: pillow>=6.2.0 in /usr/local/lib/python3.7/dist-packages (from matplotlib>=3.4->osmnx) (7.1.2)\n",
            "Requirement already satisfied: kiwisolver>=1.0.1 in /usr/local/lib/python3.7/dist-packages (from matplotlib>=3.4->osmnx) (1.3.2)\n",
            "Requirement already satisfied: pytz>=2017.3 in /usr/local/lib/python3.7/dist-packages (from pandas>=1.3->osmnx) (2018.9)\n",
            "Requirement already satisfied: charset-normalizer~=2.0.0 in /usr/local/lib/python3.7/dist-packages (from requests>=2.26->osmnx) (2.0.7)\n",
            "Requirement already satisfied: idna<4,>=2.5 in /usr/local/lib/python3.7/dist-packages (from requests>=2.26->osmnx) (2.10)\n",
            "Requirement already satisfied: urllib3<1.27,>=1.21.1 in /usr/local/lib/python3.7/dist-packages (from requests>=2.26->osmnx) (1.24.3)\n",
            "Requirement already satisfied: tomli>=1.0.0 in /usr/local/lib/python3.7/dist-packages (from setuptools-scm>=4->matplotlib>=3.4->osmnx) (1.2.2)\n",
            "Installing collected packages: numpy, munch, pandas, fiona, Rtree, requests, matplotlib, geopandas, osmnx\n",
            "  Attempting uninstall: numpy\n",
            "    Found existing installation: numpy 1.19.5\n",
            "    Uninstalling numpy-1.19.5:\n",
            "      Successfully uninstalled numpy-1.19.5\n",
            "  Attempting uninstall: pandas\n",
            "    Found existing installation: pandas 1.1.5\n",
            "    Uninstalling pandas-1.1.5:\n",
            "      Successfully uninstalled pandas-1.1.5\n",
            "  Attempting uninstall: requests\n",
            "    Found existing installation: requests 2.23.0\n",
            "    Uninstalling requests-2.23.0:\n",
            "      Successfully uninstalled requests-2.23.0\n",
            "  Attempting uninstall: matplotlib\n",
            "    Found existing installation: matplotlib 3.2.2\n",
            "    Uninstalling matplotlib-3.2.2:\n",
            "      Successfully uninstalled matplotlib-3.2.2\n",
            "\u001b[31mERROR: pip's dependency resolver does not currently take into account all the packages that are installed. This behaviour is the source of the following dependency conflicts.\n",
            "yellowbrick 1.3.post1 requires numpy<1.20,>=1.16.0, but you have numpy 1.21.4 which is incompatible.\n",
            "google-colab 1.0.0 requires pandas~=1.1.0; python_version >= \"3.0\", but you have pandas 1.3.4 which is incompatible.\n",
            "google-colab 1.0.0 requires requests~=2.23.0, but you have requests 2.26.0 which is incompatible.\n",
            "datascience 0.10.6 requires folium==0.2.1, but you have folium 0.8.3 which is incompatible.\n",
            "albumentations 0.1.12 requires imgaug<0.2.7,>=0.2.5, but you have imgaug 0.2.9 which is incompatible.\u001b[0m\n",
            "Successfully installed Rtree-0.9.7 fiona-1.8.20 geopandas-0.10.2 matplotlib-3.5.0 munch-2.5.0 numpy-1.21.4 osmnx-1.1.2 pandas-1.3.4 requests-2.26.0\n"
          ]
        },
        {
          "output_type": "display_data",
          "data": {
            "application/vnd.colab-display-data+json": {
              "pip_warning": {
                "packages": [
                  "matplotlib",
                  "mpl_toolkits",
                  "numpy",
                  "pandas"
                ]
              }
            }
          },
          "metadata": {}
        }
      ]
    },
    {
      "cell_type": "code",
      "metadata": {
        "id": "6c3d54ea-2ac0-45fb-b965-d8a743b04311"
      },
      "source": [
        "import pandas as pd\n",
        "from multiprocessing import Pool\n",
        "from tqdm.notebook import tqdm\n",
        "import time\n",
        "import numpy as np\n",
        "import os\n",
        "import rasterio\n",
        "import glob as glob\n",
        "import osmnx as ox\n",
        "import matplotlib\n",
        "import matplotlib.pyplot as plt\n",
        "import geopandas as gpd\n",
        "from osgeo import gdal, ogr, osr\n",
        "import cv2\n",
        "import subprocess\n",
        "import shapely\n",
        "from shapely.geometry import MultiLineString\n",
        "from matplotlib.patches import PathPatch\n",
        "import matplotlib.path\n",
        "import pandas as pd\n",
        "import sys\n",
        "import utm\n",
        "import zipfile\n",
        "import rioxarray"
      ],
      "id": "6c3d54ea-2ac0-45fb-b965-d8a743b04311",
      "execution_count": null,
      "outputs": []
    },
    {
      "cell_type": "code",
      "metadata": {
        "id": "a7726bb8-b79b-414c-af50-fdba09e753fe"
      },
      "source": [
        "def get_road_buffer(gdf, ds, im_vis_file, output_raster,\n",
        "                    buffer_meters=2, burn_value=1,\n",
        "                    buffer_roundness=6,\n",
        "                    plot_file='', figsize=(6, 6), fontsize=6,\n",
        "                    dpi=800, show_plot=False,\n",
        "                    verbose=False):\n",
        "    '''\n",
        "    Get buffer around roads defined by gdf_edges from osmnx rasterio dataset.\n",
        "    Calls create_buffer_geopandas() and gdf_to_array().\n",
        "    Returns geodataframe and output mask.\n",
        "    '''\n",
        "\n",
        "    gdf_buffer = create_buffer_geopandas(gdf, ds,\n",
        "                                         buffer_distance=buffer_meters,\n",
        "                                         buffer_roundness=buffer_roundness,\n",
        "                                         projectToUTM=True)\n",
        "\n",
        "    # create label image\n",
        "    if len(gdf_buffer) == 0:\n",
        "        mask_gray = np.zeros(cv2.imread(im_vis_file, 0).shape)\n",
        "        cv2.imwrite(output_raster, mask_gray)\n",
        "    else:\n",
        "        gdf_to_array(gdf_buffer, im_vis_file, output_raster,\n",
        "                     burn_value=burn_value)\n",
        "\n",
        "    # load mask\n",
        "    mask_gray = cv2.imread(output_raster, 0)\n",
        "\n",
        "    return mask_gray, gdf_buffer\n",
        "\n",
        "\n",
        "def create_buffer_geopandas(gdf,\n",
        "                            ds,\n",
        "                            buffer_distance=2,\n",
        "                            buffer_roundness=1,\n",
        "                            projectToUTM=True):\n",
        "    '''\n",
        "    Create a buffer around the lines of the geojson.\n",
        "    Return a geodataframe.\n",
        "    '''\n",
        "\n",
        "    inGDF = gdf\n",
        "\n",
        "    # set a few columns that we will need later\n",
        "    try:\n",
        "        inGDF['type'] = inGDF['highway'].values\n",
        "    except:\n",
        "        inGDF['type'] = inGDF['road_type'].values\n",
        "    inGDF['class'] = 'highway'\n",
        "    inGDF['highway'] = 'highway'\n",
        "\n",
        "    if len(inGDF) == 0:\n",
        "        return [], []\n",
        "\n",
        "    # Transform gdf Roadlines into UTM so that Buffer makes sense\n",
        "    if projectToUTM:\n",
        "        tmpGDF = ox.project_gdf(inGDF)\n",
        "    else:\n",
        "        tmpGDF = inGDF\n",
        "    gdf_utm_buffer = tmpGDF\n",
        "\n",
        "    # perform Buffer to produce polygons from Line Segments\n",
        "    # this creates a buffer around the lines with size buffer_distance\n",
        "    # in meters\n",
        "    # it connects tiles within radius buffer_roundness\n",
        "    gdf_utm_buffer['geometry'] = tmpGDF.buffer(buffer_distance,\n",
        "                                               buffer_roundness)\n",
        "    #dissolve is basically a groupby for geopandas\n",
        "    #combines/squashes all geometries into a single one\n",
        "    gdf_utm_dissolve = gdf_utm_buffer.dissolve(by='class')\n",
        "    gdf_utm_dissolve.crs = gdf_utm_buffer.crs\n",
        "\n",
        "    if projectToUTM:\n",
        "        gdf_buffer = gdf_utm_dissolve.to_crs(ds.crs)\n",
        "    else:\n",
        "        gdf_buffer = gdf_utm_dissolve\n",
        "\n",
        "    return gdf_buffer"
      ],
      "id": "a7726bb8-b79b-414c-af50-fdba09e753fe",
      "execution_count": null,
      "outputs": []
    },
    {
      "cell_type": "code",
      "metadata": {
        "id": "4bb2dfb5-a3e3-4a1a-9f40-f60aa1ef7a72"
      },
      "source": [
        "def gdf_to_array(gdf, im_file, output_raster, burn_value=255):\n",
        "    '''\n",
        "    Turn geodataframe to array, save as image file with non-null pixels\n",
        "    set to burn_value.\n",
        "    Basically everywhere where there is a road = burn_value (default = white = 255), else 0.\n",
        "    '''\n",
        "\n",
        "    NoData_value = 0  # -9999\n",
        "\n",
        "    gdata = gdal.Open(im_file)\n",
        "\n",
        "    # set target info\n",
        "    target_ds = gdal.GetDriverByName('GTiff').Create(output_raster,\n",
        "                                                     gdata.RasterXSize,\n",
        "                                                     gdata.RasterYSize, 1, gdal.GDT_Byte)\n",
        "    target_ds.SetGeoTransform(gdata.GetGeoTransform())\n",
        "\n",
        "    # set raster info\n",
        "    raster_srs = osr.SpatialReference()\n",
        "    raster_srs.ImportFromWkt(gdata.GetProjectionRef())\n",
        "    target_ds.SetProjection(raster_srs.ExportToWkt())\n",
        "\n",
        "    band = target_ds.GetRasterBand(1)\n",
        "    band.SetNoDataValue(NoData_value)\n",
        "\n",
        "    outdriver = ogr.GetDriverByName('MEMORY')\n",
        "    outDataSource = outdriver.CreateDataSource('memData')\n",
        "    tmp = outdriver.Open('memData', 1)\n",
        "    outLayer = outDataSource.CreateLayer(\"states_extent\", raster_srs,\n",
        "                                         geom_type=ogr.wkbMultiPolygon)\n",
        "    # burn\n",
        "    burnField = \"burn\"\n",
        "    idField = ogr.FieldDefn(burnField, ogr.OFTInteger)\n",
        "    outLayer.CreateField(idField)\n",
        "    featureDefn = outLayer.GetLayerDefn()\n",
        "    for geomShape in gdf['geometry'].values:\n",
        "        outFeature = ogr.Feature(featureDefn)\n",
        "        outFeature.SetGeometry(ogr.CreateGeometryFromWkt(geomShape.wkt))\n",
        "        outFeature.SetField(burnField, burn_value)\n",
        "        outLayer.CreateFeature(outFeature)\n",
        "        outFeature = 0\n",
        "\n",
        "    gdal.RasterizeLayer(target_ds, [1], outLayer, burn_values=[burn_value], options = ['ALL_TOUCHED=TRUE'])\n",
        "    outLayer = 0\n",
        "    outDatSource = 0\n",
        "    tmp = 0\n",
        "\n",
        "    return"
      ],
      "id": "4bb2dfb5-a3e3-4a1a-9f40-f60aa1ef7a72",
      "execution_count": null,
      "outputs": []
    },
    {
      "cell_type": "code",
      "metadata": {
        "id": "32776670-2a94-4036-aa5a-efe50cebb4f8"
      },
      "source": [
        "def reproject_tif(filename):\n",
        "    #I tried projecting the gdf which works, but somehow gdal rasterio don't like it\n",
        "    #that's wasteful but works\n",
        "    #can overwrite reprojected tif again and again\n",
        "    rds = rioxarray.open_rasterio(filename, decode_coords=\"all\")\n",
        "    rds_4326 = rds.rio.reproject(\"EPSG:4326\")\n",
        "    rds_4326.rio.to_raster(\"reprojected.tif\")\n",
        "    "
      ],
      "id": "32776670-2a94-4036-aa5a-efe50cebb4f8",
      "execution_count": null,
      "outputs": []
    },
    {
      "cell_type": "code",
      "metadata": {
        "id": "d8fe55bb-7bc5-44f0-bf56-a07a5bca2129",
        "colab": {
          "base_uri": "https://localhost:8080/",
          "height": 380
        },
        "outputId": "6d832150-d24d-4cdf-dad4-4660b4f753aa"
      },
      "source": [
        "path = '/content/drive/MyDrive/ai4good/updated'\n",
        "for file in sorted(glob.glob(path + '/*.tif')):\n",
        "    reproject_tif(file)\n",
        "    ds = rasterio.open('reprojected.tif')\n",
        "    west, south, east, north = ds.bounds\n",
        "    graph = ox.graph.graph_from_bbox(north, south, east, west)\n",
        "    gdf_nodes, gdf_edges = ox.graph_to_gdfs(graph,\n",
        "                                            nodes=True,\n",
        "                                            edges=True,\n",
        "                                            node_geometry=True,\n",
        "                                            fill_edge_geometry=True)\n",
        "    reprojected_tif = 'reprojected.tif'\n",
        "    output = f'output_{file}.png'\n",
        "    mask, gdf_buffer = get_road_buffer(gdf_edges, ds,\n",
        "                                               im_vis_file=reprojected_tif,\n",
        "                                               output_raster=output)\n",
        "    ds.close()\n",
        "    os.remove('reprojected.tif')\n",
        "    plt.figure(figsize = (15,15))\n",
        "    plt.imshow(mask)\n",
        "    plt.show()"
      ],
      "id": "d8fe55bb-7bc5-44f0-bf56-a07a5bca2129",
      "execution_count": null,
      "outputs": [
        {
          "output_type": "error",
          "ename": "AttributeError",
          "evalue": "ignored",
          "traceback": [
            "\u001b[0;31m---------------------------------------------------------------------------\u001b[0m",
            "\u001b[0;31mAttributeError\u001b[0m                            Traceback (most recent call last)",
            "\u001b[0;32m<ipython-input-10-62262571e707>\u001b[0m in \u001b[0;36m<module>\u001b[0;34m()\u001b[0m\n\u001b[1;32m     14\u001b[0m     mask, gdf_buffer = get_road_buffer(gdf_edges, ds,\n\u001b[1;32m     15\u001b[0m                                                \u001b[0mim_vis_file\u001b[0m\u001b[0;34m=\u001b[0m\u001b[0mreprojected_tif\u001b[0m\u001b[0;34m,\u001b[0m\u001b[0;34m\u001b[0m\u001b[0;34m\u001b[0m\u001b[0m\n\u001b[0;32m---> 16\u001b[0;31m                                                output_raster=output)\n\u001b[0m\u001b[1;32m     17\u001b[0m     \u001b[0mds\u001b[0m\u001b[0;34m.\u001b[0m\u001b[0mclose\u001b[0m\u001b[0;34m(\u001b[0m\u001b[0;34m)\u001b[0m\u001b[0;34m\u001b[0m\u001b[0;34m\u001b[0m\u001b[0m\n\u001b[1;32m     18\u001b[0m     \u001b[0mos\u001b[0m\u001b[0;34m.\u001b[0m\u001b[0mremove\u001b[0m\u001b[0;34m(\u001b[0m\u001b[0;34m'reprojected.tif'\u001b[0m\u001b[0;34m)\u001b[0m\u001b[0;34m\u001b[0m\u001b[0;34m\u001b[0m\u001b[0m\n",
            "\u001b[0;32m<ipython-input-7-c934eba610c4>\u001b[0m in \u001b[0;36mget_road_buffer\u001b[0;34m(gdf, ds, im_vis_file, output_raster, buffer_meters, burn_value, buffer_roundness, plot_file, figsize, fontsize, dpi, show_plot, verbose)\u001b[0m\n\u001b[1;32m     22\u001b[0m     \u001b[0;32melse\u001b[0m\u001b[0;34m:\u001b[0m\u001b[0;34m\u001b[0m\u001b[0;34m\u001b[0m\u001b[0m\n\u001b[1;32m     23\u001b[0m         gdf_to_array(gdf_buffer, im_vis_file, output_raster,\n\u001b[0;32m---> 24\u001b[0;31m                      burn_value=burn_value)\n\u001b[0m\u001b[1;32m     25\u001b[0m \u001b[0;34m\u001b[0m\u001b[0m\n\u001b[1;32m     26\u001b[0m     \u001b[0;31m# load mask\u001b[0m\u001b[0;34m\u001b[0m\u001b[0;34m\u001b[0m\u001b[0;34m\u001b[0m\u001b[0m\n",
            "\u001b[0;32m<ipython-input-8-482a836f1eb6>\u001b[0m in \u001b[0;36mgdf_to_array\u001b[0;34m(gdf, im_file, output_raster, burn_value)\u001b[0m\n\u001b[1;32m     14\u001b[0m                                                      \u001b[0mgdata\u001b[0m\u001b[0;34m.\u001b[0m\u001b[0mRasterXSize\u001b[0m\u001b[0;34m,\u001b[0m\u001b[0;34m\u001b[0m\u001b[0;34m\u001b[0m\u001b[0m\n\u001b[1;32m     15\u001b[0m                                                      gdata.RasterYSize, 1, gdal.GDT_Byte)\n\u001b[0;32m---> 16\u001b[0;31m     \u001b[0mtarget_ds\u001b[0m\u001b[0;34m.\u001b[0m\u001b[0mSetGeoTransform\u001b[0m\u001b[0;34m(\u001b[0m\u001b[0mgdata\u001b[0m\u001b[0;34m.\u001b[0m\u001b[0mGetGeoTransform\u001b[0m\u001b[0;34m(\u001b[0m\u001b[0;34m)\u001b[0m\u001b[0;34m)\u001b[0m\u001b[0;34m\u001b[0m\u001b[0;34m\u001b[0m\u001b[0m\n\u001b[0m\u001b[1;32m     17\u001b[0m \u001b[0;34m\u001b[0m\u001b[0m\n\u001b[1;32m     18\u001b[0m     \u001b[0;31m# set raster info\u001b[0m\u001b[0;34m\u001b[0m\u001b[0;34m\u001b[0m\u001b[0;34m\u001b[0m\u001b[0m\n",
            "\u001b[0;31mAttributeError\u001b[0m: 'NoneType' object has no attribute 'SetGeoTransform'"
          ]
        }
      ]
    },
    {
      "cell_type": "code",
      "metadata": {
        "id": "4232f160-2158-4e8b-b534-e195145cf340"
      },
      "source": [
        ""
      ],
      "id": "4232f160-2158-4e8b-b534-e195145cf340",
      "execution_count": null,
      "outputs": []
    }
  ]
}