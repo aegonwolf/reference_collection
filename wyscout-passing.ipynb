{
 "cells": [
  {
   "cell_type": "code",
   "execution_count": 1,
   "id": "da0b199e",
   "metadata": {
    "execution": {
     "iopub.execute_input": "2022-09-19T08:51:35.720639Z",
     "iopub.status.busy": "2022-09-19T08:51:35.720155Z",
     "iopub.status.idle": "2022-09-19T08:51:48.795648Z",
     "shell.execute_reply": "2022-09-19T08:51:48.794277Z"
    },
    "papermill": {
     "duration": 13.090682,
     "end_time": "2022-09-19T08:51:48.798539",
     "exception": false,
     "start_time": "2022-09-19T08:51:35.707857",
     "status": "completed"
    },
    "tags": []
   },
   "outputs": [
    {
     "name": "stdout",
     "output_type": "stream",
     "text": [
      "Collecting kloppy\r\n",
      "  Downloading kloppy-3.5.1-py3-none-any.whl (139 kB)\r\n",
      "\u001b[2K     \u001b[90m━━━━━━━━━━━━━━━━━━━━━━━━━━━━━━━━━━━━━━━\u001b[0m \u001b[32m139.0/139.0 kB\u001b[0m \u001b[31m1.0 MB/s\u001b[0m eta \u001b[36m0:00:00\u001b[0m\r\n",
      "\u001b[?25hRequirement already satisfied: requests<3,>=2.0.0 in /opt/conda/lib/python3.7/site-packages (from kloppy) (2.27.1)\r\n",
      "Requirement already satisfied: python-dateutil<3,>=2.8.1 in /opt/conda/lib/python3.7/site-packages (from kloppy) (2.8.2)\r\n",
      "Requirement already satisfied: mypy-extensions in /opt/conda/lib/python3.7/site-packages (from kloppy) (0.4.3)\r\n",
      "Requirement already satisfied: lxml<5,>=4.4.0 in /opt/conda/lib/python3.7/site-packages (from kloppy) (4.9.0)\r\n",
      "Requirement already satisfied: typing-extensions in /opt/conda/lib/python3.7/site-packages (from kloppy) (4.1.1)\r\n",
      "Requirement already satisfied: pytz>=2020.1 in /opt/conda/lib/python3.7/site-packages (from kloppy) (2022.1)\r\n",
      "Requirement already satisfied: six>=1.5 in /opt/conda/lib/python3.7/site-packages (from python-dateutil<3,>=2.8.1->kloppy) (1.16.0)\r\n",
      "Requirement already satisfied: certifi>=2017.4.17 in /opt/conda/lib/python3.7/site-packages (from requests<3,>=2.0.0->kloppy) (2022.6.15)\r\n",
      "Requirement already satisfied: urllib3<1.27,>=1.21.1 in /opt/conda/lib/python3.7/site-packages (from requests<3,>=2.0.0->kloppy) (1.26.9)\r\n",
      "Requirement already satisfied: charset-normalizer~=2.0.0 in /opt/conda/lib/python3.7/site-packages (from requests<3,>=2.0.0->kloppy) (2.0.12)\r\n",
      "Requirement already satisfied: idna<4,>=2.5 in /opt/conda/lib/python3.7/site-packages (from requests<3,>=2.0.0->kloppy) (3.3)\r\n",
      "Installing collected packages: kloppy\r\n",
      "Successfully installed kloppy-3.5.1\r\n",
      "\u001b[33mWARNING: Running pip as the 'root' user can result in broken permissions and conflicting behaviour with the system package manager. It is recommended to use a virtual environment instead: https://pip.pypa.io/warnings/venv\u001b[0m\u001b[33m\r\n",
      "\u001b[0m"
     ]
    }
   ],
   "source": [
    "!pip install kloppy"
   ]
  },
  {
   "cell_type": "code",
   "execution_count": 2,
   "id": "b97dfbfe",
   "metadata": {
    "execution": {
     "iopub.execute_input": "2022-09-19T08:51:48.820691Z",
     "iopub.status.busy": "2022-09-19T08:51:48.819503Z",
     "iopub.status.idle": "2022-09-19T08:51:48.883217Z",
     "shell.execute_reply": "2022-09-19T08:51:48.881937Z"
    },
    "papermill": {
     "duration": 0.077436,
     "end_time": "2022-09-19T08:51:48.885901",
     "exception": false,
     "start_time": "2022-09-19T08:51:48.808465",
     "status": "completed"
    },
    "tags": []
   },
   "outputs": [],
   "source": [
    "from kloppy import datasets, wyscout\n",
    "import json\n",
    "import pandas as pd\n",
    "import numpy as np\n",
    "from matplotlib.patches import Arc\n",
    "import matplotlib.pyplot as plt"
   ]
  },
  {
   "cell_type": "code",
   "execution_count": 3,
   "id": "99ef122f",
   "metadata": {
    "execution": {
     "iopub.execute_input": "2022-09-19T08:51:48.907469Z",
     "iopub.status.busy": "2022-09-19T08:51:48.907063Z",
     "iopub.status.idle": "2022-09-19T08:51:48.913320Z",
     "shell.execute_reply": "2022-09-19T08:51:48.912020Z"
    },
    "papermill": {
     "duration": 0.020229,
     "end_time": "2022-09-19T08:51:48.915989",
     "exception": false,
     "start_time": "2022-09-19T08:51:48.895760",
     "status": "completed"
    },
    "tags": []
   },
   "outputs": [],
   "source": [
    "def load_json(json_path):\n",
    "    with open(json_path) as f:\n",
    "        data = json.load(f)\n",
    "        matches = pd.json_normalize(data, sep = \"_\")\n",
    "    return matches"
   ]
  },
  {
   "cell_type": "code",
   "execution_count": 4,
   "id": "92b8a998",
   "metadata": {
    "execution": {
     "iopub.execute_input": "2022-09-19T08:51:48.937683Z",
     "iopub.status.busy": "2022-09-19T08:51:48.936904Z",
     "iopub.status.idle": "2022-09-19T08:51:48.943046Z",
     "shell.execute_reply": "2022-09-19T08:51:48.941769Z"
    },
    "papermill": {
     "duration": 0.01979,
     "end_time": "2022-09-19T08:51:48.945435",
     "exception": false,
     "start_time": "2022-09-19T08:51:48.925645",
     "status": "completed"
    },
    "tags": []
   },
   "outputs": [],
   "source": [
    "def drop0var(df):\n",
    "    \"\"\"\n",
    "    param: df, a pandas dataframe\n",
    "    \"\"\"\n",
    "    todrop = (df.var()[df.var() == 0]).index.values\n",
    "    df = df.drop(todrop, axis=1)\n",
    "    return df"
   ]
  },
  {
   "cell_type": "code",
   "execution_count": 5,
   "id": "42407305",
   "metadata": {
    "execution": {
     "iopub.execute_input": "2022-09-19T08:51:48.967513Z",
     "iopub.status.busy": "2022-09-19T08:51:48.966832Z",
     "iopub.status.idle": "2022-09-19T08:51:48.988862Z",
     "shell.execute_reply": "2022-09-19T08:51:48.987757Z"
    },
    "papermill": {
     "duration": 0.036413,
     "end_time": "2022-09-19T08:51:48.991522",
     "exception": false,
     "start_time": "2022-09-19T08:51:48.955109",
     "status": "completed"
    },
    "tags": []
   },
   "outputs": [],
   "source": [
    "def create_pitch(length, width, linecolor, bounds = 15):\n",
    "\n",
    "    \"\"\"\n",
    "    mainly stolen from fc python\n",
    "    param length: an int the length of the field\n",
    "    param width: an int the height of the field\n",
    "    param linecolor: the color of the lines\n",
    "\"\"\"\n",
    "    #Create figure\n",
    "    fig=plt.figure()\n",
    "    #fig.set_size_inches(7, 5)\n",
    "    ax=fig.add_subplot(1,1,1)\n",
    "\n",
    "    #Pitch Outline & Centre Line\n",
    "    plt.plot([0,0],[0,width], color=linecolor)\n",
    "    plt.plot([0,length],[width,width], color=linecolor)\n",
    "    plt.plot([length,length],[width,0], color=linecolor)\n",
    "    plt.plot([length,0],[0,0], color=linecolor)\n",
    "    plt.plot([length/2,length/2],[0,width], color=linecolor)\n",
    "    plt.fill_between(x = [-bounds, length + bounds],\n",
    "                     y1 = [width + bounds, width + bounds],\n",
    "                     y2 = [-bounds, -bounds], color='green')\n",
    "\n",
    "    #Left Penalty Area\n",
    "    plt.plot([16.5 ,16.5],[(width/2 +16.5),(width/2-16.5)],color=linecolor)\n",
    "    plt.plot([0,16.5],[(width/2 +16.5),(width/2 +16.5)],color=linecolor)\n",
    "    plt.plot([16.5,0],[(width/2 -16.5),(width/2 -16.5)],color=linecolor)\n",
    "\n",
    "    #Right Penalty Area\n",
    "    plt.plot([(length-16.5),length],[(width/2 +16.5),(width/2 +16.5)],color=linecolor)\n",
    "    plt.plot([(length-16.5), (length-16.5)],[(width/2 +16.5),(width/2-16.5)],color=linecolor)\n",
    "    plt.plot([(length-16.5),length],[(width/2 -16.5),(width/2 -16.5)],color=linecolor)\n",
    "\n",
    "    #Left 5-meters Box\n",
    "    plt.plot([0,5.5],[(width/2+7.32/2+5.5),(width/2+7.32/2+5.5)],color=linecolor)\n",
    "    plt.plot([5.5,5.5],[(width/2+7.32/2+5.5),(width/2-7.32/2-5.5)],color=linecolor)\n",
    "    plt.plot([5.5,0.5],[(width/2-7.32/2-5.5),(width/2-7.32/2-5.5)],color=linecolor)\n",
    "\n",
    "    #Right 5-meters Box\n",
    "    plt.plot([length,length-5.5],[(width/2+7.32/2+5.5),(width/2+7.32/2+5.5)],color=linecolor)\n",
    "    plt.plot([length-5.5,length-5.5],[(width/2+7.32/2+5.5),width/2-7.32/2-5.5],color=linecolor)\n",
    "    plt.plot([length-5.5,length],[width/2-7.32/2-5.5,width/2-7.32/2-5.5],color=linecolor)\n",
    "\n",
    "    #Prepare Circles\n",
    "    centreCircle = plt.Circle((length/2,width/2),9.15,color=linecolor,fill=False)\n",
    "    centreSpot = plt.Circle((length/2,width/2),0.8,color=linecolor)\n",
    "    leftPenSpot = plt.Circle((11,width/2),0.8,color=linecolor)\n",
    "    rightPenSpot = plt.Circle((length-11,width/2),0.8,color=linecolor)\n",
    "\n",
    "    #Draw Circles\n",
    "    ax.add_patch(centreCircle)\n",
    "    ax.add_patch(centreSpot)\n",
    "    ax.add_patch(leftPenSpot)\n",
    "    ax.add_patch(rightPenSpot)\n",
    "\n",
    "    #Prepare Arcs\n",
    "    leftArc = Arc((11,width/2),height=18.3,width=18.3,angle=0,theta1=308,theta2=52,color=linecolor)\n",
    "    rightArc = Arc((length-11,width/2),height=18.3,width=18.3,angle=0,theta1=128,theta2=232,color=linecolor)\n",
    "\n",
    "    #Draw Arcs\n",
    "    ax.add_patch(leftArc)\n",
    "    ax.add_patch(rightArc)\n",
    "    #Axis titles\n",
    "    #Tidy Axes\n",
    "    plt.axis('off')\n",
    "\n",
    "    return fig,ax\n"
   ]
  },
  {
   "cell_type": "code",
   "execution_count": 6,
   "id": "8ea0e7a1",
   "metadata": {
    "execution": {
     "iopub.execute_input": "2022-09-19T08:51:49.013042Z",
     "iopub.status.busy": "2022-09-19T08:51:49.012623Z",
     "iopub.status.idle": "2022-09-19T08:51:49.017483Z",
     "shell.execute_reply": "2022-09-19T08:51:49.016414Z"
    },
    "papermill": {
     "duration": 0.018364,
     "end_time": "2022-09-19T08:51:49.019607",
     "exception": false,
     "start_time": "2022-09-19T08:51:49.001243",
     "status": "completed"
    },
    "tags": []
   },
   "outputs": [],
   "source": [
    "def map_players(x):\n",
    "    try:\n",
    "        return player_map[x]\n",
    "    except:\n",
    "        return \"None\""
   ]
  },
  {
   "cell_type": "code",
   "execution_count": 7,
   "id": "e193c2e3",
   "metadata": {
    "execution": {
     "iopub.execute_input": "2022-09-19T08:51:49.040564Z",
     "iopub.status.busy": "2022-09-19T08:51:49.040132Z",
     "iopub.status.idle": "2022-09-19T08:51:50.171871Z",
     "shell.execute_reply": "2022-09-19T08:51:50.170825Z"
    },
    "papermill": {
     "duration": 1.145584,
     "end_time": "2022-09-19T08:51:50.174685",
     "exception": false,
     "start_time": "2022-09-19T08:51:49.029101",
     "status": "completed"
    },
    "tags": []
   },
   "outputs": [],
   "source": [
    "import seaborn as sns\n",
    "sns.set(rc={'figure.figsize':(15,10)})\n",
    "length = 105\n",
    "width = 68"
   ]
  },
  {
   "cell_type": "code",
   "execution_count": 8,
   "id": "40f18a8f",
   "metadata": {
    "execution": {
     "iopub.execute_input": "2022-09-19T08:51:50.195394Z",
     "iopub.status.busy": "2022-09-19T08:51:50.194958Z",
     "iopub.status.idle": "2022-09-19T08:51:50.200142Z",
     "shell.execute_reply": "2022-09-19T08:51:50.199131Z"
    },
    "papermill": {
     "duration": 0.018144,
     "end_time": "2022-09-19T08:51:50.202421",
     "exception": false,
     "start_time": "2022-09-19T08:51:50.184277",
     "status": "completed"
    },
    "tags": []
   },
   "outputs": [],
   "source": [
    "def map_length(x):\n",
    "    return x*length\n",
    "\n",
    "def map_width(x):\n",
    "    return x*width"
   ]
  },
  {
   "cell_type": "code",
   "execution_count": 9,
   "id": "e9ca63f1",
   "metadata": {
    "execution": {
     "iopub.execute_input": "2022-09-19T08:51:50.222810Z",
     "iopub.status.busy": "2022-09-19T08:51:50.222396Z",
     "iopub.status.idle": "2022-09-19T08:51:50.968007Z",
     "shell.execute_reply": "2022-09-19T08:51:50.966719Z"
    },
    "papermill": {
     "duration": 0.759422,
     "end_time": "2022-09-19T08:51:50.971331",
     "exception": false,
     "start_time": "2022-09-19T08:51:50.211909",
     "status": "completed"
    },
    "tags": []
   },
   "outputs": [],
   "source": [
    "manu_westham = datasets.load('wyscout', match_id = 2499724)\n",
    "matchdf = manu_westham.to_pandas()"
   ]
  },
  {
   "cell_type": "code",
   "execution_count": 10,
   "id": "70b7f7ba",
   "metadata": {
    "execution": {
     "iopub.execute_input": "2022-09-19T08:51:50.997166Z",
     "iopub.status.busy": "2022-09-19T08:51:50.996796Z",
     "iopub.status.idle": "2022-09-19T08:51:51.246772Z",
     "shell.execute_reply": "2022-09-19T08:51:51.245664Z"
    },
    "papermill": {
     "duration": 0.263784,
     "end_time": "2022-09-19T08:51:51.249724",
     "exception": false,
     "start_time": "2022-09-19T08:51:50.985940",
     "status": "completed"
    },
    "tags": []
   },
   "outputs": [],
   "source": [
    "matches_json = '../input/being-difficult/matches_England.json'\n",
    "players_json = '../input/being-difficult/players.json'\n",
    "matches = load_json(matches_json)\n",
    "players = load_json(players_json)"
   ]
  },
  {
   "cell_type": "code",
   "execution_count": 11,
   "id": "a4b6134b",
   "metadata": {
    "execution": {
     "iopub.execute_input": "2022-09-19T08:51:51.272304Z",
     "iopub.status.busy": "2022-09-19T08:51:51.270020Z",
     "iopub.status.idle": "2022-09-19T08:51:51.561203Z",
     "shell.execute_reply": "2022-09-19T08:51:51.559937Z"
    },
    "papermill": {
     "duration": 0.305055,
     "end_time": "2022-09-19T08:51:51.564186",
     "exception": false,
     "start_time": "2022-09-19T08:51:51.259131",
     "status": "completed"
    },
    "tags": []
   },
   "outputs": [],
   "source": [
    "player_map = {}\n",
    "for index, player in players.iterrows():\n",
    "    player_map[str(player.wyId)] = player.firstName + \" \" + player.lastName "
   ]
  },
  {
   "cell_type": "code",
   "execution_count": 12,
   "id": "ff5ac1c2",
   "metadata": {
    "execution": {
     "iopub.execute_input": "2022-09-19T08:51:51.586023Z",
     "iopub.status.busy": "2022-09-19T08:51:51.585619Z",
     "iopub.status.idle": "2022-09-19T08:51:51.600054Z",
     "shell.execute_reply": "2022-09-19T08:51:51.599156Z"
    },
    "papermill": {
     "duration": 0.027581,
     "end_time": "2022-09-19T08:51:51.602054",
     "exception": false,
     "start_time": "2022-09-19T08:51:51.574473",
     "status": "completed"
    },
    "tags": []
   },
   "outputs": [],
   "source": [
    "matchdf['x'] = matchdf['coordinates_x'].apply(map_length)\n",
    "matchdf['y'] = matchdf['coordinates_y'].apply(map_width)\n",
    "matchdf['end_x'] = matchdf['end_coordinates_x'].apply(map_length)\n",
    "matchdf['end_y'] = matchdf['end_coordinates_y'].apply(map_width)"
   ]
  },
  {
   "cell_type": "code",
   "execution_count": 13,
   "id": "e6e837a0",
   "metadata": {
    "execution": {
     "iopub.execute_input": "2022-09-19T08:51:51.622895Z",
     "iopub.status.busy": "2022-09-19T08:51:51.622205Z",
     "iopub.status.idle": "2022-09-19T08:55:52.123937Z",
     "shell.execute_reply": "2022-09-19T08:55:52.122865Z"
    },
    "papermill": {
     "duration": 240.515371,
     "end_time": "2022-09-19T08:55:52.126947",
     "exception": false,
     "start_time": "2022-09-19T08:51:51.611576",
     "status": "completed"
    },
    "tags": []
   },
   "outputs": [],
   "source": [
    "alldf = []\n",
    "for match in matches.wyId.unique():\n",
    "    try:\n",
    "        df = datasets.load('wyscout', match_id = match).to_pandas()\n",
    "        df = df[df.event_type =='PASS']\n",
    "        alldf.append(df)\n",
    "    except:\n",
    "        continue"
   ]
  },
  {
   "cell_type": "code",
   "execution_count": 14,
   "id": "6adc4bbc",
   "metadata": {
    "execution": {
     "iopub.execute_input": "2022-09-19T08:55:52.148607Z",
     "iopub.status.busy": "2022-09-19T08:55:52.148157Z",
     "iopub.status.idle": "2022-09-19T08:55:52.614761Z",
     "shell.execute_reply": "2022-09-19T08:55:52.613511Z"
    },
    "papermill": {
     "duration": 0.48075,
     "end_time": "2022-09-19T08:55:52.617670",
     "exception": false,
     "start_time": "2022-09-19T08:55:52.136920",
     "status": "completed"
    },
    "tags": []
   },
   "outputs": [],
   "source": [
    "allpasses = pd.concat(alldf)"
   ]
  },
  {
   "cell_type": "code",
   "execution_count": 15,
   "id": "c6267d78",
   "metadata": {
    "execution": {
     "iopub.execute_input": "2022-09-19T08:55:52.638681Z",
     "iopub.status.busy": "2022-09-19T08:55:52.638284Z",
     "iopub.status.idle": "2022-09-19T08:55:52.679168Z",
     "shell.execute_reply": "2022-09-19T08:55:52.677517Z"
    },
    "papermill": {
     "duration": 0.054268,
     "end_time": "2022-09-19T08:55:52.681723",
     "exception": false,
     "start_time": "2022-09-19T08:55:52.627455",
     "status": "completed"
    },
    "tags": []
   },
   "outputs": [
    {
     "name": "stderr",
     "output_type": "stream",
     "text": [
      "/opt/conda/lib/python3.7/site-packages/ipykernel_launcher.py:5: FutureWarning: Dropping of nuisance columns in DataFrame reductions (with 'numeric_only=None') is deprecated; in a future version this will raise TypeError.  Select only valid columns before calling the reduction.\n",
      "  \"\"\"\n"
     ]
    }
   ],
   "source": [
    "matches = drop0var(matches)"
   ]
  },
  {
   "cell_type": "code",
   "execution_count": 16,
   "id": "0c8c6435",
   "metadata": {
    "execution": {
     "iopub.execute_input": "2022-09-19T08:55:52.703597Z",
     "iopub.status.busy": "2022-09-19T08:55:52.703160Z",
     "iopub.status.idle": "2022-09-19T08:55:52.745078Z",
     "shell.execute_reply": "2022-09-19T08:55:52.744183Z"
    },
    "papermill": {
     "duration": 0.055566,
     "end_time": "2022-09-19T08:55:52.747278",
     "exception": false,
     "start_time": "2022-09-19T08:55:52.691712",
     "status": "completed"
    },
    "tags": []
   },
   "outputs": [
    {
     "data": {
      "text/html": [
       "<div>\n",
       "<style scoped>\n",
       "    .dataframe tbody tr th:only-of-type {\n",
       "        vertical-align: middle;\n",
       "    }\n",
       "\n",
       "    .dataframe tbody tr th {\n",
       "        vertical-align: top;\n",
       "    }\n",
       "\n",
       "    .dataframe thead th {\n",
       "        text-align: right;\n",
       "    }\n",
       "</style>\n",
       "<table border=\"1\" class=\"dataframe\">\n",
       "  <thead>\n",
       "    <tr style=\"text-align: right;\">\n",
       "      <th></th>\n",
       "      <th>event_id</th>\n",
       "      <th>event_type</th>\n",
       "      <th>result</th>\n",
       "      <th>success</th>\n",
       "      <th>period_id</th>\n",
       "      <th>timestamp</th>\n",
       "      <th>end_timestamp</th>\n",
       "      <th>ball_state</th>\n",
       "      <th>ball_owning_team</th>\n",
       "      <th>team_id</th>\n",
       "      <th>...</th>\n",
       "      <th>is_counter_attack</th>\n",
       "      <th>pass_type</th>\n",
       "      <th>set_piece_type</th>\n",
       "      <th>body_part_type</th>\n",
       "      <th>goalkeeper_action_type</th>\n",
       "      <th>card_type</th>\n",
       "      <th>x</th>\n",
       "      <th>y</th>\n",
       "      <th>end_x</th>\n",
       "      <th>end_y</th>\n",
       "    </tr>\n",
       "  </thead>\n",
       "  <tbody>\n",
       "    <tr>\n",
       "      <th>0</th>\n",
       "      <td>178494347</td>\n",
       "      <td>PASS</td>\n",
       "      <td>COMPLETE</td>\n",
       "      <td>True</td>\n",
       "      <td>1</td>\n",
       "      <td>5.546151</td>\n",
       "      <td>None</td>\n",
       "      <td>None</td>\n",
       "      <td>None</td>\n",
       "      <td>1611</td>\n",
       "      <td>...</td>\n",
       "      <td>False</td>\n",
       "      <td>SIMPLE_PASS</td>\n",
       "      <td>NaN</td>\n",
       "      <td>NaN</td>\n",
       "      <td>NaN</td>\n",
       "      <td>NaN</td>\n",
       "      <td>52.50</td>\n",
       "      <td>35.36</td>\n",
       "      <td>42.00</td>\n",
       "      <td>29.92</td>\n",
       "    </tr>\n",
       "    <tr>\n",
       "      <th>1</th>\n",
       "      <td>178494348</td>\n",
       "      <td>PASS</td>\n",
       "      <td>COMPLETE</td>\n",
       "      <td>True</td>\n",
       "      <td>1</td>\n",
       "      <td>6.708916</td>\n",
       "      <td>None</td>\n",
       "      <td>None</td>\n",
       "      <td>None</td>\n",
       "      <td>1611</td>\n",
       "      <td>...</td>\n",
       "      <td>False</td>\n",
       "      <td>SIMPLE_PASS</td>\n",
       "      <td>NaN</td>\n",
       "      <td>NaN</td>\n",
       "      <td>NaN</td>\n",
       "      <td>NaN</td>\n",
       "      <td>42.00</td>\n",
       "      <td>29.92</td>\n",
       "      <td>34.65</td>\n",
       "      <td>51.00</td>\n",
       "    </tr>\n",
       "    <tr>\n",
       "      <th>2</th>\n",
       "      <td>178494349</td>\n",
       "      <td>PASS</td>\n",
       "      <td>COMPLETE</td>\n",
       "      <td>True</td>\n",
       "      <td>1</td>\n",
       "      <td>9.612072</td>\n",
       "      <td>None</td>\n",
       "      <td>None</td>\n",
       "      <td>None</td>\n",
       "      <td>1611</td>\n",
       "      <td>...</td>\n",
       "      <td>False</td>\n",
       "      <td>SIMPLE_PASS</td>\n",
       "      <td>NaN</td>\n",
       "      <td>NaN</td>\n",
       "      <td>NaN</td>\n",
       "      <td>NaN</td>\n",
       "      <td>34.65</td>\n",
       "      <td>51.00</td>\n",
       "      <td>44.10</td>\n",
       "      <td>51.68</td>\n",
       "    </tr>\n",
       "    <tr>\n",
       "      <th>3</th>\n",
       "      <td>178494350</td>\n",
       "      <td>PASS</td>\n",
       "      <td>COMPLETE</td>\n",
       "      <td>True</td>\n",
       "      <td>1</td>\n",
       "      <td>10.718877</td>\n",
       "      <td>None</td>\n",
       "      <td>None</td>\n",
       "      <td>None</td>\n",
       "      <td>1611</td>\n",
       "      <td>...</td>\n",
       "      <td>False</td>\n",
       "      <td>SIMPLE_PASS</td>\n",
       "      <td>NaN</td>\n",
       "      <td>NaN</td>\n",
       "      <td>NaN</td>\n",
       "      <td>NaN</td>\n",
       "      <td>44.10</td>\n",
       "      <td>51.68</td>\n",
       "      <td>29.40</td>\n",
       "      <td>24.48</td>\n",
       "    </tr>\n",
       "    <tr>\n",
       "      <th>4</th>\n",
       "      <td>178494351</td>\n",
       "      <td>PASS</td>\n",
       "      <td>COMPLETE</td>\n",
       "      <td>True</td>\n",
       "      <td>1</td>\n",
       "      <td>12.728071</td>\n",
       "      <td>None</td>\n",
       "      <td>None</td>\n",
       "      <td>None</td>\n",
       "      <td>1611</td>\n",
       "      <td>...</td>\n",
       "      <td>False</td>\n",
       "      <td>SIMPLE_PASS</td>\n",
       "      <td>NaN</td>\n",
       "      <td>NaN</td>\n",
       "      <td>NaN</td>\n",
       "      <td>NaN</td>\n",
       "      <td>29.40</td>\n",
       "      <td>24.48</td>\n",
       "      <td>35.70</td>\n",
       "      <td>8.16</td>\n",
       "    </tr>\n",
       "    <tr>\n",
       "      <th>...</th>\n",
       "      <td>...</td>\n",
       "      <td>...</td>\n",
       "      <td>...</td>\n",
       "      <td>...</td>\n",
       "      <td>...</td>\n",
       "      <td>...</td>\n",
       "      <td>...</td>\n",
       "      <td>...</td>\n",
       "      <td>...</td>\n",
       "      <td>...</td>\n",
       "      <td>...</td>\n",
       "      <td>...</td>\n",
       "      <td>...</td>\n",
       "      <td>...</td>\n",
       "      <td>...</td>\n",
       "      <td>...</td>\n",
       "      <td>...</td>\n",
       "      <td>...</td>\n",
       "      <td>...</td>\n",
       "      <td>...</td>\n",
       "      <td>...</td>\n",
       "    </tr>\n",
       "    <tr>\n",
       "      <th>1641</th>\n",
       "      <td>178496018</td>\n",
       "      <td>RECOVERY</td>\n",
       "      <td>None</td>\n",
       "      <td>None</td>\n",
       "      <td>2</td>\n",
       "      <td>2862.313235</td>\n",
       "      <td>None</td>\n",
       "      <td>None</td>\n",
       "      <td>None</td>\n",
       "      <td>1633</td>\n",
       "      <td>...</td>\n",
       "      <td>False</td>\n",
       "      <td>NaN</td>\n",
       "      <td>NaN</td>\n",
       "      <td>NaN</td>\n",
       "      <td>NaN</td>\n",
       "      <td>NaN</td>\n",
       "      <td>5.25</td>\n",
       "      <td>23.80</td>\n",
       "      <td>NaN</td>\n",
       "      <td>NaN</td>\n",
       "    </tr>\n",
       "    <tr>\n",
       "      <th>1642</th>\n",
       "      <td>178496019</td>\n",
       "      <td>BALL_OUT</td>\n",
       "      <td>None</td>\n",
       "      <td>None</td>\n",
       "      <td>2</td>\n",
       "      <td>2866.414500</td>\n",
       "      <td>None</td>\n",
       "      <td>None</td>\n",
       "      <td>None</td>\n",
       "      <td>1633</td>\n",
       "      <td>...</td>\n",
       "      <td>False</td>\n",
       "      <td>NaN</td>\n",
       "      <td>NaN</td>\n",
       "      <td>NaN</td>\n",
       "      <td>NaN</td>\n",
       "      <td>NaN</td>\n",
       "      <td>6.30</td>\n",
       "      <td>0.00</td>\n",
       "      <td>NaN</td>\n",
       "      <td>NaN</td>\n",
       "    </tr>\n",
       "    <tr>\n",
       "      <th>1643</th>\n",
       "      <td>178495982</td>\n",
       "      <td>PASS</td>\n",
       "      <td>COMPLETE</td>\n",
       "      <td>True</td>\n",
       "      <td>2</td>\n",
       "      <td>2879.021252</td>\n",
       "      <td>None</td>\n",
       "      <td>None</td>\n",
       "      <td>None</td>\n",
       "      <td>1611</td>\n",
       "      <td>...</td>\n",
       "      <td>False</td>\n",
       "      <td>HAND_PASS</td>\n",
       "      <td>THROW_IN</td>\n",
       "      <td>NaN</td>\n",
       "      <td>NaN</td>\n",
       "      <td>NaN</td>\n",
       "      <td>93.45</td>\n",
       "      <td>68.00</td>\n",
       "      <td>97.65</td>\n",
       "      <td>61.88</td>\n",
       "    </tr>\n",
       "    <tr>\n",
       "      <th>1644</th>\n",
       "      <td>178496020</td>\n",
       "      <td>TAKE_ON</td>\n",
       "      <td>None</td>\n",
       "      <td>None</td>\n",
       "      <td>2</td>\n",
       "      <td>2883.667683</td>\n",
       "      <td>None</td>\n",
       "      <td>None</td>\n",
       "      <td>None</td>\n",
       "      <td>1633</td>\n",
       "      <td>...</td>\n",
       "      <td>False</td>\n",
       "      <td>NaN</td>\n",
       "      <td>NaN</td>\n",
       "      <td>NaN</td>\n",
       "      <td>NaN</td>\n",
       "      <td>NaN</td>\n",
       "      <td>7.35</td>\n",
       "      <td>6.12</td>\n",
       "      <td>NaN</td>\n",
       "      <td>NaN</td>\n",
       "    </tr>\n",
       "    <tr>\n",
       "      <th>1645</th>\n",
       "      <td>178496470</td>\n",
       "      <td>TAKE_ON</td>\n",
       "      <td>INCOMPLETE</td>\n",
       "      <td>False</td>\n",
       "      <td>2</td>\n",
       "      <td>2883.667683</td>\n",
       "      <td>None</td>\n",
       "      <td>None</td>\n",
       "      <td>None</td>\n",
       "      <td>1611</td>\n",
       "      <td>...</td>\n",
       "      <td>False</td>\n",
       "      <td>NaN</td>\n",
       "      <td>NaN</td>\n",
       "      <td>NaN</td>\n",
       "      <td>NaN</td>\n",
       "      <td>NaN</td>\n",
       "      <td>97.65</td>\n",
       "      <td>61.88</td>\n",
       "      <td>NaN</td>\n",
       "      <td>NaN</td>\n",
       "    </tr>\n",
       "  </tbody>\n",
       "</table>\n",
       "<p>1646 rows × 26 columns</p>\n",
       "</div>"
      ],
      "text/plain": [
       "       event_id event_type      result success  period_id    timestamp  \\\n",
       "0     178494347       PASS    COMPLETE    True          1     5.546151   \n",
       "1     178494348       PASS    COMPLETE    True          1     6.708916   \n",
       "2     178494349       PASS    COMPLETE    True          1     9.612072   \n",
       "3     178494350       PASS    COMPLETE    True          1    10.718877   \n",
       "4     178494351       PASS    COMPLETE    True          1    12.728071   \n",
       "...         ...        ...         ...     ...        ...          ...   \n",
       "1641  178496018   RECOVERY        None    None          2  2862.313235   \n",
       "1642  178496019   BALL_OUT        None    None          2  2866.414500   \n",
       "1643  178495982       PASS    COMPLETE    True          2  2879.021252   \n",
       "1644  178496020    TAKE_ON        None    None          2  2883.667683   \n",
       "1645  178496470    TAKE_ON  INCOMPLETE   False          2  2883.667683   \n",
       "\n",
       "     end_timestamp ball_state ball_owning_team team_id  ... is_counter_attack  \\\n",
       "0             None       None             None    1611  ...             False   \n",
       "1             None       None             None    1611  ...             False   \n",
       "2             None       None             None    1611  ...             False   \n",
       "3             None       None             None    1611  ...             False   \n",
       "4             None       None             None    1611  ...             False   \n",
       "...            ...        ...              ...     ...  ...               ...   \n",
       "1641          None       None             None    1633  ...             False   \n",
       "1642          None       None             None    1633  ...             False   \n",
       "1643          None       None             None    1611  ...             False   \n",
       "1644          None       None             None    1633  ...             False   \n",
       "1645          None       None             None    1611  ...             False   \n",
       "\n",
       "        pass_type  set_piece_type  body_part_type  goalkeeper_action_type  \\\n",
       "0     SIMPLE_PASS             NaN             NaN                     NaN   \n",
       "1     SIMPLE_PASS             NaN             NaN                     NaN   \n",
       "2     SIMPLE_PASS             NaN             NaN                     NaN   \n",
       "3     SIMPLE_PASS             NaN             NaN                     NaN   \n",
       "4     SIMPLE_PASS             NaN             NaN                     NaN   \n",
       "...           ...             ...             ...                     ...   \n",
       "1641          NaN             NaN             NaN                     NaN   \n",
       "1642          NaN             NaN             NaN                     NaN   \n",
       "1643    HAND_PASS        THROW_IN             NaN                     NaN   \n",
       "1644          NaN             NaN             NaN                     NaN   \n",
       "1645          NaN             NaN             NaN                     NaN   \n",
       "\n",
       "      card_type      x      y  end_x  end_y  \n",
       "0           NaN  52.50  35.36  42.00  29.92  \n",
       "1           NaN  42.00  29.92  34.65  51.00  \n",
       "2           NaN  34.65  51.00  44.10  51.68  \n",
       "3           NaN  44.10  51.68  29.40  24.48  \n",
       "4           NaN  29.40  24.48  35.70   8.16  \n",
       "...         ...    ...    ...    ...    ...  \n",
       "1641        NaN   5.25  23.80    NaN    NaN  \n",
       "1642        NaN   6.30   0.00    NaN    NaN  \n",
       "1643        NaN  93.45  68.00  97.65  61.88  \n",
       "1644        NaN   7.35   6.12    NaN    NaN  \n",
       "1645        NaN  97.65  61.88    NaN    NaN  \n",
       "\n",
       "[1646 rows x 26 columns]"
      ]
     },
     "execution_count": 16,
     "metadata": {},
     "output_type": "execute_result"
    }
   ],
   "source": [
    "matchdf"
   ]
  },
  {
   "cell_type": "code",
   "execution_count": 17,
   "id": "9a3fd234",
   "metadata": {
    "execution": {
     "iopub.execute_input": "2022-09-19T08:55:52.770495Z",
     "iopub.status.busy": "2022-09-19T08:55:52.770059Z",
     "iopub.status.idle": "2022-09-19T08:55:52.796961Z",
     "shell.execute_reply": "2022-09-19T08:55:52.795283Z"
    },
    "papermill": {
     "duration": 0.041476,
     "end_time": "2022-09-19T08:55:52.799756",
     "exception": false,
     "start_time": "2022-09-19T08:55:52.758280",
     "status": "completed"
    },
    "tags": []
   },
   "outputs": [
    {
     "name": "stderr",
     "output_type": "stream",
     "text": [
      "/opt/conda/lib/python3.7/site-packages/ipykernel_launcher.py:5: FutureWarning: Dropping of nuisance columns in DataFrame reductions (with 'numeric_only=None') is deprecated; in a future version this will raise TypeError.  Select only valid columns before calling the reduction.\n",
      "  \"\"\"\n"
     ]
    }
   ],
   "source": [
    "matchdf = drop0var(matchdf)"
   ]
  },
  {
   "cell_type": "code",
   "execution_count": 18,
   "id": "d634a4fb",
   "metadata": {
    "execution": {
     "iopub.execute_input": "2022-09-19T08:55:52.822618Z",
     "iopub.status.busy": "2022-09-19T08:55:52.822184Z",
     "iopub.status.idle": "2022-09-19T08:55:52.828710Z",
     "shell.execute_reply": "2022-09-19T08:55:52.827407Z"
    },
    "papermill": {
     "duration": 0.020974,
     "end_time": "2022-09-19T08:55:52.831454",
     "exception": false,
     "start_time": "2022-09-19T08:55:52.810480",
     "status": "completed"
    },
    "tags": []
   },
   "outputs": [
    {
     "name": "stdout",
     "output_type": "stream",
     "text": [
      "event_id\n",
      "event_type\n",
      "result\n",
      "success\n",
      "period_id\n",
      "timestamp\n",
      "end_timestamp\n",
      "ball_state\n",
      "ball_owning_team\n",
      "team_id\n",
      "player_id\n",
      "coordinates_x\n",
      "coordinates_y\n",
      "end_coordinates_x\n",
      "end_coordinates_y\n",
      "receiver_player_id\n",
      "is_counter_attack\n",
      "pass_type\n",
      "set_piece_type\n",
      "body_part_type\n",
      "goalkeeper_action_type\n",
      "card_type\n",
      "x\n",
      "y\n",
      "end_x\n",
      "end_y\n"
     ]
    }
   ],
   "source": [
    "for col in matchdf.columns:\n",
    "    print(col)"
   ]
  },
  {
   "cell_type": "code",
   "execution_count": 19,
   "id": "45ac93a5",
   "metadata": {
    "execution": {
     "iopub.execute_input": "2022-09-19T08:55:52.854459Z",
     "iopub.status.busy": "2022-09-19T08:55:52.854036Z",
     "iopub.status.idle": "2022-09-19T08:55:52.862169Z",
     "shell.execute_reply": "2022-09-19T08:55:52.861031Z"
    },
    "papermill": {
     "duration": 0.022641,
     "end_time": "2022-09-19T08:55:52.864808",
     "exception": false,
     "start_time": "2022-09-19T08:55:52.842167",
     "status": "completed"
    },
    "tags": []
   },
   "outputs": [
    {
     "data": {
      "text/plain": [
       "0           PASS\n",
       "1           PASS\n",
       "2           PASS\n",
       "3           PASS\n",
       "4           PASS\n",
       "          ...   \n",
       "1641    RECOVERY\n",
       "1642    BALL_OUT\n",
       "1643        PASS\n",
       "1644     TAKE_ON\n",
       "1645     TAKE_ON\n",
       "Name: event_type, Length: 1646, dtype: object"
      ]
     },
     "execution_count": 19,
     "metadata": {},
     "output_type": "execute_result"
    }
   ],
   "source": [
    "matchdf.event_type"
   ]
  },
  {
   "cell_type": "code",
   "execution_count": 20,
   "id": "7284eed3",
   "metadata": {
    "execution": {
     "iopub.execute_input": "2022-09-19T08:55:52.888148Z",
     "iopub.status.busy": "2022-09-19T08:55:52.887754Z",
     "iopub.status.idle": "2022-09-19T08:55:52.892799Z",
     "shell.execute_reply": "2022-09-19T08:55:52.891556Z"
    },
    "papermill": {
     "duration": 0.019278,
     "end_time": "2022-09-19T08:55:52.894958",
     "exception": false,
     "start_time": "2022-09-19T08:55:52.875680",
     "status": "completed"
    },
    "tags": []
   },
   "outputs": [],
   "source": [
    "# passes = matchdf[matchdf.event_type == \"PASS\"]\n",
    "passes = allpasses"
   ]
  },
  {
   "cell_type": "code",
   "execution_count": 21,
   "id": "159892b0",
   "metadata": {
    "execution": {
     "iopub.execute_input": "2022-09-19T08:55:52.918797Z",
     "iopub.status.busy": "2022-09-19T08:55:52.918379Z",
     "iopub.status.idle": "2022-09-19T08:55:53.173055Z",
     "shell.execute_reply": "2022-09-19T08:55:53.171707Z"
    },
    "papermill": {
     "duration": 0.270187,
     "end_time": "2022-09-19T08:55:53.176105",
     "exception": false,
     "start_time": "2022-09-19T08:55:52.905918",
     "status": "completed"
    },
    "tags": []
   },
   "outputs": [],
   "source": [
    "passes['x'] = passes['coordinates_x'].apply(map_length)\n",
    "passes['y'] = passes['coordinates_y'].apply(map_width)"
   ]
  },
  {
   "cell_type": "code",
   "execution_count": 22,
   "id": "9928625e",
   "metadata": {
    "execution": {
     "iopub.execute_input": "2022-09-19T08:55:53.200209Z",
     "iopub.status.busy": "2022-09-19T08:55:53.199777Z",
     "iopub.status.idle": "2022-09-19T08:55:53.206335Z",
     "shell.execute_reply": "2022-09-19T08:55:53.205536Z"
    },
    "papermill": {
     "duration": 0.020822,
     "end_time": "2022-09-19T08:55:53.208302",
     "exception": false,
     "start_time": "2022-09-19T08:55:53.187480",
     "status": "completed"
    },
    "tags": []
   },
   "outputs": [
    {
     "data": {
      "text/plain": [
       "'1659'"
      ]
     },
     "execution_count": 22,
     "metadata": {},
     "output_type": "execute_result"
    }
   ],
   "source": [
    "passes.team_id.iloc[0]"
   ]
  },
  {
   "cell_type": "code",
   "execution_count": 23,
   "id": "fdb4211e",
   "metadata": {
    "execution": {
     "iopub.execute_input": "2022-09-19T08:55:53.232634Z",
     "iopub.status.busy": "2022-09-19T08:55:53.232208Z",
     "iopub.status.idle": "2022-09-19T08:55:53.238667Z",
     "shell.execute_reply": "2022-09-19T08:55:53.237809Z"
    },
    "papermill": {
     "duration": 0.021402,
     "end_time": "2022-09-19T08:55:53.240916",
     "exception": false,
     "start_time": "2022-09-19T08:55:53.219514",
     "status": "completed"
    },
    "tags": []
   },
   "outputs": [],
   "source": [
    "def plot_event(df):\n",
    "    create_pitch(length, width, 'white')\n",
    "    first_team = df.team_id.iloc[0]\n",
    "    for index, p in df.iterrows():\n",
    "        color = 'red' if p.team_id == first_team else 'blue'\n",
    "        x = p.x\n",
    "        y = p.y\n",
    "        plt.scatter(x, y, color = color)\n",
    "\n",
    "    plt.show()"
   ]
  },
  {
   "cell_type": "code",
   "execution_count": 24,
   "id": "d2eed9e3",
   "metadata": {
    "execution": {
     "iopub.execute_input": "2022-09-19T08:55:53.265802Z",
     "iopub.status.busy": "2022-09-19T08:55:53.265352Z",
     "iopub.status.idle": "2022-09-19T08:55:53.270549Z",
     "shell.execute_reply": "2022-09-19T08:55:53.269441Z"
    },
    "papermill": {
     "duration": 0.020362,
     "end_time": "2022-09-19T08:55:53.272904",
     "exception": false,
     "start_time": "2022-09-19T08:55:53.252542",
     "status": "completed"
    },
    "tags": []
   },
   "outputs": [],
   "source": [
    "# plot_event(passes)"
   ]
  },
  {
   "cell_type": "code",
   "execution_count": 25,
   "id": "5d34b49d",
   "metadata": {
    "execution": {
     "iopub.execute_input": "2022-09-19T08:55:53.297026Z",
     "iopub.status.busy": "2022-09-19T08:55:53.296645Z",
     "iopub.status.idle": "2022-09-19T08:55:53.303807Z",
     "shell.execute_reply": "2022-09-19T08:55:53.302918Z"
    },
    "papermill": {
     "duration": 0.021836,
     "end_time": "2022-09-19T08:55:53.305867",
     "exception": false,
     "start_time": "2022-09-19T08:55:53.284031",
     "status": "completed"
    },
    "tags": []
   },
   "outputs": [
    {
     "data": {
      "text/plain": [
       "Index(['weight', 'firstName', 'middleName', 'lastName', 'currentTeamId',\n",
       "       'birthDate', 'height', 'wyId', 'foot', 'shortName',\n",
       "       'currentNationalTeamId', 'passportArea_name', 'passportArea_id',\n",
       "       'passportArea_alpha3code', 'passportArea_alpha2code', 'role_code2',\n",
       "       'role_code3', 'role_name', 'birthArea_name', 'birthArea_id',\n",
       "       'birthArea_alpha3code', 'birthArea_alpha2code'],\n",
       "      dtype='object')"
      ]
     },
     "execution_count": 25,
     "metadata": {},
     "output_type": "execute_result"
    }
   ],
   "source": [
    "players.columns"
   ]
  },
  {
   "cell_type": "code",
   "execution_count": 26,
   "id": "43fe75b5",
   "metadata": {
    "execution": {
     "iopub.execute_input": "2022-09-19T08:55:53.330489Z",
     "iopub.status.busy": "2022-09-19T08:55:53.330056Z",
     "iopub.status.idle": "2022-09-19T08:55:53.357623Z",
     "shell.execute_reply": "2022-09-19T08:55:53.356449Z"
    },
    "papermill": {
     "duration": 0.04296,
     "end_time": "2022-09-19T08:55:53.360176",
     "exception": false,
     "start_time": "2022-09-19T08:55:53.317216",
     "status": "completed"
    },
    "tags": []
   },
   "outputs": [
    {
     "data": {
      "text/html": [
       "<div>\n",
       "<style scoped>\n",
       "    .dataframe tbody tr th:only-of-type {\n",
       "        vertical-align: middle;\n",
       "    }\n",
       "\n",
       "    .dataframe tbody tr th {\n",
       "        vertical-align: top;\n",
       "    }\n",
       "\n",
       "    .dataframe thead th {\n",
       "        text-align: right;\n",
       "    }\n",
       "</style>\n",
       "<table border=\"1\" class=\"dataframe\">\n",
       "  <thead>\n",
       "    <tr style=\"text-align: right;\">\n",
       "      <th></th>\n",
       "      <th>weight</th>\n",
       "      <th>firstName</th>\n",
       "      <th>middleName</th>\n",
       "      <th>lastName</th>\n",
       "      <th>currentTeamId</th>\n",
       "      <th>birthDate</th>\n",
       "      <th>height</th>\n",
       "      <th>wyId</th>\n",
       "      <th>foot</th>\n",
       "      <th>shortName</th>\n",
       "      <th>...</th>\n",
       "      <th>passportArea_id</th>\n",
       "      <th>passportArea_alpha3code</th>\n",
       "      <th>passportArea_alpha2code</th>\n",
       "      <th>role_code2</th>\n",
       "      <th>role_code3</th>\n",
       "      <th>role_name</th>\n",
       "      <th>birthArea_name</th>\n",
       "      <th>birthArea_id</th>\n",
       "      <th>birthArea_alpha3code</th>\n",
       "      <th>birthArea_alpha2code</th>\n",
       "    </tr>\n",
       "  </thead>\n",
       "  <tbody>\n",
       "    <tr>\n",
       "      <th>2900</th>\n",
       "      <td>63</td>\n",
       "      <td>Juan Manuel</td>\n",
       "      <td></td>\n",
       "      <td>Mata Garc\\u00eda</td>\n",
       "      <td>1611</td>\n",
       "      <td>1988-04-28</td>\n",
       "      <td>170</td>\n",
       "      <td>7906</td>\n",
       "      <td>left</td>\n",
       "      <td>Juan Mata</td>\n",
       "      <td>...</td>\n",
       "      <td>724</td>\n",
       "      <td>ESP</td>\n",
       "      <td>ES</td>\n",
       "      <td>MD</td>\n",
       "      <td>MID</td>\n",
       "      <td>Midfielder</td>\n",
       "      <td>Spain</td>\n",
       "      <td>724</td>\n",
       "      <td>ESP</td>\n",
       "      <td>ES</td>\n",
       "    </tr>\n",
       "  </tbody>\n",
       "</table>\n",
       "<p>1 rows × 22 columns</p>\n",
       "</div>"
      ],
      "text/plain": [
       "      weight    firstName middleName          lastName currentTeamId  \\\n",
       "2900      63  Juan Manuel             Mata Garc\\u00eda          1611   \n",
       "\n",
       "       birthDate  height  wyId  foot  shortName  ... passportArea_id  \\\n",
       "2900  1988-04-28     170  7906  left  Juan Mata  ...             724   \n",
       "\n",
       "     passportArea_alpha3code passportArea_alpha2code role_code2 role_code3  \\\n",
       "2900                     ESP                      ES         MD        MID   \n",
       "\n",
       "       role_name birthArea_name birthArea_id birthArea_alpha3code  \\\n",
       "2900  Midfielder          Spain          724                  ESP   \n",
       "\n",
       "     birthArea_alpha2code  \n",
       "2900                   ES  \n",
       "\n",
       "[1 rows x 22 columns]"
      ]
     },
     "execution_count": 26,
     "metadata": {},
     "output_type": "execute_result"
    }
   ],
   "source": [
    "players[players.wyId == 7906]"
   ]
  },
  {
   "cell_type": "code",
   "execution_count": 27,
   "id": "5888360b",
   "metadata": {
    "execution": {
     "iopub.execute_input": "2022-09-19T08:55:53.385242Z",
     "iopub.status.busy": "2022-09-19T08:55:53.384831Z",
     "iopub.status.idle": "2022-09-19T08:55:53.394042Z",
     "shell.execute_reply": "2022-09-19T08:55:53.392923Z"
    },
    "papermill": {
     "duration": 0.024263,
     "end_time": "2022-09-19T08:55:53.396174",
     "exception": false,
     "start_time": "2022-09-19T08:55:53.371911",
     "status": "completed"
    },
    "tags": []
   },
   "outputs": [
    {
     "data": {
      "text/plain": [
       "0         7906\n",
       "1       105338\n",
       "2        70122\n",
       "3         7936\n",
       "4         7918\n",
       "         ...  \n",
       "1641      8301\n",
       "1642      None\n",
       "1643      None\n",
       "1644     14703\n",
       "1645      None\n",
       "Name: player_id, Length: 1646, dtype: object"
      ]
     },
     "execution_count": 27,
     "metadata": {},
     "output_type": "execute_result"
    }
   ],
   "source": [
    "matchdf.player_id"
   ]
  },
  {
   "cell_type": "code",
   "execution_count": 28,
   "id": "9dfcc7e9",
   "metadata": {
    "execution": {
     "iopub.execute_input": "2022-09-19T08:55:53.421403Z",
     "iopub.status.busy": "2022-09-19T08:55:53.420991Z",
     "iopub.status.idle": "2022-09-19T08:55:53.427656Z",
     "shell.execute_reply": "2022-09-19T08:55:53.426652Z"
    },
    "papermill": {
     "duration": 0.021795,
     "end_time": "2022-09-19T08:55:53.429820",
     "exception": false,
     "start_time": "2022-09-19T08:55:53.408025",
     "status": "completed"
    },
    "tags": []
   },
   "outputs": [],
   "source": [
    "matchdf['player_name'] = matchdf.player_id.apply(map_players)"
   ]
  },
  {
   "cell_type": "code",
   "execution_count": 29,
   "id": "b6869038",
   "metadata": {
    "execution": {
     "iopub.execute_input": "2022-09-19T08:55:53.456677Z",
     "iopub.status.busy": "2022-09-19T08:55:53.455767Z",
     "iopub.status.idle": "2022-09-19T08:55:53.472036Z",
     "shell.execute_reply": "2022-09-19T08:55:53.470949Z"
    },
    "papermill": {
     "duration": 0.03256,
     "end_time": "2022-09-19T08:55:53.474303",
     "exception": false,
     "start_time": "2022-09-19T08:55:53.441743",
     "status": "completed"
    },
    "tags": []
   },
   "outputs": [
    {
     "data": {
      "text/html": [
       "<div>\n",
       "<style scoped>\n",
       "    .dataframe tbody tr th:only-of-type {\n",
       "        vertical-align: middle;\n",
       "    }\n",
       "\n",
       "    .dataframe tbody tr th {\n",
       "        vertical-align: top;\n",
       "    }\n",
       "\n",
       "    .dataframe thead th {\n",
       "        text-align: right;\n",
       "    }\n",
       "</style>\n",
       "<table border=\"1\" class=\"dataframe\">\n",
       "  <thead>\n",
       "    <tr style=\"text-align: right;\">\n",
       "      <th></th>\n",
       "      <th>event_type</th>\n",
       "      <th>player_id</th>\n",
       "      <th>player_name</th>\n",
       "      <th>timestamp</th>\n",
       "    </tr>\n",
       "  </thead>\n",
       "  <tbody>\n",
       "    <tr>\n",
       "      <th>0</th>\n",
       "      <td>PASS</td>\n",
       "      <td>7906</td>\n",
       "      <td>Juan Manuel Mata Garc\\u00eda</td>\n",
       "      <td>5.546151</td>\n",
       "    </tr>\n",
       "    <tr>\n",
       "      <th>1</th>\n",
       "      <td>PASS</td>\n",
       "      <td>105338</td>\n",
       "      <td>Henrikh Mkhitaryan</td>\n",
       "      <td>6.708916</td>\n",
       "    </tr>\n",
       "    <tr>\n",
       "      <th>2</th>\n",
       "      <td>PASS</td>\n",
       "      <td>70122</td>\n",
       "      <td>Nemanja Mati\\u0107</td>\n",
       "      <td>9.612072</td>\n",
       "    </tr>\n",
       "    <tr>\n",
       "      <th>3</th>\n",
       "      <td>PASS</td>\n",
       "      <td>7936</td>\n",
       "      <td>Paul Pogba</td>\n",
       "      <td>10.718877</td>\n",
       "    </tr>\n",
       "    <tr>\n",
       "      <th>4</th>\n",
       "      <td>PASS</td>\n",
       "      <td>7918</td>\n",
       "      <td>Phil Jones</td>\n",
       "      <td>12.728071</td>\n",
       "    </tr>\n",
       "    <tr>\n",
       "      <th>...</th>\n",
       "      <td>...</td>\n",
       "      <td>...</td>\n",
       "      <td>...</td>\n",
       "      <td>...</td>\n",
       "    </tr>\n",
       "    <tr>\n",
       "      <th>1641</th>\n",
       "      <td>RECOVERY</td>\n",
       "      <td>8301</td>\n",
       "      <td>Joe Hart</td>\n",
       "      <td>2862.313235</td>\n",
       "    </tr>\n",
       "    <tr>\n",
       "      <th>1642</th>\n",
       "      <td>BALL_OUT</td>\n",
       "      <td>None</td>\n",
       "      <td>None</td>\n",
       "      <td>2866.414500</td>\n",
       "    </tr>\n",
       "    <tr>\n",
       "      <th>1643</th>\n",
       "      <td>PASS</td>\n",
       "      <td>None</td>\n",
       "      <td>None</td>\n",
       "      <td>2879.021252</td>\n",
       "    </tr>\n",
       "    <tr>\n",
       "      <th>1644</th>\n",
       "      <td>TAKE_ON</td>\n",
       "      <td>14703</td>\n",
       "      <td>Marko Arnautovi\\u0107</td>\n",
       "      <td>2883.667683</td>\n",
       "    </tr>\n",
       "    <tr>\n",
       "      <th>1645</th>\n",
       "      <td>TAKE_ON</td>\n",
       "      <td>None</td>\n",
       "      <td>None</td>\n",
       "      <td>2883.667683</td>\n",
       "    </tr>\n",
       "  </tbody>\n",
       "</table>\n",
       "<p>1646 rows × 4 columns</p>\n",
       "</div>"
      ],
      "text/plain": [
       "     event_type player_id                   player_name    timestamp\n",
       "0          PASS      7906  Juan Manuel Mata Garc\\u00eda     5.546151\n",
       "1          PASS    105338            Henrikh Mkhitaryan     6.708916\n",
       "2          PASS     70122            Nemanja Mati\\u0107     9.612072\n",
       "3          PASS      7936                    Paul Pogba    10.718877\n",
       "4          PASS      7918                    Phil Jones    12.728071\n",
       "...         ...       ...                           ...          ...\n",
       "1641   RECOVERY      8301                      Joe Hart  2862.313235\n",
       "1642   BALL_OUT      None                          None  2866.414500\n",
       "1643       PASS      None                          None  2879.021252\n",
       "1644    TAKE_ON     14703         Marko Arnautovi\\u0107  2883.667683\n",
       "1645    TAKE_ON      None                          None  2883.667683\n",
       "\n",
       "[1646 rows x 4 columns]"
      ]
     },
     "execution_count": 29,
     "metadata": {},
     "output_type": "execute_result"
    }
   ],
   "source": [
    "matchdf[['event_type', 'player_id', 'player_name', 'timestamp']]"
   ]
  },
  {
   "cell_type": "code",
   "execution_count": 30,
   "id": "a372d400",
   "metadata": {
    "execution": {
     "iopub.execute_input": "2022-09-19T08:55:53.500409Z",
     "iopub.status.busy": "2022-09-19T08:55:53.499934Z",
     "iopub.status.idle": "2022-09-19T08:55:53.721757Z",
     "shell.execute_reply": "2022-09-19T08:55:53.720343Z"
    },
    "papermill": {
     "duration": 0.237684,
     "end_time": "2022-09-19T08:55:53.724200",
     "exception": false,
     "start_time": "2022-09-19T08:55:53.486516",
     "status": "completed"
    },
    "tags": []
   },
   "outputs": [
    {
     "data": {
      "text/plain": [
       "coordinates_x    1.0\n",
       "coordinates_y    1.0\n",
       "dtype: float64"
      ]
     },
     "execution_count": 30,
     "metadata": {},
     "output_type": "execute_result"
    }
   ],
   "source": [
    "passes[['coordinates_x', 'coordinates_y']].max()"
   ]
  },
  {
   "cell_type": "code",
   "execution_count": 31,
   "id": "2002231f",
   "metadata": {
    "execution": {
     "iopub.execute_input": "2022-09-19T08:55:53.750743Z",
     "iopub.status.busy": "2022-09-19T08:55:53.750316Z",
     "iopub.status.idle": "2022-09-19T08:55:53.763953Z",
     "shell.execute_reply": "2022-09-19T08:55:53.762855Z"
    },
    "papermill": {
     "duration": 0.029711,
     "end_time": "2022-09-19T08:55:53.766322",
     "exception": false,
     "start_time": "2022-09-19T08:55:53.736611",
     "status": "completed"
    },
    "tags": []
   },
   "outputs": [
    {
     "data": {
      "text/plain": [
       "coordinates_x    0.0\n",
       "coordinates_y    0.0\n",
       "dtype: float64"
      ]
     },
     "execution_count": 31,
     "metadata": {},
     "output_type": "execute_result"
    }
   ],
   "source": [
    "passes[['coordinates_x', 'coordinates_y']].min()"
   ]
  },
  {
   "cell_type": "code",
   "execution_count": 32,
   "id": "78702c6a",
   "metadata": {
    "execution": {
     "iopub.execute_input": "2022-09-19T08:55:53.792308Z",
     "iopub.status.busy": "2022-09-19T08:55:53.791933Z",
     "iopub.status.idle": "2022-09-19T08:55:53.798610Z",
     "shell.execute_reply": "2022-09-19T08:55:53.797343Z"
    },
    "papermill": {
     "duration": 0.022241,
     "end_time": "2022-09-19T08:55:53.800919",
     "exception": false,
     "start_time": "2022-09-19T08:55:53.778678",
     "status": "completed"
    },
    "tags": []
   },
   "outputs": [],
   "source": [
    "shots = matchdf[matchdf.event_type == 'SHOT']"
   ]
  },
  {
   "cell_type": "code",
   "execution_count": 33,
   "id": "dedfba04",
   "metadata": {
    "execution": {
     "iopub.execute_input": "2022-09-19T08:55:53.827285Z",
     "iopub.status.busy": "2022-09-19T08:55:53.826207Z",
     "iopub.status.idle": "2022-09-19T08:55:53.833471Z",
     "shell.execute_reply": "2022-09-19T08:55:53.832018Z"
    },
    "papermill": {
     "duration": 0.02362,
     "end_time": "2022-09-19T08:55:53.836603",
     "exception": false,
     "start_time": "2022-09-19T08:55:53.812983",
     "status": "completed"
    },
    "tags": []
   },
   "outputs": [
    {
     "name": "stdout",
     "output_type": "stream",
     "text": [
      "event_id                           178494555\n",
      "event_type                              SHOT\n",
      "result                            OFF_TARGET\n",
      "success                                False\n",
      "period_id                                  1\n",
      "timestamp                         665.816769\n",
      "end_timestamp                           None\n",
      "ball_state                              None\n",
      "ball_owning_team                        None\n",
      "team_id                                 1611\n",
      "player_id                             105338\n",
      "coordinates_x                           0.89\n",
      "coordinates_y                            0.7\n",
      "end_coordinates_x                        0.0\n",
      "end_coordinates_y                        0.0\n",
      "receiver_player_id                       NaN\n",
      "is_counter_attack                      False\n",
      "pass_type                                NaN\n",
      "set_piece_type                           NaN\n",
      "body_part_type                           NaN\n",
      "goalkeeper_action_type                   NaN\n",
      "card_type                                NaN\n",
      "x                                      93.45\n",
      "y                                       47.6\n",
      "end_x                                    0.0\n",
      "end_y                                    0.0\n",
      "player_name               Henrikh Mkhitaryan\n",
      "Name: 229, dtype: object\n"
     ]
    }
   ],
   "source": [
    "for i, s in shots.iterrows():\n",
    "    print(s)\n",
    "    break"
   ]
  },
  {
   "cell_type": "code",
   "execution_count": 34,
   "id": "c5d18ccb",
   "metadata": {
    "execution": {
     "iopub.execute_input": "2022-09-19T08:55:53.863044Z",
     "iopub.status.busy": "2022-09-19T08:55:53.862664Z",
     "iopub.status.idle": "2022-09-19T08:55:54.571594Z",
     "shell.execute_reply": "2022-09-19T08:55:54.570554Z"
    },
    "papermill": {
     "duration": 0.724903,
     "end_time": "2022-09-19T08:55:54.574197",
     "exception": false,
     "start_time": "2022-09-19T08:55:53.849294",
     "status": "completed"
    },
    "tags": []
   },
   "outputs": [
    {
     "data": {
      "image/png": "[encoded data removed]",
      "text/plain": [
       "<Figure size 1080x720 with 1 Axes>"
      ]
     },
     "metadata": {},
     "output_type": "display_data"
    }
   ],
   "source": [
    "plot_event(shots)"
   ]
  },
  {
   "cell_type": "code",
   "execution_count": 35,
   "id": "b183c5d3",
   "metadata": {
    "execution": {
     "iopub.execute_input": "2022-09-19T08:55:54.601753Z",
     "iopub.status.busy": "2022-09-19T08:55:54.601349Z",
     "iopub.status.idle": "2022-09-19T08:55:54.607460Z",
     "shell.execute_reply": "2022-09-19T08:55:54.606650Z"
    },
    "papermill": {
     "duration": 0.022296,
     "end_time": "2022-09-19T08:55:54.609439",
     "exception": false,
     "start_time": "2022-09-19T08:55:54.587143",
     "status": "completed"
    },
    "tags": []
   },
   "outputs": [
    {
     "data": {
      "text/plain": [
       "Index(['event_id', 'event_type', 'result', 'success', 'period_id', 'timestamp',\n",
       "       'end_timestamp', 'ball_state', 'ball_owning_team', 'team_id',\n",
       "       'player_id', 'coordinates_x', 'coordinates_y', 'end_coordinates_x',\n",
       "       'end_coordinates_y', 'receiver_player_id', 'is_counter_attack',\n",
       "       'pass_type', 'body_part_type', 'set_piece_type',\n",
       "       'goalkeeper_action_type', 'card_type', 'x', 'y'],\n",
       "      dtype='object')"
      ]
     },
     "execution_count": 35,
     "metadata": {},
     "output_type": "execute_result"
    }
   ],
   "source": [
    "passes.columns"
   ]
  },
  {
   "cell_type": "code",
   "execution_count": 36,
   "id": "271adef2",
   "metadata": {
    "execution": {
     "iopub.execute_input": "2022-09-19T08:55:54.639326Z",
     "iopub.status.busy": "2022-09-19T08:55:54.638051Z",
     "iopub.status.idle": "2022-09-19T08:55:54.643029Z",
     "shell.execute_reply": "2022-09-19T08:55:54.642211Z"
    },
    "papermill": {
     "duration": 0.02252,
     "end_time": "2022-09-19T08:55:54.645231",
     "exception": false,
     "start_time": "2022-09-19T08:55:54.622711",
     "status": "completed"
    },
    "tags": []
   },
   "outputs": [],
   "source": [
    "cluster_cols = ['coordinates_x', 'coordinates_y', 'end_coordinates_x', 'end_coordinates_y']"
   ]
  },
  {
   "cell_type": "code",
   "execution_count": 37,
   "id": "9100d247",
   "metadata": {
    "execution": {
     "iopub.execute_input": "2022-09-19T08:55:54.673632Z",
     "iopub.status.busy": "2022-09-19T08:55:54.672464Z",
     "iopub.status.idle": "2022-09-19T08:55:54.892475Z",
     "shell.execute_reply": "2022-09-19T08:55:54.891593Z"
    },
    "papermill": {
     "duration": 0.236812,
     "end_time": "2022-09-19T08:55:54.895114",
     "exception": false,
     "start_time": "2022-09-19T08:55:54.658302",
     "status": "completed"
    },
    "tags": []
   },
   "outputs": [],
   "source": [
    "passes['end_x'] = passes['end_coordinates_x'].apply(map_length)\n",
    "passes['end_y'] = passes['end_coordinates_y'].apply(map_width)"
   ]
  },
  {
   "cell_type": "code",
   "execution_count": 38,
   "id": "32b53747",
   "metadata": {
    "execution": {
     "iopub.execute_input": "2022-09-19T08:55:54.924482Z",
     "iopub.status.busy": "2022-09-19T08:55:54.923776Z",
     "iopub.status.idle": "2022-09-19T09:20:45.466073Z",
     "shell.execute_reply": "2022-09-19T09:20:45.464550Z"
    },
    "papermill": {
     "duration": 1490.560562,
     "end_time": "2022-09-19T09:20:45.469200",
     "exception": false,
     "start_time": "2022-09-19T08:55:54.908638",
     "status": "completed"
    },
    "tags": []
   },
   "outputs": [],
   "source": [
    "from sklearn.mixture import BayesianGaussianMixture\n",
    "bgm = BayesianGaussianMixture(n_components=20,\n",
    "                              random_state=42,\n",
    "                              max_iter = 1000,\n",
    "                              init_params = 'kmeans').fit(passes[cluster_cols])"
   ]
  },
  {
   "cell_type": "code",
   "execution_count": 39,
   "id": "974f5fd4",
   "metadata": {
    "execution": {
     "iopub.execute_input": "2022-09-19T09:20:45.498390Z",
     "iopub.status.busy": "2022-09-19T09:20:45.497966Z",
     "iopub.status.idle": "2022-09-19T09:20:46.671672Z",
     "shell.execute_reply": "2022-09-19T09:20:46.670549Z"
    },
    "papermill": {
     "duration": 1.191186,
     "end_time": "2022-09-19T09:20:46.674445",
     "exception": false,
     "start_time": "2022-09-19T09:20:45.483259",
     "status": "completed"
    },
    "tags": []
   },
   "outputs": [],
   "source": [
    "passes['cluster'] = bgm.predict(passes[cluster_cols])\n",
    "clusters_ = passes.groupby('cluster').mean()[['x', 'y', 'end_x', 'end_y']]"
   ]
  },
  {
   "cell_type": "code",
   "execution_count": 40,
   "id": "f6a62522",
   "metadata": {
    "execution": {
     "iopub.execute_input": "2022-09-19T09:20:46.703312Z",
     "iopub.status.busy": "2022-09-19T09:20:46.702894Z",
     "iopub.status.idle": "2022-09-19T09:20:49.167781Z",
     "shell.execute_reply": "2022-09-19T09:20:49.166449Z"
    },
    "papermill": {
     "duration": 2.482271,
     "end_time": "2022-09-19T09:20:49.170210",
     "exception": false,
     "start_time": "2022-09-19T09:20:46.687939",
     "status": "completed"
    },
    "tags": []
   },
   "outputs": [
    {
     "data": {
      "image/png": "[encoded data removed]",
      "text/plain": [
       "<Figure size 1080x720 with 1 Axes>"
      ]
     },
     "metadata": {},
     "output_type": "display_data"
    }
   ],
   "source": [
    "fig, ax = create_pitch(120, 80,'white')\n",
    "for index, pass_ in clusters_.iterrows():\n",
    "    if (index < 0):\n",
    "        continue\n",
    "    x, y = pass_['x'], pass_['y']\n",
    "    end_x, end_y = pass_['end_x'], pass_['end_y']\n",
    "    color = 'blue' \n",
    "    y = 80 - y\n",
    "    end_y = 80 - end_y\n",
    "    plt.plot([x, end_x], [y, end_y], linewidth = 5)\n",
    "    plt.text((x+1),y+1,index, color = \"white\", fontweight = 'bold', fontsize = 'xx-large')\n",
    "    plt.savefig('gmm_cluster.png')"
   ]
  },
  {
   "cell_type": "code",
   "execution_count": 41,
   "id": "7a4a4324",
   "metadata": {
    "execution": {
     "iopub.execute_input": "2022-09-19T09:20:49.201590Z",
     "iopub.status.busy": "2022-09-19T09:20:49.201156Z",
     "iopub.status.idle": "2022-09-19T09:20:49.209900Z",
     "shell.execute_reply": "2022-09-19T09:20:49.208846Z"
    },
    "papermill": {
     "duration": 0.027401,
     "end_time": "2022-09-19T09:20:49.212576",
     "exception": false,
     "start_time": "2022-09-19T09:20:49.185175",
     "status": "completed"
    },
    "tags": []
   },
   "outputs": [],
   "source": [
    "clusters_.to_csv('pass_clusters.csv', index = False)"
   ]
  },
  {
   "cell_type": "code",
   "execution_count": 42,
   "id": "b4f651b1",
   "metadata": {
    "execution": {
     "iopub.execute_input": "2022-09-19T09:20:49.243631Z",
     "iopub.status.busy": "2022-09-19T09:20:49.242853Z",
     "iopub.status.idle": "2022-09-19T09:20:49.250245Z",
     "shell.execute_reply": "2022-09-19T09:20:49.249018Z"
    },
    "papermill": {
     "duration": 0.025619,
     "end_time": "2022-09-19T09:20:49.252814",
     "exception": false,
     "start_time": "2022-09-19T09:20:49.227195",
     "status": "completed"
    },
    "tags": []
   },
   "outputs": [
    {
     "data": {
      "text/plain": [
       "Index(['event_id', 'event_type', 'result', 'success', 'period_id', 'timestamp',\n",
       "       'end_timestamp', 'ball_state', 'ball_owning_team', 'team_id',\n",
       "       'player_id', 'coordinates_x', 'coordinates_y', 'end_coordinates_x',\n",
       "       'end_coordinates_y', 'receiver_player_id', 'is_counter_attack',\n",
       "       'pass_type', 'body_part_type', 'set_piece_type',\n",
       "       'goalkeeper_action_type', 'card_type', 'x', 'y', 'end_x', 'end_y',\n",
       "       'cluster'],\n",
       "      dtype='object')"
      ]
     },
     "execution_count": 42,
     "metadata": {},
     "output_type": "execute_result"
    }
   ],
   "source": [
    "passes.columns"
   ]
  },
  {
   "cell_type": "code",
   "execution_count": 43,
   "id": "09c3d0b3",
   "metadata": {
    "execution": {
     "iopub.execute_input": "2022-09-19T09:20:49.285594Z",
     "iopub.status.busy": "2022-09-19T09:20:49.284696Z",
     "iopub.status.idle": "2022-09-19T09:20:49.293317Z",
     "shell.execute_reply": "2022-09-19T09:20:49.292075Z"
    },
    "papermill": {
     "duration": 0.027153,
     "end_time": "2022-09-19T09:20:49.295544",
     "exception": false,
     "start_time": "2022-09-19T09:20:49.268391",
     "status": "completed"
    },
    "tags": []
   },
   "outputs": [
    {
     "data": {
      "text/plain": [
       "0       None\n",
       "1       None\n",
       "2       None\n",
       "3       None\n",
       "4       None\n",
       "        ... \n",
       "1738    None\n",
       "1740    None\n",
       "1741    None\n",
       "1742    None\n",
       "1745    None\n",
       "Name: ball_state, Length: 358718, dtype: object"
      ]
     },
     "execution_count": 43,
     "metadata": {},
     "output_type": "execute_result"
    }
   ],
   "source": [
    "passes['ball_state']"
   ]
  },
  {
   "cell_type": "code",
   "execution_count": 44,
   "id": "1cbb1c70",
   "metadata": {
    "execution": {
     "iopub.execute_input": "2022-09-19T09:20:49.328609Z",
     "iopub.status.busy": "2022-09-19T09:20:49.327659Z",
     "iopub.status.idle": "2022-09-19T09:20:53.428119Z",
     "shell.execute_reply": "2022-09-19T09:20:53.426888Z"
    },
    "papermill": {
     "duration": 4.120301,
     "end_time": "2022-09-19T09:20:53.431248",
     "exception": false,
     "start_time": "2022-09-19T09:20:49.310947",
     "status": "completed"
    },
    "tags": []
   },
   "outputs": [],
   "source": [
    "passes.to_csv('fullpasses.csv', index = False)"
   ]
  },
  {
   "cell_type": "code",
   "execution_count": 45,
   "id": "2a4cc254",
   "metadata": {
    "execution": {
     "iopub.execute_input": "2022-09-19T09:20:53.463328Z",
     "iopub.status.busy": "2022-09-19T09:20:53.462944Z",
     "iopub.status.idle": "2022-09-19T09:20:53.467963Z",
     "shell.execute_reply": "2022-09-19T09:20:53.466458Z"
    },
    "papermill": {
     "duration": 0.023645,
     "end_time": "2022-09-19T09:20:53.470124",
     "exception": false,
     "start_time": "2022-09-19T09:20:53.446479",
     "status": "completed"
    },
    "tags": []
   },
   "outputs": [],
   "source": [
    "# passes ['event_id', 'event_type', 'result', 'success', 'period_id', 'timestamp',\n",
    "#        'end_timestamp', 'ball_state', 'ball_owning_team', 'team_id',\n",
    "#        'player_id', 'coordinates_x', 'coordinates_y', 'end_coordinates_x',\n",
    "#        'end_coordinates_y', 'receiver_player_id', 'is_counter_attack',\n",
    "#        'pass_type', 'set_piece_type', 'body_part_type',\n",
    "#        'goalkeeper_action_type', 'card_type', 'x', 'y', 'end_x', 'end_y',\n",
    "#        'cluster']"
   ]
  },
  {
   "cell_type": "code",
   "execution_count": 46,
   "id": "ec40d173",
   "metadata": {
    "execution": {
     "iopub.execute_input": "2022-09-19T09:20:53.502798Z",
     "iopub.status.busy": "2022-09-19T09:20:53.501669Z",
     "iopub.status.idle": "2022-09-19T09:20:53.506895Z",
     "shell.execute_reply": "2022-09-19T09:20:53.505751Z"
    },
    "papermill": {
     "duration": 0.023837,
     "end_time": "2022-09-19T09:20:53.509283",
     "exception": false,
     "start_time": "2022-09-19T09:20:53.485446",
     "status": "completed"
    },
    "tags": []
   },
   "outputs": [],
   "source": [
    "# bgm = BayesianGaussianMixture(n_components=20,\n",
    "#                               random_state=42,\n",
    "#                               max_iter = 1000,\n",
    "#                               init_params = 'kmeans').fit(passes[cluster_cols])"
   ]
  }
 ],
 "metadata": {
  "kernelspec": {
   "display_name": "Python 3",
   "language": "python",
   "name": "python3"
  },
  "language_info": {
   "codemirror_mode": {
    "name": "ipython",
    "version": 3
   },
   "file_extension": ".py",
   "mimetype": "text/x-python",
   "name": "python",
   "nbconvert_exporter": "python",
   "pygments_lexer": "ipython3",
   "version": "3.7.12"
  },
  "papermill": {
   "default_parameters": {},
   "duration": 1768.499654,
   "end_time": "2022-09-19T09:20:54.451335",
   "environment_variables": {},
   "exception": null,
   "input_path": "__notebook__.ipynb",
   "output_path": "__notebook__.ipynb",
   "parameters": {},
   "start_time": "2022-09-19T08:51:25.951681",
   "version": "2.3.4"
  }
 },
 "nbformat": 4,
 "nbformat_minor": 5
}
