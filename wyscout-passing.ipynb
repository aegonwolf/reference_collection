{
 "cells": [
  {
   "cell_type": "code",
   "execution_count": 1,
   "id": "be45debb",
   "metadata": {
    "execution": {
     "iopub.execute_input": "2022-09-19T13:10:42.244190Z",
     "iopub.status.busy": "2022-09-19T13:10:42.243500Z",
     "iopub.status.idle": "2022-09-19T13:10:56.396713Z",
     "shell.execute_reply": "2022-09-19T13:10:56.395679Z"
    },
    "papermill": {
     "duration": 14.183709,
     "end_time": "2022-09-19T13:10:56.399785",
     "exception": false,
     "start_time": "2022-09-19T13:10:42.216076",
     "status": "completed"
    },
    "tags": []
   },
   "outputs": [
    {
     "name": "stdout",
     "output_type": "stream",
     "text": [
      "Collecting kloppy\r\n",
      "  Downloading kloppy-3.5.1-py3-none-any.whl (139 kB)\r\n",
      "\u001b[2K     \u001b[90m━━━━━━━━━━━━━━━━━━━━━━━━━━━━━━━━━━━━━\u001b[0m \u001b[32m139.0/139.0 kB\u001b[0m \u001b[31m884.1 kB/s\u001b[0m eta \u001b[36m0:00:00\u001b[0m\r\n",
      "\u001b[?25hRequirement already satisfied: python-dateutil<3,>=2.8.1 in /opt/conda/lib/python3.7/site-packages (from kloppy) (2.8.2)\r\n",
      "Requirement already satisfied: mypy-extensions in /opt/conda/lib/python3.7/site-packages (from kloppy) (0.4.3)\r\n",
      "Requirement already satisfied: pytz>=2020.1 in /opt/conda/lib/python3.7/site-packages (from kloppy) (2022.1)\r\n",
      "Requirement already satisfied: requests<3,>=2.0.0 in /opt/conda/lib/python3.7/site-packages (from kloppy) (2.27.1)\r\n",
      "Requirement already satisfied: lxml<5,>=4.4.0 in /opt/conda/lib/python3.7/site-packages (from kloppy) (4.9.0)\r\n",
      "Requirement already satisfied: typing-extensions in /opt/conda/lib/python3.7/site-packages (from kloppy) (4.1.1)\r\n",
      "Requirement already satisfied: six>=1.5 in /opt/conda/lib/python3.7/site-packages (from python-dateutil<3,>=2.8.1->kloppy) (1.16.0)\r\n",
      "Requirement already satisfied: charset-normalizer~=2.0.0 in /opt/conda/lib/python3.7/site-packages (from requests<3,>=2.0.0->kloppy) (2.0.12)\r\n",
      "Requirement already satisfied: urllib3<1.27,>=1.21.1 in /opt/conda/lib/python3.7/site-packages (from requests<3,>=2.0.0->kloppy) (1.26.9)\r\n",
      "Requirement already satisfied: idna<4,>=2.5 in /opt/conda/lib/python3.7/site-packages (from requests<3,>=2.0.0->kloppy) (3.3)\r\n",
      "Requirement already satisfied: certifi>=2017.4.17 in /opt/conda/lib/python3.7/site-packages (from requests<3,>=2.0.0->kloppy) (2022.6.15)\r\n",
      "Installing collected packages: kloppy\r\n",
      "Successfully installed kloppy-3.5.1\r\n",
      "\u001b[33mWARNING: Running pip as the 'root' user can result in broken permissions and conflicting behaviour with the system package manager. It is recommended to use a virtual environment instead: https://pip.pypa.io/warnings/venv\u001b[0m\u001b[33m\r\n",
      "\u001b[0m"
     ]
    }
   ],
   "source": [
    "!pip install kloppy"
   ]
  },
  {
   "cell_type": "code",
   "execution_count": 2,
   "id": "4f337d81",
   "metadata": {
    "execution": {
     "iopub.execute_input": "2022-09-19T13:10:56.441567Z",
     "iopub.status.busy": "2022-09-19T13:10:56.440811Z",
     "iopub.status.idle": "2022-09-19T13:10:56.509262Z",
     "shell.execute_reply": "2022-09-19T13:10:56.507981Z"
    },
    "papermill": {
     "duration": 0.092616,
     "end_time": "2022-09-19T13:10:56.512192",
     "exception": false,
     "start_time": "2022-09-19T13:10:56.419576",
     "status": "completed"
    },
    "tags": []
   },
   "outputs": [],
   "source": [
    "from kloppy import datasets, wyscout\n",
    "import json\n",
    "import pandas as pd\n",
    "import numpy as np\n",
    "from matplotlib.patches import Arc\n",
    "import matplotlib.pyplot as plt"
   ]
  },
  {
   "cell_type": "code",
   "execution_count": 3,
   "id": "0338000c",
   "metadata": {
    "execution": {
     "iopub.execute_input": "2022-09-19T13:10:56.553059Z",
     "iopub.status.busy": "2022-09-19T13:10:56.552601Z",
     "iopub.status.idle": "2022-09-19T13:10:56.558606Z",
     "shell.execute_reply": "2022-09-19T13:10:56.557418Z"
    },
    "papermill": {
     "duration": 0.029347,
     "end_time": "2022-09-19T13:10:56.560918",
     "exception": false,
     "start_time": "2022-09-19T13:10:56.531571",
     "status": "completed"
    },
    "tags": []
   },
   "outputs": [],
   "source": [
    "def load_json(json_path):\n",
    "    with open(json_path) as f:\n",
    "        data = json.load(f)\n",
    "        matches = pd.json_normalize(data, sep = \"_\")\n",
    "    return matches"
   ]
  },
  {
   "cell_type": "code",
   "execution_count": 4,
   "id": "8159f1ea",
   "metadata": {
    "execution": {
     "iopub.execute_input": "2022-09-19T13:10:56.601551Z",
     "iopub.status.busy": "2022-09-19T13:10:56.601120Z",
     "iopub.status.idle": "2022-09-19T13:10:56.607144Z",
     "shell.execute_reply": "2022-09-19T13:10:56.605920Z"
    },
    "papermill": {
     "duration": 0.029481,
     "end_time": "2022-09-19T13:10:56.609548",
     "exception": false,
     "start_time": "2022-09-19T13:10:56.580067",
     "status": "completed"
    },
    "tags": []
   },
   "outputs": [],
   "source": [
    "def drop0var(df):\n",
    "    \"\"\"\n",
    "    param: df, a pandas dataframe\n",
    "    \"\"\"\n",
    "    todrop = (df.var()[df.var() == 0]).index.values\n",
    "    df = df.drop(todrop, axis=1)\n",
    "    return df"
   ]
  },
  {
   "cell_type": "code",
   "execution_count": 5,
   "id": "3deb02af",
   "metadata": {
    "execution": {
     "iopub.execute_input": "2022-09-19T13:10:56.650172Z",
     "iopub.status.busy": "2022-09-19T13:10:56.649688Z",
     "iopub.status.idle": "2022-09-19T13:10:56.674542Z",
     "shell.execute_reply": "2022-09-19T13:10:56.673454Z"
    },
    "papermill": {
     "duration": 0.048166,
     "end_time": "2022-09-19T13:10:56.676993",
     "exception": false,
     "start_time": "2022-09-19T13:10:56.628827",
     "status": "completed"
    },
    "tags": []
   },
   "outputs": [],
   "source": [
    "def create_pitch(length, width, linecolor, bounds = 15):\n",
    "\n",
    "    \"\"\"\n",
    "    mainly stolen from fc python\n",
    "    param length: an int the length of the field\n",
    "    param width: an int the height of the field\n",
    "    param linecolor: the color of the lines\n",
    "\"\"\"\n",
    "    #Create figure\n",
    "    fig=plt.figure()\n",
    "    #fig.set_size_inches(7, 5)\n",
    "    ax=fig.add_subplot(1,1,1)\n",
    "\n",
    "    #Pitch Outline & Centre Line\n",
    "    plt.plot([0,0],[0,width], color=linecolor)\n",
    "    plt.plot([0,length],[width,width], color=linecolor)\n",
    "    plt.plot([length,length],[width,0], color=linecolor)\n",
    "    plt.plot([length,0],[0,0], color=linecolor)\n",
    "    plt.plot([length/2,length/2],[0,width], color=linecolor)\n",
    "    plt.fill_between(x = [-bounds, length + bounds],\n",
    "                     y1 = [width + bounds, width + bounds],\n",
    "                     y2 = [-bounds, -bounds], color='green')\n",
    "\n",
    "    #Left Penalty Area\n",
    "    plt.plot([16.5 ,16.5],[(width/2 +16.5),(width/2-16.5)],color=linecolor)\n",
    "    plt.plot([0,16.5],[(width/2 +16.5),(width/2 +16.5)],color=linecolor)\n",
    "    plt.plot([16.5,0],[(width/2 -16.5),(width/2 -16.5)],color=linecolor)\n",
    "\n",
    "    #Right Penalty Area\n",
    "    plt.plot([(length-16.5),length],[(width/2 +16.5),(width/2 +16.5)],color=linecolor)\n",
    "    plt.plot([(length-16.5), (length-16.5)],[(width/2 +16.5),(width/2-16.5)],color=linecolor)\n",
    "    plt.plot([(length-16.5),length],[(width/2 -16.5),(width/2 -16.5)],color=linecolor)\n",
    "\n",
    "    #Left 5-meters Box\n",
    "    plt.plot([0,5.5],[(width/2+7.32/2+5.5),(width/2+7.32/2+5.5)],color=linecolor)\n",
    "    plt.plot([5.5,5.5],[(width/2+7.32/2+5.5),(width/2-7.32/2-5.5)],color=linecolor)\n",
    "    plt.plot([5.5,0.5],[(width/2-7.32/2-5.5),(width/2-7.32/2-5.5)],color=linecolor)\n",
    "\n",
    "    #Right 5-meters Box\n",
    "    plt.plot([length,length-5.5],[(width/2+7.32/2+5.5),(width/2+7.32/2+5.5)],color=linecolor)\n",
    "    plt.plot([length-5.5,length-5.5],[(width/2+7.32/2+5.5),width/2-7.32/2-5.5],color=linecolor)\n",
    "    plt.plot([length-5.5,length],[width/2-7.32/2-5.5,width/2-7.32/2-5.5],color=linecolor)\n",
    "\n",
    "    #Prepare Circles\n",
    "    centreCircle = plt.Circle((length/2,width/2),9.15,color=linecolor,fill=False)\n",
    "    centreSpot = plt.Circle((length/2,width/2),0.8,color=linecolor)\n",
    "    leftPenSpot = plt.Circle((11,width/2),0.8,color=linecolor)\n",
    "    rightPenSpot = plt.Circle((length-11,width/2),0.8,color=linecolor)\n",
    "\n",
    "    #Draw Circles\n",
    "    ax.add_patch(centreCircle)\n",
    "    ax.add_patch(centreSpot)\n",
    "    ax.add_patch(leftPenSpot)\n",
    "    ax.add_patch(rightPenSpot)\n",
    "\n",
    "    #Prepare Arcs\n",
    "    leftArc = Arc((11,width/2),height=18.3,width=18.3,angle=0,theta1=308,theta2=52,color=linecolor)\n",
    "    rightArc = Arc((length-11,width/2),height=18.3,width=18.3,angle=0,theta1=128,theta2=232,color=linecolor)\n",
    "\n",
    "    #Draw Arcs\n",
    "    ax.add_patch(leftArc)\n",
    "    ax.add_patch(rightArc)\n",
    "    #Axis titles\n",
    "    #Tidy Axes\n",
    "    plt.axis('off')\n",
    "\n",
    "    return fig,ax\n"
   ]
  },
  {
   "cell_type": "code",
   "execution_count": 6,
   "id": "ba7ef818",
   "metadata": {
    "execution": {
     "iopub.execute_input": "2022-09-19T13:10:56.717814Z",
     "iopub.status.busy": "2022-09-19T13:10:56.717428Z",
     "iopub.status.idle": "2022-09-19T13:10:56.722909Z",
     "shell.execute_reply": "2022-09-19T13:10:56.721709Z"
    },
    "papermill": {
     "duration": 0.029059,
     "end_time": "2022-09-19T13:10:56.725413",
     "exception": false,
     "start_time": "2022-09-19T13:10:56.696354",
     "status": "completed"
    },
    "tags": []
   },
   "outputs": [],
   "source": [
    "def map_players(x):\n",
    "    try:\n",
    "        return player_map[x]\n",
    "    except:\n",
    "        return \"None\""
   ]
  },
  {
   "cell_type": "code",
   "execution_count": 7,
   "id": "c6687e5b",
   "metadata": {
    "execution": {
     "iopub.execute_input": "2022-09-19T13:10:56.766036Z",
     "iopub.status.busy": "2022-09-19T13:10:56.765615Z",
     "iopub.status.idle": "2022-09-19T13:10:58.010257Z",
     "shell.execute_reply": "2022-09-19T13:10:58.009036Z"
    },
    "papermill": {
     "duration": 1.268302,
     "end_time": "2022-09-19T13:10:58.012967",
     "exception": false,
     "start_time": "2022-09-19T13:10:56.744665",
     "status": "completed"
    },
    "tags": []
   },
   "outputs": [],
   "source": [
    "import seaborn as sns\n",
    "sns.set(rc={'figure.figsize':(15,10)})\n",
    "length = 105\n",
    "width = 68"
   ]
  },
  {
   "cell_type": "code",
   "execution_count": 8,
   "id": "885bb6ea",
   "metadata": {
    "execution": {
     "iopub.execute_input": "2022-09-19T13:10:58.053573Z",
     "iopub.status.busy": "2022-09-19T13:10:58.053164Z",
     "iopub.status.idle": "2022-09-19T13:10:58.058935Z",
     "shell.execute_reply": "2022-09-19T13:10:58.057641Z"
    },
    "papermill": {
     "duration": 0.028939,
     "end_time": "2022-09-19T13:10:58.061405",
     "exception": false,
     "start_time": "2022-09-19T13:10:58.032466",
     "status": "completed"
    },
    "tags": []
   },
   "outputs": [],
   "source": [
    "def map_length(x):\n",
    "    return x*length\n",
    "\n",
    "def map_width(x):\n",
    "    return x*width"
   ]
  },
  {
   "cell_type": "code",
   "execution_count": 9,
   "id": "97514863",
   "metadata": {
    "execution": {
     "iopub.execute_input": "2022-09-19T13:10:58.104049Z",
     "iopub.status.busy": "2022-09-19T13:10:58.103226Z",
     "iopub.status.idle": "2022-09-19T13:10:58.650789Z",
     "shell.execute_reply": "2022-09-19T13:10:58.649405Z"
    },
    "papermill": {
     "duration": 0.572646,
     "end_time": "2022-09-19T13:10:58.654011",
     "exception": false,
     "start_time": "2022-09-19T13:10:58.081365",
     "status": "completed"
    },
    "tags": []
   },
   "outputs": [],
   "source": [
    "manu_westham = datasets.load('wyscout', match_id = 2499724)\n",
    "matchdf = manu_westham.to_pandas()"
   ]
  },
  {
   "cell_type": "code",
   "execution_count": 10,
   "id": "d03ab0de",
   "metadata": {
    "execution": {
     "iopub.execute_input": "2022-09-19T13:10:58.695009Z",
     "iopub.status.busy": "2022-09-19T13:10:58.694600Z",
     "iopub.status.idle": "2022-09-19T13:10:58.938848Z",
     "shell.execute_reply": "2022-09-19T13:10:58.937200Z"
    },
    "papermill": {
     "duration": 0.268545,
     "end_time": "2022-09-19T13:10:58.942134",
     "exception": false,
     "start_time": "2022-09-19T13:10:58.673589",
     "status": "completed"
    },
    "tags": []
   },
   "outputs": [],
   "source": [
    "matches_json = '../input/being-difficult/matches_England.json'\n",
    "players_json = '../input/being-difficult/players.json'\n",
    "matches = load_json(matches_json)\n",
    "players = load_json(players_json)"
   ]
  },
  {
   "cell_type": "code",
   "execution_count": 11,
   "id": "9ee5ffb2",
   "metadata": {
    "execution": {
     "iopub.execute_input": "2022-09-19T13:10:58.985206Z",
     "iopub.status.busy": "2022-09-19T13:10:58.984557Z",
     "iopub.status.idle": "2022-09-19T13:10:59.265209Z",
     "shell.execute_reply": "2022-09-19T13:10:59.263578Z"
    },
    "papermill": {
     "duration": 0.304981,
     "end_time": "2022-09-19T13:10:59.268321",
     "exception": false,
     "start_time": "2022-09-19T13:10:58.963340",
     "status": "completed"
    },
    "tags": []
   },
   "outputs": [],
   "source": [
    "player_map = {}\n",
    "for index, player in players.iterrows():\n",
    "    player_map[str(player.wyId)] = player.firstName + \" \" + player.lastName "
   ]
  },
  {
   "cell_type": "code",
   "execution_count": 12,
   "id": "c1ba1ceb",
   "metadata": {
    "execution": {
     "iopub.execute_input": "2022-09-19T13:10:59.309762Z",
     "iopub.status.busy": "2022-09-19T13:10:59.309331Z",
     "iopub.status.idle": "2022-09-19T13:10:59.330697Z",
     "shell.execute_reply": "2022-09-19T13:10:59.329186Z"
    },
    "papermill": {
     "duration": 0.045276,
     "end_time": "2022-09-19T13:10:59.333766",
     "exception": false,
     "start_time": "2022-09-19T13:10:59.288490",
     "status": "completed"
    },
    "tags": []
   },
   "outputs": [],
   "source": [
    "matchdf['x'] = matchdf['coordinates_x'].apply(map_length)\n",
    "matchdf['y'] = matchdf['coordinates_y'].apply(map_width)\n",
    "matchdf['end_x'] = matchdf['end_coordinates_x'].apply(map_length)\n",
    "matchdf['end_y'] = matchdf['end_coordinates_y'].apply(map_width)"
   ]
  },
  {
   "cell_type": "code",
   "execution_count": 13,
   "id": "6fc6b730",
   "metadata": {
    "execution": {
     "iopub.execute_input": "2022-09-19T13:10:59.374498Z",
     "iopub.status.busy": "2022-09-19T13:10:59.374043Z",
     "iopub.status.idle": "2022-09-19T13:14:53.914677Z",
     "shell.execute_reply": "2022-09-19T13:14:53.913413Z"
    },
    "papermill": {
     "duration": 234.564786,
     "end_time": "2022-09-19T13:14:53.917852",
     "exception": false,
     "start_time": "2022-09-19T13:10:59.353066",
     "status": "completed"
    },
    "tags": []
   },
   "outputs": [],
   "source": [
    "alldf = []\n",
    "for match in matches.wyId.unique():\n",
    "    try:\n",
    "        df = datasets.load('wyscout', match_id = match).to_pandas()\n",
    "        df = df[df.event_type =='PASS']\n",
    "        alldf.append(df)\n",
    "    except:\n",
    "        continue"
   ]
  },
  {
   "cell_type": "code",
   "execution_count": 14,
   "id": "722d73af",
   "metadata": {
    "execution": {
     "iopub.execute_input": "2022-09-19T13:14:53.960112Z",
     "iopub.status.busy": "2022-09-19T13:14:53.959642Z",
     "iopub.status.idle": "2022-09-19T13:14:54.514133Z",
     "shell.execute_reply": "2022-09-19T13:14:54.512879Z"
    },
    "papermill": {
     "duration": 0.578751,
     "end_time": "2022-09-19T13:14:54.516908",
     "exception": false,
     "start_time": "2022-09-19T13:14:53.938157",
     "status": "completed"
    },
    "tags": []
   },
   "outputs": [],
   "source": [
    "allpasses = pd.concat(alldf)"
   ]
  },
  {
   "cell_type": "code",
   "execution_count": 15,
   "id": "7bf68092",
   "metadata": {
    "execution": {
     "iopub.execute_input": "2022-09-19T13:14:54.557546Z",
     "iopub.status.busy": "2022-09-19T13:14:54.557116Z",
     "iopub.status.idle": "2022-09-19T13:14:54.595367Z",
     "shell.execute_reply": "2022-09-19T13:14:54.594419Z"
    },
    "papermill": {
     "duration": 0.061882,
     "end_time": "2022-09-19T13:14:54.598204",
     "exception": false,
     "start_time": "2022-09-19T13:14:54.536322",
     "status": "completed"
    },
    "tags": []
   },
   "outputs": [
    {
     "name": "stderr",
     "output_type": "stream",
     "text": [
      "/opt/conda/lib/python3.7/site-packages/ipykernel_launcher.py:5: FutureWarning: Dropping of nuisance columns in DataFrame reductions (with 'numeric_only=None') is deprecated; in a future version this will raise TypeError.  Select only valid columns before calling the reduction.\n",
      "  \"\"\"\n"
     ]
    }
   ],
   "source": [
    "matches = drop0var(matches)"
   ]
  },
  {
   "cell_type": "code",
   "execution_count": 16,
   "id": "9b03f31a",
   "metadata": {
    "execution": {
     "iopub.execute_input": "2022-09-19T13:14:54.639539Z",
     "iopub.status.busy": "2022-09-19T13:14:54.638361Z",
     "iopub.status.idle": "2022-09-19T13:14:54.682944Z",
     "shell.execute_reply": "2022-09-19T13:14:54.681622Z"
    },
    "papermill": {
     "duration": 0.068967,
     "end_time": "2022-09-19T13:14:54.686558",
     "exception": false,
     "start_time": "2022-09-19T13:14:54.617591",
     "status": "completed"
    },
    "tags": []
   },
   "outputs": [
    {
     "data": {
      "text/html": [
       "<div>\n",
       "<style scoped>\n",
       "    .dataframe tbody tr th:only-of-type {\n",
       "        vertical-align: middle;\n",
       "    }\n",
       "\n",
       "    .dataframe tbody tr th {\n",
       "        vertical-align: top;\n",
       "    }\n",
       "\n",
       "    .dataframe thead th {\n",
       "        text-align: right;\n",
       "    }\n",
       "</style>\n",
       "<table border=\"1\" class=\"dataframe\">\n",
       "  <thead>\n",
       "    <tr style=\"text-align: right;\">\n",
       "      <th></th>\n",
       "      <th>event_id</th>\n",
       "      <th>event_type</th>\n",
       "      <th>result</th>\n",
       "      <th>success</th>\n",
       "      <th>period_id</th>\n",
       "      <th>timestamp</th>\n",
       "      <th>end_timestamp</th>\n",
       "      <th>ball_state</th>\n",
       "      <th>ball_owning_team</th>\n",
       "      <th>team_id</th>\n",
       "      <th>...</th>\n",
       "      <th>is_counter_attack</th>\n",
       "      <th>pass_type</th>\n",
       "      <th>set_piece_type</th>\n",
       "      <th>body_part_type</th>\n",
       "      <th>goalkeeper_action_type</th>\n",
       "      <th>card_type</th>\n",
       "      <th>x</th>\n",
       "      <th>y</th>\n",
       "      <th>end_x</th>\n",
       "      <th>end_y</th>\n",
       "    </tr>\n",
       "  </thead>\n",
       "  <tbody>\n",
       "    <tr>\n",
       "      <th>0</th>\n",
       "      <td>178494347</td>\n",
       "      <td>PASS</td>\n",
       "      <td>COMPLETE</td>\n",
       "      <td>True</td>\n",
       "      <td>1</td>\n",
       "      <td>5.546151</td>\n",
       "      <td>None</td>\n",
       "      <td>None</td>\n",
       "      <td>None</td>\n",
       "      <td>1611</td>\n",
       "      <td>...</td>\n",
       "      <td>False</td>\n",
       "      <td>SIMPLE_PASS</td>\n",
       "      <td>NaN</td>\n",
       "      <td>NaN</td>\n",
       "      <td>NaN</td>\n",
       "      <td>NaN</td>\n",
       "      <td>52.50</td>\n",
       "      <td>35.36</td>\n",
       "      <td>42.00</td>\n",
       "      <td>29.92</td>\n",
       "    </tr>\n",
       "    <tr>\n",
       "      <th>1</th>\n",
       "      <td>178494348</td>\n",
       "      <td>PASS</td>\n",
       "      <td>COMPLETE</td>\n",
       "      <td>True</td>\n",
       "      <td>1</td>\n",
       "      <td>6.708916</td>\n",
       "      <td>None</td>\n",
       "      <td>None</td>\n",
       "      <td>None</td>\n",
       "      <td>1611</td>\n",
       "      <td>...</td>\n",
       "      <td>False</td>\n",
       "      <td>SIMPLE_PASS</td>\n",
       "      <td>NaN</td>\n",
       "      <td>NaN</td>\n",
       "      <td>NaN</td>\n",
       "      <td>NaN</td>\n",
       "      <td>42.00</td>\n",
       "      <td>29.92</td>\n",
       "      <td>34.65</td>\n",
       "      <td>51.00</td>\n",
       "    </tr>\n",
       "    <tr>\n",
       "      <th>2</th>\n",
       "      <td>178494349</td>\n",
       "      <td>PASS</td>\n",
       "      <td>COMPLETE</td>\n",
       "      <td>True</td>\n",
       "      <td>1</td>\n",
       "      <td>9.612072</td>\n",
       "      <td>None</td>\n",
       "      <td>None</td>\n",
       "      <td>None</td>\n",
       "      <td>1611</td>\n",
       "      <td>...</td>\n",
       "      <td>False</td>\n",
       "      <td>SIMPLE_PASS</td>\n",
       "      <td>NaN</td>\n",
       "      <td>NaN</td>\n",
       "      <td>NaN</td>\n",
       "      <td>NaN</td>\n",
       "      <td>34.65</td>\n",
       "      <td>51.00</td>\n",
       "      <td>44.10</td>\n",
       "      <td>51.68</td>\n",
       "    </tr>\n",
       "    <tr>\n",
       "      <th>3</th>\n",
       "      <td>178494350</td>\n",
       "      <td>PASS</td>\n",
       "      <td>COMPLETE</td>\n",
       "      <td>True</td>\n",
       "      <td>1</td>\n",
       "      <td>10.718877</td>\n",
       "      <td>None</td>\n",
       "      <td>None</td>\n",
       "      <td>None</td>\n",
       "      <td>1611</td>\n",
       "      <td>...</td>\n",
       "      <td>False</td>\n",
       "      <td>SIMPLE_PASS</td>\n",
       "      <td>NaN</td>\n",
       "      <td>NaN</td>\n",
       "      <td>NaN</td>\n",
       "      <td>NaN</td>\n",
       "      <td>44.10</td>\n",
       "      <td>51.68</td>\n",
       "      <td>29.40</td>\n",
       "      <td>24.48</td>\n",
       "    </tr>\n",
       "    <tr>\n",
       "      <th>4</th>\n",
       "      <td>178494351</td>\n",
       "      <td>PASS</td>\n",
       "      <td>COMPLETE</td>\n",
       "      <td>True</td>\n",
       "      <td>1</td>\n",
       "      <td>12.728071</td>\n",
       "      <td>None</td>\n",
       "      <td>None</td>\n",
       "      <td>None</td>\n",
       "      <td>1611</td>\n",
       "      <td>...</td>\n",
       "      <td>False</td>\n",
       "      <td>SIMPLE_PASS</td>\n",
       "      <td>NaN</td>\n",
       "      <td>NaN</td>\n",
       "      <td>NaN</td>\n",
       "      <td>NaN</td>\n",
       "      <td>29.40</td>\n",
       "      <td>24.48</td>\n",
       "      <td>35.70</td>\n",
       "      <td>8.16</td>\n",
       "    </tr>\n",
       "    <tr>\n",
       "      <th>...</th>\n",
       "      <td>...</td>\n",
       "      <td>...</td>\n",
       "      <td>...</td>\n",
       "      <td>...</td>\n",
       "      <td>...</td>\n",
       "      <td>...</td>\n",
       "      <td>...</td>\n",
       "      <td>...</td>\n",
       "      <td>...</td>\n",
       "      <td>...</td>\n",
       "      <td>...</td>\n",
       "      <td>...</td>\n",
       "      <td>...</td>\n",
       "      <td>...</td>\n",
       "      <td>...</td>\n",
       "      <td>...</td>\n",
       "      <td>...</td>\n",
       "      <td>...</td>\n",
       "      <td>...</td>\n",
       "      <td>...</td>\n",
       "      <td>...</td>\n",
       "    </tr>\n",
       "    <tr>\n",
       "      <th>1641</th>\n",
       "      <td>178496018</td>\n",
       "      <td>RECOVERY</td>\n",
       "      <td>None</td>\n",
       "      <td>None</td>\n",
       "      <td>2</td>\n",
       "      <td>2862.313235</td>\n",
       "      <td>None</td>\n",
       "      <td>None</td>\n",
       "      <td>None</td>\n",
       "      <td>1633</td>\n",
       "      <td>...</td>\n",
       "      <td>False</td>\n",
       "      <td>NaN</td>\n",
       "      <td>NaN</td>\n",
       "      <td>NaN</td>\n",
       "      <td>NaN</td>\n",
       "      <td>NaN</td>\n",
       "      <td>5.25</td>\n",
       "      <td>23.80</td>\n",
       "      <td>NaN</td>\n",
       "      <td>NaN</td>\n",
       "    </tr>\n",
       "    <tr>\n",
       "      <th>1642</th>\n",
       "      <td>178496019</td>\n",
       "      <td>BALL_OUT</td>\n",
       "      <td>None</td>\n",
       "      <td>None</td>\n",
       "      <td>2</td>\n",
       "      <td>2866.414500</td>\n",
       "      <td>None</td>\n",
       "      <td>None</td>\n",
       "      <td>None</td>\n",
       "      <td>1633</td>\n",
       "      <td>...</td>\n",
       "      <td>False</td>\n",
       "      <td>NaN</td>\n",
       "      <td>NaN</td>\n",
       "      <td>NaN</td>\n",
       "      <td>NaN</td>\n",
       "      <td>NaN</td>\n",
       "      <td>6.30</td>\n",
       "      <td>0.00</td>\n",
       "      <td>NaN</td>\n",
       "      <td>NaN</td>\n",
       "    </tr>\n",
       "    <tr>\n",
       "      <th>1643</th>\n",
       "      <td>178495982</td>\n",
       "      <td>PASS</td>\n",
       "      <td>COMPLETE</td>\n",
       "      <td>True</td>\n",
       "      <td>2</td>\n",
       "      <td>2879.021252</td>\n",
       "      <td>None</td>\n",
       "      <td>None</td>\n",
       "      <td>None</td>\n",
       "      <td>1611</td>\n",
       "      <td>...</td>\n",
       "      <td>False</td>\n",
       "      <td>HAND_PASS</td>\n",
       "      <td>THROW_IN</td>\n",
       "      <td>NaN</td>\n",
       "      <td>NaN</td>\n",
       "      <td>NaN</td>\n",
       "      <td>93.45</td>\n",
       "      <td>68.00</td>\n",
       "      <td>97.65</td>\n",
       "      <td>61.88</td>\n",
       "    </tr>\n",
       "    <tr>\n",
       "      <th>1644</th>\n",
       "      <td>178496020</td>\n",
       "      <td>TAKE_ON</td>\n",
       "      <td>None</td>\n",
       "      <td>None</td>\n",
       "      <td>2</td>\n",
       "      <td>2883.667683</td>\n",
       "      <td>None</td>\n",
       "      <td>None</td>\n",
       "      <td>None</td>\n",
       "      <td>1633</td>\n",
       "      <td>...</td>\n",
       "      <td>False</td>\n",
       "      <td>NaN</td>\n",
       "      <td>NaN</td>\n",
       "      <td>NaN</td>\n",
       "      <td>NaN</td>\n",
       "      <td>NaN</td>\n",
       "      <td>7.35</td>\n",
       "      <td>6.12</td>\n",
       "      <td>NaN</td>\n",
       "      <td>NaN</td>\n",
       "    </tr>\n",
       "    <tr>\n",
       "      <th>1645</th>\n",
       "      <td>178496470</td>\n",
       "      <td>TAKE_ON</td>\n",
       "      <td>INCOMPLETE</td>\n",
       "      <td>False</td>\n",
       "      <td>2</td>\n",
       "      <td>2883.667683</td>\n",
       "      <td>None</td>\n",
       "      <td>None</td>\n",
       "      <td>None</td>\n",
       "      <td>1611</td>\n",
       "      <td>...</td>\n",
       "      <td>False</td>\n",
       "      <td>NaN</td>\n",
       "      <td>NaN</td>\n",
       "      <td>NaN</td>\n",
       "      <td>NaN</td>\n",
       "      <td>NaN</td>\n",
       "      <td>97.65</td>\n",
       "      <td>61.88</td>\n",
       "      <td>NaN</td>\n",
       "      <td>NaN</td>\n",
       "    </tr>\n",
       "  </tbody>\n",
       "</table>\n",
       "<p>1646 rows × 26 columns</p>\n",
       "</div>"
      ],
      "text/plain": [
       "       event_id event_type      result success  period_id    timestamp  \\\n",
       "0     178494347       PASS    COMPLETE    True          1     5.546151   \n",
       "1     178494348       PASS    COMPLETE    True          1     6.708916   \n",
       "2     178494349       PASS    COMPLETE    True          1     9.612072   \n",
       "3     178494350       PASS    COMPLETE    True          1    10.718877   \n",
       "4     178494351       PASS    COMPLETE    True          1    12.728071   \n",
       "...         ...        ...         ...     ...        ...          ...   \n",
       "1641  178496018   RECOVERY        None    None          2  2862.313235   \n",
       "1642  178496019   BALL_OUT        None    None          2  2866.414500   \n",
       "1643  178495982       PASS    COMPLETE    True          2  2879.021252   \n",
       "1644  178496020    TAKE_ON        None    None          2  2883.667683   \n",
       "1645  178496470    TAKE_ON  INCOMPLETE   False          2  2883.667683   \n",
       "\n",
       "     end_timestamp ball_state ball_owning_team team_id  ... is_counter_attack  \\\n",
       "0             None       None             None    1611  ...             False   \n",
       "1             None       None             None    1611  ...             False   \n",
       "2             None       None             None    1611  ...             False   \n",
       "3             None       None             None    1611  ...             False   \n",
       "4             None       None             None    1611  ...             False   \n",
       "...            ...        ...              ...     ...  ...               ...   \n",
       "1641          None       None             None    1633  ...             False   \n",
       "1642          None       None             None    1633  ...             False   \n",
       "1643          None       None             None    1611  ...             False   \n",
       "1644          None       None             None    1633  ...             False   \n",
       "1645          None       None             None    1611  ...             False   \n",
       "\n",
       "        pass_type  set_piece_type  body_part_type  goalkeeper_action_type  \\\n",
       "0     SIMPLE_PASS             NaN             NaN                     NaN   \n",
       "1     SIMPLE_PASS             NaN             NaN                     NaN   \n",
       "2     SIMPLE_PASS             NaN             NaN                     NaN   \n",
       "3     SIMPLE_PASS             NaN             NaN                     NaN   \n",
       "4     SIMPLE_PASS             NaN             NaN                     NaN   \n",
       "...           ...             ...             ...                     ...   \n",
       "1641          NaN             NaN             NaN                     NaN   \n",
       "1642          NaN             NaN             NaN                     NaN   \n",
       "1643    HAND_PASS        THROW_IN             NaN                     NaN   \n",
       "1644          NaN             NaN             NaN                     NaN   \n",
       "1645          NaN             NaN             NaN                     NaN   \n",
       "\n",
       "      card_type      x      y  end_x  end_y  \n",
       "0           NaN  52.50  35.36  42.00  29.92  \n",
       "1           NaN  42.00  29.92  34.65  51.00  \n",
       "2           NaN  34.65  51.00  44.10  51.68  \n",
       "3           NaN  44.10  51.68  29.40  24.48  \n",
       "4           NaN  29.40  24.48  35.70   8.16  \n",
       "...         ...    ...    ...    ...    ...  \n",
       "1641        NaN   5.25  23.80    NaN    NaN  \n",
       "1642        NaN   6.30   0.00    NaN    NaN  \n",
       "1643        NaN  93.45  68.00  97.65  61.88  \n",
       "1644        NaN   7.35   6.12    NaN    NaN  \n",
       "1645        NaN  97.65  61.88    NaN    NaN  \n",
       "\n",
       "[1646 rows x 26 columns]"
      ]
     },
     "execution_count": 16,
     "metadata": {},
     "output_type": "execute_result"
    }
   ],
   "source": [
    "matchdf"
   ]
  },
  {
   "cell_type": "code",
   "execution_count": 17,
   "id": "0354e92a",
   "metadata": {
    "execution": {
     "iopub.execute_input": "2022-09-19T13:14:54.733859Z",
     "iopub.status.busy": "2022-09-19T13:14:54.732489Z",
     "iopub.status.idle": "2022-09-19T13:14:54.757295Z",
     "shell.execute_reply": "2022-09-19T13:14:54.756316Z"
    },
    "papermill": {
     "duration": 0.050611,
     "end_time": "2022-09-19T13:14:54.759761",
     "exception": false,
     "start_time": "2022-09-19T13:14:54.709150",
     "status": "completed"
    },
    "tags": []
   },
   "outputs": [
    {
     "name": "stderr",
     "output_type": "stream",
     "text": [
      "/opt/conda/lib/python3.7/site-packages/ipykernel_launcher.py:5: FutureWarning: Dropping of nuisance columns in DataFrame reductions (with 'numeric_only=None') is deprecated; in a future version this will raise TypeError.  Select only valid columns before calling the reduction.\n",
      "  \"\"\"\n"
     ]
    }
   ],
   "source": [
    "matchdf = drop0var(matchdf)"
   ]
  },
  {
   "cell_type": "code",
   "execution_count": 18,
   "id": "15efba79",
   "metadata": {
    "execution": {
     "iopub.execute_input": "2022-09-19T13:14:54.802416Z",
     "iopub.status.busy": "2022-09-19T13:14:54.801261Z",
     "iopub.status.idle": "2022-09-19T13:14:54.808370Z",
     "shell.execute_reply": "2022-09-19T13:14:54.807007Z"
    },
    "papermill": {
     "duration": 0.030958,
     "end_time": "2022-09-19T13:14:54.810847",
     "exception": false,
     "start_time": "2022-09-19T13:14:54.779889",
     "status": "completed"
    },
    "tags": []
   },
   "outputs": [
    {
     "name": "stdout",
     "output_type": "stream",
     "text": [
      "event_id\n",
      "event_type\n",
      "result\n",
      "success\n",
      "period_id\n",
      "timestamp\n",
      "end_timestamp\n",
      "ball_state\n",
      "ball_owning_team\n",
      "team_id\n",
      "player_id\n",
      "coordinates_x\n",
      "coordinates_y\n",
      "end_coordinates_x\n",
      "end_coordinates_y\n",
      "receiver_player_id\n",
      "is_counter_attack\n",
      "pass_type\n",
      "set_piece_type\n",
      "body_part_type\n",
      "goalkeeper_action_type\n",
      "card_type\n",
      "x\n",
      "y\n",
      "end_x\n",
      "end_y\n"
     ]
    }
   ],
   "source": [
    "for col in matchdf.columns:\n",
    "    print(col)"
   ]
  },
  {
   "cell_type": "code",
   "execution_count": 19,
   "id": "33a336a7",
   "metadata": {
    "execution": {
     "iopub.execute_input": "2022-09-19T13:14:54.854846Z",
     "iopub.status.busy": "2022-09-19T13:14:54.853991Z",
     "iopub.status.idle": "2022-09-19T13:14:54.863371Z",
     "shell.execute_reply": "2022-09-19T13:14:54.862353Z"
    },
    "papermill": {
     "duration": 0.033831,
     "end_time": "2022-09-19T13:14:54.865781",
     "exception": false,
     "start_time": "2022-09-19T13:14:54.831950",
     "status": "completed"
    },
    "tags": []
   },
   "outputs": [
    {
     "data": {
      "text/plain": [
       "0           PASS\n",
       "1           PASS\n",
       "2           PASS\n",
       "3           PASS\n",
       "4           PASS\n",
       "          ...   \n",
       "1641    RECOVERY\n",
       "1642    BALL_OUT\n",
       "1643        PASS\n",
       "1644     TAKE_ON\n",
       "1645     TAKE_ON\n",
       "Name: event_type, Length: 1646, dtype: object"
      ]
     },
     "execution_count": 19,
     "metadata": {},
     "output_type": "execute_result"
    }
   ],
   "source": [
    "matchdf.event_type"
   ]
  },
  {
   "cell_type": "code",
   "execution_count": 20,
   "id": "a2904dd4",
   "metadata": {
    "execution": {
     "iopub.execute_input": "2022-09-19T13:14:54.908810Z",
     "iopub.status.busy": "2022-09-19T13:14:54.907765Z",
     "iopub.status.idle": "2022-09-19T13:14:54.913264Z",
     "shell.execute_reply": "2022-09-19T13:14:54.912012Z"
    },
    "papermill": {
     "duration": 0.029791,
     "end_time": "2022-09-19T13:14:54.915812",
     "exception": false,
     "start_time": "2022-09-19T13:14:54.886021",
     "status": "completed"
    },
    "tags": []
   },
   "outputs": [],
   "source": [
    "# passes = matchdf[matchdf.event_type == \"PASS\"]\n",
    "passes = allpasses"
   ]
  },
  {
   "cell_type": "code",
   "execution_count": 21,
   "id": "07aa5b57",
   "metadata": {
    "execution": {
     "iopub.execute_input": "2022-09-19T13:14:54.958483Z",
     "iopub.status.busy": "2022-09-19T13:14:54.957723Z",
     "iopub.status.idle": "2022-09-19T13:14:55.245452Z",
     "shell.execute_reply": "2022-09-19T13:14:55.243971Z"
    },
    "papermill": {
     "duration": 0.312589,
     "end_time": "2022-09-19T13:14:55.248519",
     "exception": false,
     "start_time": "2022-09-19T13:14:54.935930",
     "status": "completed"
    },
    "tags": []
   },
   "outputs": [],
   "source": [
    "passes['x'] = passes['coordinates_x'].apply(map_length)\n",
    "passes['y'] = passes['coordinates_y'].apply(map_width)"
   ]
  },
  {
   "cell_type": "code",
   "execution_count": 22,
   "id": "076f2851",
   "metadata": {
    "execution": {
     "iopub.execute_input": "2022-09-19T13:14:55.290577Z",
     "iopub.status.busy": "2022-09-19T13:14:55.290161Z",
     "iopub.status.idle": "2022-09-19T13:14:55.297939Z",
     "shell.execute_reply": "2022-09-19T13:14:55.296673Z"
    },
    "papermill": {
     "duration": 0.031868,
     "end_time": "2022-09-19T13:14:55.300473",
     "exception": false,
     "start_time": "2022-09-19T13:14:55.268605",
     "status": "completed"
    },
    "tags": []
   },
   "outputs": [
    {
     "data": {
      "text/plain": [
       "'1659'"
      ]
     },
     "execution_count": 22,
     "metadata": {},
     "output_type": "execute_result"
    }
   ],
   "source": [
    "passes.team_id.iloc[0]"
   ]
  },
  {
   "cell_type": "code",
   "execution_count": 23,
   "id": "f033c3ff",
   "metadata": {
    "execution": {
     "iopub.execute_input": "2022-09-19T13:14:55.344501Z",
     "iopub.status.busy": "2022-09-19T13:14:55.343761Z",
     "iopub.status.idle": "2022-09-19T13:14:55.350136Z",
     "shell.execute_reply": "2022-09-19T13:14:55.349346Z"
    },
    "papermill": {
     "duration": 0.030353,
     "end_time": "2022-09-19T13:14:55.352345",
     "exception": false,
     "start_time": "2022-09-19T13:14:55.321992",
     "status": "completed"
    },
    "tags": []
   },
   "outputs": [],
   "source": [
    "def plot_event(df):\n",
    "    create_pitch(length, width, 'white')\n",
    "    first_team = df.team_id.iloc[0]\n",
    "    for index, p in df.iterrows():\n",
    "        color = 'red' if p.team_id == first_team else 'blue'\n",
    "        x = p.x\n",
    "        y = p.y\n",
    "        plt.scatter(x, y, color = color)\n",
    "\n",
    "    plt.show()"
   ]
  },
  {
   "cell_type": "code",
   "execution_count": 24,
   "id": "4dcbb9d5",
   "metadata": {
    "execution": {
     "iopub.execute_input": "2022-09-19T13:14:55.396377Z",
     "iopub.status.busy": "2022-09-19T13:14:55.395718Z",
     "iopub.status.idle": "2022-09-19T13:14:55.399574Z",
     "shell.execute_reply": "2022-09-19T13:14:55.398698Z"
    },
    "papermill": {
     "duration": 0.029106,
     "end_time": "2022-09-19T13:14:55.401823",
     "exception": false,
     "start_time": "2022-09-19T13:14:55.372717",
     "status": "completed"
    },
    "tags": []
   },
   "outputs": [],
   "source": [
    "# plot_event(passes)"
   ]
  },
  {
   "cell_type": "code",
   "execution_count": 25,
   "id": "d4aef1aa",
   "metadata": {
    "execution": {
     "iopub.execute_input": "2022-09-19T13:14:55.446197Z",
     "iopub.status.busy": "2022-09-19T13:14:55.445543Z",
     "iopub.status.idle": "2022-09-19T13:14:55.451233Z",
     "shell.execute_reply": "2022-09-19T13:14:55.450497Z"
    },
    "papermill": {
     "duration": 0.031088,
     "end_time": "2022-09-19T13:14:55.453299",
     "exception": false,
     "start_time": "2022-09-19T13:14:55.422211",
     "status": "completed"
    },
    "tags": []
   },
   "outputs": [
    {
     "data": {
      "text/plain": [
       "Index(['weight', 'firstName', 'middleName', 'lastName', 'currentTeamId',\n",
       "       'birthDate', 'height', 'wyId', 'foot', 'shortName',\n",
       "       'currentNationalTeamId', 'passportArea_name', 'passportArea_id',\n",
       "       'passportArea_alpha3code', 'passportArea_alpha2code', 'role_code2',\n",
       "       'role_code3', 'role_name', 'birthArea_name', 'birthArea_id',\n",
       "       'birthArea_alpha3code', 'birthArea_alpha2code'],\n",
       "      dtype='object')"
      ]
     },
     "execution_count": 25,
     "metadata": {},
     "output_type": "execute_result"
    }
   ],
   "source": [
    "players.columns"
   ]
  },
  {
   "cell_type": "code",
   "execution_count": 26,
   "id": "6f48752c",
   "metadata": {
    "execution": {
     "iopub.execute_input": "2022-09-19T13:14:55.497124Z",
     "iopub.status.busy": "2022-09-19T13:14:55.496604Z",
     "iopub.status.idle": "2022-09-19T13:14:55.518619Z",
     "shell.execute_reply": "2022-09-19T13:14:55.517677Z"
    },
    "papermill": {
     "duration": 0.046586,
     "end_time": "2022-09-19T13:14:55.521182",
     "exception": false,
     "start_time": "2022-09-19T13:14:55.474596",
     "status": "completed"
    },
    "tags": []
   },
   "outputs": [
    {
     "data": {
      "text/html": [
       "<div>\n",
       "<style scoped>\n",
       "    .dataframe tbody tr th:only-of-type {\n",
       "        vertical-align: middle;\n",
       "    }\n",
       "\n",
       "    .dataframe tbody tr th {\n",
       "        vertical-align: top;\n",
       "    }\n",
       "\n",
       "    .dataframe thead th {\n",
       "        text-align: right;\n",
       "    }\n",
       "</style>\n",
       "<table border=\"1\" class=\"dataframe\">\n",
       "  <thead>\n",
       "    <tr style=\"text-align: right;\">\n",
       "      <th></th>\n",
       "      <th>weight</th>\n",
       "      <th>firstName</th>\n",
       "      <th>middleName</th>\n",
       "      <th>lastName</th>\n",
       "      <th>currentTeamId</th>\n",
       "      <th>birthDate</th>\n",
       "      <th>height</th>\n",
       "      <th>wyId</th>\n",
       "      <th>foot</th>\n",
       "      <th>shortName</th>\n",
       "      <th>...</th>\n",
       "      <th>passportArea_id</th>\n",
       "      <th>passportArea_alpha3code</th>\n",
       "      <th>passportArea_alpha2code</th>\n",
       "      <th>role_code2</th>\n",
       "      <th>role_code3</th>\n",
       "      <th>role_name</th>\n",
       "      <th>birthArea_name</th>\n",
       "      <th>birthArea_id</th>\n",
       "      <th>birthArea_alpha3code</th>\n",
       "      <th>birthArea_alpha2code</th>\n",
       "    </tr>\n",
       "  </thead>\n",
       "  <tbody>\n",
       "    <tr>\n",
       "      <th>2900</th>\n",
       "      <td>63</td>\n",
       "      <td>Juan Manuel</td>\n",
       "      <td></td>\n",
       "      <td>Mata Garc\\u00eda</td>\n",
       "      <td>1611</td>\n",
       "      <td>1988-04-28</td>\n",
       "      <td>170</td>\n",
       "      <td>7906</td>\n",
       "      <td>left</td>\n",
       "      <td>Juan Mata</td>\n",
       "      <td>...</td>\n",
       "      <td>724</td>\n",
       "      <td>ESP</td>\n",
       "      <td>ES</td>\n",
       "      <td>MD</td>\n",
       "      <td>MID</td>\n",
       "      <td>Midfielder</td>\n",
       "      <td>Spain</td>\n",
       "      <td>724</td>\n",
       "      <td>ESP</td>\n",
       "      <td>ES</td>\n",
       "    </tr>\n",
       "  </tbody>\n",
       "</table>\n",
       "<p>1 rows × 22 columns</p>\n",
       "</div>"
      ],
      "text/plain": [
       "      weight    firstName middleName          lastName currentTeamId  \\\n",
       "2900      63  Juan Manuel             Mata Garc\\u00eda          1611   \n",
       "\n",
       "       birthDate  height  wyId  foot  shortName  ... passportArea_id  \\\n",
       "2900  1988-04-28     170  7906  left  Juan Mata  ...             724   \n",
       "\n",
       "     passportArea_alpha3code passportArea_alpha2code role_code2 role_code3  \\\n",
       "2900                     ESP                      ES         MD        MID   \n",
       "\n",
       "       role_name birthArea_name birthArea_id birthArea_alpha3code  \\\n",
       "2900  Midfielder          Spain          724                  ESP   \n",
       "\n",
       "     birthArea_alpha2code  \n",
       "2900                   ES  \n",
       "\n",
       "[1 rows x 22 columns]"
      ]
     },
     "execution_count": 26,
     "metadata": {},
     "output_type": "execute_result"
    }
   ],
   "source": [
    "players[players.wyId == 7906]"
   ]
  },
  {
   "cell_type": "code",
   "execution_count": 27,
   "id": "28552877",
   "metadata": {
    "execution": {
     "iopub.execute_input": "2022-09-19T13:14:55.565265Z",
     "iopub.status.busy": "2022-09-19T13:14:55.564638Z",
     "iopub.status.idle": "2022-09-19T13:14:55.572695Z",
     "shell.execute_reply": "2022-09-19T13:14:55.571574Z"
    },
    "papermill": {
     "duration": 0.032743,
     "end_time": "2022-09-19T13:14:55.575017",
     "exception": false,
     "start_time": "2022-09-19T13:14:55.542274",
     "status": "completed"
    },
    "tags": []
   },
   "outputs": [
    {
     "data": {
      "text/plain": [
       "0         7906\n",
       "1       105338\n",
       "2        70122\n",
       "3         7936\n",
       "4         7918\n",
       "         ...  \n",
       "1641      8301\n",
       "1642      None\n",
       "1643      None\n",
       "1644     14703\n",
       "1645      None\n",
       "Name: player_id, Length: 1646, dtype: object"
      ]
     },
     "execution_count": 27,
     "metadata": {},
     "output_type": "execute_result"
    }
   ],
   "source": [
    "matchdf.player_id"
   ]
  },
  {
   "cell_type": "code",
   "execution_count": 28,
   "id": "bcd0ea31",
   "metadata": {
    "execution": {
     "iopub.execute_input": "2022-09-19T13:14:55.619180Z",
     "iopub.status.busy": "2022-09-19T13:14:55.618499Z",
     "iopub.status.idle": "2022-09-19T13:14:55.624475Z",
     "shell.execute_reply": "2022-09-19T13:14:55.623436Z"
    },
    "papermill": {
     "duration": 0.031142,
     "end_time": "2022-09-19T13:14:55.626934",
     "exception": false,
     "start_time": "2022-09-19T13:14:55.595792",
     "status": "completed"
    },
    "tags": []
   },
   "outputs": [],
   "source": [
    "matchdf['player_name'] = matchdf.player_id.apply(map_players)"
   ]
  },
  {
   "cell_type": "code",
   "execution_count": 29,
   "id": "16342d3e",
   "metadata": {
    "execution": {
     "iopub.execute_input": "2022-09-19T13:14:55.670836Z",
     "iopub.status.busy": "2022-09-19T13:14:55.670235Z",
     "iopub.status.idle": "2022-09-19T13:14:55.686175Z",
     "shell.execute_reply": "2022-09-19T13:14:55.685311Z"
    },
    "papermill": {
     "duration": 0.04085,
     "end_time": "2022-09-19T13:14:55.688627",
     "exception": false,
     "start_time": "2022-09-19T13:14:55.647777",
     "status": "completed"
    },
    "tags": []
   },
   "outputs": [
    {
     "data": {
      "text/html": [
       "<div>\n",
       "<style scoped>\n",
       "    .dataframe tbody tr th:only-of-type {\n",
       "        vertical-align: middle;\n",
       "    }\n",
       "\n",
       "    .dataframe tbody tr th {\n",
       "        vertical-align: top;\n",
       "    }\n",
       "\n",
       "    .dataframe thead th {\n",
       "        text-align: right;\n",
       "    }\n",
       "</style>\n",
       "<table border=\"1\" class=\"dataframe\">\n",
       "  <thead>\n",
       "    <tr style=\"text-align: right;\">\n",
       "      <th></th>\n",
       "      <th>event_type</th>\n",
       "      <th>player_id</th>\n",
       "      <th>player_name</th>\n",
       "      <th>timestamp</th>\n",
       "    </tr>\n",
       "  </thead>\n",
       "  <tbody>\n",
       "    <tr>\n",
       "      <th>0</th>\n",
       "      <td>PASS</td>\n",
       "      <td>7906</td>\n",
       "      <td>Juan Manuel Mata Garc\\u00eda</td>\n",
       "      <td>5.546151</td>\n",
       "    </tr>\n",
       "    <tr>\n",
       "      <th>1</th>\n",
       "      <td>PASS</td>\n",
       "      <td>105338</td>\n",
       "      <td>Henrikh Mkhitaryan</td>\n",
       "      <td>6.708916</td>\n",
       "    </tr>\n",
       "    <tr>\n",
       "      <th>2</th>\n",
       "      <td>PASS</td>\n",
       "      <td>70122</td>\n",
       "      <td>Nemanja Mati\\u0107</td>\n",
       "      <td>9.612072</td>\n",
       "    </tr>\n",
       "    <tr>\n",
       "      <th>3</th>\n",
       "      <td>PASS</td>\n",
       "      <td>7936</td>\n",
       "      <td>Paul Pogba</td>\n",
       "      <td>10.718877</td>\n",
       "    </tr>\n",
       "    <tr>\n",
       "      <th>4</th>\n",
       "      <td>PASS</td>\n",
       "      <td>7918</td>\n",
       "      <td>Phil Jones</td>\n",
       "      <td>12.728071</td>\n",
       "    </tr>\n",
       "    <tr>\n",
       "      <th>...</th>\n",
       "      <td>...</td>\n",
       "      <td>...</td>\n",
       "      <td>...</td>\n",
       "      <td>...</td>\n",
       "    </tr>\n",
       "    <tr>\n",
       "      <th>1641</th>\n",
       "      <td>RECOVERY</td>\n",
       "      <td>8301</td>\n",
       "      <td>Joe Hart</td>\n",
       "      <td>2862.313235</td>\n",
       "    </tr>\n",
       "    <tr>\n",
       "      <th>1642</th>\n",
       "      <td>BALL_OUT</td>\n",
       "      <td>None</td>\n",
       "      <td>None</td>\n",
       "      <td>2866.414500</td>\n",
       "    </tr>\n",
       "    <tr>\n",
       "      <th>1643</th>\n",
       "      <td>PASS</td>\n",
       "      <td>None</td>\n",
       "      <td>None</td>\n",
       "      <td>2879.021252</td>\n",
       "    </tr>\n",
       "    <tr>\n",
       "      <th>1644</th>\n",
       "      <td>TAKE_ON</td>\n",
       "      <td>14703</td>\n",
       "      <td>Marko Arnautovi\\u0107</td>\n",
       "      <td>2883.667683</td>\n",
       "    </tr>\n",
       "    <tr>\n",
       "      <th>1645</th>\n",
       "      <td>TAKE_ON</td>\n",
       "      <td>None</td>\n",
       "      <td>None</td>\n",
       "      <td>2883.667683</td>\n",
       "    </tr>\n",
       "  </tbody>\n",
       "</table>\n",
       "<p>1646 rows × 4 columns</p>\n",
       "</div>"
      ],
      "text/plain": [
       "     event_type player_id                   player_name    timestamp\n",
       "0          PASS      7906  Juan Manuel Mata Garc\\u00eda     5.546151\n",
       "1          PASS    105338            Henrikh Mkhitaryan     6.708916\n",
       "2          PASS     70122            Nemanja Mati\\u0107     9.612072\n",
       "3          PASS      7936                    Paul Pogba    10.718877\n",
       "4          PASS      7918                    Phil Jones    12.728071\n",
       "...         ...       ...                           ...          ...\n",
       "1641   RECOVERY      8301                      Joe Hart  2862.313235\n",
       "1642   BALL_OUT      None                          None  2866.414500\n",
       "1643       PASS      None                          None  2879.021252\n",
       "1644    TAKE_ON     14703         Marko Arnautovi\\u0107  2883.667683\n",
       "1645    TAKE_ON      None                          None  2883.667683\n",
       "\n",
       "[1646 rows x 4 columns]"
      ]
     },
     "execution_count": 29,
     "metadata": {},
     "output_type": "execute_result"
    }
   ],
   "source": [
    "matchdf[['event_type', 'player_id', 'player_name', 'timestamp']]"
   ]
  },
  {
   "cell_type": "code",
   "execution_count": 30,
   "id": "f6654cd5",
   "metadata": {
    "execution": {
     "iopub.execute_input": "2022-09-19T13:14:55.733667Z",
     "iopub.status.busy": "2022-09-19T13:14:55.733043Z",
     "iopub.status.idle": "2022-09-19T13:14:56.035983Z",
     "shell.execute_reply": "2022-09-19T13:14:56.034647Z"
    },
    "papermill": {
     "duration": 0.328643,
     "end_time": "2022-09-19T13:14:56.038802",
     "exception": false,
     "start_time": "2022-09-19T13:14:55.710159",
     "status": "completed"
    },
    "tags": []
   },
   "outputs": [
    {
     "data": {
      "text/plain": [
       "coordinates_x    1.0\n",
       "coordinates_y    1.0\n",
       "dtype: float64"
      ]
     },
     "execution_count": 30,
     "metadata": {},
     "output_type": "execute_result"
    }
   ],
   "source": [
    "passes[['coordinates_x', 'coordinates_y']].max()"
   ]
  },
  {
   "cell_type": "code",
   "execution_count": 31,
   "id": "ce95b3ab",
   "metadata": {
    "execution": {
     "iopub.execute_input": "2022-09-19T13:14:56.082861Z",
     "iopub.status.busy": "2022-09-19T13:14:56.082420Z",
     "iopub.status.idle": "2022-09-19T13:14:56.096857Z",
     "shell.execute_reply": "2022-09-19T13:14:56.095527Z"
    },
    "papermill": {
     "duration": 0.039866,
     "end_time": "2022-09-19T13:14:56.099795",
     "exception": false,
     "start_time": "2022-09-19T13:14:56.059929",
     "status": "completed"
    },
    "tags": []
   },
   "outputs": [
    {
     "data": {
      "text/plain": [
       "coordinates_x    0.0\n",
       "coordinates_y    0.0\n",
       "dtype: float64"
      ]
     },
     "execution_count": 31,
     "metadata": {},
     "output_type": "execute_result"
    }
   ],
   "source": [
    "passes[['coordinates_x', 'coordinates_y']].min()"
   ]
  },
  {
   "cell_type": "code",
   "execution_count": 32,
   "id": "76e6abc5",
   "metadata": {
    "execution": {
     "iopub.execute_input": "2022-09-19T13:14:56.145846Z",
     "iopub.status.busy": "2022-09-19T13:14:56.145005Z",
     "iopub.status.idle": "2022-09-19T13:14:56.151569Z",
     "shell.execute_reply": "2022-09-19T13:14:56.150435Z"
    },
    "papermill": {
     "duration": 0.032204,
     "end_time": "2022-09-19T13:14:56.154098",
     "exception": false,
     "start_time": "2022-09-19T13:14:56.121894",
     "status": "completed"
    },
    "tags": []
   },
   "outputs": [],
   "source": [
    "shots = matchdf[matchdf.event_type == 'SHOT']"
   ]
  },
  {
   "cell_type": "code",
   "execution_count": 33,
   "id": "f86a75b1",
   "metadata": {
    "execution": {
     "iopub.execute_input": "2022-09-19T13:14:56.198613Z",
     "iopub.status.busy": "2022-09-19T13:14:56.198202Z",
     "iopub.status.idle": "2022-09-19T13:14:56.206031Z",
     "shell.execute_reply": "2022-09-19T13:14:56.204698Z"
    },
    "papermill": {
     "duration": 0.033583,
     "end_time": "2022-09-19T13:14:56.209299",
     "exception": false,
     "start_time": "2022-09-19T13:14:56.175716",
     "status": "completed"
    },
    "tags": []
   },
   "outputs": [
    {
     "name": "stdout",
     "output_type": "stream",
     "text": [
      "event_id                           178494555\n",
      "event_type                              SHOT\n",
      "result                            OFF_TARGET\n",
      "success                                False\n",
      "period_id                                  1\n",
      "timestamp                         665.816769\n",
      "end_timestamp                           None\n",
      "ball_state                              None\n",
      "ball_owning_team                        None\n",
      "team_id                                 1611\n",
      "player_id                             105338\n",
      "coordinates_x                           0.89\n",
      "coordinates_y                            0.7\n",
      "end_coordinates_x                        0.0\n",
      "end_coordinates_y                        0.0\n",
      "receiver_player_id                       NaN\n",
      "is_counter_attack                      False\n",
      "pass_type                                NaN\n",
      "set_piece_type                           NaN\n",
      "body_part_type                           NaN\n",
      "goalkeeper_action_type                   NaN\n",
      "card_type                                NaN\n",
      "x                                      93.45\n",
      "y                                       47.6\n",
      "end_x                                    0.0\n",
      "end_y                                    0.0\n",
      "player_name               Henrikh Mkhitaryan\n",
      "Name: 229, dtype: object\n"
     ]
    }
   ],
   "source": [
    "for i, s in shots.iterrows():\n",
    "    print(s)\n",
    "    break"
   ]
  },
  {
   "cell_type": "code",
   "execution_count": 34,
   "id": "15b7c96f",
   "metadata": {
    "execution": {
     "iopub.execute_input": "2022-09-19T13:14:56.255657Z",
     "iopub.status.busy": "2022-09-19T13:14:56.255252Z",
     "iopub.status.idle": "2022-09-19T13:14:56.997159Z",
     "shell.execute_reply": "2022-09-19T13:14:56.995878Z"
    },
    "papermill": {
     "duration": 0.767539,
     "end_time": "2022-09-19T13:14:56.999951",
     "exception": false,
     "start_time": "2022-09-19T13:14:56.232412",
     "status": "completed"
    },
    "tags": []
   },
   "outputs": [
    {
     "data": {
      "image/png": "[encoded data removed]",
      "text/plain": [
       "<Figure size 1080x720 with 1 Axes>"
      ]
     },
     "metadata": {},
     "output_type": "display_data"
    }
   ],
   "source": [
    "plot_event(shots)"
   ]
  },
  {
   "cell_type": "code",
   "execution_count": 35,
   "id": "6daa6d79",
   "metadata": {
    "execution": {
     "iopub.execute_input": "2022-09-19T13:14:57.047970Z",
     "iopub.status.busy": "2022-09-19T13:14:57.047526Z",
     "iopub.status.idle": "2022-09-19T13:14:57.055066Z",
     "shell.execute_reply": "2022-09-19T13:14:57.053814Z"
    },
    "papermill": {
     "duration": 0.03433,
     "end_time": "2022-09-19T13:14:57.057465",
     "exception": false,
     "start_time": "2022-09-19T13:14:57.023135",
     "status": "completed"
    },
    "tags": []
   },
   "outputs": [
    {
     "data": {
      "text/plain": [
       "Index(['event_id', 'event_type', 'result', 'success', 'period_id', 'timestamp',\n",
       "       'end_timestamp', 'ball_state', 'ball_owning_team', 'team_id',\n",
       "       'player_id', 'coordinates_x', 'coordinates_y', 'end_coordinates_x',\n",
       "       'end_coordinates_y', 'receiver_player_id', 'is_counter_attack',\n",
       "       'pass_type', 'body_part_type', 'set_piece_type',\n",
       "       'goalkeeper_action_type', 'card_type', 'x', 'y'],\n",
       "      dtype='object')"
      ]
     },
     "execution_count": 35,
     "metadata": {},
     "output_type": "execute_result"
    }
   ],
   "source": [
    "passes.columns"
   ]
  },
  {
   "cell_type": "code",
   "execution_count": 36,
   "id": "b4606fe1",
   "metadata": {
    "execution": {
     "iopub.execute_input": "2022-09-19T13:14:57.103380Z",
     "iopub.status.busy": "2022-09-19T13:14:57.102574Z",
     "iopub.status.idle": "2022-09-19T13:14:57.107789Z",
     "shell.execute_reply": "2022-09-19T13:14:57.106596Z"
    },
    "papermill": {
     "duration": 0.031028,
     "end_time": "2022-09-19T13:14:57.110359",
     "exception": false,
     "start_time": "2022-09-19T13:14:57.079331",
     "status": "completed"
    },
    "tags": []
   },
   "outputs": [],
   "source": [
    "cluster_cols = ['coordinates_x', 'coordinates_y', 'end_coordinates_x', 'end_coordinates_y']"
   ]
  },
  {
   "cell_type": "code",
   "execution_count": 37,
   "id": "9f186e50",
   "metadata": {
    "execution": {
     "iopub.execute_input": "2022-09-19T13:14:57.156927Z",
     "iopub.status.busy": "2022-09-19T13:14:57.156014Z",
     "iopub.status.idle": "2022-09-19T13:14:57.388411Z",
     "shell.execute_reply": "2022-09-19T13:14:57.387107Z"
    },
    "papermill": {
     "duration": 0.258944,
     "end_time": "2022-09-19T13:14:57.391212",
     "exception": false,
     "start_time": "2022-09-19T13:14:57.132268",
     "status": "completed"
    },
    "tags": []
   },
   "outputs": [],
   "source": [
    "passes['end_x'] = passes['end_coordinates_x'].apply(map_length)\n",
    "passes['end_y'] = passes['end_coordinates_y'].apply(map_width)"
   ]
  },
  {
   "cell_type": "code",
   "execution_count": 38,
   "id": "68b65f9f",
   "metadata": {
    "execution": {
     "iopub.execute_input": "2022-09-19T13:14:57.438985Z",
     "iopub.status.busy": "2022-09-19T13:14:57.437708Z",
     "iopub.status.idle": "2022-09-19T13:40:24.270354Z",
     "shell.execute_reply": "2022-09-19T13:40:24.268478Z"
    },
    "papermill": {
     "duration": 1526.860862,
     "end_time": "2022-09-19T13:40:24.274353",
     "exception": false,
     "start_time": "2022-09-19T13:14:57.413491",
     "status": "completed"
    },
    "tags": []
   },
   "outputs": [],
   "source": [
    "from sklearn.mixture import BayesianGaussianMixture\n",
    "bgm = BayesianGaussianMixture(n_components=20,\n",
    "                              random_state=42,\n",
    "                              max_iter = 1000,\n",
    "                              init_params = 'kmeans').fit(passes[cluster_cols])"
   ]
  },
  {
   "cell_type": "code",
   "execution_count": 39,
   "id": "61dbefe4",
   "metadata": {
    "execution": {
     "iopub.execute_input": "2022-09-19T13:40:24.322703Z",
     "iopub.status.busy": "2022-09-19T13:40:24.322265Z",
     "iopub.status.idle": "2022-09-19T13:40:25.487273Z",
     "shell.execute_reply": "2022-09-19T13:40:25.486158Z"
    },
    "papermill": {
     "duration": 1.191876,
     "end_time": "2022-09-19T13:40:25.490167",
     "exception": false,
     "start_time": "2022-09-19T13:40:24.298291",
     "status": "completed"
    },
    "tags": []
   },
   "outputs": [],
   "source": [
    "passes['cluster'] = bgm.predict(passes[cluster_cols])\n",
    "clusters_ = passes.groupby('cluster').mean()[['x', 'y', 'end_x', 'end_y']]"
   ]
  },
  {
   "cell_type": "code",
   "execution_count": 40,
   "id": "3d440bbb",
   "metadata": {
    "execution": {
     "iopub.execute_input": "2022-09-19T13:40:25.536631Z",
     "iopub.status.busy": "2022-09-19T13:40:25.536232Z",
     "iopub.status.idle": "2022-09-19T13:40:28.082668Z",
     "shell.execute_reply": "2022-09-19T13:40:28.081760Z"
    },
    "papermill": {
     "duration": 2.57269,
     "end_time": "2022-09-19T13:40:28.084993",
     "exception": false,
     "start_time": "2022-09-19T13:40:25.512303",
     "status": "completed"
    },
    "tags": []
   },
   "outputs": [
    {
     "data": {
      "image/png": "[encoded data removed]",
      "text/plain": [
       "<Figure size 1080x720 with 1 Axes>"
      ]
     },
     "metadata": {},
     "output_type": "display_data"
    }
   ],
   "source": [
    "fig, ax = create_pitch(120, 80,'white')\n",
    "for index, pass_ in clusters_.iterrows():\n",
    "    if (index < 0):\n",
    "        continue\n",
    "    x, y = pass_['x'], pass_['y']\n",
    "    end_x, end_y = pass_['end_x'], pass_['end_y']\n",
    "    color = 'blue' \n",
    "    y = 80 - y\n",
    "    end_y = 80 - end_y\n",
    "    plt.plot([x, end_x], [y, end_y], linewidth = 5)\n",
    "    plt.text((x+1),y+1,index, color = \"white\", fontweight = 'bold', fontsize = 'xx-large')\n",
    "    plt.savefig('gmm_cluster.png')"
   ]
  },
  {
   "cell_type": "code",
   "execution_count": 41,
   "id": "ed46f9bc",
   "metadata": {
    "execution": {
     "iopub.execute_input": "2022-09-19T13:40:28.133778Z",
     "iopub.status.busy": "2022-09-19T13:40:28.132764Z",
     "iopub.status.idle": "2022-09-19T13:40:28.142145Z",
     "shell.execute_reply": "2022-09-19T13:40:28.141209Z"
    },
    "papermill": {
     "duration": 0.036264,
     "end_time": "2022-09-19T13:40:28.144636",
     "exception": false,
     "start_time": "2022-09-19T13:40:28.108372",
     "status": "completed"
    },
    "tags": []
   },
   "outputs": [],
   "source": [
    "clusters_.to_csv('pass_clusters.csv', index = False)"
   ]
  },
  {
   "cell_type": "code",
   "execution_count": 42,
   "id": "fbaf255b",
   "metadata": {
    "execution": {
     "iopub.execute_input": "2022-09-19T13:40:28.194044Z",
     "iopub.status.busy": "2022-09-19T13:40:28.193300Z",
     "iopub.status.idle": "2022-09-19T13:40:28.200150Z",
     "shell.execute_reply": "2022-09-19T13:40:28.199078Z"
    },
    "papermill": {
     "duration": 0.034162,
     "end_time": "2022-09-19T13:40:28.202495",
     "exception": false,
     "start_time": "2022-09-19T13:40:28.168333",
     "status": "completed"
    },
    "tags": []
   },
   "outputs": [
    {
     "data": {
      "text/plain": [
       "Index(['event_id', 'event_type', 'result', 'success', 'period_id', 'timestamp',\n",
       "       'end_timestamp', 'ball_state', 'ball_owning_team', 'team_id',\n",
       "       'player_id', 'coordinates_x', 'coordinates_y', 'end_coordinates_x',\n",
       "       'end_coordinates_y', 'receiver_player_id', 'is_counter_attack',\n",
       "       'pass_type', 'body_part_type', 'set_piece_type',\n",
       "       'goalkeeper_action_type', 'card_type', 'x', 'y', 'end_x', 'end_y',\n",
       "       'cluster'],\n",
       "      dtype='object')"
      ]
     },
     "execution_count": 42,
     "metadata": {},
     "output_type": "execute_result"
    }
   ],
   "source": [
    "passes.columns"
   ]
  },
  {
   "cell_type": "code",
   "execution_count": 43,
   "id": "293aea5d",
   "metadata": {
    "execution": {
     "iopub.execute_input": "2022-09-19T13:40:28.251474Z",
     "iopub.status.busy": "2022-09-19T13:40:28.250606Z",
     "iopub.status.idle": "2022-09-19T13:40:28.258677Z",
     "shell.execute_reply": "2022-09-19T13:40:28.257785Z"
    },
    "papermill": {
     "duration": 0.035005,
     "end_time": "2022-09-19T13:40:28.260785",
     "exception": false,
     "start_time": "2022-09-19T13:40:28.225780",
     "status": "completed"
    },
    "tags": []
   },
   "outputs": [
    {
     "data": {
      "text/plain": [
       "0       None\n",
       "1       None\n",
       "2       None\n",
       "3       None\n",
       "4       None\n",
       "        ... \n",
       "1738    None\n",
       "1740    None\n",
       "1741    None\n",
       "1742    None\n",
       "1745    None\n",
       "Name: ball_state, Length: 358718, dtype: object"
      ]
     },
     "execution_count": 43,
     "metadata": {},
     "output_type": "execute_result"
    }
   ],
   "source": [
    "passes['ball_state']"
   ]
  },
  {
   "cell_type": "code",
   "execution_count": 44,
   "id": "2ad8add5",
   "metadata": {
    "execution": {
     "iopub.execute_input": "2022-09-19T13:40:28.309942Z",
     "iopub.status.busy": "2022-09-19T13:40:28.309327Z",
     "iopub.status.idle": "2022-09-19T13:40:32.339971Z",
     "shell.execute_reply": "2022-09-19T13:40:32.338426Z"
    },
    "papermill": {
     "duration": 4.05822,
     "end_time": "2022-09-19T13:40:32.342905",
     "exception": false,
     "start_time": "2022-09-19T13:40:28.284685",
     "status": "completed"
    },
    "tags": []
   },
   "outputs": [],
   "source": [
    "passes.to_csv('fullpasses.csv', index = False)"
   ]
  },
  {
   "cell_type": "code",
   "execution_count": 45,
   "id": "d9a15926",
   "metadata": {
    "execution": {
     "iopub.execute_input": "2022-09-19T13:40:32.391158Z",
     "iopub.status.busy": "2022-09-19T13:40:32.390699Z",
     "iopub.status.idle": "2022-09-19T13:40:32.397502Z",
     "shell.execute_reply": "2022-09-19T13:40:32.396615Z"
    },
    "papermill": {
     "duration": 0.033609,
     "end_time": "2022-09-19T13:40:32.399813",
     "exception": false,
     "start_time": "2022-09-19T13:40:32.366204",
     "status": "completed"
    },
    "tags": []
   },
   "outputs": [
    {
     "data": {
      "text/plain": [
       "Index(['event_id', 'event_type', 'result', 'success', 'period_id', 'timestamp',\n",
       "       'end_timestamp', 'ball_state', 'ball_owning_team', 'team_id',\n",
       "       'player_id', 'coordinates_x', 'coordinates_y', 'end_coordinates_x',\n",
       "       'end_coordinates_y', 'receiver_player_id', 'is_counter_attack',\n",
       "       'pass_type', 'body_part_type', 'set_piece_type',\n",
       "       'goalkeeper_action_type', 'card_type', 'x', 'y', 'end_x', 'end_y',\n",
       "       'cluster'],\n",
       "      dtype='object')"
      ]
     },
     "execution_count": 45,
     "metadata": {},
     "output_type": "execute_result"
    }
   ],
   "source": [
    "passes.columns"
   ]
  },
  {
   "cell_type": "code",
   "execution_count": 46,
   "id": "7c3316af",
   "metadata": {
    "execution": {
     "iopub.execute_input": "2022-09-19T13:40:32.449399Z",
     "iopub.status.busy": "2022-09-19T13:40:32.448957Z",
     "iopub.status.idle": "2022-09-19T13:40:32.506571Z",
     "shell.execute_reply": "2022-09-19T13:40:32.505231Z"
    },
    "papermill": {
     "duration": 0.084828,
     "end_time": "2022-09-19T13:40:32.509130",
     "exception": false,
     "start_time": "2022-09-19T13:40:32.424302",
     "status": "completed"
    },
    "tags": []
   },
   "outputs": [
    {
     "data": {
      "text/html": [
       "<div>\n",
       "<style scoped>\n",
       "    .dataframe tbody tr th:only-of-type {\n",
       "        vertical-align: middle;\n",
       "    }\n",
       "\n",
       "    .dataframe tbody tr th {\n",
       "        vertical-align: top;\n",
       "    }\n",
       "\n",
       "    .dataframe thead th {\n",
       "        text-align: right;\n",
       "    }\n",
       "</style>\n",
       "<table border=\"1\" class=\"dataframe\">\n",
       "  <thead>\n",
       "    <tr style=\"text-align: right;\">\n",
       "      <th></th>\n",
       "      <th>cluster</th>\n",
       "      <th>team_id</th>\n",
       "      <th>0</th>\n",
       "    </tr>\n",
       "  </thead>\n",
       "  <tbody>\n",
       "    <tr>\n",
       "      <th>0</th>\n",
       "      <td>0</td>\n",
       "      <td>10531</td>\n",
       "      <td>1619</td>\n",
       "    </tr>\n",
       "    <tr>\n",
       "      <th>1</th>\n",
       "      <td>0</td>\n",
       "      <td>1609</td>\n",
       "      <td>3264</td>\n",
       "    </tr>\n",
       "    <tr>\n",
       "      <th>2</th>\n",
       "      <td>0</td>\n",
       "      <td>1610</td>\n",
       "      <td>2918</td>\n",
       "    </tr>\n",
       "    <tr>\n",
       "      <th>3</th>\n",
       "      <td>0</td>\n",
       "      <td>1611</td>\n",
       "      <td>2501</td>\n",
       "    </tr>\n",
       "    <tr>\n",
       "      <th>4</th>\n",
       "      <td>0</td>\n",
       "      <td>1612</td>\n",
       "      <td>3274</td>\n",
       "    </tr>\n",
       "    <tr>\n",
       "      <th>...</th>\n",
       "      <td>...</td>\n",
       "      <td>...</td>\n",
       "      <td>...</td>\n",
       "    </tr>\n",
       "    <tr>\n",
       "      <th>395</th>\n",
       "      <td>19</td>\n",
       "      <td>1644</td>\n",
       "      <td>121</td>\n",
       "    </tr>\n",
       "    <tr>\n",
       "      <th>396</th>\n",
       "      <td>19</td>\n",
       "      <td>1646</td>\n",
       "      <td>157</td>\n",
       "    </tr>\n",
       "    <tr>\n",
       "      <th>397</th>\n",
       "      <td>19</td>\n",
       "      <td>1651</td>\n",
       "      <td>150</td>\n",
       "    </tr>\n",
       "    <tr>\n",
       "      <th>398</th>\n",
       "      <td>19</td>\n",
       "      <td>1659</td>\n",
       "      <td>159</td>\n",
       "    </tr>\n",
       "    <tr>\n",
       "      <th>399</th>\n",
       "      <td>19</td>\n",
       "      <td>1673</td>\n",
       "      <td>132</td>\n",
       "    </tr>\n",
       "  </tbody>\n",
       "</table>\n",
       "<p>400 rows × 3 columns</p>\n",
       "</div>"
      ],
      "text/plain": [
       "     cluster team_id     0\n",
       "0          0   10531  1619\n",
       "1          0    1609  3264\n",
       "2          0    1610  2918\n",
       "3          0    1611  2501\n",
       "4          0    1612  3274\n",
       "..       ...     ...   ...\n",
       "395       19    1644   121\n",
       "396       19    1646   157\n",
       "397       19    1651   150\n",
       "398       19    1659   159\n",
       "399       19    1673   132\n",
       "\n",
       "[400 rows x 3 columns]"
      ]
     },
     "execution_count": 46,
     "metadata": {},
     "output_type": "execute_result"
    }
   ],
   "source": [
    "passes.groupby(['cluster', 'team_id']).size().reset_index()"
   ]
  },
  {
   "cell_type": "code",
   "execution_count": 47,
   "id": "959c6474",
   "metadata": {
    "execution": {
     "iopub.execute_input": "2022-09-19T13:40:32.561801Z",
     "iopub.status.busy": "2022-09-19T13:40:32.560832Z",
     "iopub.status.idle": "2022-09-19T13:40:32.569345Z",
     "shell.execute_reply": "2022-09-19T13:40:32.568262Z"
    },
    "papermill": {
     "duration": 0.038635,
     "end_time": "2022-09-19T13:40:32.572181",
     "exception": false,
     "start_time": "2022-09-19T13:40:32.533546",
     "status": "completed"
    },
    "tags": []
   },
   "outputs": [
    {
     "data": {
      "text/plain": [
       "(358718, 27)"
      ]
     },
     "execution_count": 47,
     "metadata": {},
     "output_type": "execute_result"
    }
   ],
   "source": [
    "passes.shape"
   ]
  },
  {
   "cell_type": "code",
   "execution_count": 48,
   "id": "db48b121",
   "metadata": {
    "execution": {
     "iopub.execute_input": "2022-09-19T13:40:32.634354Z",
     "iopub.status.busy": "2022-09-19T13:40:32.633515Z",
     "iopub.status.idle": "2022-09-19T13:40:32.665859Z",
     "shell.execute_reply": "2022-09-19T13:40:32.664707Z"
    },
    "papermill": {
     "duration": 0.067412,
     "end_time": "2022-09-19T13:40:32.668890",
     "exception": false,
     "start_time": "2022-09-19T13:40:32.601478",
     "status": "completed"
    },
    "tags": []
   },
   "outputs": [],
   "source": [
    "with open('../input/football-event-data/teams.json') as f:\n",
    "    teams_json = json.load(f)\n",
    "    teams_df = pd.json_normalize(teams_json)"
   ]
  },
  {
   "cell_type": "code",
   "execution_count": 49,
   "id": "62585f44",
   "metadata": {
    "execution": {
     "iopub.execute_input": "2022-09-19T13:40:32.726058Z",
     "iopub.status.busy": "2022-09-19T13:40:32.725558Z",
     "iopub.status.idle": "2022-09-19T13:40:32.746909Z",
     "shell.execute_reply": "2022-09-19T13:40:32.745701Z"
    },
    "papermill": {
     "duration": 0.053706,
     "end_time": "2022-09-19T13:40:32.749365",
     "exception": false,
     "start_time": "2022-09-19T13:40:32.695659",
     "status": "completed"
    },
    "tags": []
   },
   "outputs": [
    {
     "data": {
      "text/html": [
       "<div>\n",
       "<style scoped>\n",
       "    .dataframe tbody tr th:only-of-type {\n",
       "        vertical-align: middle;\n",
       "    }\n",
       "\n",
       "    .dataframe tbody tr th {\n",
       "        vertical-align: top;\n",
       "    }\n",
       "\n",
       "    .dataframe thead th {\n",
       "        text-align: right;\n",
       "    }\n",
       "</style>\n",
       "<table border=\"1\" class=\"dataframe\">\n",
       "  <thead>\n",
       "    <tr style=\"text-align: right;\">\n",
       "      <th></th>\n",
       "      <th>city</th>\n",
       "      <th>name</th>\n",
       "      <th>wyId</th>\n",
       "      <th>officialName</th>\n",
       "      <th>type</th>\n",
       "      <th>area.name</th>\n",
       "      <th>area.id</th>\n",
       "      <th>area.alpha3code</th>\n",
       "      <th>area.alpha2code</th>\n",
       "    </tr>\n",
       "  </thead>\n",
       "  <tbody>\n",
       "    <tr>\n",
       "      <th>0</th>\n",
       "      <td>Newcastle upon Tyne</td>\n",
       "      <td>Newcastle United</td>\n",
       "      <td>1613</td>\n",
       "      <td>Newcastle United FC</td>\n",
       "      <td>club</td>\n",
       "      <td>England</td>\n",
       "      <td>0</td>\n",
       "      <td>XEN</td>\n",
       "      <td></td>\n",
       "    </tr>\n",
       "    <tr>\n",
       "      <th>1</th>\n",
       "      <td>Vigo</td>\n",
       "      <td>Celta de Vigo</td>\n",
       "      <td>692</td>\n",
       "      <td>Real Club Celta de Vigo</td>\n",
       "      <td>club</td>\n",
       "      <td>Spain</td>\n",
       "      <td>724</td>\n",
       "      <td>ESP</td>\n",
       "      <td>ES</td>\n",
       "    </tr>\n",
       "    <tr>\n",
       "      <th>2</th>\n",
       "      <td>Barcelona</td>\n",
       "      <td>Espanyol</td>\n",
       "      <td>691</td>\n",
       "      <td>Reial Club Deportiu Espanyol</td>\n",
       "      <td>club</td>\n",
       "      <td>Spain</td>\n",
       "      <td>724</td>\n",
       "      <td>ESP</td>\n",
       "      <td>ES</td>\n",
       "    </tr>\n",
       "    <tr>\n",
       "      <th>3</th>\n",
       "      <td>Vitoria-Gasteiz</td>\n",
       "      <td>Deportivo Alav\\u00e9s</td>\n",
       "      <td>696</td>\n",
       "      <td>Deportivo Alav\\u00e9s</td>\n",
       "      <td>club</td>\n",
       "      <td>Spain</td>\n",
       "      <td>724</td>\n",
       "      <td>ESP</td>\n",
       "      <td>ES</td>\n",
       "    </tr>\n",
       "    <tr>\n",
       "      <th>4</th>\n",
       "      <td>Valencia</td>\n",
       "      <td>Levante</td>\n",
       "      <td>695</td>\n",
       "      <td>Levante UD</td>\n",
       "      <td>club</td>\n",
       "      <td>Spain</td>\n",
       "      <td>724</td>\n",
       "      <td>ESP</td>\n",
       "      <td>ES</td>\n",
       "    </tr>\n",
       "    <tr>\n",
       "      <th>...</th>\n",
       "      <td>...</td>\n",
       "      <td>...</td>\n",
       "      <td>...</td>\n",
       "      <td>...</td>\n",
       "      <td>...</td>\n",
       "      <td>...</td>\n",
       "      <td>...</td>\n",
       "      <td>...</td>\n",
       "      <td>...</td>\n",
       "    </tr>\n",
       "    <tr>\n",
       "      <th>137</th>\n",
       "      <td>Las Rozas</td>\n",
       "      <td>Spain</td>\n",
       "      <td>1598</td>\n",
       "      <td>Spain</td>\n",
       "      <td>national</td>\n",
       "      <td>Spain</td>\n",
       "      <td>724</td>\n",
       "      <td>ESP</td>\n",
       "      <td>ES</td>\n",
       "    </tr>\n",
       "    <tr>\n",
       "      <th>138</th>\n",
       "      <td>Beograd</td>\n",
       "      <td>Serbia</td>\n",
       "      <td>17322</td>\n",
       "      <td>Serbia</td>\n",
       "      <td>national</td>\n",
       "      <td>Serbia</td>\n",
       "      <td>688</td>\n",
       "      <td>SRB</td>\n",
       "      <td>RS</td>\n",
       "    </tr>\n",
       "    <tr>\n",
       "      <th>139</th>\n",
       "      <td>Bern</td>\n",
       "      <td>Switzerland</td>\n",
       "      <td>6697</td>\n",
       "      <td>Switzerland</td>\n",
       "      <td>national</td>\n",
       "      <td>Switzerland</td>\n",
       "      <td>756</td>\n",
       "      <td>CHE</td>\n",
       "      <td>CH</td>\n",
       "    </tr>\n",
       "    <tr>\n",
       "      <th>140</th>\n",
       "      <td>Warszawa</td>\n",
       "      <td>Poland</td>\n",
       "      <td>13869</td>\n",
       "      <td>Poland</td>\n",
       "      <td>national</td>\n",
       "      <td>Poland</td>\n",
       "      <td>616</td>\n",
       "      <td>POL</td>\n",
       "      <td>PL</td>\n",
       "    </tr>\n",
       "    <tr>\n",
       "      <th>141</th>\n",
       "      <td>Abuja</td>\n",
       "      <td>Nigeria</td>\n",
       "      <td>16823</td>\n",
       "      <td>Nigeria</td>\n",
       "      <td>national</td>\n",
       "      <td>Nigeria</td>\n",
       "      <td>566</td>\n",
       "      <td>NGA</td>\n",
       "      <td>NG</td>\n",
       "    </tr>\n",
       "  </tbody>\n",
       "</table>\n",
       "<p>142 rows × 9 columns</p>\n",
       "</div>"
      ],
      "text/plain": [
       "                    city                   name   wyId  \\\n",
       "0    Newcastle upon Tyne       Newcastle United   1613   \n",
       "1                   Vigo          Celta de Vigo    692   \n",
       "2              Barcelona               Espanyol    691   \n",
       "3        Vitoria-Gasteiz  Deportivo Alav\\u00e9s    696   \n",
       "4               Valencia                Levante    695   \n",
       "..                   ...                    ...    ...   \n",
       "137            Las Rozas                  Spain   1598   \n",
       "138              Beograd                 Serbia  17322   \n",
       "139                 Bern            Switzerland   6697   \n",
       "140             Warszawa                 Poland  13869   \n",
       "141                Abuja                Nigeria  16823   \n",
       "\n",
       "                     officialName      type    area.name area.id  \\\n",
       "0             Newcastle United FC      club      England       0   \n",
       "1         Real Club Celta de Vigo      club        Spain     724   \n",
       "2    Reial Club Deportiu Espanyol      club        Spain     724   \n",
       "3           Deportivo Alav\\u00e9s      club        Spain     724   \n",
       "4                      Levante UD      club        Spain     724   \n",
       "..                            ...       ...          ...     ...   \n",
       "137                         Spain  national        Spain     724   \n",
       "138                        Serbia  national       Serbia     688   \n",
       "139                   Switzerland  national  Switzerland     756   \n",
       "140                        Poland  national       Poland     616   \n",
       "141                       Nigeria  national      Nigeria     566   \n",
       "\n",
       "    area.alpha3code area.alpha2code  \n",
       "0               XEN                  \n",
       "1               ESP              ES  \n",
       "2               ESP              ES  \n",
       "3               ESP              ES  \n",
       "4               ESP              ES  \n",
       "..              ...             ...  \n",
       "137             ESP              ES  \n",
       "138             SRB              RS  \n",
       "139             CHE              CH  \n",
       "140             POL              PL  \n",
       "141             NGA              NG  \n",
       "\n",
       "[142 rows x 9 columns]"
      ]
     },
     "execution_count": 49,
     "metadata": {},
     "output_type": "execute_result"
    }
   ],
   "source": [
    "teams_df"
   ]
  },
  {
   "cell_type": "code",
   "execution_count": 50,
   "id": "7ea245dd",
   "metadata": {
    "execution": {
     "iopub.execute_input": "2022-09-19T13:40:32.801318Z",
     "iopub.status.busy": "2022-09-19T13:40:32.800501Z",
     "iopub.status.idle": "2022-09-19T13:40:32.869866Z",
     "shell.execute_reply": "2022-09-19T13:40:32.868673Z"
    },
    "papermill": {
     "duration": 0.099264,
     "end_time": "2022-09-19T13:40:32.873254",
     "exception": false,
     "start_time": "2022-09-19T13:40:32.773990",
     "status": "completed"
    },
    "tags": []
   },
   "outputs": [],
   "source": [
    "teams_map = dict(zip(teams_df.wyId, teams_df.officialName))\n",
    "passes['team'] = passes['team_id'].astype(int).map(teams_map)"
   ]
  },
  {
   "cell_type": "code",
   "execution_count": 51,
   "id": "b98996ad",
   "metadata": {
    "execution": {
     "iopub.execute_input": "2022-09-19T13:40:32.945187Z",
     "iopub.status.busy": "2022-09-19T13:40:32.944376Z",
     "iopub.status.idle": "2022-09-19T13:40:32.951416Z",
     "shell.execute_reply": "2022-09-19T13:40:32.950192Z"
    },
    "papermill": {
     "duration": 0.049092,
     "end_time": "2022-09-19T13:40:32.954363",
     "exception": false,
     "start_time": "2022-09-19T13:40:32.905271",
     "status": "completed"
    },
    "tags": []
   },
   "outputs": [
    {
     "data": {
      "text/plain": [
       "'Swansea City AFC'"
      ]
     },
     "execution_count": 51,
     "metadata": {},
     "output_type": "execute_result"
    }
   ],
   "source": [
    "teams_map[10531]"
   ]
  },
  {
   "cell_type": "code",
   "execution_count": 52,
   "id": "c3595248",
   "metadata": {
    "execution": {
     "iopub.execute_input": "2022-09-19T13:40:33.017831Z",
     "iopub.status.busy": "2022-09-19T13:40:33.016865Z",
     "iopub.status.idle": "2022-09-19T13:40:33.027803Z",
     "shell.execute_reply": "2022-09-19T13:40:33.026442Z"
    },
    "papermill": {
     "duration": 0.039751,
     "end_time": "2022-09-19T13:40:33.030647",
     "exception": false,
     "start_time": "2022-09-19T13:40:32.990896",
     "status": "completed"
    },
    "tags": []
   },
   "outputs": [
    {
     "data": {
      "text/plain": [
       "0         AFC Bournemouth\n",
       "1         AFC Bournemouth\n",
       "2         AFC Bournemouth\n",
       "3         AFC Bournemouth\n",
       "4         AFC Bournemouth\n",
       "              ...        \n",
       "1738    Leicester City FC\n",
       "1740    Leicester City FC\n",
       "1741    Leicester City FC\n",
       "1742           Arsenal FC\n",
       "1745    Leicester City FC\n",
       "Name: team, Length: 358718, dtype: object"
      ]
     },
     "execution_count": 52,
     "metadata": {},
     "output_type": "execute_result"
    }
   ],
   "source": [
    "passes['team']"
   ]
  },
  {
   "cell_type": "code",
   "execution_count": 53,
   "id": "46b843c7",
   "metadata": {
    "execution": {
     "iopub.execute_input": "2022-09-19T13:40:33.082619Z",
     "iopub.status.busy": "2022-09-19T13:40:33.081795Z",
     "iopub.status.idle": "2022-09-19T13:40:33.278564Z",
     "shell.execute_reply": "2022-09-19T13:40:33.277392Z"
    },
    "papermill": {
     "duration": 0.225558,
     "end_time": "2022-09-19T13:40:33.280993",
     "exception": false,
     "start_time": "2022-09-19T13:40:33.055435",
     "status": "completed"
    },
    "tags": []
   },
   "outputs": [
    {
     "data": {
      "text/html": [
       "<div>\n",
       "<style scoped>\n",
       "    .dataframe tbody tr th:only-of-type {\n",
       "        vertical-align: middle;\n",
       "    }\n",
       "\n",
       "    .dataframe tbody tr th {\n",
       "        vertical-align: top;\n",
       "    }\n",
       "\n",
       "    .dataframe thead th {\n",
       "        text-align: right;\n",
       "    }\n",
       "</style>\n",
       "<table border=\"1\" class=\"dataframe\">\n",
       "  <thead>\n",
       "    <tr style=\"text-align: right;\">\n",
       "      <th></th>\n",
       "      <th>end_coordinates_x</th>\n",
       "      <th>end_coordinates_y</th>\n",
       "    </tr>\n",
       "  </thead>\n",
       "  <tbody>\n",
       "    <tr>\n",
       "      <th>count</th>\n",
       "      <td>2741.000000</td>\n",
       "      <td>2741.000000</td>\n",
       "    </tr>\n",
       "    <tr>\n",
       "      <th>mean</th>\n",
       "      <td>0.532039</td>\n",
       "      <td>0.476454</td>\n",
       "    </tr>\n",
       "    <tr>\n",
       "      <th>std</th>\n",
       "      <td>0.198678</td>\n",
       "      <td>0.289966</td>\n",
       "    </tr>\n",
       "    <tr>\n",
       "      <th>min</th>\n",
       "      <td>0.000000</td>\n",
       "      <td>0.000000</td>\n",
       "    </tr>\n",
       "    <tr>\n",
       "      <th>25%</th>\n",
       "      <td>0.430000</td>\n",
       "      <td>0.220000</td>\n",
       "    </tr>\n",
       "    <tr>\n",
       "      <th>50%</th>\n",
       "      <td>0.610000</td>\n",
       "      <td>0.450000</td>\n",
       "    </tr>\n",
       "    <tr>\n",
       "      <th>75%</th>\n",
       "      <td>0.670000</td>\n",
       "      <td>0.740000</td>\n",
       "    </tr>\n",
       "    <tr>\n",
       "      <th>max</th>\n",
       "      <td>1.000000</td>\n",
       "      <td>1.000000</td>\n",
       "    </tr>\n",
       "  </tbody>\n",
       "</table>\n",
       "</div>"
      ],
      "text/plain": [
       "       end_coordinates_x  end_coordinates_y\n",
       "count        2741.000000        2741.000000\n",
       "mean            0.532039           0.476454\n",
       "std             0.198678           0.289966\n",
       "min             0.000000           0.000000\n",
       "25%             0.430000           0.220000\n",
       "50%             0.610000           0.450000\n",
       "75%             0.670000           0.740000\n",
       "max             1.000000           1.000000"
      ]
     },
     "execution_count": 53,
     "metadata": {},
     "output_type": "execute_result"
    }
   ],
   "source": [
    "passes[(passes.coordinates_x < 0.01) & (passes.coordinates_y < 0.01)][['end_coordinates_x', 'end_coordinates_y']].describe()"
   ]
  },
  {
   "cell_type": "code",
   "execution_count": 54,
   "id": "515f1dc3",
   "metadata": {
    "execution": {
     "iopub.execute_input": "2022-09-19T13:40:33.332941Z",
     "iopub.status.busy": "2022-09-19T13:40:33.331544Z",
     "iopub.status.idle": "2022-09-19T13:40:33.389300Z",
     "shell.execute_reply": "2022-09-19T13:40:33.388316Z"
    },
    "papermill": {
     "duration": 0.086443,
     "end_time": "2022-09-19T13:40:33.391997",
     "exception": false,
     "start_time": "2022-09-19T13:40:33.305554",
     "status": "completed"
    },
    "tags": []
   },
   "outputs": [],
   "source": [
    "team_clusters = passes.groupby(['cluster', 'team']).size().reset_index().sort_values(by=['cluster', 0], ascending=[True, False])\n",
    "team_clusters.columns = ['cluster', 'team', 'passes']"
   ]
  },
  {
   "cell_type": "code",
   "execution_count": 55,
   "id": "8aafe396",
   "metadata": {
    "execution": {
     "iopub.execute_input": "2022-09-19T13:40:33.443374Z",
     "iopub.status.busy": "2022-09-19T13:40:33.442013Z",
     "iopub.status.idle": "2022-09-19T13:40:33.454634Z",
     "shell.execute_reply": "2022-09-19T13:40:33.453370Z"
    },
    "papermill": {
     "duration": 0.040758,
     "end_time": "2022-09-19T13:40:33.457201",
     "exception": false,
     "start_time": "2022-09-19T13:40:33.416443",
     "status": "completed"
    },
    "tags": []
   },
   "outputs": [
    {
     "data": {
      "text/html": [
       "<div>\n",
       "<style scoped>\n",
       "    .dataframe tbody tr th:only-of-type {\n",
       "        vertical-align: middle;\n",
       "    }\n",
       "\n",
       "    .dataframe tbody tr th {\n",
       "        vertical-align: top;\n",
       "    }\n",
       "\n",
       "    .dataframe thead th {\n",
       "        text-align: right;\n",
       "    }\n",
       "</style>\n",
       "<table border=\"1\" class=\"dataframe\">\n",
       "  <thead>\n",
       "    <tr style=\"text-align: right;\">\n",
       "      <th></th>\n",
       "      <th>cluster</th>\n",
       "      <th>team</th>\n",
       "      <th>passes</th>\n",
       "    </tr>\n",
       "  </thead>\n",
       "  <tbody>\n",
       "    <tr>\n",
       "      <th>10</th>\n",
       "      <td>0</td>\n",
       "      <td>Manchester City FC</td>\n",
       "      <td>4006</td>\n",
       "    </tr>\n",
       "    <tr>\n",
       "      <th>9</th>\n",
       "      <td>0</td>\n",
       "      <td>Liverpool FC</td>\n",
       "      <td>3274</td>\n",
       "    </tr>\n",
       "    <tr>\n",
       "      <th>1</th>\n",
       "      <td>0</td>\n",
       "      <td>Arsenal FC</td>\n",
       "      <td>3264</td>\n",
       "    </tr>\n",
       "    <tr>\n",
       "      <th>16</th>\n",
       "      <td>0</td>\n",
       "      <td>Tottenham Hotspur FC</td>\n",
       "      <td>3236</td>\n",
       "    </tr>\n",
       "    <tr>\n",
       "      <th>4</th>\n",
       "      <td>0</td>\n",
       "      <td>Chelsea FC</td>\n",
       "      <td>2918</td>\n",
       "    </tr>\n",
       "  </tbody>\n",
       "</table>\n",
       "</div>"
      ],
      "text/plain": [
       "    cluster                  team  passes\n",
       "10        0    Manchester City FC    4006\n",
       "9         0          Liverpool FC    3274\n",
       "1         0            Arsenal FC    3264\n",
       "16        0  Tottenham Hotspur FC    3236\n",
       "4         0            Chelsea FC    2918"
      ]
     },
     "execution_count": 55,
     "metadata": {},
     "output_type": "execute_result"
    }
   ],
   "source": [
    "team_clusters.head()"
   ]
  },
  {
   "cell_type": "code",
   "execution_count": 56,
   "id": "6bea6c33",
   "metadata": {
    "execution": {
     "iopub.execute_input": "2022-09-19T13:40:33.510587Z",
     "iopub.status.busy": "2022-09-19T13:40:33.510152Z",
     "iopub.status.idle": "2022-09-19T13:40:34.031283Z",
     "shell.execute_reply": "2022-09-19T13:40:34.030141Z"
    },
    "papermill": {
     "duration": 0.550407,
     "end_time": "2022-09-19T13:40:34.034583",
     "exception": false,
     "start_time": "2022-09-19T13:40:33.484176",
     "status": "completed"
    },
    "tags": []
   },
   "outputs": [
    {
     "data": {
      "image/png": "[encoded data removed]",
      "text/plain": [
       "<Figure size 1080x720 with 1 Axes>"
      ]
     },
     "metadata": {},
     "output_type": "display_data"
    }
   ],
   "source": [
    "cluster = 1\n",
    "fig, ax = create_pitch(105, 68,'white')\n",
    "plt.scatter(passes[passes.cluster == cluster]['x'], (68 - passes[passes.cluster == cluster]['y']), c='red')\n",
    "plt.scatter(passes[passes.cluster == cluster]['end_x'], (68 - passes[passes.cluster == cluster]['end_y']), c='blue')\n",
    "for index, pass_ in clusters_.iterrows():\n",
    "    if (index != cluster):\n",
    "        continue\n",
    "    x, y = pass_['x'], pass_['y']\n",
    "    end_x, end_y = pass_['end_x'], pass_['end_y']\n",
    "    color = 'blue' \n",
    "    y = 68 - y\n",
    "    end_y = 68 - end_y\n",
    "    plt.plot([x, end_x], [y, end_y], linewidth = 5)\n",
    "    plt.scatter(x, y, s=30, c='red')\n",
    "    plt.text((x+1),y+1,index, color = \"white\", fontweight = 'bold', fontsize = 'xx-large')\n",
    "    plt.savefig('gmm_cluster.png')"
   ]
  },
  {
   "cell_type": "code",
   "execution_count": 57,
   "id": "67e6bd7b",
   "metadata": {
    "execution": {
     "iopub.execute_input": "2022-09-19T13:40:34.088186Z",
     "iopub.status.busy": "2022-09-19T13:40:34.087753Z",
     "iopub.status.idle": "2022-09-19T13:40:34.104727Z",
     "shell.execute_reply": "2022-09-19T13:40:34.103660Z"
    },
    "papermill": {
     "duration": 0.046581,
     "end_time": "2022-09-19T13:40:34.107238",
     "exception": false,
     "start_time": "2022-09-19T13:40:34.060657",
     "status": "completed"
    },
    "tags": []
   },
   "outputs": [
    {
     "data": {
      "text/plain": [
       "(4974, 28)"
      ]
     },
     "execution_count": 57,
     "metadata": {},
     "output_type": "execute_result"
    }
   ],
   "source": [
    "passes[passes.cluster == cluster].shape"
   ]
  },
  {
   "cell_type": "code",
   "execution_count": 58,
   "id": "76216d27",
   "metadata": {
    "execution": {
     "iopub.execute_input": "2022-09-19T13:40:34.161867Z",
     "iopub.status.busy": "2022-09-19T13:40:34.161374Z",
     "iopub.status.idle": "2022-09-19T13:40:34.210735Z",
     "shell.execute_reply": "2022-09-19T13:40:34.209303Z"
    },
    "papermill": {
     "duration": 0.07928,
     "end_time": "2022-09-19T13:40:34.213478",
     "exception": false,
     "start_time": "2022-09-19T13:40:34.134198",
     "status": "completed"
    },
    "tags": []
   },
   "outputs": [
    {
     "data": {
      "text/html": [
       "<div>\n",
       "<style scoped>\n",
       "    .dataframe tbody tr th:only-of-type {\n",
       "        vertical-align: middle;\n",
       "    }\n",
       "\n",
       "    .dataframe tbody tr th {\n",
       "        vertical-align: top;\n",
       "    }\n",
       "\n",
       "    .dataframe thead th {\n",
       "        text-align: right;\n",
       "    }\n",
       "</style>\n",
       "<table border=\"1\" class=\"dataframe\">\n",
       "  <thead>\n",
       "    <tr style=\"text-align: right;\">\n",
       "      <th></th>\n",
       "      <th>cluster</th>\n",
       "      <th>success</th>\n",
       "      <th>score</th>\n",
       "    </tr>\n",
       "  </thead>\n",
       "  <tbody>\n",
       "    <tr>\n",
       "      <th>0</th>\n",
       "      <td>0</td>\n",
       "      <td>False</td>\n",
       "      <td>4924</td>\n",
       "    </tr>\n",
       "    <tr>\n",
       "      <th>1</th>\n",
       "      <td>0</td>\n",
       "      <td>True</td>\n",
       "      <td>36144</td>\n",
       "    </tr>\n",
       "    <tr>\n",
       "      <th>2</th>\n",
       "      <td>1</td>\n",
       "      <td>False</td>\n",
       "      <td>615</td>\n",
       "    </tr>\n",
       "    <tr>\n",
       "      <th>3</th>\n",
       "      <td>1</td>\n",
       "      <td>True</td>\n",
       "      <td>1232</td>\n",
       "    </tr>\n",
       "    <tr>\n",
       "      <th>4</th>\n",
       "      <td>2</td>\n",
       "      <td>False</td>\n",
       "      <td>2656</td>\n",
       "    </tr>\n",
       "  </tbody>\n",
       "</table>\n",
       "</div>"
      ],
      "text/plain": [
       "   cluster  success  score\n",
       "0        0    False   4924\n",
       "1        0     True  36144\n",
       "2        1    False    615\n",
       "3        1     True   1232\n",
       "4        2    False   2656"
      ]
     },
     "execution_count": 58,
     "metadata": {},
     "output_type": "execute_result"
    }
   ],
   "source": [
    "success_cluster = passes.groupby(['cluster', 'success']).size().reset_index()\n",
    "success_cluster.columns = ['cluster', 'success', 'score']\n",
    "success_cluster.head()"
   ]
  },
  {
   "cell_type": "code",
   "execution_count": 59,
   "id": "0582b71d",
   "metadata": {
    "execution": {
     "iopub.execute_input": "2022-09-19T13:40:34.268633Z",
     "iopub.status.busy": "2022-09-19T13:40:34.268049Z",
     "iopub.status.idle": "2022-09-19T13:40:34.279803Z",
     "shell.execute_reply": "2022-09-19T13:40:34.278661Z"
    },
    "papermill": {
     "duration": 0.041609,
     "end_time": "2022-09-19T13:40:34.281937",
     "exception": false,
     "start_time": "2022-09-19T13:40:34.240328",
     "status": "completed"
    },
    "tags": []
   },
   "outputs": [
    {
     "data": {
      "text/html": [
       "<div>\n",
       "<style scoped>\n",
       "    .dataframe tbody tr th:only-of-type {\n",
       "        vertical-align: middle;\n",
       "    }\n",
       "\n",
       "    .dataframe tbody tr th {\n",
       "        vertical-align: top;\n",
       "    }\n",
       "\n",
       "    .dataframe thead th {\n",
       "        text-align: right;\n",
       "    }\n",
       "</style>\n",
       "<table border=\"1\" class=\"dataframe\">\n",
       "  <thead>\n",
       "    <tr style=\"text-align: right;\">\n",
       "      <th></th>\n",
       "      <th>cluster</th>\n",
       "      <th>success</th>\n",
       "      <th>score</th>\n",
       "    </tr>\n",
       "  </thead>\n",
       "  <tbody>\n",
       "    <tr>\n",
       "      <th>35</th>\n",
       "      <td>17</td>\n",
       "      <td>True</td>\n",
       "      <td>24836</td>\n",
       "    </tr>\n",
       "    <tr>\n",
       "      <th>36</th>\n",
       "      <td>18</td>\n",
       "      <td>False</td>\n",
       "      <td>2045</td>\n",
       "    </tr>\n",
       "    <tr>\n",
       "      <th>37</th>\n",
       "      <td>18</td>\n",
       "      <td>True</td>\n",
       "      <td>69</td>\n",
       "    </tr>\n",
       "    <tr>\n",
       "      <th>38</th>\n",
       "      <td>19</td>\n",
       "      <td>False</td>\n",
       "      <td>83</td>\n",
       "    </tr>\n",
       "    <tr>\n",
       "      <th>39</th>\n",
       "      <td>19</td>\n",
       "      <td>True</td>\n",
       "      <td>7</td>\n",
       "    </tr>\n",
       "  </tbody>\n",
       "</table>\n",
       "</div>"
      ],
      "text/plain": [
       "    cluster  success  score\n",
       "35       17     True  24836\n",
       "36       18    False   2045\n",
       "37       18     True     69\n",
       "38       19    False     83\n",
       "39       19     True      7"
      ]
     },
     "execution_count": 59,
     "metadata": {},
     "output_type": "execute_result"
    }
   ],
   "source": [
    "success_cluster.tail()"
   ]
  },
  {
   "cell_type": "code",
   "execution_count": 60,
   "id": "0ee950ed",
   "metadata": {
    "execution": {
     "iopub.execute_input": "2022-09-19T13:40:34.336908Z",
     "iopub.status.busy": "2022-09-19T13:40:34.336267Z",
     "iopub.status.idle": "2022-09-19T13:40:34.349165Z",
     "shell.execute_reply": "2022-09-19T13:40:34.348223Z"
    },
    "papermill": {
     "duration": 0.043232,
     "end_time": "2022-09-19T13:40:34.351628",
     "exception": false,
     "start_time": "2022-09-19T13:40:34.308396",
     "status": "completed"
    },
    "tags": []
   },
   "outputs": [],
   "source": [
    "success_cluster = success_cluster.pivot(index='cluster', columns='success', values = 'score')\n",
    "success_cluster.columns = ['fail', 'success']\n",
    "success_cluster['total'] = success_cluster['success'] + success_cluster['fail']  \n",
    "success_cluster['ratio'] = success_cluster['success'] / success_cluster['total']  "
   ]
  },
  {
   "cell_type": "code",
   "execution_count": 61,
   "id": "e526cf3c",
   "metadata": {
    "execution": {
     "iopub.execute_input": "2022-09-19T13:40:34.493708Z",
     "iopub.status.busy": "2022-09-19T13:40:34.492340Z",
     "iopub.status.idle": "2022-09-19T13:40:34.506749Z",
     "shell.execute_reply": "2022-09-19T13:40:34.505520Z"
    },
    "papermill": {
     "duration": 0.130628,
     "end_time": "2022-09-19T13:40:34.509189",
     "exception": false,
     "start_time": "2022-09-19T13:40:34.378561",
     "status": "completed"
    },
    "tags": []
   },
   "outputs": [
    {
     "data": {
      "text/html": [
       "<div>\n",
       "<style scoped>\n",
       "    .dataframe tbody tr th:only-of-type {\n",
       "        vertical-align: middle;\n",
       "    }\n",
       "\n",
       "    .dataframe tbody tr th {\n",
       "        vertical-align: top;\n",
       "    }\n",
       "\n",
       "    .dataframe thead th {\n",
       "        text-align: right;\n",
       "    }\n",
       "</style>\n",
       "<table border=\"1\" class=\"dataframe\">\n",
       "  <thead>\n",
       "    <tr style=\"text-align: right;\">\n",
       "      <th></th>\n",
       "      <th>fail</th>\n",
       "      <th>success</th>\n",
       "      <th>total</th>\n",
       "      <th>ratio</th>\n",
       "    </tr>\n",
       "    <tr>\n",
       "      <th>cluster</th>\n",
       "      <th></th>\n",
       "      <th></th>\n",
       "      <th></th>\n",
       "      <th></th>\n",
       "    </tr>\n",
       "  </thead>\n",
       "  <tbody>\n",
       "    <tr>\n",
       "      <th>0</th>\n",
       "      <td>4924</td>\n",
       "      <td>36144</td>\n",
       "      <td>41068</td>\n",
       "      <td>0.880101</td>\n",
       "    </tr>\n",
       "    <tr>\n",
       "      <th>1</th>\n",
       "      <td>615</td>\n",
       "      <td>1232</td>\n",
       "      <td>1847</td>\n",
       "      <td>0.667028</td>\n",
       "    </tr>\n",
       "    <tr>\n",
       "      <th>2</th>\n",
       "      <td>2656</td>\n",
       "      <td>22592</td>\n",
       "      <td>25248</td>\n",
       "      <td>0.894804</td>\n",
       "    </tr>\n",
       "    <tr>\n",
       "      <th>3</th>\n",
       "      <td>3403</td>\n",
       "      <td>17768</td>\n",
       "      <td>21171</td>\n",
       "      <td>0.839261</td>\n",
       "    </tr>\n",
       "    <tr>\n",
       "      <th>4</th>\n",
       "      <td>4282</td>\n",
       "      <td>14300</td>\n",
       "      <td>18582</td>\n",
       "      <td>0.769562</td>\n",
       "    </tr>\n",
       "    <tr>\n",
       "      <th>5</th>\n",
       "      <td>1040</td>\n",
       "      <td>19996</td>\n",
       "      <td>21036</td>\n",
       "      <td>0.950561</td>\n",
       "    </tr>\n",
       "    <tr>\n",
       "      <th>6</th>\n",
       "      <td>2750</td>\n",
       "      <td>17244</td>\n",
       "      <td>19994</td>\n",
       "      <td>0.862459</td>\n",
       "    </tr>\n",
       "    <tr>\n",
       "      <th>7</th>\n",
       "      <td>4682</td>\n",
       "      <td>6333</td>\n",
       "      <td>11015</td>\n",
       "      <td>0.574943</td>\n",
       "    </tr>\n",
       "    <tr>\n",
       "      <th>8</th>\n",
       "      <td>2403</td>\n",
       "      <td>11366</td>\n",
       "      <td>13769</td>\n",
       "      <td>0.825478</td>\n",
       "    </tr>\n",
       "    <tr>\n",
       "      <th>9</th>\n",
       "      <td>5036</td>\n",
       "      <td>5893</td>\n",
       "      <td>10929</td>\n",
       "      <td>0.539208</td>\n",
       "    </tr>\n",
       "    <tr>\n",
       "      <th>10</th>\n",
       "      <td>2627</td>\n",
       "      <td>19450</td>\n",
       "      <td>22077</td>\n",
       "      <td>0.881007</td>\n",
       "    </tr>\n",
       "    <tr>\n",
       "      <th>11</th>\n",
       "      <td>2255</td>\n",
       "      <td>21466</td>\n",
       "      <td>23721</td>\n",
       "      <td>0.904937</td>\n",
       "    </tr>\n",
       "    <tr>\n",
       "      <th>12</th>\n",
       "      <td>1586</td>\n",
       "      <td>1543</td>\n",
       "      <td>3129</td>\n",
       "      <td>0.493129</td>\n",
       "    </tr>\n",
       "    <tr>\n",
       "      <th>13</th>\n",
       "      <td>3925</td>\n",
       "      <td>10388</td>\n",
       "      <td>14313</td>\n",
       "      <td>0.725774</td>\n",
       "    </tr>\n",
       "    <tr>\n",
       "      <th>14</th>\n",
       "      <td>4952</td>\n",
       "      <td>26139</td>\n",
       "      <td>31091</td>\n",
       "      <td>0.840726</td>\n",
       "    </tr>\n",
       "    <tr>\n",
       "      <th>15</th>\n",
       "      <td>4221</td>\n",
       "      <td>26042</td>\n",
       "      <td>30263</td>\n",
       "      <td>0.860523</td>\n",
       "    </tr>\n",
       "    <tr>\n",
       "      <th>16</th>\n",
       "      <td>5499</td>\n",
       "      <td>8247</td>\n",
       "      <td>13746</td>\n",
       "      <td>0.599956</td>\n",
       "    </tr>\n",
       "    <tr>\n",
       "      <th>17</th>\n",
       "      <td>2891</td>\n",
       "      <td>24836</td>\n",
       "      <td>27727</td>\n",
       "      <td>0.895733</td>\n",
       "    </tr>\n",
       "    <tr>\n",
       "      <th>18</th>\n",
       "      <td>2045</td>\n",
       "      <td>69</td>\n",
       "      <td>2114</td>\n",
       "      <td>0.032640</td>\n",
       "    </tr>\n",
       "    <tr>\n",
       "      <th>19</th>\n",
       "      <td>83</td>\n",
       "      <td>7</td>\n",
       "      <td>90</td>\n",
       "      <td>0.077778</td>\n",
       "    </tr>\n",
       "  </tbody>\n",
       "</table>\n",
       "</div>"
      ],
      "text/plain": [
       "         fail  success  total     ratio\n",
       "cluster                                \n",
       "0        4924    36144  41068  0.880101\n",
       "1         615     1232   1847  0.667028\n",
       "2        2656    22592  25248  0.894804\n",
       "3        3403    17768  21171  0.839261\n",
       "4        4282    14300  18582  0.769562\n",
       "5        1040    19996  21036  0.950561\n",
       "6        2750    17244  19994  0.862459\n",
       "7        4682     6333  11015  0.574943\n",
       "8        2403    11366  13769  0.825478\n",
       "9        5036     5893  10929  0.539208\n",
       "10       2627    19450  22077  0.881007\n",
       "11       2255    21466  23721  0.904937\n",
       "12       1586     1543   3129  0.493129\n",
       "13       3925    10388  14313  0.725774\n",
       "14       4952    26139  31091  0.840726\n",
       "15       4221    26042  30263  0.860523\n",
       "16       5499     8247  13746  0.599956\n",
       "17       2891    24836  27727  0.895733\n",
       "18       2045       69   2114  0.032640\n",
       "19         83        7     90  0.077778"
      ]
     },
     "execution_count": 61,
     "metadata": {},
     "output_type": "execute_result"
    }
   ],
   "source": [
    "success_cluster"
   ]
  },
  {
   "cell_type": "code",
   "execution_count": 62,
   "id": "b26d5bcf",
   "metadata": {
    "execution": {
     "iopub.execute_input": "2022-09-19T13:40:34.565276Z",
     "iopub.status.busy": "2022-09-19T13:40:34.564455Z",
     "iopub.status.idle": "2022-09-19T13:40:34.571924Z",
     "shell.execute_reply": "2022-09-19T13:40:34.570891Z"
    },
    "papermill": {
     "duration": 0.038503,
     "end_time": "2022-09-19T13:40:34.574608",
     "exception": false,
     "start_time": "2022-09-19T13:40:34.536105",
     "status": "completed"
    },
    "tags": []
   },
   "outputs": [],
   "source": [
    "team_clusters.to_csv('team_clusters.csv', index = False)"
   ]
  },
  {
   "cell_type": "code",
   "execution_count": 63,
   "id": "3ad2f2ad",
   "metadata": {
    "execution": {
     "iopub.execute_input": "2022-09-19T13:40:34.631839Z",
     "iopub.status.busy": "2022-09-19T13:40:34.630815Z",
     "iopub.status.idle": "2022-09-19T13:40:34.638049Z",
     "shell.execute_reply": "2022-09-19T13:40:34.637138Z"
    },
    "papermill": {
     "duration": 0.038947,
     "end_time": "2022-09-19T13:40:34.640511",
     "exception": false,
     "start_time": "2022-09-19T13:40:34.601564",
     "status": "completed"
    },
    "tags": []
   },
   "outputs": [],
   "source": [
    "success_cluster.to_csv('success_clusters.csv', index = False)"
   ]
  },
  {
   "cell_type": "code",
   "execution_count": 64,
   "id": "632759ef",
   "metadata": {
    "execution": {
     "iopub.execute_input": "2022-09-19T13:40:34.697298Z",
     "iopub.status.busy": "2022-09-19T13:40:34.696612Z",
     "iopub.status.idle": "2022-09-19T13:40:34.707355Z",
     "shell.execute_reply": "2022-09-19T13:40:34.706434Z"
    },
    "papermill": {
     "duration": 0.041877,
     "end_time": "2022-09-19T13:40:34.709905",
     "exception": false,
     "start_time": "2022-09-19T13:40:34.668028",
     "status": "completed"
    },
    "tags": []
   },
   "outputs": [],
   "source": [
    "c18 = passes[passes.cluster == 18]"
   ]
  },
  {
   "cell_type": "code",
   "execution_count": 65,
   "id": "1403c2e3",
   "metadata": {
    "execution": {
     "iopub.execute_input": "2022-09-19T13:40:34.768051Z",
     "iopub.status.busy": "2022-09-19T13:40:34.767375Z",
     "iopub.status.idle": "2022-09-19T13:40:34.776421Z",
     "shell.execute_reply": "2022-09-19T13:40:34.775336Z"
    },
    "papermill": {
     "duration": 0.040634,
     "end_time": "2022-09-19T13:40:34.778743",
     "exception": false,
     "start_time": "2022-09-19T13:40:34.738109",
     "status": "completed"
    },
    "tags": []
   },
   "outputs": [
    {
     "data": {
      "text/plain": [
       "False    2045\n",
       "True       69\n",
       "Name: success, dtype: int64"
      ]
     },
     "execution_count": 65,
     "metadata": {},
     "output_type": "execute_result"
    }
   ],
   "source": [
    "c18.success.value_counts()"
   ]
  },
  {
   "cell_type": "code",
   "execution_count": 66,
   "id": "3e7ecc5e",
   "metadata": {
    "execution": {
     "iopub.execute_input": "2022-09-19T13:40:34.835045Z",
     "iopub.status.busy": "2022-09-19T13:40:34.834248Z",
     "iopub.status.idle": "2022-09-19T13:40:34.851129Z",
     "shell.execute_reply": "2022-09-19T13:40:34.849896Z"
    },
    "papermill": {
     "duration": 0.04801,
     "end_time": "2022-09-19T13:40:34.853464",
     "exception": false,
     "start_time": "2022-09-19T13:40:34.805454",
     "status": "completed"
    },
    "tags": []
   },
   "outputs": [
    {
     "data": {
      "text/plain": [
       "cluster\n",
       "0     41068\n",
       "1      4974\n",
       "2     25248\n",
       "3     21171\n",
       "4     18582\n",
       "5     21036\n",
       "6     19994\n",
       "7     11015\n",
       "8     13769\n",
       "9     10929\n",
       "10    22077\n",
       "11    23721\n",
       "12     3129\n",
       "13    14313\n",
       "14    31091\n",
       "15    30263\n",
       "16    13746\n",
       "17    27727\n",
       "18     2114\n",
       "19     2751\n",
       "dtype: int64"
      ]
     },
     "execution_count": 66,
     "metadata": {},
     "output_type": "execute_result"
    }
   ],
   "source": [
    "passes.groupby('cluster').size()"
   ]
  },
  {
   "cell_type": "code",
   "execution_count": 67,
   "id": "d375575b",
   "metadata": {
    "execution": {
     "iopub.execute_input": "2022-09-19T13:40:34.909433Z",
     "iopub.status.busy": "2022-09-19T13:40:34.908724Z",
     "iopub.status.idle": "2022-09-19T13:40:34.925651Z",
     "shell.execute_reply": "2022-09-19T13:40:34.924187Z"
    },
    "papermill": {
     "duration": 0.048194,
     "end_time": "2022-09-19T13:40:34.928450",
     "exception": false,
     "start_time": "2022-09-19T13:40:34.880256",
     "status": "completed"
    },
    "tags": []
   },
   "outputs": [
    {
     "data": {
      "text/plain": [
       "78      None\n",
       "99      None\n",
       "345     None\n",
       "501      OUT\n",
       "701     None\n",
       "        ... \n",
       "634     None\n",
       "701     None\n",
       "999     None\n",
       "1471    None\n",
       "1516    None\n",
       "Name: result, Length: 2751, dtype: object"
      ]
     },
     "execution_count": 67,
     "metadata": {},
     "output_type": "execute_result"
    }
   ],
   "source": [
    "passes[passes.cluster == 19]['result']"
   ]
  },
  {
   "cell_type": "code",
   "execution_count": 68,
   "id": "8d11de7e",
   "metadata": {
    "execution": {
     "iopub.execute_input": "2022-09-19T13:40:34.985948Z",
     "iopub.status.busy": "2022-09-19T13:40:34.985552Z",
     "iopub.status.idle": "2022-09-19T13:40:35.085129Z",
     "shell.execute_reply": "2022-09-19T13:40:35.083748Z"
    },
    "papermill": {
     "duration": 0.131199,
     "end_time": "2022-09-19T13:40:35.087677",
     "exception": false,
     "start_time": "2022-09-19T13:40:34.956478",
     "status": "completed"
    },
    "tags": []
   },
   "outputs": [
    {
     "data": {
      "text/html": [
       "<div>\n",
       "<style scoped>\n",
       "    .dataframe tbody tr th:only-of-type {\n",
       "        vertical-align: middle;\n",
       "    }\n",
       "\n",
       "    .dataframe tbody tr th {\n",
       "        vertical-align: top;\n",
       "    }\n",
       "\n",
       "    .dataframe thead th {\n",
       "        text-align: right;\n",
       "    }\n",
       "</style>\n",
       "<table border=\"1\" class=\"dataframe\">\n",
       "  <thead>\n",
       "    <tr style=\"text-align: right;\">\n",
       "      <th></th>\n",
       "      <th>event_id</th>\n",
       "      <th>event_type</th>\n",
       "      <th>result</th>\n",
       "      <th>success</th>\n",
       "      <th>period_id</th>\n",
       "      <th>timestamp</th>\n",
       "      <th>end_timestamp</th>\n",
       "      <th>ball_state</th>\n",
       "      <th>ball_owning_team</th>\n",
       "      <th>team_id</th>\n",
       "      <th>...</th>\n",
       "      <th>body_part_type</th>\n",
       "      <th>set_piece_type</th>\n",
       "      <th>goalkeeper_action_type</th>\n",
       "      <th>card_type</th>\n",
       "      <th>x</th>\n",
       "      <th>y</th>\n",
       "      <th>end_x</th>\n",
       "      <th>end_y</th>\n",
       "      <th>cluster</th>\n",
       "      <th>team</th>\n",
       "    </tr>\n",
       "  </thead>\n",
       "  <tbody>\n",
       "    <tr>\n",
       "      <th>78</th>\n",
       "      <td>251700222</td>\n",
       "      <td>PASS</td>\n",
       "      <td>None</td>\n",
       "      <td>None</td>\n",
       "      <td>1</td>\n",
       "      <td>298.721998</td>\n",
       "      <td>None</td>\n",
       "      <td>None</td>\n",
       "      <td>None</td>\n",
       "      <td>1646</td>\n",
       "      <td>...</td>\n",
       "      <td>NaN</td>\n",
       "      <td>GOAL_KICK</td>\n",
       "      <td>NaN</td>\n",
       "      <td>NaN</td>\n",
       "      <td>0.0</td>\n",
       "      <td>0.0</td>\n",
       "      <td>71.40</td>\n",
       "      <td>8.84</td>\n",
       "      <td>19</td>\n",
       "      <td>Burnley FC</td>\n",
       "    </tr>\n",
       "    <tr>\n",
       "      <th>99</th>\n",
       "      <td>251700236</td>\n",
       "      <td>PASS</td>\n",
       "      <td>None</td>\n",
       "      <td>None</td>\n",
       "      <td>1</td>\n",
       "      <td>394.641716</td>\n",
       "      <td>None</td>\n",
       "      <td>None</td>\n",
       "      <td>None</td>\n",
       "      <td>1646</td>\n",
       "      <td>...</td>\n",
       "      <td>NaN</td>\n",
       "      <td>GOAL_KICK</td>\n",
       "      <td>NaN</td>\n",
       "      <td>NaN</td>\n",
       "      <td>0.0</td>\n",
       "      <td>0.0</td>\n",
       "      <td>67.20</td>\n",
       "      <td>25.84</td>\n",
       "      <td>19</td>\n",
       "      <td>Burnley FC</td>\n",
       "    </tr>\n",
       "    <tr>\n",
       "      <th>134</th>\n",
       "      <td>251700368</td>\n",
       "      <td>PASS</td>\n",
       "      <td>None</td>\n",
       "      <td>None</td>\n",
       "      <td>1</td>\n",
       "      <td>506.220518</td>\n",
       "      <td>None</td>\n",
       "      <td>None</td>\n",
       "      <td>None</td>\n",
       "      <td>1659</td>\n",
       "      <td>...</td>\n",
       "      <td>NaN</td>\n",
       "      <td>GOAL_KICK</td>\n",
       "      <td>NaN</td>\n",
       "      <td>NaN</td>\n",
       "      <td>105.0</td>\n",
       "      <td>68.0</td>\n",
       "      <td>64.05</td>\n",
       "      <td>33.32</td>\n",
       "      <td>1</td>\n",
       "      <td>AFC Bournemouth</td>\n",
       "    </tr>\n",
       "    <tr>\n",
       "      <th>345</th>\n",
       "      <td>251700418</td>\n",
       "      <td>PASS</td>\n",
       "      <td>None</td>\n",
       "      <td>None</td>\n",
       "      <td>1</td>\n",
       "      <td>1191.372555</td>\n",
       "      <td>None</td>\n",
       "      <td>None</td>\n",
       "      <td>None</td>\n",
       "      <td>1646</td>\n",
       "      <td>...</td>\n",
       "      <td>NaN</td>\n",
       "      <td>GOAL_KICK</td>\n",
       "      <td>NaN</td>\n",
       "      <td>NaN</td>\n",
       "      <td>0.0</td>\n",
       "      <td>0.0</td>\n",
       "      <td>70.35</td>\n",
       "      <td>21.76</td>\n",
       "      <td>19</td>\n",
       "      <td>Burnley FC</td>\n",
       "    </tr>\n",
       "    <tr>\n",
       "      <th>515</th>\n",
       "      <td>251700808</td>\n",
       "      <td>PASS</td>\n",
       "      <td>None</td>\n",
       "      <td>None</td>\n",
       "      <td>1</td>\n",
       "      <td>1746.363804</td>\n",
       "      <td>None</td>\n",
       "      <td>None</td>\n",
       "      <td>None</td>\n",
       "      <td>1659</td>\n",
       "      <td>...</td>\n",
       "      <td>NaN</td>\n",
       "      <td>GOAL_KICK</td>\n",
       "      <td>NaN</td>\n",
       "      <td>NaN</td>\n",
       "      <td>105.0</td>\n",
       "      <td>68.0</td>\n",
       "      <td>64.05</td>\n",
       "      <td>15.64</td>\n",
       "      <td>1</td>\n",
       "      <td>AFC Bournemouth</td>\n",
       "    </tr>\n",
       "    <tr>\n",
       "      <th>...</th>\n",
       "      <td>...</td>\n",
       "      <td>...</td>\n",
       "      <td>...</td>\n",
       "      <td>...</td>\n",
       "      <td>...</td>\n",
       "      <td>...</td>\n",
       "      <td>...</td>\n",
       "      <td>...</td>\n",
       "      <td>...</td>\n",
       "      <td>...</td>\n",
       "      <td>...</td>\n",
       "      <td>...</td>\n",
       "      <td>...</td>\n",
       "      <td>...</td>\n",
       "      <td>...</td>\n",
       "      <td>...</td>\n",
       "      <td>...</td>\n",
       "      <td>...</td>\n",
       "      <td>...</td>\n",
       "      <td>...</td>\n",
       "      <td>...</td>\n",
       "    </tr>\n",
       "    <tr>\n",
       "      <th>1471</th>\n",
       "      <td>177960755</td>\n",
       "      <td>PASS</td>\n",
       "      <td>None</td>\n",
       "      <td>None</td>\n",
       "      <td>2</td>\n",
       "      <td>1941.332376</td>\n",
       "      <td>None</td>\n",
       "      <td>None</td>\n",
       "      <td>None</td>\n",
       "      <td>1609</td>\n",
       "      <td>...</td>\n",
       "      <td>NaN</td>\n",
       "      <td>GOAL_KICK</td>\n",
       "      <td>NaN</td>\n",
       "      <td>NaN</td>\n",
       "      <td>0.0</td>\n",
       "      <td>0.0</td>\n",
       "      <td>18.90</td>\n",
       "      <td>8.16</td>\n",
       "      <td>19</td>\n",
       "      <td>Arsenal FC</td>\n",
       "    </tr>\n",
       "    <tr>\n",
       "      <th>1497</th>\n",
       "      <td>177960775</td>\n",
       "      <td>PASS</td>\n",
       "      <td>None</td>\n",
       "      <td>None</td>\n",
       "      <td>2</td>\n",
       "      <td>2026.279667</td>\n",
       "      <td>None</td>\n",
       "      <td>None</td>\n",
       "      <td>None</td>\n",
       "      <td>1631</td>\n",
       "      <td>...</td>\n",
       "      <td>NaN</td>\n",
       "      <td>GOAL_KICK</td>\n",
       "      <td>NaN</td>\n",
       "      <td>NaN</td>\n",
       "      <td>105.0</td>\n",
       "      <td>68.0</td>\n",
       "      <td>74.55</td>\n",
       "      <td>27.88</td>\n",
       "      <td>1</td>\n",
       "      <td>Leicester City FC</td>\n",
       "    </tr>\n",
       "    <tr>\n",
       "      <th>1516</th>\n",
       "      <td>177960810</td>\n",
       "      <td>PASS</td>\n",
       "      <td>None</td>\n",
       "      <td>None</td>\n",
       "      <td>2</td>\n",
       "      <td>2081.634766</td>\n",
       "      <td>None</td>\n",
       "      <td>None</td>\n",
       "      <td>None</td>\n",
       "      <td>1609</td>\n",
       "      <td>...</td>\n",
       "      <td>NaN</td>\n",
       "      <td>GOAL_KICK</td>\n",
       "      <td>NaN</td>\n",
       "      <td>NaN</td>\n",
       "      <td>0.0</td>\n",
       "      <td>0.0</td>\n",
       "      <td>38.85</td>\n",
       "      <td>22.44</td>\n",
       "      <td>19</td>\n",
       "      <td>Arsenal FC</td>\n",
       "    </tr>\n",
       "    <tr>\n",
       "      <th>1543</th>\n",
       "      <td>177960828</td>\n",
       "      <td>PASS</td>\n",
       "      <td>None</td>\n",
       "      <td>None</td>\n",
       "      <td>2</td>\n",
       "      <td>2195.371198</td>\n",
       "      <td>None</td>\n",
       "      <td>None</td>\n",
       "      <td>None</td>\n",
       "      <td>1631</td>\n",
       "      <td>...</td>\n",
       "      <td>NaN</td>\n",
       "      <td>GOAL_KICK</td>\n",
       "      <td>NaN</td>\n",
       "      <td>NaN</td>\n",
       "      <td>105.0</td>\n",
       "      <td>68.0</td>\n",
       "      <td>74.55</td>\n",
       "      <td>42.84</td>\n",
       "      <td>1</td>\n",
       "      <td>Leicester City FC</td>\n",
       "    </tr>\n",
       "    <tr>\n",
       "      <th>1745</th>\n",
       "      <td>177961042</td>\n",
       "      <td>PASS</td>\n",
       "      <td>None</td>\n",
       "      <td>None</td>\n",
       "      <td>2</td>\n",
       "      <td>3006.647279</td>\n",
       "      <td>None</td>\n",
       "      <td>None</td>\n",
       "      <td>None</td>\n",
       "      <td>1631</td>\n",
       "      <td>...</td>\n",
       "      <td>NaN</td>\n",
       "      <td>GOAL_KICK</td>\n",
       "      <td>NaN</td>\n",
       "      <td>NaN</td>\n",
       "      <td>105.0</td>\n",
       "      <td>68.0</td>\n",
       "      <td>105.00</td>\n",
       "      <td>68.00</td>\n",
       "      <td>1</td>\n",
       "      <td>Leicester City FC</td>\n",
       "    </tr>\n",
       "  </tbody>\n",
       "</table>\n",
       "<p>5788 rows × 28 columns</p>\n",
       "</div>"
      ],
      "text/plain": [
       "       event_id event_type result success  period_id    timestamp  \\\n",
       "78    251700222       PASS   None    None          1   298.721998   \n",
       "99    251700236       PASS   None    None          1   394.641716   \n",
       "134   251700368       PASS   None    None          1   506.220518   \n",
       "345   251700418       PASS   None    None          1  1191.372555   \n",
       "515   251700808       PASS   None    None          1  1746.363804   \n",
       "...         ...        ...    ...     ...        ...          ...   \n",
       "1471  177960755       PASS   None    None          2  1941.332376   \n",
       "1497  177960775       PASS   None    None          2  2026.279667   \n",
       "1516  177960810       PASS   None    None          2  2081.634766   \n",
       "1543  177960828       PASS   None    None          2  2195.371198   \n",
       "1745  177961042       PASS   None    None          2  3006.647279   \n",
       "\n",
       "     end_timestamp ball_state ball_owning_team team_id  ... body_part_type  \\\n",
       "78            None       None             None    1646  ...            NaN   \n",
       "99            None       None             None    1646  ...            NaN   \n",
       "134           None       None             None    1659  ...            NaN   \n",
       "345           None       None             None    1646  ...            NaN   \n",
       "515           None       None             None    1659  ...            NaN   \n",
       "...            ...        ...              ...     ...  ...            ...   \n",
       "1471          None       None             None    1609  ...            NaN   \n",
       "1497          None       None             None    1631  ...            NaN   \n",
       "1516          None       None             None    1609  ...            NaN   \n",
       "1543          None       None             None    1631  ...            NaN   \n",
       "1745          None       None             None    1631  ...            NaN   \n",
       "\n",
       "      set_piece_type  goalkeeper_action_type  card_type      x     y   end_x  \\\n",
       "78         GOAL_KICK                     NaN        NaN    0.0   0.0   71.40   \n",
       "99         GOAL_KICK                     NaN        NaN    0.0   0.0   67.20   \n",
       "134        GOAL_KICK                     NaN        NaN  105.0  68.0   64.05   \n",
       "345        GOAL_KICK                     NaN        NaN    0.0   0.0   70.35   \n",
       "515        GOAL_KICK                     NaN        NaN  105.0  68.0   64.05   \n",
       "...              ...                     ...        ...    ...   ...     ...   \n",
       "1471       GOAL_KICK                     NaN        NaN    0.0   0.0   18.90   \n",
       "1497       GOAL_KICK                     NaN        NaN  105.0  68.0   74.55   \n",
       "1516       GOAL_KICK                     NaN        NaN    0.0   0.0   38.85   \n",
       "1543       GOAL_KICK                     NaN        NaN  105.0  68.0   74.55   \n",
       "1745       GOAL_KICK                     NaN        NaN  105.0  68.0  105.00   \n",
       "\n",
       "      end_y cluster               team  \n",
       "78     8.84      19         Burnley FC  \n",
       "99    25.84      19         Burnley FC  \n",
       "134   33.32       1    AFC Bournemouth  \n",
       "345   21.76      19         Burnley FC  \n",
       "515   15.64       1    AFC Bournemouth  \n",
       "...     ...     ...                ...  \n",
       "1471   8.16      19         Arsenal FC  \n",
       "1497  27.88       1  Leicester City FC  \n",
       "1516  22.44      19         Arsenal FC  \n",
       "1543  42.84       1  Leicester City FC  \n",
       "1745  68.00       1  Leicester City FC  \n",
       "\n",
       "[5788 rows x 28 columns]"
      ]
     },
     "execution_count": 68,
     "metadata": {},
     "output_type": "execute_result"
    }
   ],
   "source": [
    "none_passes = passes[(passes.success != True) & (passes.success != False)]\n",
    "none_passes"
   ]
  },
  {
   "cell_type": "code",
   "execution_count": 69,
   "id": "8184102c",
   "metadata": {
    "execution": {
     "iopub.execute_input": "2022-09-19T13:40:35.146482Z",
     "iopub.status.busy": "2022-09-19T13:40:35.145987Z",
     "iopub.status.idle": "2022-09-19T13:40:35.154205Z",
     "shell.execute_reply": "2022-09-19T13:40:35.153108Z"
    },
    "papermill": {
     "duration": 0.04053,
     "end_time": "2022-09-19T13:40:35.156745",
     "exception": false,
     "start_time": "2022-09-19T13:40:35.116215",
     "status": "completed"
    },
    "tags": []
   },
   "outputs": [
    {
     "data": {
      "text/plain": [
       "array([19,  1])"
      ]
     },
     "execution_count": 69,
     "metadata": {},
     "output_type": "execute_result"
    }
   ],
   "source": [
    "none_passes.cluster.unique()"
   ]
  },
  {
   "cell_type": "code",
   "execution_count": 70,
   "id": "5b6b4bab",
   "metadata": {
    "execution": {
     "iopub.execute_input": "2022-09-19T13:40:35.214473Z",
     "iopub.status.busy": "2022-09-19T13:40:35.214026Z",
     "iopub.status.idle": "2022-09-19T13:40:35.220641Z",
     "shell.execute_reply": "2022-09-19T13:40:35.219756Z"
    },
    "papermill": {
     "duration": 0.038122,
     "end_time": "2022-09-19T13:40:35.222713",
     "exception": false,
     "start_time": "2022-09-19T13:40:35.184591",
     "status": "completed"
    },
    "tags": []
   },
   "outputs": [
    {
     "data": {
      "text/plain": [
       "pandas.core.series.Series"
      ]
     },
     "execution_count": 70,
     "metadata": {},
     "output_type": "execute_result"
    }
   ],
   "source": [
    "type(passes.result)"
   ]
  },
  {
   "cell_type": "code",
   "execution_count": 71,
   "id": "81b53b6e",
   "metadata": {
    "execution": {
     "iopub.execute_input": "2022-09-19T13:40:35.284260Z",
     "iopub.status.busy": "2022-09-19T13:40:35.283805Z",
     "iopub.status.idle": "2022-09-19T13:40:35.307063Z",
     "shell.execute_reply": "2022-09-19T13:40:35.305777Z"
    },
    "papermill": {
     "duration": 0.056795,
     "end_time": "2022-09-19T13:40:35.309504",
     "exception": false,
     "start_time": "2022-09-19T13:40:35.252709",
     "status": "completed"
    },
    "tags": []
   },
   "outputs": [
    {
     "data": {
      "text/plain": [
       "array([nan, 'THROW_IN', 'FREE_KICK', 'GOAL_KICK', 'CORNER_KICK'],\n",
       "      dtype=object)"
      ]
     },
     "execution_count": 71,
     "metadata": {},
     "output_type": "execute_result"
    }
   ],
   "source": [
    "passes.set_piece_type.unique()"
   ]
  },
  {
   "cell_type": "code",
   "execution_count": 72,
   "id": "df12010c",
   "metadata": {
    "execution": {
     "iopub.execute_input": "2022-09-19T13:40:35.369224Z",
     "iopub.status.busy": "2022-09-19T13:40:35.368753Z",
     "iopub.status.idle": "2022-09-19T13:40:35.403296Z",
     "shell.execute_reply": "2022-09-19T13:40:35.402206Z"
    },
    "papermill": {
     "duration": 0.067942,
     "end_time": "2022-09-19T13:40:35.405894",
     "exception": false,
     "start_time": "2022-09-19T13:40:35.337952",
     "status": "completed"
    },
    "tags": []
   },
   "outputs": [],
   "source": [
    "passes.loc[:, 'set_piece_type'] = passes.set_piece_type.fillna('notsp')"
   ]
  },
  {
   "cell_type": "code",
   "execution_count": 73,
   "id": "e42591f4",
   "metadata": {
    "execution": {
     "iopub.execute_input": "2022-09-19T13:40:35.463274Z",
     "iopub.status.busy": "2022-09-19T13:40:35.462788Z",
     "iopub.status.idle": "2022-09-19T13:40:35.578255Z",
     "shell.execute_reply": "2022-09-19T13:40:35.576732Z"
    },
    "papermill": {
     "duration": 0.147449,
     "end_time": "2022-09-19T13:40:35.581156",
     "exception": false,
     "start_time": "2022-09-19T13:40:35.433707",
     "status": "completed"
    },
    "tags": []
   },
   "outputs": [],
   "source": [
    "free_passes = passes[passes.set_piece_type == 'notsp']"
   ]
  },
  {
   "cell_type": "code",
   "execution_count": 74,
   "id": "956cbc9e",
   "metadata": {
    "execution": {
     "iopub.execute_input": "2022-09-19T13:40:35.639609Z",
     "iopub.status.busy": "2022-09-19T13:40:35.639155Z",
     "iopub.status.idle": "2022-09-19T14:11:04.573889Z",
     "shell.execute_reply": "2022-09-19T14:11:04.572558Z"
    },
    "papermill": {
     "duration": 1828.967717,
     "end_time": "2022-09-19T14:11:04.577071",
     "exception": false,
     "start_time": "2022-09-19T13:40:35.609354",
     "status": "completed"
    },
    "tags": []
   },
   "outputs": [
    {
     "name": "stderr",
     "output_type": "stream",
     "text": [
      "/opt/conda/lib/python3.7/site-packages/sklearn/mixture/_base.py:282: ConvergenceWarning: Initialization 1 did not converge. Try different init parameters, or increase max_iter, tol or check for degenerate data.\n",
      "  ConvergenceWarning,\n"
     ]
    }
   ],
   "source": [
    "bgm = BayesianGaussianMixture(n_components=20,\n",
    "                              random_state=42,\n",
    "                              max_iter = 1000,\n",
    "                              init_params = 'kmeans').fit(free_passes[cluster_cols])"
   ]
  },
  {
   "cell_type": "code",
   "execution_count": 75,
   "id": "9dcf7614",
   "metadata": {
    "execution": {
     "iopub.execute_input": "2022-09-19T14:11:04.637604Z",
     "iopub.status.busy": "2022-09-19T14:11:04.637183Z",
     "iopub.status.idle": "2022-09-19T14:11:05.599123Z",
     "shell.execute_reply": "2022-09-19T14:11:05.597515Z"
    },
    "papermill": {
     "duration": 0.996052,
     "end_time": "2022-09-19T14:11:05.602305",
     "exception": false,
     "start_time": "2022-09-19T14:11:04.606253",
     "status": "completed"
    },
    "tags": []
   },
   "outputs": [
    {
     "name": "stderr",
     "output_type": "stream",
     "text": [
      "/opt/conda/lib/python3.7/site-packages/ipykernel_launcher.py:1: SettingWithCopyWarning: \n",
      "A value is trying to be set on a copy of a slice from a DataFrame.\n",
      "Try using .loc[row_indexer,col_indexer] = value instead\n",
      "\n",
      "See the caveats in the documentation: https://pandas.pydata.org/pandas-docs/stable/user_guide/indexing.html#returning-a-view-versus-a-copy\n",
      "  \"\"\"Entry point for launching an IPython kernel.\n"
     ]
    }
   ],
   "source": [
    "free_passes['clusterfp'] = bgm.predict(free_passes[cluster_cols])"
   ]
  },
  {
   "cell_type": "code",
   "execution_count": 76,
   "id": "19d34415",
   "metadata": {
    "execution": {
     "iopub.execute_input": "2022-09-19T14:11:05.670917Z",
     "iopub.status.busy": "2022-09-19T14:11:05.670434Z",
     "iopub.status.idle": "2022-09-19T14:11:08.317062Z",
     "shell.execute_reply": "2022-09-19T14:11:08.315711Z"
    },
    "papermill": {
     "duration": 2.683397,
     "end_time": "2022-09-19T14:11:08.319980",
     "exception": false,
     "start_time": "2022-09-19T14:11:05.636583",
     "status": "completed"
    },
    "tags": []
   },
   "outputs": [
    {
     "data": {
      "image/png": "[encoded data removed]",
      "text/plain": [
       "<Figure size 1080x720 with 1 Axes>"
      ]
     },
     "metadata": {},
     "output_type": "display_data"
    }
   ],
   "source": [
    "clusters_f = free_passes.groupby('clusterfp').mean()\n",
    "fig, ax = create_pitch(120, 80,'white')\n",
    "for index, pass_ in clusters_f.iterrows():\n",
    "    if (index < 0):\n",
    "        continue\n",
    "    x, y = pass_['x'], pass_['y']\n",
    "    end_x, end_y = pass_['end_x'], pass_['end_y']\n",
    "    color = 'blue' \n",
    "    y = 80 - y\n",
    "    end_y = 80 - end_y\n",
    "    plt.plot([x, end_x], [y, end_y], linewidth = 5)\n",
    "    plt.text((x+1),y+1,index, color = \"white\", fontweight = 'bold', fontsize = 'xx-large')\n",
    "    plt.savefig('gmm_cluster.png')"
   ]
  },
  {
   "cell_type": "code",
   "execution_count": 77,
   "id": "cf0cc05b",
   "metadata": {
    "execution": {
     "iopub.execute_input": "2022-09-19T14:11:08.385278Z",
     "iopub.status.busy": "2022-09-19T14:11:08.384760Z",
     "iopub.status.idle": "2022-09-19T14:11:08.391161Z",
     "shell.execute_reply": "2022-09-19T14:11:08.389541Z"
    },
    "papermill": {
     "duration": 0.041925,
     "end_time": "2022-09-19T14:11:08.393888",
     "exception": false,
     "start_time": "2022-09-19T14:11:08.351963",
     "status": "completed"
    },
    "tags": []
   },
   "outputs": [
    {
     "name": "stdout",
     "output_type": "stream",
     "text": [
      "it will be interesting to look at arsenal fr last season to this, arteta saying numbers, did they change or was it really just bad luck\n"
     ]
    }
   ],
   "source": [
    "print(\"it will be interesting to look at arsenal fr last season to this, arteta saying numbers, did they change or was it really just bad luck\")"
   ]
  },
  {
   "cell_type": "code",
   "execution_count": 78,
   "id": "7125c04d",
   "metadata": {
    "execution": {
     "iopub.execute_input": "2022-09-19T14:11:08.457774Z",
     "iopub.status.busy": "2022-09-19T14:11:08.456897Z",
     "iopub.status.idle": "2022-09-19T14:11:08.502541Z",
     "shell.execute_reply": "2022-09-19T14:11:08.501265Z"
    },
    "papermill": {
     "duration": 0.079809,
     "end_time": "2022-09-19T14:11:08.505234",
     "exception": false,
     "start_time": "2022-09-19T14:11:08.425425",
     "status": "completed"
    },
    "tags": []
   },
   "outputs": [
    {
     "data": {
      "text/html": [
       "<div>\n",
       "<style scoped>\n",
       "    .dataframe tbody tr th:only-of-type {\n",
       "        vertical-align: middle;\n",
       "    }\n",
       "\n",
       "    .dataframe tbody tr th {\n",
       "        vertical-align: top;\n",
       "    }\n",
       "\n",
       "    .dataframe thead th {\n",
       "        text-align: right;\n",
       "    }\n",
       "</style>\n",
       "<table border=\"1\" class=\"dataframe\">\n",
       "  <thead>\n",
       "    <tr style=\"text-align: right;\">\n",
       "      <th></th>\n",
       "      <th>cluster</th>\n",
       "      <th>success</th>\n",
       "      <th>score</th>\n",
       "    </tr>\n",
       "  </thead>\n",
       "  <tbody>\n",
       "    <tr>\n",
       "      <th>0</th>\n",
       "      <td>0</td>\n",
       "      <td>False</td>\n",
       "      <td>3585</td>\n",
       "    </tr>\n",
       "    <tr>\n",
       "      <th>1</th>\n",
       "      <td>0</td>\n",
       "      <td>True</td>\n",
       "      <td>11213</td>\n",
       "    </tr>\n",
       "    <tr>\n",
       "      <th>2</th>\n",
       "      <td>1</td>\n",
       "      <td>False</td>\n",
       "      <td>994</td>\n",
       "    </tr>\n",
       "    <tr>\n",
       "      <th>3</th>\n",
       "      <td>1</td>\n",
       "      <td>True</td>\n",
       "      <td>18966</td>\n",
       "    </tr>\n",
       "    <tr>\n",
       "      <th>4</th>\n",
       "      <td>2</td>\n",
       "      <td>False</td>\n",
       "      <td>4304</td>\n",
       "    </tr>\n",
       "  </tbody>\n",
       "</table>\n",
       "</div>"
      ],
      "text/plain": [
       "   cluster  success  score\n",
       "0        0    False   3585\n",
       "1        0     True  11213\n",
       "2        1    False    994\n",
       "3        1     True  18966\n",
       "4        2    False   4304"
      ]
     },
     "execution_count": 78,
     "metadata": {},
     "output_type": "execute_result"
    }
   ],
   "source": [
    "success_cluster = free_passes.groupby(['clusterfp', 'success']).size().reset_index()\n",
    "success_cluster.columns = ['cluster', 'success', 'score']\n",
    "success_cluster.head()"
   ]
  },
  {
   "cell_type": "code",
   "execution_count": 79,
   "id": "7f12f671",
   "metadata": {
    "execution": {
     "iopub.execute_input": "2022-09-19T14:11:08.565808Z",
     "iopub.status.busy": "2022-09-19T14:11:08.565385Z",
     "iopub.status.idle": "2022-09-19T14:11:08.578362Z",
     "shell.execute_reply": "2022-09-19T14:11:08.576759Z"
    },
    "papermill": {
     "duration": 0.045961,
     "end_time": "2022-09-19T14:11:08.580959",
     "exception": false,
     "start_time": "2022-09-19T14:11:08.534998",
     "status": "completed"
    },
    "tags": []
   },
   "outputs": [],
   "source": [
    "success_cluster = success_cluster.pivot(index='cluster', columns='success', values = 'score')\n",
    "success_cluster.columns = ['fail', 'success']\n",
    "success_cluster['total'] = success_cluster['success'] + success_cluster['fail']  \n",
    "success_cluster['ratio'] = success_cluster['success'] / success_cluster['total']  "
   ]
  },
  {
   "cell_type": "code",
   "execution_count": 80,
   "id": "bd5cd6be",
   "metadata": {
    "execution": {
     "iopub.execute_input": "2022-09-19T14:11:08.646132Z",
     "iopub.status.busy": "2022-09-19T14:11:08.645691Z",
     "iopub.status.idle": "2022-09-19T14:11:08.660799Z",
     "shell.execute_reply": "2022-09-19T14:11:08.659620Z"
    },
    "papermill": {
     "duration": 0.05135,
     "end_time": "2022-09-19T14:11:08.663301",
     "exception": false,
     "start_time": "2022-09-19T14:11:08.611951",
     "status": "completed"
    },
    "tags": []
   },
   "outputs": [
    {
     "data": {
      "text/html": [
       "<div>\n",
       "<style scoped>\n",
       "    .dataframe tbody tr th:only-of-type {\n",
       "        vertical-align: middle;\n",
       "    }\n",
       "\n",
       "    .dataframe tbody tr th {\n",
       "        vertical-align: top;\n",
       "    }\n",
       "\n",
       "    .dataframe thead th {\n",
       "        text-align: right;\n",
       "    }\n",
       "</style>\n",
       "<table border=\"1\" class=\"dataframe\">\n",
       "  <thead>\n",
       "    <tr style=\"text-align: right;\">\n",
       "      <th></th>\n",
       "      <th>fail</th>\n",
       "      <th>success</th>\n",
       "      <th>total</th>\n",
       "      <th>ratio</th>\n",
       "    </tr>\n",
       "    <tr>\n",
       "      <th>cluster</th>\n",
       "      <th></th>\n",
       "      <th></th>\n",
       "      <th></th>\n",
       "      <th></th>\n",
       "    </tr>\n",
       "  </thead>\n",
       "  <tbody>\n",
       "    <tr>\n",
       "      <th>7</th>\n",
       "      <td>810</td>\n",
       "      <td>12</td>\n",
       "      <td>822</td>\n",
       "      <td>0.014599</td>\n",
       "    </tr>\n",
       "    <tr>\n",
       "      <th>19</th>\n",
       "      <td>893</td>\n",
       "      <td>57</td>\n",
       "      <td>950</td>\n",
       "      <td>0.060000</td>\n",
       "    </tr>\n",
       "    <tr>\n",
       "      <th>16</th>\n",
       "      <td>4861</td>\n",
       "      <td>5820</td>\n",
       "      <td>10681</td>\n",
       "      <td>0.544893</td>\n",
       "    </tr>\n",
       "    <tr>\n",
       "      <th>2</th>\n",
       "      <td>4304</td>\n",
       "      <td>5243</td>\n",
       "      <td>9547</td>\n",
       "      <td>0.549178</td>\n",
       "    </tr>\n",
       "    <tr>\n",
       "      <th>18</th>\n",
       "      <td>1951</td>\n",
       "      <td>3934</td>\n",
       "      <td>5885</td>\n",
       "      <td>0.668479</td>\n",
       "    </tr>\n",
       "    <tr>\n",
       "      <th>15</th>\n",
       "      <td>4719</td>\n",
       "      <td>11146</td>\n",
       "      <td>15865</td>\n",
       "      <td>0.702553</td>\n",
       "    </tr>\n",
       "    <tr>\n",
       "      <th>6</th>\n",
       "      <td>3935</td>\n",
       "      <td>10538</td>\n",
       "      <td>14473</td>\n",
       "      <td>0.728114</td>\n",
       "    </tr>\n",
       "    <tr>\n",
       "      <th>0</th>\n",
       "      <td>3585</td>\n",
       "      <td>11213</td>\n",
       "      <td>14798</td>\n",
       "      <td>0.757738</td>\n",
       "    </tr>\n",
       "    <tr>\n",
       "      <th>10</th>\n",
       "      <td>4045</td>\n",
       "      <td>16178</td>\n",
       "      <td>20223</td>\n",
       "      <td>0.799980</td>\n",
       "    </tr>\n",
       "    <tr>\n",
       "      <th>11</th>\n",
       "      <td>4783</td>\n",
       "      <td>20470</td>\n",
       "      <td>25253</td>\n",
       "      <td>0.810597</td>\n",
       "    </tr>\n",
       "    <tr>\n",
       "      <th>3</th>\n",
       "      <td>4062</td>\n",
       "      <td>22501</td>\n",
       "      <td>26563</td>\n",
       "      <td>0.847081</td>\n",
       "    </tr>\n",
       "    <tr>\n",
       "      <th>9</th>\n",
       "      <td>2815</td>\n",
       "      <td>17880</td>\n",
       "      <td>20695</td>\n",
       "      <td>0.863977</td>\n",
       "    </tr>\n",
       "    <tr>\n",
       "      <th>13</th>\n",
       "      <td>2991</td>\n",
       "      <td>19452</td>\n",
       "      <td>22443</td>\n",
       "      <td>0.866729</td>\n",
       "    </tr>\n",
       "    <tr>\n",
       "      <th>12</th>\n",
       "      <td>2504</td>\n",
       "      <td>16499</td>\n",
       "      <td>19003</td>\n",
       "      <td>0.868231</td>\n",
       "    </tr>\n",
       "    <tr>\n",
       "      <th>4</th>\n",
       "      <td>2828</td>\n",
       "      <td>19284</td>\n",
       "      <td>22112</td>\n",
       "      <td>0.872106</td>\n",
       "    </tr>\n",
       "    <tr>\n",
       "      <th>14</th>\n",
       "      <td>2626</td>\n",
       "      <td>21535</td>\n",
       "      <td>24161</td>\n",
       "      <td>0.891312</td>\n",
       "    </tr>\n",
       "    <tr>\n",
       "      <th>5</th>\n",
       "      <td>1401</td>\n",
       "      <td>14055</td>\n",
       "      <td>15456</td>\n",
       "      <td>0.909356</td>\n",
       "    </tr>\n",
       "    <tr>\n",
       "      <th>17</th>\n",
       "      <td>1286</td>\n",
       "      <td>16990</td>\n",
       "      <td>18276</td>\n",
       "      <td>0.929634</td>\n",
       "    </tr>\n",
       "    <tr>\n",
       "      <th>8</th>\n",
       "      <td>1121</td>\n",
       "      <td>14995</td>\n",
       "      <td>16116</td>\n",
       "      <td>0.930442</td>\n",
       "    </tr>\n",
       "    <tr>\n",
       "      <th>1</th>\n",
       "      <td>994</td>\n",
       "      <td>18966</td>\n",
       "      <td>19960</td>\n",
       "      <td>0.950200</td>\n",
       "    </tr>\n",
       "  </tbody>\n",
       "</table>\n",
       "</div>"
      ],
      "text/plain": [
       "         fail  success  total     ratio\n",
       "cluster                                \n",
       "7         810       12    822  0.014599\n",
       "19        893       57    950  0.060000\n",
       "16       4861     5820  10681  0.544893\n",
       "2        4304     5243   9547  0.549178\n",
       "18       1951     3934   5885  0.668479\n",
       "15       4719    11146  15865  0.702553\n",
       "6        3935    10538  14473  0.728114\n",
       "0        3585    11213  14798  0.757738\n",
       "10       4045    16178  20223  0.799980\n",
       "11       4783    20470  25253  0.810597\n",
       "3        4062    22501  26563  0.847081\n",
       "9        2815    17880  20695  0.863977\n",
       "13       2991    19452  22443  0.866729\n",
       "12       2504    16499  19003  0.868231\n",
       "4        2828    19284  22112  0.872106\n",
       "14       2626    21535  24161  0.891312\n",
       "5        1401    14055  15456  0.909356\n",
       "17       1286    16990  18276  0.929634\n",
       "8        1121    14995  16116  0.930442\n",
       "1         994    18966  19960  0.950200"
      ]
     },
     "execution_count": 80,
     "metadata": {},
     "output_type": "execute_result"
    }
   ],
   "source": [
    "success_cluster.sort_values(by='ratio')"
   ]
  },
  {
   "cell_type": "code",
   "execution_count": 81,
   "id": "ab50d98f",
   "metadata": {
    "execution": {
     "iopub.execute_input": "2022-09-19T14:11:08.725550Z",
     "iopub.status.busy": "2022-09-19T14:11:08.724795Z",
     "iopub.status.idle": "2022-09-19T14:11:09.292153Z",
     "shell.execute_reply": "2022-09-19T14:11:09.290874Z"
    },
    "papermill": {
     "duration": 0.601639,
     "end_time": "2022-09-19T14:11:09.295353",
     "exception": false,
     "start_time": "2022-09-19T14:11:08.693714",
     "status": "completed"
    },
    "tags": []
   },
   "outputs": [
    {
     "data": {
      "image/png": "[encoded data removed]",
      "text/plain": [
       "<Figure size 1080x720 with 1 Axes>"
      ]
     },
     "metadata": {},
     "output_type": "display_data"
    }
   ],
   "source": [
    "passes = free_passes\n",
    "cluster = 16\n",
    "fig, ax = create_pitch(105, 68,'white')\n",
    "plt.scatter(passes[passes.clusterfp == cluster]['x'], (68 - passes[passes.clusterfp == cluster]['y']), c='red')\n",
    "plt.scatter(passes[passes.clusterfp == cluster]['end_x'], (68 - passes[passes.clusterfp == cluster]['end_y']), c='blue')\n",
    "for index, pass_ in clusters_f.iterrows():\n",
    "    if (index != cluster):\n",
    "        continue\n",
    "    x, y = pass_['x'], pass_['y']\n",
    "    end_x, end_y = pass_['end_x'], pass_['end_y']\n",
    "    color = 'blue' \n",
    "    y = 68 - y\n",
    "    end_y = 68 - end_y\n",
    "    plt.plot([x, end_x], [y, end_y], linewidth = 5)\n",
    "    plt.scatter(x, y, s=30, c='red')\n",
    "    plt.text((x+1),y+1,index, color = \"white\", fontweight = 'bold', fontsize = 'xx-large')\n",
    "    plt.savefig('gmm_cluster.png')"
   ]
  },
  {
   "cell_type": "code",
   "execution_count": 82,
   "id": "b6e81675",
   "metadata": {
    "execution": {
     "iopub.execute_input": "2022-09-19T14:11:09.363515Z",
     "iopub.status.busy": "2022-09-19T14:11:09.363010Z",
     "iopub.status.idle": "2022-09-19T14:11:09.768765Z",
     "shell.execute_reply": "2022-09-19T14:11:09.767129Z"
    },
    "papermill": {
     "duration": 0.443428,
     "end_time": "2022-09-19T14:11:09.772051",
     "exception": false,
     "start_time": "2022-09-19T14:11:09.328623",
     "status": "completed"
    },
    "tags": []
   },
   "outputs": [
    {
     "data": {
      "image/png": "[encoded data removed]",
      "text/plain": [
       "<Figure size 1080x720 with 1 Axes>"
      ]
     },
     "metadata": {},
     "output_type": "display_data"
    }
   ],
   "source": [
    "passes = free_passes\n",
    "cluster = 19\n",
    "fig, ax = create_pitch(105, 68,'white')\n",
    "plt.scatter(passes[passes.clusterfp == cluster]['x'], (68 - passes[passes.clusterfp == cluster]['y']), c='red')\n",
    "plt.scatter(passes[passes.clusterfp == cluster]['end_x'], (68 - passes[passes.clusterfp == cluster]['end_y']), c='blue')\n",
    "for index, pass_ in clusters_f.iterrows():\n",
    "    if (index != cluster):\n",
    "        continue\n",
    "    x, y = pass_['x'], pass_['y']\n",
    "    end_x, end_y = pass_['end_x'], pass_['end_y']\n",
    "    color = 'blue' \n",
    "    y = 68 - y\n",
    "    end_y = 68 - end_y\n",
    "    plt.plot([x, end_x], [y, end_y], linewidth = 5)\n",
    "    plt.scatter(x, y, s=30, c='red')\n",
    "    plt.text((x+1),y+1,index, color = \"white\", fontweight = 'bold', fontsize = 'xx-large')\n",
    "    plt.savefig('gmm_cluster.png')"
   ]
  },
  {
   "cell_type": "code",
   "execution_count": 83,
   "id": "f9a84242",
   "metadata": {
    "execution": {
     "iopub.execute_input": "2022-09-19T14:11:09.840261Z",
     "iopub.status.busy": "2022-09-19T14:11:09.839793Z",
     "iopub.status.idle": "2022-09-19T14:11:10.387030Z",
     "shell.execute_reply": "2022-09-19T14:11:10.385632Z"
    },
    "papermill": {
     "duration": 0.584677,
     "end_time": "2022-09-19T14:11:10.389904",
     "exception": false,
     "start_time": "2022-09-19T14:11:09.805227",
     "status": "completed"
    },
    "tags": []
   },
   "outputs": [
    {
     "data": {
      "image/png": "[encoded data removed]",
      "text/plain": [
       "<Figure size 1080x720 with 1 Axes>"
      ]
     },
     "metadata": {},
     "output_type": "display_data"
    }
   ],
   "source": [
    "cluster = 2\n",
    "fig, ax = create_pitch(105, 68,'white')\n",
    "plt.scatter(passes[passes.clusterfp == cluster]['x'], (68 - passes[passes.clusterfp == cluster]['y']), c='red')\n",
    "plt.scatter(passes[passes.clusterfp == cluster]['end_x'], (68 - passes[passes.clusterfp == cluster]['end_y']), c='blue')\n",
    "for index, pass_ in clusters_f.iterrows():\n",
    "    if (index != cluster):\n",
    "        continue\n",
    "    x, y = pass_['x'], pass_['y']\n",
    "    end_x, end_y = pass_['end_x'], pass_['end_y']\n",
    "    color = 'blue' \n",
    "    y = 68 - y\n",
    "    end_y = 68 - end_y\n",
    "    plt.plot([x, end_x], [y, end_y], linewidth = 5)\n",
    "    plt.scatter(x, y, s=30, c='red')\n",
    "    plt.text((x+1),y+1,index, color = \"white\", fontweight = 'bold', fontsize = 'xx-large')\n",
    "    plt.savefig('gmm_cluster.png')"
   ]
  },
  {
   "cell_type": "code",
   "execution_count": 84,
   "id": "14479ff3",
   "metadata": {
    "execution": {
     "iopub.execute_input": "2022-09-19T14:11:10.460161Z",
     "iopub.status.busy": "2022-09-19T14:11:10.458991Z",
     "iopub.status.idle": "2022-09-19T14:11:10.965243Z",
     "shell.execute_reply": "2022-09-19T14:11:10.963703Z"
    },
    "papermill": {
     "duration": 0.545283,
     "end_time": "2022-09-19T14:11:10.968112",
     "exception": false,
     "start_time": "2022-09-19T14:11:10.422829",
     "status": "completed"
    },
    "tags": []
   },
   "outputs": [
    {
     "data": {
      "image/png": "[encoded data removed]",
      "text/plain": [
       "<Figure size 1080x720 with 1 Axes>"
      ]
     },
     "metadata": {},
     "output_type": "display_data"
    }
   ],
   "source": [
    "cluster = 18\n",
    "fig, ax = create_pitch(105, 68,'white')\n",
    "plt.scatter(passes[passes.clusterfp == cluster]['x'], (68 - passes[passes.clusterfp == cluster]['y']), c='red')\n",
    "plt.scatter(passes[passes.clusterfp == cluster]['end_x'], (68 - passes[passes.clusterfp == cluster]['end_y']), c='blue')\n",
    "for index, pass_ in clusters_f.iterrows():\n",
    "    if (index != cluster):\n",
    "        continue\n",
    "    x, y = pass_['x'], pass_['y']\n",
    "    end_x, end_y = pass_['end_x'], pass_['end_y']\n",
    "    color = 'blue' \n",
    "    y = 68 - y\n",
    "    end_y = 68 - end_y\n",
    "    plt.plot([x, end_x], [y, end_y], linewidth = 5)\n",
    "    plt.scatter(x, y, s=30, c='red')\n",
    "    plt.text((x+1),y+1,index, color = \"white\", fontweight = 'bold', fontsize = 'xx-large')\n",
    "    plt.savefig('gmm_cluster.png')"
   ]
  },
  {
   "cell_type": "code",
   "execution_count": null,
   "id": "d1395ad1",
   "metadata": {
    "papermill": {
     "duration": 0.035319,
     "end_time": "2022-09-19T14:11:11.038025",
     "exception": false,
     "start_time": "2022-09-19T14:11:11.002706",
     "status": "completed"
    },
    "tags": []
   },
   "outputs": [],
   "source": []
  }
 ],
 "metadata": {
  "kernelspec": {
   "display_name": "Python 3",
   "language": "python",
   "name": "python3"
  },
  "language_info": {
   "codemirror_mode": {
    "name": "ipython",
    "version": 3
   },
   "file_extension": ".py",
   "mimetype": "text/x-python",
   "name": "python",
   "nbconvert_exporter": "python",
   "pygments_lexer": "ipython3",
   "version": "3.7.12"
  },
  "papermill": {
   "default_parameters": {},
   "duration": 3640.890313,
   "end_time": "2022-09-19T14:11:12.206339",
   "environment_variables": {},
   "exception": null,
   "input_path": "__notebook__.ipynb",
   "output_path": "__notebook__.ipynb",
   "parameters": {},
   "start_time": "2022-09-19T13:10:31.316026",
   "version": "2.3.4"
  }
 },
 "nbformat": 4,
 "nbformat_minor": 5
}
