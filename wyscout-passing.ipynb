{
 "cells": [
  {
   "cell_type": "code",
   "execution_count": 1,
   "id": "927afdd8",
   "metadata": {
    "execution": {
     "iopub.execute_input": "2022-09-19T10:50:58.931152Z",
     "iopub.status.busy": "2022-09-19T10:50:58.930341Z",
     "iopub.status.idle": "2022-09-19T10:51:12.477826Z",
     "shell.execute_reply": "2022-09-19T10:51:12.476679Z"
    },
    "papermill": {
     "duration": 13.573448,
     "end_time": "2022-09-19T10:51:12.480860",
     "exception": false,
     "start_time": "2022-09-19T10:50:58.907412",
     "status": "completed"
    },
    "tags": []
   },
   "outputs": [
    {
     "name": "stdout",
     "output_type": "stream",
     "text": [
      "Collecting kloppy\r\n",
      "  Downloading kloppy-3.5.1-py3-none-any.whl (139 kB)\r\n",
      "\u001b[2K     \u001b[90m━━━━━━━━━━━━━━━━━━━━━━━━━━━━━━━━━━━━━\u001b[0m \u001b[32m139.0/139.0 kB\u001b[0m \u001b[31m613.7 kB/s\u001b[0m eta \u001b[36m0:00:00\u001b[0m\r\n",
      "\u001b[?25hRequirement already satisfied: python-dateutil<3,>=2.8.1 in /opt/conda/lib/python3.7/site-packages (from kloppy) (2.8.2)\r\n",
      "Requirement already satisfied: pytz>=2020.1 in /opt/conda/lib/python3.7/site-packages (from kloppy) (2022.1)\r\n",
      "Requirement already satisfied: requests<3,>=2.0.0 in /opt/conda/lib/python3.7/site-packages (from kloppy) (2.27.1)\r\n",
      "Requirement already satisfied: typing-extensions in /opt/conda/lib/python3.7/site-packages (from kloppy) (4.1.1)\r\n",
      "Requirement already satisfied: lxml<5,>=4.4.0 in /opt/conda/lib/python3.7/site-packages (from kloppy) (4.9.0)\r\n",
      "Requirement already satisfied: mypy-extensions in /opt/conda/lib/python3.7/site-packages (from kloppy) (0.4.3)\r\n",
      "Requirement already satisfied: six>=1.5 in /opt/conda/lib/python3.7/site-packages (from python-dateutil<3,>=2.8.1->kloppy) (1.16.0)\r\n",
      "Requirement already satisfied: charset-normalizer~=2.0.0 in /opt/conda/lib/python3.7/site-packages (from requests<3,>=2.0.0->kloppy) (2.0.12)\r\n",
      "Requirement already satisfied: urllib3<1.27,>=1.21.1 in /opt/conda/lib/python3.7/site-packages (from requests<3,>=2.0.0->kloppy) (1.26.9)\r\n",
      "Requirement already satisfied: idna<4,>=2.5 in /opt/conda/lib/python3.7/site-packages (from requests<3,>=2.0.0->kloppy) (3.3)\r\n",
      "Requirement already satisfied: certifi>=2017.4.17 in /opt/conda/lib/python3.7/site-packages (from requests<3,>=2.0.0->kloppy) (2022.6.15)\r\n",
      "Installing collected packages: kloppy\r\n",
      "Successfully installed kloppy-3.5.1\r\n",
      "\u001b[33mWARNING: Running pip as the 'root' user can result in broken permissions and conflicting behaviour with the system package manager. It is recommended to use a virtual environment instead: https://pip.pypa.io/warnings/venv\u001b[0m\u001b[33m\r\n",
      "\u001b[0m"
     ]
    }
   ],
   "source": [
    "!pip install kloppy"
   ]
  },
  {
   "cell_type": "code",
   "execution_count": 2,
   "id": "789fbfdd",
   "metadata": {
    "execution": {
     "iopub.execute_input": "2022-09-19T10:51:12.512958Z",
     "iopub.status.busy": "2022-09-19T10:51:12.512493Z",
     "iopub.status.idle": "2022-09-19T10:51:12.577536Z",
     "shell.execute_reply": "2022-09-19T10:51:12.576233Z"
    },
    "papermill": {
     "duration": 0.084338,
     "end_time": "2022-09-19T10:51:12.580500",
     "exception": false,
     "start_time": "2022-09-19T10:51:12.496162",
     "status": "completed"
    },
    "tags": []
   },
   "outputs": [],
   "source": [
    "from kloppy import datasets, wyscout\n",
    "import json\n",
    "import pandas as pd\n",
    "import numpy as np\n",
    "from matplotlib.patches import Arc\n",
    "import matplotlib.pyplot as plt"
   ]
  },
  {
   "cell_type": "code",
   "execution_count": 3,
   "id": "a2c48db4",
   "metadata": {
    "execution": {
     "iopub.execute_input": "2022-09-19T10:51:12.614307Z",
     "iopub.status.busy": "2022-09-19T10:51:12.613160Z",
     "iopub.status.idle": "2022-09-19T10:51:12.619482Z",
     "shell.execute_reply": "2022-09-19T10:51:12.618660Z"
    },
    "papermill": {
     "duration": 0.024848,
     "end_time": "2022-09-19T10:51:12.621877",
     "exception": false,
     "start_time": "2022-09-19T10:51:12.597029",
     "status": "completed"
    },
    "tags": []
   },
   "outputs": [],
   "source": [
    "def load_json(json_path):\n",
    "    with open(json_path) as f:\n",
    "        data = json.load(f)\n",
    "        matches = pd.json_normalize(data, sep = \"_\")\n",
    "    return matches"
   ]
  },
  {
   "cell_type": "code",
   "execution_count": 4,
   "id": "aa23bede",
   "metadata": {
    "execution": {
     "iopub.execute_input": "2022-09-19T10:51:12.653905Z",
     "iopub.status.busy": "2022-09-19T10:51:12.653170Z",
     "iopub.status.idle": "2022-09-19T10:51:12.659394Z",
     "shell.execute_reply": "2022-09-19T10:51:12.658542Z"
    },
    "papermill": {
     "duration": 0.025148,
     "end_time": "2022-09-19T10:51:12.661684",
     "exception": false,
     "start_time": "2022-09-19T10:51:12.636536",
     "status": "completed"
    },
    "tags": []
   },
   "outputs": [],
   "source": [
    "def drop0var(df):\n",
    "    \"\"\"\n",
    "    param: df, a pandas dataframe\n",
    "    \"\"\"\n",
    "    todrop = (df.var()[df.var() == 0]).index.values\n",
    "    df = df.drop(todrop, axis=1)\n",
    "    return df"
   ]
  },
  {
   "cell_type": "code",
   "execution_count": 5,
   "id": "6ac234c6",
   "metadata": {
    "execution": {
     "iopub.execute_input": "2022-09-19T10:51:12.694611Z",
     "iopub.status.busy": "2022-09-19T10:51:12.693924Z",
     "iopub.status.idle": "2022-09-19T10:51:12.718610Z",
     "shell.execute_reply": "2022-09-19T10:51:12.717648Z"
    },
    "papermill": {
     "duration": 0.044132,
     "end_time": "2022-09-19T10:51:12.721326",
     "exception": false,
     "start_time": "2022-09-19T10:51:12.677194",
     "status": "completed"
    },
    "tags": []
   },
   "outputs": [],
   "source": [
    "def create_pitch(length, width, linecolor, bounds = 15):\n",
    "\n",
    "    \"\"\"\n",
    "    mainly stolen from fc python\n",
    "    param length: an int the length of the field\n",
    "    param width: an int the height of the field\n",
    "    param linecolor: the color of the lines\n",
    "\"\"\"\n",
    "    #Create figure\n",
    "    fig=plt.figure()\n",
    "    #fig.set_size_inches(7, 5)\n",
    "    ax=fig.add_subplot(1,1,1)\n",
    "\n",
    "    #Pitch Outline & Centre Line\n",
    "    plt.plot([0,0],[0,width], color=linecolor)\n",
    "    plt.plot([0,length],[width,width], color=linecolor)\n",
    "    plt.plot([length,length],[width,0], color=linecolor)\n",
    "    plt.plot([length,0],[0,0], color=linecolor)\n",
    "    plt.plot([length/2,length/2],[0,width], color=linecolor)\n",
    "    plt.fill_between(x = [-bounds, length + bounds],\n",
    "                     y1 = [width + bounds, width + bounds],\n",
    "                     y2 = [-bounds, -bounds], color='green')\n",
    "\n",
    "    #Left Penalty Area\n",
    "    plt.plot([16.5 ,16.5],[(width/2 +16.5),(width/2-16.5)],color=linecolor)\n",
    "    plt.plot([0,16.5],[(width/2 +16.5),(width/2 +16.5)],color=linecolor)\n",
    "    plt.plot([16.5,0],[(width/2 -16.5),(width/2 -16.5)],color=linecolor)\n",
    "\n",
    "    #Right Penalty Area\n",
    "    plt.plot([(length-16.5),length],[(width/2 +16.5),(width/2 +16.5)],color=linecolor)\n",
    "    plt.plot([(length-16.5), (length-16.5)],[(width/2 +16.5),(width/2-16.5)],color=linecolor)\n",
    "    plt.plot([(length-16.5),length],[(width/2 -16.5),(width/2 -16.5)],color=linecolor)\n",
    "\n",
    "    #Left 5-meters Box\n",
    "    plt.plot([0,5.5],[(width/2+7.32/2+5.5),(width/2+7.32/2+5.5)],color=linecolor)\n",
    "    plt.plot([5.5,5.5],[(width/2+7.32/2+5.5),(width/2-7.32/2-5.5)],color=linecolor)\n",
    "    plt.plot([5.5,0.5],[(width/2-7.32/2-5.5),(width/2-7.32/2-5.5)],color=linecolor)\n",
    "\n",
    "    #Right 5-meters Box\n",
    "    plt.plot([length,length-5.5],[(width/2+7.32/2+5.5),(width/2+7.32/2+5.5)],color=linecolor)\n",
    "    plt.plot([length-5.5,length-5.5],[(width/2+7.32/2+5.5),width/2-7.32/2-5.5],color=linecolor)\n",
    "    plt.plot([length-5.5,length],[width/2-7.32/2-5.5,width/2-7.32/2-5.5],color=linecolor)\n",
    "\n",
    "    #Prepare Circles\n",
    "    centreCircle = plt.Circle((length/2,width/2),9.15,color=linecolor,fill=False)\n",
    "    centreSpot = plt.Circle((length/2,width/2),0.8,color=linecolor)\n",
    "    leftPenSpot = plt.Circle((11,width/2),0.8,color=linecolor)\n",
    "    rightPenSpot = plt.Circle((length-11,width/2),0.8,color=linecolor)\n",
    "\n",
    "    #Draw Circles\n",
    "    ax.add_patch(centreCircle)\n",
    "    ax.add_patch(centreSpot)\n",
    "    ax.add_patch(leftPenSpot)\n",
    "    ax.add_patch(rightPenSpot)\n",
    "\n",
    "    #Prepare Arcs\n",
    "    leftArc = Arc((11,width/2),height=18.3,width=18.3,angle=0,theta1=308,theta2=52,color=linecolor)\n",
    "    rightArc = Arc((length-11,width/2),height=18.3,width=18.3,angle=0,theta1=128,theta2=232,color=linecolor)\n",
    "\n",
    "    #Draw Arcs\n",
    "    ax.add_patch(leftArc)\n",
    "    ax.add_patch(rightArc)\n",
    "    #Axis titles\n",
    "    #Tidy Axes\n",
    "    plt.axis('off')\n",
    "\n",
    "    return fig,ax\n"
   ]
  },
  {
   "cell_type": "code",
   "execution_count": 6,
   "id": "12ae2be1",
   "metadata": {
    "execution": {
     "iopub.execute_input": "2022-09-19T10:51:12.752554Z",
     "iopub.status.busy": "2022-09-19T10:51:12.752168Z",
     "iopub.status.idle": "2022-09-19T10:51:12.757119Z",
     "shell.execute_reply": "2022-09-19T10:51:12.755938Z"
    },
    "papermill": {
     "duration": 0.023005,
     "end_time": "2022-09-19T10:51:12.759292",
     "exception": false,
     "start_time": "2022-09-19T10:51:12.736287",
     "status": "completed"
    },
    "tags": []
   },
   "outputs": [],
   "source": [
    "def map_players(x):\n",
    "    try:\n",
    "        return player_map[x]\n",
    "    except:\n",
    "        return \"None\""
   ]
  },
  {
   "cell_type": "code",
   "execution_count": 7,
   "id": "07928d20",
   "metadata": {
    "execution": {
     "iopub.execute_input": "2022-09-19T10:51:12.790188Z",
     "iopub.status.busy": "2022-09-19T10:51:12.789788Z",
     "iopub.status.idle": "2022-09-19T10:51:13.879102Z",
     "shell.execute_reply": "2022-09-19T10:51:13.878100Z"
    },
    "papermill": {
     "duration": 1.108367,
     "end_time": "2022-09-19T10:51:13.882230",
     "exception": false,
     "start_time": "2022-09-19T10:51:12.773863",
     "status": "completed"
    },
    "tags": []
   },
   "outputs": [],
   "source": [
    "import seaborn as sns\n",
    "sns.set(rc={'figure.figsize':(15,10)})\n",
    "length = 105\n",
    "width = 68"
   ]
  },
  {
   "cell_type": "code",
   "execution_count": 8,
   "id": "e02d6e76",
   "metadata": {
    "execution": {
     "iopub.execute_input": "2022-09-19T10:51:13.914198Z",
     "iopub.status.busy": "2022-09-19T10:51:13.913760Z",
     "iopub.status.idle": "2022-09-19T10:51:13.919107Z",
     "shell.execute_reply": "2022-09-19T10:51:13.917808Z"
    },
    "papermill": {
     "duration": 0.023901,
     "end_time": "2022-09-19T10:51:13.921287",
     "exception": false,
     "start_time": "2022-09-19T10:51:13.897386",
     "status": "completed"
    },
    "tags": []
   },
   "outputs": [],
   "source": [
    "def map_length(x):\n",
    "    return x*length\n",
    "\n",
    "def map_width(x):\n",
    "    return x*width"
   ]
  },
  {
   "cell_type": "code",
   "execution_count": 9,
   "id": "b97acbbe",
   "metadata": {
    "execution": {
     "iopub.execute_input": "2022-09-19T10:51:13.952447Z",
     "iopub.status.busy": "2022-09-19T10:51:13.952012Z",
     "iopub.status.idle": "2022-09-19T10:51:14.502916Z",
     "shell.execute_reply": "2022-09-19T10:51:14.501637Z"
    },
    "papermill": {
     "duration": 0.569766,
     "end_time": "2022-09-19T10:51:14.505781",
     "exception": false,
     "start_time": "2022-09-19T10:51:13.936015",
     "status": "completed"
    },
    "tags": []
   },
   "outputs": [],
   "source": [
    "manu_westham = datasets.load('wyscout', match_id = 2499724)\n",
    "matchdf = manu_westham.to_pandas()"
   ]
  },
  {
   "cell_type": "code",
   "execution_count": 10,
   "id": "b8240eba",
   "metadata": {
    "execution": {
     "iopub.execute_input": "2022-09-19T10:51:14.537027Z",
     "iopub.status.busy": "2022-09-19T10:51:14.536563Z",
     "iopub.status.idle": "2022-09-19T10:51:14.778088Z",
     "shell.execute_reply": "2022-09-19T10:51:14.776978Z"
    },
    "papermill": {
     "duration": 0.260575,
     "end_time": "2022-09-19T10:51:14.781066",
     "exception": false,
     "start_time": "2022-09-19T10:51:14.520491",
     "status": "completed"
    },
    "tags": []
   },
   "outputs": [],
   "source": [
    "matches_json = '../input/being-difficult/matches_England.json'\n",
    "players_json = '../input/being-difficult/players.json'\n",
    "matches = load_json(matches_json)\n",
    "players = load_json(players_json)"
   ]
  },
  {
   "cell_type": "code",
   "execution_count": 11,
   "id": "2093e346",
   "metadata": {
    "execution": {
     "iopub.execute_input": "2022-09-19T10:51:14.813352Z",
     "iopub.status.busy": "2022-09-19T10:51:14.812925Z",
     "iopub.status.idle": "2022-09-19T10:51:15.097373Z",
     "shell.execute_reply": "2022-09-19T10:51:15.096415Z"
    },
    "papermill": {
     "duration": 0.304042,
     "end_time": "2022-09-19T10:51:15.100064",
     "exception": false,
     "start_time": "2022-09-19T10:51:14.796022",
     "status": "completed"
    },
    "tags": []
   },
   "outputs": [],
   "source": [
    "player_map = {}\n",
    "for index, player in players.iterrows():\n",
    "    player_map[str(player.wyId)] = player.firstName + \" \" + player.lastName "
   ]
  },
  {
   "cell_type": "code",
   "execution_count": 12,
   "id": "88db1c20",
   "metadata": {
    "execution": {
     "iopub.execute_input": "2022-09-19T10:51:15.132281Z",
     "iopub.status.busy": "2022-09-19T10:51:15.131210Z",
     "iopub.status.idle": "2022-09-19T10:51:15.146166Z",
     "shell.execute_reply": "2022-09-19T10:51:15.145089Z"
    },
    "papermill": {
     "duration": 0.033447,
     "end_time": "2022-09-19T10:51:15.148575",
     "exception": false,
     "start_time": "2022-09-19T10:51:15.115128",
     "status": "completed"
    },
    "tags": []
   },
   "outputs": [],
   "source": [
    "matchdf['x'] = matchdf['coordinates_x'].apply(map_length)\n",
    "matchdf['y'] = matchdf['coordinates_y'].apply(map_width)\n",
    "matchdf['end_x'] = matchdf['end_coordinates_x'].apply(map_length)\n",
    "matchdf['end_y'] = matchdf['end_coordinates_y'].apply(map_width)"
   ]
  },
  {
   "cell_type": "code",
   "execution_count": 13,
   "id": "55e39c7c",
   "metadata": {
    "execution": {
     "iopub.execute_input": "2022-09-19T10:51:15.179752Z",
     "iopub.status.busy": "2022-09-19T10:51:15.179019Z",
     "iopub.status.idle": "2022-09-19T10:54:59.267469Z",
     "shell.execute_reply": "2022-09-19T10:54:59.266345Z"
    },
    "papermill": {
     "duration": 224.107391,
     "end_time": "2022-09-19T10:54:59.270517",
     "exception": false,
     "start_time": "2022-09-19T10:51:15.163126",
     "status": "completed"
    },
    "tags": []
   },
   "outputs": [],
   "source": [
    "alldf = []\n",
    "for match in matches.wyId.unique():\n",
    "    try:\n",
    "        df = datasets.load('wyscout', match_id = match).to_pandas()\n",
    "        df = df[df.event_type =='PASS']\n",
    "        alldf.append(df)\n",
    "    except:\n",
    "        continue"
   ]
  },
  {
   "cell_type": "code",
   "execution_count": 14,
   "id": "86910cbe",
   "metadata": {
    "execution": {
     "iopub.execute_input": "2022-09-19T10:54:59.306143Z",
     "iopub.status.busy": "2022-09-19T10:54:59.305349Z",
     "iopub.status.idle": "2022-09-19T10:54:59.778826Z",
     "shell.execute_reply": "2022-09-19T10:54:59.777576Z"
    },
    "papermill": {
     "duration": 0.494647,
     "end_time": "2022-09-19T10:54:59.781987",
     "exception": false,
     "start_time": "2022-09-19T10:54:59.287340",
     "status": "completed"
    },
    "tags": []
   },
   "outputs": [],
   "source": [
    "allpasses = pd.concat(alldf)"
   ]
  },
  {
   "cell_type": "code",
   "execution_count": 15,
   "id": "d82247ce",
   "metadata": {
    "execution": {
     "iopub.execute_input": "2022-09-19T10:54:59.815343Z",
     "iopub.status.busy": "2022-09-19T10:54:59.814930Z",
     "iopub.status.idle": "2022-09-19T10:54:59.857180Z",
     "shell.execute_reply": "2022-09-19T10:54:59.855790Z"
    },
    "papermill": {
     "duration": 0.061905,
     "end_time": "2022-09-19T10:54:59.860283",
     "exception": false,
     "start_time": "2022-09-19T10:54:59.798378",
     "status": "completed"
    },
    "tags": []
   },
   "outputs": [
    {
     "name": "stderr",
     "output_type": "stream",
     "text": [
      "/opt/conda/lib/python3.7/site-packages/ipykernel_launcher.py:5: FutureWarning: Dropping of nuisance columns in DataFrame reductions (with 'numeric_only=None') is deprecated; in a future version this will raise TypeError.  Select only valid columns before calling the reduction.\n",
      "  \"\"\"\n"
     ]
    }
   ],
   "source": [
    "matches = drop0var(matches)"
   ]
  },
  {
   "cell_type": "code",
   "execution_count": 16,
   "id": "3bbfa73e",
   "metadata": {
    "execution": {
     "iopub.execute_input": "2022-09-19T10:54:59.893158Z",
     "iopub.status.busy": "2022-09-19T10:54:59.892721Z",
     "iopub.status.idle": "2022-09-19T10:54:59.942121Z",
     "shell.execute_reply": "2022-09-19T10:54:59.940416Z"
    },
    "papermill": {
     "duration": 0.06916,
     "end_time": "2022-09-19T10:54:59.945413",
     "exception": false,
     "start_time": "2022-09-19T10:54:59.876253",
     "status": "completed"
    },
    "tags": []
   },
   "outputs": [
    {
     "data": {
      "text/html": [
       "<div>\n",
       "<style scoped>\n",
       "    .dataframe tbody tr th:only-of-type {\n",
       "        vertical-align: middle;\n",
       "    }\n",
       "\n",
       "    .dataframe tbody tr th {\n",
       "        vertical-align: top;\n",
       "    }\n",
       "\n",
       "    .dataframe thead th {\n",
       "        text-align: right;\n",
       "    }\n",
       "</style>\n",
       "<table border=\"1\" class=\"dataframe\">\n",
       "  <thead>\n",
       "    <tr style=\"text-align: right;\">\n",
       "      <th></th>\n",
       "      <th>event_id</th>\n",
       "      <th>event_type</th>\n",
       "      <th>result</th>\n",
       "      <th>success</th>\n",
       "      <th>period_id</th>\n",
       "      <th>timestamp</th>\n",
       "      <th>end_timestamp</th>\n",
       "      <th>ball_state</th>\n",
       "      <th>ball_owning_team</th>\n",
       "      <th>team_id</th>\n",
       "      <th>...</th>\n",
       "      <th>is_counter_attack</th>\n",
       "      <th>pass_type</th>\n",
       "      <th>set_piece_type</th>\n",
       "      <th>body_part_type</th>\n",
       "      <th>goalkeeper_action_type</th>\n",
       "      <th>card_type</th>\n",
       "      <th>x</th>\n",
       "      <th>y</th>\n",
       "      <th>end_x</th>\n",
       "      <th>end_y</th>\n",
       "    </tr>\n",
       "  </thead>\n",
       "  <tbody>\n",
       "    <tr>\n",
       "      <th>0</th>\n",
       "      <td>178494347</td>\n",
       "      <td>PASS</td>\n",
       "      <td>COMPLETE</td>\n",
       "      <td>True</td>\n",
       "      <td>1</td>\n",
       "      <td>5.546151</td>\n",
       "      <td>None</td>\n",
       "      <td>None</td>\n",
       "      <td>None</td>\n",
       "      <td>1611</td>\n",
       "      <td>...</td>\n",
       "      <td>False</td>\n",
       "      <td>SIMPLE_PASS</td>\n",
       "      <td>NaN</td>\n",
       "      <td>NaN</td>\n",
       "      <td>NaN</td>\n",
       "      <td>NaN</td>\n",
       "      <td>52.50</td>\n",
       "      <td>35.36</td>\n",
       "      <td>42.00</td>\n",
       "      <td>29.92</td>\n",
       "    </tr>\n",
       "    <tr>\n",
       "      <th>1</th>\n",
       "      <td>178494348</td>\n",
       "      <td>PASS</td>\n",
       "      <td>COMPLETE</td>\n",
       "      <td>True</td>\n",
       "      <td>1</td>\n",
       "      <td>6.708916</td>\n",
       "      <td>None</td>\n",
       "      <td>None</td>\n",
       "      <td>None</td>\n",
       "      <td>1611</td>\n",
       "      <td>...</td>\n",
       "      <td>False</td>\n",
       "      <td>SIMPLE_PASS</td>\n",
       "      <td>NaN</td>\n",
       "      <td>NaN</td>\n",
       "      <td>NaN</td>\n",
       "      <td>NaN</td>\n",
       "      <td>42.00</td>\n",
       "      <td>29.92</td>\n",
       "      <td>34.65</td>\n",
       "      <td>51.00</td>\n",
       "    </tr>\n",
       "    <tr>\n",
       "      <th>2</th>\n",
       "      <td>178494349</td>\n",
       "      <td>PASS</td>\n",
       "      <td>COMPLETE</td>\n",
       "      <td>True</td>\n",
       "      <td>1</td>\n",
       "      <td>9.612072</td>\n",
       "      <td>None</td>\n",
       "      <td>None</td>\n",
       "      <td>None</td>\n",
       "      <td>1611</td>\n",
       "      <td>...</td>\n",
       "      <td>False</td>\n",
       "      <td>SIMPLE_PASS</td>\n",
       "      <td>NaN</td>\n",
       "      <td>NaN</td>\n",
       "      <td>NaN</td>\n",
       "      <td>NaN</td>\n",
       "      <td>34.65</td>\n",
       "      <td>51.00</td>\n",
       "      <td>44.10</td>\n",
       "      <td>51.68</td>\n",
       "    </tr>\n",
       "    <tr>\n",
       "      <th>3</th>\n",
       "      <td>178494350</td>\n",
       "      <td>PASS</td>\n",
       "      <td>COMPLETE</td>\n",
       "      <td>True</td>\n",
       "      <td>1</td>\n",
       "      <td>10.718877</td>\n",
       "      <td>None</td>\n",
       "      <td>None</td>\n",
       "      <td>None</td>\n",
       "      <td>1611</td>\n",
       "      <td>...</td>\n",
       "      <td>False</td>\n",
       "      <td>SIMPLE_PASS</td>\n",
       "      <td>NaN</td>\n",
       "      <td>NaN</td>\n",
       "      <td>NaN</td>\n",
       "      <td>NaN</td>\n",
       "      <td>44.10</td>\n",
       "      <td>51.68</td>\n",
       "      <td>29.40</td>\n",
       "      <td>24.48</td>\n",
       "    </tr>\n",
       "    <tr>\n",
       "      <th>4</th>\n",
       "      <td>178494351</td>\n",
       "      <td>PASS</td>\n",
       "      <td>COMPLETE</td>\n",
       "      <td>True</td>\n",
       "      <td>1</td>\n",
       "      <td>12.728071</td>\n",
       "      <td>None</td>\n",
       "      <td>None</td>\n",
       "      <td>None</td>\n",
       "      <td>1611</td>\n",
       "      <td>...</td>\n",
       "      <td>False</td>\n",
       "      <td>SIMPLE_PASS</td>\n",
       "      <td>NaN</td>\n",
       "      <td>NaN</td>\n",
       "      <td>NaN</td>\n",
       "      <td>NaN</td>\n",
       "      <td>29.40</td>\n",
       "      <td>24.48</td>\n",
       "      <td>35.70</td>\n",
       "      <td>8.16</td>\n",
       "    </tr>\n",
       "    <tr>\n",
       "      <th>...</th>\n",
       "      <td>...</td>\n",
       "      <td>...</td>\n",
       "      <td>...</td>\n",
       "      <td>...</td>\n",
       "      <td>...</td>\n",
       "      <td>...</td>\n",
       "      <td>...</td>\n",
       "      <td>...</td>\n",
       "      <td>...</td>\n",
       "      <td>...</td>\n",
       "      <td>...</td>\n",
       "      <td>...</td>\n",
       "      <td>...</td>\n",
       "      <td>...</td>\n",
       "      <td>...</td>\n",
       "      <td>...</td>\n",
       "      <td>...</td>\n",
       "      <td>...</td>\n",
       "      <td>...</td>\n",
       "      <td>...</td>\n",
       "      <td>...</td>\n",
       "    </tr>\n",
       "    <tr>\n",
       "      <th>1641</th>\n",
       "      <td>178496018</td>\n",
       "      <td>RECOVERY</td>\n",
       "      <td>None</td>\n",
       "      <td>None</td>\n",
       "      <td>2</td>\n",
       "      <td>2862.313235</td>\n",
       "      <td>None</td>\n",
       "      <td>None</td>\n",
       "      <td>None</td>\n",
       "      <td>1633</td>\n",
       "      <td>...</td>\n",
       "      <td>False</td>\n",
       "      <td>NaN</td>\n",
       "      <td>NaN</td>\n",
       "      <td>NaN</td>\n",
       "      <td>NaN</td>\n",
       "      <td>NaN</td>\n",
       "      <td>5.25</td>\n",
       "      <td>23.80</td>\n",
       "      <td>NaN</td>\n",
       "      <td>NaN</td>\n",
       "    </tr>\n",
       "    <tr>\n",
       "      <th>1642</th>\n",
       "      <td>178496019</td>\n",
       "      <td>BALL_OUT</td>\n",
       "      <td>None</td>\n",
       "      <td>None</td>\n",
       "      <td>2</td>\n",
       "      <td>2866.414500</td>\n",
       "      <td>None</td>\n",
       "      <td>None</td>\n",
       "      <td>None</td>\n",
       "      <td>1633</td>\n",
       "      <td>...</td>\n",
       "      <td>False</td>\n",
       "      <td>NaN</td>\n",
       "      <td>NaN</td>\n",
       "      <td>NaN</td>\n",
       "      <td>NaN</td>\n",
       "      <td>NaN</td>\n",
       "      <td>6.30</td>\n",
       "      <td>0.00</td>\n",
       "      <td>NaN</td>\n",
       "      <td>NaN</td>\n",
       "    </tr>\n",
       "    <tr>\n",
       "      <th>1643</th>\n",
       "      <td>178495982</td>\n",
       "      <td>PASS</td>\n",
       "      <td>COMPLETE</td>\n",
       "      <td>True</td>\n",
       "      <td>2</td>\n",
       "      <td>2879.021252</td>\n",
       "      <td>None</td>\n",
       "      <td>None</td>\n",
       "      <td>None</td>\n",
       "      <td>1611</td>\n",
       "      <td>...</td>\n",
       "      <td>False</td>\n",
       "      <td>HAND_PASS</td>\n",
       "      <td>THROW_IN</td>\n",
       "      <td>NaN</td>\n",
       "      <td>NaN</td>\n",
       "      <td>NaN</td>\n",
       "      <td>93.45</td>\n",
       "      <td>68.00</td>\n",
       "      <td>97.65</td>\n",
       "      <td>61.88</td>\n",
       "    </tr>\n",
       "    <tr>\n",
       "      <th>1644</th>\n",
       "      <td>178496020</td>\n",
       "      <td>TAKE_ON</td>\n",
       "      <td>None</td>\n",
       "      <td>None</td>\n",
       "      <td>2</td>\n",
       "      <td>2883.667683</td>\n",
       "      <td>None</td>\n",
       "      <td>None</td>\n",
       "      <td>None</td>\n",
       "      <td>1633</td>\n",
       "      <td>...</td>\n",
       "      <td>False</td>\n",
       "      <td>NaN</td>\n",
       "      <td>NaN</td>\n",
       "      <td>NaN</td>\n",
       "      <td>NaN</td>\n",
       "      <td>NaN</td>\n",
       "      <td>7.35</td>\n",
       "      <td>6.12</td>\n",
       "      <td>NaN</td>\n",
       "      <td>NaN</td>\n",
       "    </tr>\n",
       "    <tr>\n",
       "      <th>1645</th>\n",
       "      <td>178496470</td>\n",
       "      <td>TAKE_ON</td>\n",
       "      <td>INCOMPLETE</td>\n",
       "      <td>False</td>\n",
       "      <td>2</td>\n",
       "      <td>2883.667683</td>\n",
       "      <td>None</td>\n",
       "      <td>None</td>\n",
       "      <td>None</td>\n",
       "      <td>1611</td>\n",
       "      <td>...</td>\n",
       "      <td>False</td>\n",
       "      <td>NaN</td>\n",
       "      <td>NaN</td>\n",
       "      <td>NaN</td>\n",
       "      <td>NaN</td>\n",
       "      <td>NaN</td>\n",
       "      <td>97.65</td>\n",
       "      <td>61.88</td>\n",
       "      <td>NaN</td>\n",
       "      <td>NaN</td>\n",
       "    </tr>\n",
       "  </tbody>\n",
       "</table>\n",
       "<p>1646 rows × 26 columns</p>\n",
       "</div>"
      ],
      "text/plain": [
       "       event_id event_type      result success  period_id    timestamp  \\\n",
       "0     178494347       PASS    COMPLETE    True          1     5.546151   \n",
       "1     178494348       PASS    COMPLETE    True          1     6.708916   \n",
       "2     178494349       PASS    COMPLETE    True          1     9.612072   \n",
       "3     178494350       PASS    COMPLETE    True          1    10.718877   \n",
       "4     178494351       PASS    COMPLETE    True          1    12.728071   \n",
       "...         ...        ...         ...     ...        ...          ...   \n",
       "1641  178496018   RECOVERY        None    None          2  2862.313235   \n",
       "1642  178496019   BALL_OUT        None    None          2  2866.414500   \n",
       "1643  178495982       PASS    COMPLETE    True          2  2879.021252   \n",
       "1644  178496020    TAKE_ON        None    None          2  2883.667683   \n",
       "1645  178496470    TAKE_ON  INCOMPLETE   False          2  2883.667683   \n",
       "\n",
       "     end_timestamp ball_state ball_owning_team team_id  ... is_counter_attack  \\\n",
       "0             None       None             None    1611  ...             False   \n",
       "1             None       None             None    1611  ...             False   \n",
       "2             None       None             None    1611  ...             False   \n",
       "3             None       None             None    1611  ...             False   \n",
       "4             None       None             None    1611  ...             False   \n",
       "...            ...        ...              ...     ...  ...               ...   \n",
       "1641          None       None             None    1633  ...             False   \n",
       "1642          None       None             None    1633  ...             False   \n",
       "1643          None       None             None    1611  ...             False   \n",
       "1644          None       None             None    1633  ...             False   \n",
       "1645          None       None             None    1611  ...             False   \n",
       "\n",
       "        pass_type  set_piece_type  body_part_type  goalkeeper_action_type  \\\n",
       "0     SIMPLE_PASS             NaN             NaN                     NaN   \n",
       "1     SIMPLE_PASS             NaN             NaN                     NaN   \n",
       "2     SIMPLE_PASS             NaN             NaN                     NaN   \n",
       "3     SIMPLE_PASS             NaN             NaN                     NaN   \n",
       "4     SIMPLE_PASS             NaN             NaN                     NaN   \n",
       "...           ...             ...             ...                     ...   \n",
       "1641          NaN             NaN             NaN                     NaN   \n",
       "1642          NaN             NaN             NaN                     NaN   \n",
       "1643    HAND_PASS        THROW_IN             NaN                     NaN   \n",
       "1644          NaN             NaN             NaN                     NaN   \n",
       "1645          NaN             NaN             NaN                     NaN   \n",
       "\n",
       "      card_type      x      y  end_x  end_y  \n",
       "0           NaN  52.50  35.36  42.00  29.92  \n",
       "1           NaN  42.00  29.92  34.65  51.00  \n",
       "2           NaN  34.65  51.00  44.10  51.68  \n",
       "3           NaN  44.10  51.68  29.40  24.48  \n",
       "4           NaN  29.40  24.48  35.70   8.16  \n",
       "...         ...    ...    ...    ...    ...  \n",
       "1641        NaN   5.25  23.80    NaN    NaN  \n",
       "1642        NaN   6.30   0.00    NaN    NaN  \n",
       "1643        NaN  93.45  68.00  97.65  61.88  \n",
       "1644        NaN   7.35   6.12    NaN    NaN  \n",
       "1645        NaN  97.65  61.88    NaN    NaN  \n",
       "\n",
       "[1646 rows x 26 columns]"
      ]
     },
     "execution_count": 16,
     "metadata": {},
     "output_type": "execute_result"
    }
   ],
   "source": [
    "matchdf"
   ]
  },
  {
   "cell_type": "code",
   "execution_count": 17,
   "id": "0cfa29ce",
   "metadata": {
    "execution": {
     "iopub.execute_input": "2022-09-19T10:54:59.981152Z",
     "iopub.status.busy": "2022-09-19T10:54:59.980427Z",
     "iopub.status.idle": "2022-09-19T10:55:00.006756Z",
     "shell.execute_reply": "2022-09-19T10:55:00.005546Z"
    },
    "papermill": {
     "duration": 0.046672,
     "end_time": "2022-09-19T10:55:00.009463",
     "exception": false,
     "start_time": "2022-09-19T10:54:59.962791",
     "status": "completed"
    },
    "tags": []
   },
   "outputs": [
    {
     "name": "stderr",
     "output_type": "stream",
     "text": [
      "/opt/conda/lib/python3.7/site-packages/ipykernel_launcher.py:5: FutureWarning: Dropping of nuisance columns in DataFrame reductions (with 'numeric_only=None') is deprecated; in a future version this will raise TypeError.  Select only valid columns before calling the reduction.\n",
      "  \"\"\"\n"
     ]
    }
   ],
   "source": [
    "matchdf = drop0var(matchdf)"
   ]
  },
  {
   "cell_type": "code",
   "execution_count": 18,
   "id": "fb5881fb",
   "metadata": {
    "execution": {
     "iopub.execute_input": "2022-09-19T10:55:00.044202Z",
     "iopub.status.busy": "2022-09-19T10:55:00.043744Z",
     "iopub.status.idle": "2022-09-19T10:55:00.049872Z",
     "shell.execute_reply": "2022-09-19T10:55:00.048527Z"
    },
    "papermill": {
     "duration": 0.0265,
     "end_time": "2022-09-19T10:55:00.052905",
     "exception": false,
     "start_time": "2022-09-19T10:55:00.026405",
     "status": "completed"
    },
    "tags": []
   },
   "outputs": [
    {
     "name": "stdout",
     "output_type": "stream",
     "text": [
      "event_id\n",
      "event_type\n",
      "result\n",
      "success\n",
      "period_id\n",
      "timestamp\n",
      "end_timestamp\n",
      "ball_state\n",
      "ball_owning_team\n",
      "team_id\n",
      "player_id\n",
      "coordinates_x\n",
      "coordinates_y\n",
      "end_coordinates_x\n",
      "end_coordinates_y\n",
      "receiver_player_id\n",
      "is_counter_attack\n",
      "pass_type\n",
      "set_piece_type\n",
      "body_part_type\n",
      "goalkeeper_action_type\n",
      "card_type\n",
      "x\n",
      "y\n",
      "end_x\n",
      "end_y\n"
     ]
    }
   ],
   "source": [
    "for col in matchdf.columns:\n",
    "    print(col)"
   ]
  },
  {
   "cell_type": "code",
   "execution_count": 19,
   "id": "18e860ea",
   "metadata": {
    "execution": {
     "iopub.execute_input": "2022-09-19T10:55:00.087495Z",
     "iopub.status.busy": "2022-09-19T10:55:00.086528Z",
     "iopub.status.idle": "2022-09-19T10:55:00.097212Z",
     "shell.execute_reply": "2022-09-19T10:55:00.095890Z"
    },
    "papermill": {
     "duration": 0.030484,
     "end_time": "2022-09-19T10:55:00.099923",
     "exception": false,
     "start_time": "2022-09-19T10:55:00.069439",
     "status": "completed"
    },
    "tags": []
   },
   "outputs": [
    {
     "data": {
      "text/plain": [
       "0           PASS\n",
       "1           PASS\n",
       "2           PASS\n",
       "3           PASS\n",
       "4           PASS\n",
       "          ...   \n",
       "1641    RECOVERY\n",
       "1642    BALL_OUT\n",
       "1643        PASS\n",
       "1644     TAKE_ON\n",
       "1645     TAKE_ON\n",
       "Name: event_type, Length: 1646, dtype: object"
      ]
     },
     "execution_count": 19,
     "metadata": {},
     "output_type": "execute_result"
    }
   ],
   "source": [
    "matchdf.event_type"
   ]
  },
  {
   "cell_type": "code",
   "execution_count": 20,
   "id": "9dd6a742",
   "metadata": {
    "execution": {
     "iopub.execute_input": "2022-09-19T10:55:00.136996Z",
     "iopub.status.busy": "2022-09-19T10:55:00.136223Z",
     "iopub.status.idle": "2022-09-19T10:55:00.140715Z",
     "shell.execute_reply": "2022-09-19T10:55:00.139762Z"
    },
    "papermill": {
     "duration": 0.025677,
     "end_time": "2022-09-19T10:55:00.142898",
     "exception": false,
     "start_time": "2022-09-19T10:55:00.117221",
     "status": "completed"
    },
    "tags": []
   },
   "outputs": [],
   "source": [
    "# passes = matchdf[matchdf.event_type == \"PASS\"]\n",
    "passes = allpasses"
   ]
  },
  {
   "cell_type": "code",
   "execution_count": 21,
   "id": "83e11e1b",
   "metadata": {
    "execution": {
     "iopub.execute_input": "2022-09-19T10:55:00.176427Z",
     "iopub.status.busy": "2022-09-19T10:55:00.175735Z",
     "iopub.status.idle": "2022-09-19T10:55:00.438537Z",
     "shell.execute_reply": "2022-09-19T10:55:00.437428Z"
    },
    "papermill": {
     "duration": 0.282667,
     "end_time": "2022-09-19T10:55:00.441389",
     "exception": false,
     "start_time": "2022-09-19T10:55:00.158722",
     "status": "completed"
    },
    "tags": []
   },
   "outputs": [],
   "source": [
    "passes['x'] = passes['coordinates_x'].apply(map_length)\n",
    "passes['y'] = passes['coordinates_y'].apply(map_width)"
   ]
  },
  {
   "cell_type": "code",
   "execution_count": 22,
   "id": "a116cf25",
   "metadata": {
    "execution": {
     "iopub.execute_input": "2022-09-19T10:55:00.475406Z",
     "iopub.status.busy": "2022-09-19T10:55:00.474991Z",
     "iopub.status.idle": "2022-09-19T10:55:00.482222Z",
     "shell.execute_reply": "2022-09-19T10:55:00.480986Z"
    },
    "papermill": {
     "duration": 0.027493,
     "end_time": "2022-09-19T10:55:00.484800",
     "exception": false,
     "start_time": "2022-09-19T10:55:00.457307",
     "status": "completed"
    },
    "tags": []
   },
   "outputs": [
    {
     "data": {
      "text/plain": [
       "'1659'"
      ]
     },
     "execution_count": 22,
     "metadata": {},
     "output_type": "execute_result"
    }
   ],
   "source": [
    "passes.team_id.iloc[0]"
   ]
  },
  {
   "cell_type": "code",
   "execution_count": 23,
   "id": "d683d00d",
   "metadata": {
    "execution": {
     "iopub.execute_input": "2022-09-19T10:55:00.518183Z",
     "iopub.status.busy": "2022-09-19T10:55:00.517748Z",
     "iopub.status.idle": "2022-09-19T10:55:00.524434Z",
     "shell.execute_reply": "2022-09-19T10:55:00.523111Z"
    },
    "papermill": {
     "duration": 0.026353,
     "end_time": "2022-09-19T10:55:00.526888",
     "exception": false,
     "start_time": "2022-09-19T10:55:00.500535",
     "status": "completed"
    },
    "tags": []
   },
   "outputs": [],
   "source": [
    "def plot_event(df):\n",
    "    create_pitch(length, width, 'white')\n",
    "    first_team = df.team_id.iloc[0]\n",
    "    for index, p in df.iterrows():\n",
    "        color = 'red' if p.team_id == first_team else 'blue'\n",
    "        x = p.x\n",
    "        y = p.y\n",
    "        plt.scatter(x, y, color = color)\n",
    "\n",
    "    plt.show()"
   ]
  },
  {
   "cell_type": "code",
   "execution_count": 24,
   "id": "f52e24d1",
   "metadata": {
    "execution": {
     "iopub.execute_input": "2022-09-19T10:55:00.560200Z",
     "iopub.status.busy": "2022-09-19T10:55:00.559752Z",
     "iopub.status.idle": "2022-09-19T10:55:00.564734Z",
     "shell.execute_reply": "2022-09-19T10:55:00.563424Z"
    },
    "papermill": {
     "duration": 0.024517,
     "end_time": "2022-09-19T10:55:00.567123",
     "exception": false,
     "start_time": "2022-09-19T10:55:00.542606",
     "status": "completed"
    },
    "tags": []
   },
   "outputs": [],
   "source": [
    "# plot_event(passes)"
   ]
  },
  {
   "cell_type": "code",
   "execution_count": 25,
   "id": "2b388e7f",
   "metadata": {
    "execution": {
     "iopub.execute_input": "2022-09-19T10:55:00.600289Z",
     "iopub.status.busy": "2022-09-19T10:55:00.599717Z",
     "iopub.status.idle": "2022-09-19T10:55:00.608583Z",
     "shell.execute_reply": "2022-09-19T10:55:00.607421Z"
    },
    "papermill": {
     "duration": 0.028384,
     "end_time": "2022-09-19T10:55:00.611102",
     "exception": false,
     "start_time": "2022-09-19T10:55:00.582718",
     "status": "completed"
    },
    "tags": []
   },
   "outputs": [
    {
     "data": {
      "text/plain": [
       "Index(['weight', 'firstName', 'middleName', 'lastName', 'currentTeamId',\n",
       "       'birthDate', 'height', 'wyId', 'foot', 'shortName',\n",
       "       'currentNationalTeamId', 'passportArea_name', 'passportArea_id',\n",
       "       'passportArea_alpha3code', 'passportArea_alpha2code', 'role_code2',\n",
       "       'role_code3', 'role_name', 'birthArea_name', 'birthArea_id',\n",
       "       'birthArea_alpha3code', 'birthArea_alpha2code'],\n",
       "      dtype='object')"
      ]
     },
     "execution_count": 25,
     "metadata": {},
     "output_type": "execute_result"
    }
   ],
   "source": [
    "players.columns"
   ]
  },
  {
   "cell_type": "code",
   "execution_count": 26,
   "id": "f7e622c0",
   "metadata": {
    "execution": {
     "iopub.execute_input": "2022-09-19T10:55:00.648540Z",
     "iopub.status.busy": "2022-09-19T10:55:00.648138Z",
     "iopub.status.idle": "2022-09-19T10:55:00.673240Z",
     "shell.execute_reply": "2022-09-19T10:55:00.672084Z"
    },
    "papermill": {
     "duration": 0.047198,
     "end_time": "2022-09-19T10:55:00.675749",
     "exception": false,
     "start_time": "2022-09-19T10:55:00.628551",
     "status": "completed"
    },
    "tags": []
   },
   "outputs": [
    {
     "data": {
      "text/html": [
       "<div>\n",
       "<style scoped>\n",
       "    .dataframe tbody tr th:only-of-type {\n",
       "        vertical-align: middle;\n",
       "    }\n",
       "\n",
       "    .dataframe tbody tr th {\n",
       "        vertical-align: top;\n",
       "    }\n",
       "\n",
       "    .dataframe thead th {\n",
       "        text-align: right;\n",
       "    }\n",
       "</style>\n",
       "<table border=\"1\" class=\"dataframe\">\n",
       "  <thead>\n",
       "    <tr style=\"text-align: right;\">\n",
       "      <th></th>\n",
       "      <th>weight</th>\n",
       "      <th>firstName</th>\n",
       "      <th>middleName</th>\n",
       "      <th>lastName</th>\n",
       "      <th>currentTeamId</th>\n",
       "      <th>birthDate</th>\n",
       "      <th>height</th>\n",
       "      <th>wyId</th>\n",
       "      <th>foot</th>\n",
       "      <th>shortName</th>\n",
       "      <th>...</th>\n",
       "      <th>passportArea_id</th>\n",
       "      <th>passportArea_alpha3code</th>\n",
       "      <th>passportArea_alpha2code</th>\n",
       "      <th>role_code2</th>\n",
       "      <th>role_code3</th>\n",
       "      <th>role_name</th>\n",
       "      <th>birthArea_name</th>\n",
       "      <th>birthArea_id</th>\n",
       "      <th>birthArea_alpha3code</th>\n",
       "      <th>birthArea_alpha2code</th>\n",
       "    </tr>\n",
       "  </thead>\n",
       "  <tbody>\n",
       "    <tr>\n",
       "      <th>2900</th>\n",
       "      <td>63</td>\n",
       "      <td>Juan Manuel</td>\n",
       "      <td></td>\n",
       "      <td>Mata Garc\\u00eda</td>\n",
       "      <td>1611</td>\n",
       "      <td>1988-04-28</td>\n",
       "      <td>170</td>\n",
       "      <td>7906</td>\n",
       "      <td>left</td>\n",
       "      <td>Juan Mata</td>\n",
       "      <td>...</td>\n",
       "      <td>724</td>\n",
       "      <td>ESP</td>\n",
       "      <td>ES</td>\n",
       "      <td>MD</td>\n",
       "      <td>MID</td>\n",
       "      <td>Midfielder</td>\n",
       "      <td>Spain</td>\n",
       "      <td>724</td>\n",
       "      <td>ESP</td>\n",
       "      <td>ES</td>\n",
       "    </tr>\n",
       "  </tbody>\n",
       "</table>\n",
       "<p>1 rows × 22 columns</p>\n",
       "</div>"
      ],
      "text/plain": [
       "      weight    firstName middleName          lastName currentTeamId  \\\n",
       "2900      63  Juan Manuel             Mata Garc\\u00eda          1611   \n",
       "\n",
       "       birthDate  height  wyId  foot  shortName  ... passportArea_id  \\\n",
       "2900  1988-04-28     170  7906  left  Juan Mata  ...             724   \n",
       "\n",
       "     passportArea_alpha3code passportArea_alpha2code role_code2 role_code3  \\\n",
       "2900                     ESP                      ES         MD        MID   \n",
       "\n",
       "       role_name birthArea_name birthArea_id birthArea_alpha3code  \\\n",
       "2900  Midfielder          Spain          724                  ESP   \n",
       "\n",
       "     birthArea_alpha2code  \n",
       "2900                   ES  \n",
       "\n",
       "[1 rows x 22 columns]"
      ]
     },
     "execution_count": 26,
     "metadata": {},
     "output_type": "execute_result"
    }
   ],
   "source": [
    "players[players.wyId == 7906]"
   ]
  },
  {
   "cell_type": "code",
   "execution_count": 27,
   "id": "56ed19e4",
   "metadata": {
    "execution": {
     "iopub.execute_input": "2022-09-19T10:55:00.710567Z",
     "iopub.status.busy": "2022-09-19T10:55:00.710119Z",
     "iopub.status.idle": "2022-09-19T10:55:00.719429Z",
     "shell.execute_reply": "2022-09-19T10:55:00.718235Z"
    },
    "papermill": {
     "duration": 0.029578,
     "end_time": "2022-09-19T10:55:00.721574",
     "exception": false,
     "start_time": "2022-09-19T10:55:00.691996",
     "status": "completed"
    },
    "tags": []
   },
   "outputs": [
    {
     "data": {
      "text/plain": [
       "0         7906\n",
       "1       105338\n",
       "2        70122\n",
       "3         7936\n",
       "4         7918\n",
       "         ...  \n",
       "1641      8301\n",
       "1642      None\n",
       "1643      None\n",
       "1644     14703\n",
       "1645      None\n",
       "Name: player_id, Length: 1646, dtype: object"
      ]
     },
     "execution_count": 27,
     "metadata": {},
     "output_type": "execute_result"
    }
   ],
   "source": [
    "matchdf.player_id"
   ]
  },
  {
   "cell_type": "code",
   "execution_count": 28,
   "id": "b12564ee",
   "metadata": {
    "execution": {
     "iopub.execute_input": "2022-09-19T10:55:00.756428Z",
     "iopub.status.busy": "2022-09-19T10:55:00.755113Z",
     "iopub.status.idle": "2022-09-19T10:55:00.762698Z",
     "shell.execute_reply": "2022-09-19T10:55:00.761450Z"
    },
    "papermill": {
     "duration": 0.027683,
     "end_time": "2022-09-19T10:55:00.765111",
     "exception": false,
     "start_time": "2022-09-19T10:55:00.737428",
     "status": "completed"
    },
    "tags": []
   },
   "outputs": [],
   "source": [
    "matchdf['player_name'] = matchdf.player_id.apply(map_players)"
   ]
  },
  {
   "cell_type": "code",
   "execution_count": 29,
   "id": "0347010b",
   "metadata": {
    "execution": {
     "iopub.execute_input": "2022-09-19T10:55:00.800099Z",
     "iopub.status.busy": "2022-09-19T10:55:00.799682Z",
     "iopub.status.idle": "2022-09-19T10:55:00.818062Z",
     "shell.execute_reply": "2022-09-19T10:55:00.816891Z"
    },
    "papermill": {
     "duration": 0.038282,
     "end_time": "2022-09-19T10:55:00.820388",
     "exception": false,
     "start_time": "2022-09-19T10:55:00.782106",
     "status": "completed"
    },
    "tags": []
   },
   "outputs": [
    {
     "data": {
      "text/html": [
       "<div>\n",
       "<style scoped>\n",
       "    .dataframe tbody tr th:only-of-type {\n",
       "        vertical-align: middle;\n",
       "    }\n",
       "\n",
       "    .dataframe tbody tr th {\n",
       "        vertical-align: top;\n",
       "    }\n",
       "\n",
       "    .dataframe thead th {\n",
       "        text-align: right;\n",
       "    }\n",
       "</style>\n",
       "<table border=\"1\" class=\"dataframe\">\n",
       "  <thead>\n",
       "    <tr style=\"text-align: right;\">\n",
       "      <th></th>\n",
       "      <th>event_type</th>\n",
       "      <th>player_id</th>\n",
       "      <th>player_name</th>\n",
       "      <th>timestamp</th>\n",
       "    </tr>\n",
       "  </thead>\n",
       "  <tbody>\n",
       "    <tr>\n",
       "      <th>0</th>\n",
       "      <td>PASS</td>\n",
       "      <td>7906</td>\n",
       "      <td>Juan Manuel Mata Garc\\u00eda</td>\n",
       "      <td>5.546151</td>\n",
       "    </tr>\n",
       "    <tr>\n",
       "      <th>1</th>\n",
       "      <td>PASS</td>\n",
       "      <td>105338</td>\n",
       "      <td>Henrikh Mkhitaryan</td>\n",
       "      <td>6.708916</td>\n",
       "    </tr>\n",
       "    <tr>\n",
       "      <th>2</th>\n",
       "      <td>PASS</td>\n",
       "      <td>70122</td>\n",
       "      <td>Nemanja Mati\\u0107</td>\n",
       "      <td>9.612072</td>\n",
       "    </tr>\n",
       "    <tr>\n",
       "      <th>3</th>\n",
       "      <td>PASS</td>\n",
       "      <td>7936</td>\n",
       "      <td>Paul Pogba</td>\n",
       "      <td>10.718877</td>\n",
       "    </tr>\n",
       "    <tr>\n",
       "      <th>4</th>\n",
       "      <td>PASS</td>\n",
       "      <td>7918</td>\n",
       "      <td>Phil Jones</td>\n",
       "      <td>12.728071</td>\n",
       "    </tr>\n",
       "    <tr>\n",
       "      <th>...</th>\n",
       "      <td>...</td>\n",
       "      <td>...</td>\n",
       "      <td>...</td>\n",
       "      <td>...</td>\n",
       "    </tr>\n",
       "    <tr>\n",
       "      <th>1641</th>\n",
       "      <td>RECOVERY</td>\n",
       "      <td>8301</td>\n",
       "      <td>Joe Hart</td>\n",
       "      <td>2862.313235</td>\n",
       "    </tr>\n",
       "    <tr>\n",
       "      <th>1642</th>\n",
       "      <td>BALL_OUT</td>\n",
       "      <td>None</td>\n",
       "      <td>None</td>\n",
       "      <td>2866.414500</td>\n",
       "    </tr>\n",
       "    <tr>\n",
       "      <th>1643</th>\n",
       "      <td>PASS</td>\n",
       "      <td>None</td>\n",
       "      <td>None</td>\n",
       "      <td>2879.021252</td>\n",
       "    </tr>\n",
       "    <tr>\n",
       "      <th>1644</th>\n",
       "      <td>TAKE_ON</td>\n",
       "      <td>14703</td>\n",
       "      <td>Marko Arnautovi\\u0107</td>\n",
       "      <td>2883.667683</td>\n",
       "    </tr>\n",
       "    <tr>\n",
       "      <th>1645</th>\n",
       "      <td>TAKE_ON</td>\n",
       "      <td>None</td>\n",
       "      <td>None</td>\n",
       "      <td>2883.667683</td>\n",
       "    </tr>\n",
       "  </tbody>\n",
       "</table>\n",
       "<p>1646 rows × 4 columns</p>\n",
       "</div>"
      ],
      "text/plain": [
       "     event_type player_id                   player_name    timestamp\n",
       "0          PASS      7906  Juan Manuel Mata Garc\\u00eda     5.546151\n",
       "1          PASS    105338            Henrikh Mkhitaryan     6.708916\n",
       "2          PASS     70122            Nemanja Mati\\u0107     9.612072\n",
       "3          PASS      7936                    Paul Pogba    10.718877\n",
       "4          PASS      7918                    Phil Jones    12.728071\n",
       "...         ...       ...                           ...          ...\n",
       "1641   RECOVERY      8301                      Joe Hart  2862.313235\n",
       "1642   BALL_OUT      None                          None  2866.414500\n",
       "1643       PASS      None                          None  2879.021252\n",
       "1644    TAKE_ON     14703         Marko Arnautovi\\u0107  2883.667683\n",
       "1645    TAKE_ON      None                          None  2883.667683\n",
       "\n",
       "[1646 rows x 4 columns]"
      ]
     },
     "execution_count": 29,
     "metadata": {},
     "output_type": "execute_result"
    }
   ],
   "source": [
    "matchdf[['event_type', 'player_id', 'player_name', 'timestamp']]"
   ]
  },
  {
   "cell_type": "code",
   "execution_count": 30,
   "id": "46f815fa",
   "metadata": {
    "execution": {
     "iopub.execute_input": "2022-09-19T10:55:00.855867Z",
     "iopub.status.busy": "2022-09-19T10:55:00.854405Z",
     "iopub.status.idle": "2022-09-19T10:55:01.089901Z",
     "shell.execute_reply": "2022-09-19T10:55:01.088713Z"
    },
    "papermill": {
     "duration": 0.255917,
     "end_time": "2022-09-19T10:55:01.092691",
     "exception": false,
     "start_time": "2022-09-19T10:55:00.836774",
     "status": "completed"
    },
    "tags": []
   },
   "outputs": [
    {
     "data": {
      "text/plain": [
       "coordinates_x    1.0\n",
       "coordinates_y    1.0\n",
       "dtype: float64"
      ]
     },
     "execution_count": 30,
     "metadata": {},
     "output_type": "execute_result"
    }
   ],
   "source": [
    "passes[['coordinates_x', 'coordinates_y']].max()"
   ]
  },
  {
   "cell_type": "code",
   "execution_count": 31,
   "id": "fa0442d3",
   "metadata": {
    "execution": {
     "iopub.execute_input": "2022-09-19T10:55:01.129421Z",
     "iopub.status.busy": "2022-09-19T10:55:01.128900Z",
     "iopub.status.idle": "2022-09-19T10:55:01.143180Z",
     "shell.execute_reply": "2022-09-19T10:55:01.141782Z"
    },
    "papermill": {
     "duration": 0.035904,
     "end_time": "2022-09-19T10:55:01.145570",
     "exception": false,
     "start_time": "2022-09-19T10:55:01.109666",
     "status": "completed"
    },
    "tags": []
   },
   "outputs": [
    {
     "data": {
      "text/plain": [
       "coordinates_x    0.0\n",
       "coordinates_y    0.0\n",
       "dtype: float64"
      ]
     },
     "execution_count": 31,
     "metadata": {},
     "output_type": "execute_result"
    }
   ],
   "source": [
    "passes[['coordinates_x', 'coordinates_y']].min()"
   ]
  },
  {
   "cell_type": "code",
   "execution_count": 32,
   "id": "9f1dfca1",
   "metadata": {
    "execution": {
     "iopub.execute_input": "2022-09-19T10:55:01.182995Z",
     "iopub.status.busy": "2022-09-19T10:55:01.182590Z",
     "iopub.status.idle": "2022-09-19T10:55:01.189119Z",
     "shell.execute_reply": "2022-09-19T10:55:01.187942Z"
    },
    "papermill": {
     "duration": 0.028198,
     "end_time": "2022-09-19T10:55:01.191436",
     "exception": false,
     "start_time": "2022-09-19T10:55:01.163238",
     "status": "completed"
    },
    "tags": []
   },
   "outputs": [],
   "source": [
    "shots = matchdf[matchdf.event_type == 'SHOT']"
   ]
  },
  {
   "cell_type": "code",
   "execution_count": 33,
   "id": "12e9fea7",
   "metadata": {
    "execution": {
     "iopub.execute_input": "2022-09-19T10:55:01.227304Z",
     "iopub.status.busy": "2022-09-19T10:55:01.226897Z",
     "iopub.status.idle": "2022-09-19T10:55:01.233797Z",
     "shell.execute_reply": "2022-09-19T10:55:01.232981Z"
    },
    "papermill": {
     "duration": 0.030133,
     "end_time": "2022-09-19T10:55:01.238602",
     "exception": false,
     "start_time": "2022-09-19T10:55:01.208469",
     "status": "completed"
    },
    "tags": []
   },
   "outputs": [
    {
     "name": "stdout",
     "output_type": "stream",
     "text": [
      "event_id                           178494555\n",
      "event_type                              SHOT\n",
      "result                            OFF_TARGET\n",
      "success                                False\n",
      "period_id                                  1\n",
      "timestamp                         665.816769\n",
      "end_timestamp                           None\n",
      "ball_state                              None\n",
      "ball_owning_team                        None\n",
      "team_id                                 1611\n",
      "player_id                             105338\n",
      "coordinates_x                           0.89\n",
      "coordinates_y                            0.7\n",
      "end_coordinates_x                        0.0\n",
      "end_coordinates_y                        0.0\n",
      "receiver_player_id                       NaN\n",
      "is_counter_attack                      False\n",
      "pass_type                                NaN\n",
      "set_piece_type                           NaN\n",
      "body_part_type                           NaN\n",
      "goalkeeper_action_type                   NaN\n",
      "card_type                                NaN\n",
      "x                                      93.45\n",
      "y                                       47.6\n",
      "end_x                                    0.0\n",
      "end_y                                    0.0\n",
      "player_name               Henrikh Mkhitaryan\n",
      "Name: 229, dtype: object\n"
     ]
    }
   ],
   "source": [
    "for i, s in shots.iterrows():\n",
    "    print(s)\n",
    "    break"
   ]
  },
  {
   "cell_type": "code",
   "execution_count": 34,
   "id": "067c4113",
   "metadata": {
    "execution": {
     "iopub.execute_input": "2022-09-19T10:55:01.278611Z",
     "iopub.status.busy": "2022-09-19T10:55:01.277337Z",
     "iopub.status.idle": "2022-09-19T10:55:02.026117Z",
     "shell.execute_reply": "2022-09-19T10:55:02.024908Z"
    },
    "papermill": {
     "duration": 0.771178,
     "end_time": "2022-09-19T10:55:02.028685",
     "exception": false,
     "start_time": "2022-09-19T10:55:01.257507",
     "status": "completed"
    },
    "tags": []
   },
   "outputs": [
    {
     "data": {
      "image/png": "[encoded data removed]",
      "text/plain": [
       "<Figure size 1080x720 with 1 Axes>"
      ]
     },
     "metadata": {},
     "output_type": "display_data"
    }
   ],
   "source": [
    "plot_event(shots)"
   ]
  },
  {
   "cell_type": "code",
   "execution_count": 35,
   "id": "4fcfef2f",
   "metadata": {
    "execution": {
     "iopub.execute_input": "2022-09-19T10:55:02.066554Z",
     "iopub.status.busy": "2022-09-19T10:55:02.065901Z",
     "iopub.status.idle": "2022-09-19T10:55:02.073420Z",
     "shell.execute_reply": "2022-09-19T10:55:02.072104Z"
    },
    "papermill": {
     "duration": 0.028839,
     "end_time": "2022-09-19T10:55:02.075828",
     "exception": false,
     "start_time": "2022-09-19T10:55:02.046989",
     "status": "completed"
    },
    "tags": []
   },
   "outputs": [
    {
     "data": {
      "text/plain": [
       "Index(['event_id', 'event_type', 'result', 'success', 'period_id', 'timestamp',\n",
       "       'end_timestamp', 'ball_state', 'ball_owning_team', 'team_id',\n",
       "       'player_id', 'coordinates_x', 'coordinates_y', 'end_coordinates_x',\n",
       "       'end_coordinates_y', 'receiver_player_id', 'is_counter_attack',\n",
       "       'pass_type', 'body_part_type', 'set_piece_type',\n",
       "       'goalkeeper_action_type', 'card_type', 'x', 'y'],\n",
       "      dtype='object')"
      ]
     },
     "execution_count": 35,
     "metadata": {},
     "output_type": "execute_result"
    }
   ],
   "source": [
    "passes.columns"
   ]
  },
  {
   "cell_type": "code",
   "execution_count": 36,
   "id": "5334a852",
   "metadata": {
    "execution": {
     "iopub.execute_input": "2022-09-19T10:55:02.112779Z",
     "iopub.status.busy": "2022-09-19T10:55:02.111552Z",
     "iopub.status.idle": "2022-09-19T10:55:02.117133Z",
     "shell.execute_reply": "2022-09-19T10:55:02.115878Z"
    },
    "papermill": {
     "duration": 0.026365,
     "end_time": "2022-09-19T10:55:02.119445",
     "exception": false,
     "start_time": "2022-09-19T10:55:02.093080",
     "status": "completed"
    },
    "tags": []
   },
   "outputs": [],
   "source": [
    "cluster_cols = ['coordinates_x', 'coordinates_y', 'end_coordinates_x', 'end_coordinates_y']"
   ]
  },
  {
   "cell_type": "code",
   "execution_count": 37,
   "id": "6c52c685",
   "metadata": {
    "execution": {
     "iopub.execute_input": "2022-09-19T10:55:02.157874Z",
     "iopub.status.busy": "2022-09-19T10:55:02.156374Z",
     "iopub.status.idle": "2022-09-19T10:55:02.389579Z",
     "shell.execute_reply": "2022-09-19T10:55:02.388480Z"
    },
    "papermill": {
     "duration": 0.255087,
     "end_time": "2022-09-19T10:55:02.392263",
     "exception": false,
     "start_time": "2022-09-19T10:55:02.137176",
     "status": "completed"
    },
    "tags": []
   },
   "outputs": [],
   "source": [
    "passes['end_x'] = passes['end_coordinates_x'].apply(map_length)\n",
    "passes['end_y'] = passes['end_coordinates_y'].apply(map_width)"
   ]
  },
  {
   "cell_type": "code",
   "execution_count": 38,
   "id": "175ddcdd",
   "metadata": {
    "execution": {
     "iopub.execute_input": "2022-09-19T10:55:02.430035Z",
     "iopub.status.busy": "2022-09-19T10:55:02.428675Z",
     "iopub.status.idle": "2022-09-19T11:19:21.825526Z",
     "shell.execute_reply": "2022-09-19T11:19:21.823857Z"
    },
    "papermill": {
     "duration": 1459.419594,
     "end_time": "2022-09-19T11:19:21.829681",
     "exception": false,
     "start_time": "2022-09-19T10:55:02.410087",
     "status": "completed"
    },
    "tags": []
   },
   "outputs": [],
   "source": [
    "from sklearn.mixture import BayesianGaussianMixture\n",
    "bgm = BayesianGaussianMixture(n_components=20,\n",
    "                              random_state=42,\n",
    "                              max_iter = 1000,\n",
    "                              init_params = 'kmeans').fit(passes[cluster_cols])"
   ]
  },
  {
   "cell_type": "code",
   "execution_count": 39,
   "id": "23b814a9",
   "metadata": {
    "execution": {
     "iopub.execute_input": "2022-09-19T11:19:21.867589Z",
     "iopub.status.busy": "2022-09-19T11:19:21.866623Z",
     "iopub.status.idle": "2022-09-19T11:19:22.980584Z",
     "shell.execute_reply": "2022-09-19T11:19:22.979156Z"
    },
    "papermill": {
     "duration": 1.135958,
     "end_time": "2022-09-19T11:19:22.983711",
     "exception": false,
     "start_time": "2022-09-19T11:19:21.847753",
     "status": "completed"
    },
    "tags": []
   },
   "outputs": [],
   "source": [
    "passes['cluster'] = bgm.predict(passes[cluster_cols])\n",
    "clusters_ = passes.groupby('cluster').mean()[['x', 'y', 'end_x', 'end_y']]"
   ]
  },
  {
   "cell_type": "code",
   "execution_count": 40,
   "id": "d011b01e",
   "metadata": {
    "execution": {
     "iopub.execute_input": "2022-09-19T11:19:23.020960Z",
     "iopub.status.busy": "2022-09-19T11:19:23.020430Z",
     "iopub.status.idle": "2022-09-19T11:19:25.515776Z",
     "shell.execute_reply": "2022-09-19T11:19:25.514893Z"
    },
    "papermill": {
     "duration": 2.517154,
     "end_time": "2022-09-19T11:19:25.518778",
     "exception": false,
     "start_time": "2022-09-19T11:19:23.001624",
     "status": "completed"
    },
    "tags": []
   },
   "outputs": [
    {
     "data": {
      "image/png": "[encoded data removed]",
      "text/plain": [
       "<Figure size 1080x720 with 1 Axes>"
      ]
     },
     "metadata": {},
     "output_type": "display_data"
    }
   ],
   "source": [
    "fig, ax = create_pitch(120, 80,'white')\n",
    "for index, pass_ in clusters_.iterrows():\n",
    "    if (index < 0):\n",
    "        continue\n",
    "    x, y = pass_['x'], pass_['y']\n",
    "    end_x, end_y = pass_['end_x'], pass_['end_y']\n",
    "    color = 'blue' \n",
    "    y = 80 - y\n",
    "    end_y = 80 - end_y\n",
    "    plt.plot([x, end_x], [y, end_y], linewidth = 5)\n",
    "    plt.text((x+1),y+1,index, color = \"white\", fontweight = 'bold', fontsize = 'xx-large')\n",
    "    plt.savefig('gmm_cluster.png')"
   ]
  },
  {
   "cell_type": "code",
   "execution_count": 41,
   "id": "6b7ccbad",
   "metadata": {
    "execution": {
     "iopub.execute_input": "2022-09-19T11:19:25.558633Z",
     "iopub.status.busy": "2022-09-19T11:19:25.558178Z",
     "iopub.status.idle": "2022-09-19T11:19:25.568979Z",
     "shell.execute_reply": "2022-09-19T11:19:25.567856Z"
    },
    "papermill": {
     "duration": 0.0334,
     "end_time": "2022-09-19T11:19:25.571581",
     "exception": false,
     "start_time": "2022-09-19T11:19:25.538181",
     "status": "completed"
    },
    "tags": []
   },
   "outputs": [],
   "source": [
    "clusters_.to_csv('pass_clusters.csv', index = False)"
   ]
  },
  {
   "cell_type": "code",
   "execution_count": 42,
   "id": "9ce498c2",
   "metadata": {
    "execution": {
     "iopub.execute_input": "2022-09-19T11:19:25.610513Z",
     "iopub.status.busy": "2022-09-19T11:19:25.610118Z",
     "iopub.status.idle": "2022-09-19T11:19:25.617787Z",
     "shell.execute_reply": "2022-09-19T11:19:25.616579Z"
    },
    "papermill": {
     "duration": 0.030087,
     "end_time": "2022-09-19T11:19:25.620248",
     "exception": false,
     "start_time": "2022-09-19T11:19:25.590161",
     "status": "completed"
    },
    "tags": []
   },
   "outputs": [
    {
     "data": {
      "text/plain": [
       "Index(['event_id', 'event_type', 'result', 'success', 'period_id', 'timestamp',\n",
       "       'end_timestamp', 'ball_state', 'ball_owning_team', 'team_id',\n",
       "       'player_id', 'coordinates_x', 'coordinates_y', 'end_coordinates_x',\n",
       "       'end_coordinates_y', 'receiver_player_id', 'is_counter_attack',\n",
       "       'pass_type', 'body_part_type', 'set_piece_type',\n",
       "       'goalkeeper_action_type', 'card_type', 'x', 'y', 'end_x', 'end_y',\n",
       "       'cluster'],\n",
       "      dtype='object')"
      ]
     },
     "execution_count": 42,
     "metadata": {},
     "output_type": "execute_result"
    }
   ],
   "source": [
    "passes.columns"
   ]
  },
  {
   "cell_type": "code",
   "execution_count": 43,
   "id": "2e9a70d6",
   "metadata": {
    "execution": {
     "iopub.execute_input": "2022-09-19T11:19:25.659892Z",
     "iopub.status.busy": "2022-09-19T11:19:25.659408Z",
     "iopub.status.idle": "2022-09-19T11:19:25.669304Z",
     "shell.execute_reply": "2022-09-19T11:19:25.668121Z"
    },
    "papermill": {
     "duration": 0.032526,
     "end_time": "2022-09-19T11:19:25.671860",
     "exception": false,
     "start_time": "2022-09-19T11:19:25.639334",
     "status": "completed"
    },
    "tags": []
   },
   "outputs": [
    {
     "data": {
      "text/plain": [
       "0       None\n",
       "1       None\n",
       "2       None\n",
       "3       None\n",
       "4       None\n",
       "        ... \n",
       "1738    None\n",
       "1740    None\n",
       "1741    None\n",
       "1742    None\n",
       "1745    None\n",
       "Name: ball_state, Length: 358718, dtype: object"
      ]
     },
     "execution_count": 43,
     "metadata": {},
     "output_type": "execute_result"
    }
   ],
   "source": [
    "passes['ball_state']"
   ]
  },
  {
   "cell_type": "code",
   "execution_count": 44,
   "id": "cbf8dff3",
   "metadata": {
    "execution": {
     "iopub.execute_input": "2022-09-19T11:19:25.711551Z",
     "iopub.status.busy": "2022-09-19T11:19:25.711127Z",
     "iopub.status.idle": "2022-09-19T11:19:29.705865Z",
     "shell.execute_reply": "2022-09-19T11:19:29.704809Z"
    },
    "papermill": {
     "duration": 4.017721,
     "end_time": "2022-09-19T11:19:29.708689",
     "exception": false,
     "start_time": "2022-09-19T11:19:25.690968",
     "status": "completed"
    },
    "tags": []
   },
   "outputs": [],
   "source": [
    "passes.to_csv('fullpasses.csv', index = False)"
   ]
  },
  {
   "cell_type": "code",
   "execution_count": 45,
   "id": "4b51739b",
   "metadata": {
    "execution": {
     "iopub.execute_input": "2022-09-19T11:19:29.748341Z",
     "iopub.status.busy": "2022-09-19T11:19:29.747920Z",
     "iopub.status.idle": "2022-09-19T11:19:29.754528Z",
     "shell.execute_reply": "2022-09-19T11:19:29.753679Z"
    },
    "papermill": {
     "duration": 0.028843,
     "end_time": "2022-09-19T11:19:29.756511",
     "exception": false,
     "start_time": "2022-09-19T11:19:29.727668",
     "status": "completed"
    },
    "tags": []
   },
   "outputs": [
    {
     "data": {
      "text/plain": [
       "Index(['event_id', 'event_type', 'result', 'success', 'period_id', 'timestamp',\n",
       "       'end_timestamp', 'ball_state', 'ball_owning_team', 'team_id',\n",
       "       'player_id', 'coordinates_x', 'coordinates_y', 'end_coordinates_x',\n",
       "       'end_coordinates_y', 'receiver_player_id', 'is_counter_attack',\n",
       "       'pass_type', 'body_part_type', 'set_piece_type',\n",
       "       'goalkeeper_action_type', 'card_type', 'x', 'y', 'end_x', 'end_y',\n",
       "       'cluster'],\n",
       "      dtype='object')"
      ]
     },
     "execution_count": 45,
     "metadata": {},
     "output_type": "execute_result"
    }
   ],
   "source": [
    "passes.columns"
   ]
  },
  {
   "cell_type": "code",
   "execution_count": 46,
   "id": "f8a46350",
   "metadata": {
    "execution": {
     "iopub.execute_input": "2022-09-19T11:19:29.796533Z",
     "iopub.status.busy": "2022-09-19T11:19:29.796115Z",
     "iopub.status.idle": "2022-09-19T11:19:29.853719Z",
     "shell.execute_reply": "2022-09-19T11:19:29.852608Z"
    },
    "papermill": {
     "duration": 0.080734,
     "end_time": "2022-09-19T11:19:29.856085",
     "exception": false,
     "start_time": "2022-09-19T11:19:29.775351",
     "status": "completed"
    },
    "tags": []
   },
   "outputs": [
    {
     "data": {
      "text/html": [
       "<div>\n",
       "<style scoped>\n",
       "    .dataframe tbody tr th:only-of-type {\n",
       "        vertical-align: middle;\n",
       "    }\n",
       "\n",
       "    .dataframe tbody tr th {\n",
       "        vertical-align: top;\n",
       "    }\n",
       "\n",
       "    .dataframe thead th {\n",
       "        text-align: right;\n",
       "    }\n",
       "</style>\n",
       "<table border=\"1\" class=\"dataframe\">\n",
       "  <thead>\n",
       "    <tr style=\"text-align: right;\">\n",
       "      <th></th>\n",
       "      <th>cluster</th>\n",
       "      <th>team_id</th>\n",
       "      <th>0</th>\n",
       "    </tr>\n",
       "  </thead>\n",
       "  <tbody>\n",
       "    <tr>\n",
       "      <th>0</th>\n",
       "      <td>0</td>\n",
       "      <td>10531</td>\n",
       "      <td>1619</td>\n",
       "    </tr>\n",
       "    <tr>\n",
       "      <th>1</th>\n",
       "      <td>0</td>\n",
       "      <td>1609</td>\n",
       "      <td>3264</td>\n",
       "    </tr>\n",
       "    <tr>\n",
       "      <th>2</th>\n",
       "      <td>0</td>\n",
       "      <td>1610</td>\n",
       "      <td>2918</td>\n",
       "    </tr>\n",
       "    <tr>\n",
       "      <th>3</th>\n",
       "      <td>0</td>\n",
       "      <td>1611</td>\n",
       "      <td>2501</td>\n",
       "    </tr>\n",
       "    <tr>\n",
       "      <th>4</th>\n",
       "      <td>0</td>\n",
       "      <td>1612</td>\n",
       "      <td>3274</td>\n",
       "    </tr>\n",
       "    <tr>\n",
       "      <th>...</th>\n",
       "      <td>...</td>\n",
       "      <td>...</td>\n",
       "      <td>...</td>\n",
       "    </tr>\n",
       "    <tr>\n",
       "      <th>395</th>\n",
       "      <td>19</td>\n",
       "      <td>1644</td>\n",
       "      <td>121</td>\n",
       "    </tr>\n",
       "    <tr>\n",
       "      <th>396</th>\n",
       "      <td>19</td>\n",
       "      <td>1646</td>\n",
       "      <td>157</td>\n",
       "    </tr>\n",
       "    <tr>\n",
       "      <th>397</th>\n",
       "      <td>19</td>\n",
       "      <td>1651</td>\n",
       "      <td>150</td>\n",
       "    </tr>\n",
       "    <tr>\n",
       "      <th>398</th>\n",
       "      <td>19</td>\n",
       "      <td>1659</td>\n",
       "      <td>159</td>\n",
       "    </tr>\n",
       "    <tr>\n",
       "      <th>399</th>\n",
       "      <td>19</td>\n",
       "      <td>1673</td>\n",
       "      <td>132</td>\n",
       "    </tr>\n",
       "  </tbody>\n",
       "</table>\n",
       "<p>400 rows × 3 columns</p>\n",
       "</div>"
      ],
      "text/plain": [
       "     cluster team_id     0\n",
       "0          0   10531  1619\n",
       "1          0    1609  3264\n",
       "2          0    1610  2918\n",
       "3          0    1611  2501\n",
       "4          0    1612  3274\n",
       "..       ...     ...   ...\n",
       "395       19    1644   121\n",
       "396       19    1646   157\n",
       "397       19    1651   150\n",
       "398       19    1659   159\n",
       "399       19    1673   132\n",
       "\n",
       "[400 rows x 3 columns]"
      ]
     },
     "execution_count": 46,
     "metadata": {},
     "output_type": "execute_result"
    }
   ],
   "source": [
    "passes.groupby(['cluster', 'team_id']).size().reset_index()"
   ]
  },
  {
   "cell_type": "code",
   "execution_count": 47,
   "id": "3b98fd03",
   "metadata": {
    "execution": {
     "iopub.execute_input": "2022-09-19T11:19:29.896564Z",
     "iopub.status.busy": "2022-09-19T11:19:29.896147Z",
     "iopub.status.idle": "2022-09-19T11:19:29.903326Z",
     "shell.execute_reply": "2022-09-19T11:19:29.902107Z"
    },
    "papermill": {
     "duration": 0.029928,
     "end_time": "2022-09-19T11:19:29.905666",
     "exception": false,
     "start_time": "2022-09-19T11:19:29.875738",
     "status": "completed"
    },
    "tags": []
   },
   "outputs": [
    {
     "data": {
      "text/plain": [
       "(358718, 27)"
      ]
     },
     "execution_count": 47,
     "metadata": {},
     "output_type": "execute_result"
    }
   ],
   "source": [
    "passes.shape"
   ]
  },
  {
   "cell_type": "code",
   "execution_count": 48,
   "id": "574536cc",
   "metadata": {
    "execution": {
     "iopub.execute_input": "2022-09-19T11:19:29.945973Z",
     "iopub.status.busy": "2022-09-19T11:19:29.945527Z",
     "iopub.status.idle": "2022-09-19T11:19:29.967136Z",
     "shell.execute_reply": "2022-09-19T11:19:29.965803Z"
    },
    "papermill": {
     "duration": 0.044715,
     "end_time": "2022-09-19T11:19:29.969940",
     "exception": false,
     "start_time": "2022-09-19T11:19:29.925225",
     "status": "completed"
    },
    "tags": []
   },
   "outputs": [],
   "source": [
    "with open('../input/football-event-data/teams.json') as f:\n",
    "    teams_json = json.load(f)\n",
    "    teams_df = pd.json_normalize(teams_json)"
   ]
  },
  {
   "cell_type": "code",
   "execution_count": 49,
   "id": "7fcdd472",
   "metadata": {
    "execution": {
     "iopub.execute_input": "2022-09-19T11:19:30.010637Z",
     "iopub.status.busy": "2022-09-19T11:19:30.010249Z",
     "iopub.status.idle": "2022-09-19T11:19:30.031012Z",
     "shell.execute_reply": "2022-09-19T11:19:30.029856Z"
    },
    "papermill": {
     "duration": 0.043666,
     "end_time": "2022-09-19T11:19:30.033345",
     "exception": false,
     "start_time": "2022-09-19T11:19:29.989679",
     "status": "completed"
    },
    "tags": []
   },
   "outputs": [
    {
     "data": {
      "text/html": [
       "<div>\n",
       "<style scoped>\n",
       "    .dataframe tbody tr th:only-of-type {\n",
       "        vertical-align: middle;\n",
       "    }\n",
       "\n",
       "    .dataframe tbody tr th {\n",
       "        vertical-align: top;\n",
       "    }\n",
       "\n",
       "    .dataframe thead th {\n",
       "        text-align: right;\n",
       "    }\n",
       "</style>\n",
       "<table border=\"1\" class=\"dataframe\">\n",
       "  <thead>\n",
       "    <tr style=\"text-align: right;\">\n",
       "      <th></th>\n",
       "      <th>city</th>\n",
       "      <th>name</th>\n",
       "      <th>wyId</th>\n",
       "      <th>officialName</th>\n",
       "      <th>type</th>\n",
       "      <th>area.name</th>\n",
       "      <th>area.id</th>\n",
       "      <th>area.alpha3code</th>\n",
       "      <th>area.alpha2code</th>\n",
       "    </tr>\n",
       "  </thead>\n",
       "  <tbody>\n",
       "    <tr>\n",
       "      <th>0</th>\n",
       "      <td>Newcastle upon Tyne</td>\n",
       "      <td>Newcastle United</td>\n",
       "      <td>1613</td>\n",
       "      <td>Newcastle United FC</td>\n",
       "      <td>club</td>\n",
       "      <td>England</td>\n",
       "      <td>0</td>\n",
       "      <td>XEN</td>\n",
       "      <td></td>\n",
       "    </tr>\n",
       "    <tr>\n",
       "      <th>1</th>\n",
       "      <td>Vigo</td>\n",
       "      <td>Celta de Vigo</td>\n",
       "      <td>692</td>\n",
       "      <td>Real Club Celta de Vigo</td>\n",
       "      <td>club</td>\n",
       "      <td>Spain</td>\n",
       "      <td>724</td>\n",
       "      <td>ESP</td>\n",
       "      <td>ES</td>\n",
       "    </tr>\n",
       "    <tr>\n",
       "      <th>2</th>\n",
       "      <td>Barcelona</td>\n",
       "      <td>Espanyol</td>\n",
       "      <td>691</td>\n",
       "      <td>Reial Club Deportiu Espanyol</td>\n",
       "      <td>club</td>\n",
       "      <td>Spain</td>\n",
       "      <td>724</td>\n",
       "      <td>ESP</td>\n",
       "      <td>ES</td>\n",
       "    </tr>\n",
       "    <tr>\n",
       "      <th>3</th>\n",
       "      <td>Vitoria-Gasteiz</td>\n",
       "      <td>Deportivo Alav\\u00e9s</td>\n",
       "      <td>696</td>\n",
       "      <td>Deportivo Alav\\u00e9s</td>\n",
       "      <td>club</td>\n",
       "      <td>Spain</td>\n",
       "      <td>724</td>\n",
       "      <td>ESP</td>\n",
       "      <td>ES</td>\n",
       "    </tr>\n",
       "    <tr>\n",
       "      <th>4</th>\n",
       "      <td>Valencia</td>\n",
       "      <td>Levante</td>\n",
       "      <td>695</td>\n",
       "      <td>Levante UD</td>\n",
       "      <td>club</td>\n",
       "      <td>Spain</td>\n",
       "      <td>724</td>\n",
       "      <td>ESP</td>\n",
       "      <td>ES</td>\n",
       "    </tr>\n",
       "    <tr>\n",
       "      <th>...</th>\n",
       "      <td>...</td>\n",
       "      <td>...</td>\n",
       "      <td>...</td>\n",
       "      <td>...</td>\n",
       "      <td>...</td>\n",
       "      <td>...</td>\n",
       "      <td>...</td>\n",
       "      <td>...</td>\n",
       "      <td>...</td>\n",
       "    </tr>\n",
       "    <tr>\n",
       "      <th>137</th>\n",
       "      <td>Las Rozas</td>\n",
       "      <td>Spain</td>\n",
       "      <td>1598</td>\n",
       "      <td>Spain</td>\n",
       "      <td>national</td>\n",
       "      <td>Spain</td>\n",
       "      <td>724</td>\n",
       "      <td>ESP</td>\n",
       "      <td>ES</td>\n",
       "    </tr>\n",
       "    <tr>\n",
       "      <th>138</th>\n",
       "      <td>Beograd</td>\n",
       "      <td>Serbia</td>\n",
       "      <td>17322</td>\n",
       "      <td>Serbia</td>\n",
       "      <td>national</td>\n",
       "      <td>Serbia</td>\n",
       "      <td>688</td>\n",
       "      <td>SRB</td>\n",
       "      <td>RS</td>\n",
       "    </tr>\n",
       "    <tr>\n",
       "      <th>139</th>\n",
       "      <td>Bern</td>\n",
       "      <td>Switzerland</td>\n",
       "      <td>6697</td>\n",
       "      <td>Switzerland</td>\n",
       "      <td>national</td>\n",
       "      <td>Switzerland</td>\n",
       "      <td>756</td>\n",
       "      <td>CHE</td>\n",
       "      <td>CH</td>\n",
       "    </tr>\n",
       "    <tr>\n",
       "      <th>140</th>\n",
       "      <td>Warszawa</td>\n",
       "      <td>Poland</td>\n",
       "      <td>13869</td>\n",
       "      <td>Poland</td>\n",
       "      <td>national</td>\n",
       "      <td>Poland</td>\n",
       "      <td>616</td>\n",
       "      <td>POL</td>\n",
       "      <td>PL</td>\n",
       "    </tr>\n",
       "    <tr>\n",
       "      <th>141</th>\n",
       "      <td>Abuja</td>\n",
       "      <td>Nigeria</td>\n",
       "      <td>16823</td>\n",
       "      <td>Nigeria</td>\n",
       "      <td>national</td>\n",
       "      <td>Nigeria</td>\n",
       "      <td>566</td>\n",
       "      <td>NGA</td>\n",
       "      <td>NG</td>\n",
       "    </tr>\n",
       "  </tbody>\n",
       "</table>\n",
       "<p>142 rows × 9 columns</p>\n",
       "</div>"
      ],
      "text/plain": [
       "                    city                   name   wyId  \\\n",
       "0    Newcastle upon Tyne       Newcastle United   1613   \n",
       "1                   Vigo          Celta de Vigo    692   \n",
       "2              Barcelona               Espanyol    691   \n",
       "3        Vitoria-Gasteiz  Deportivo Alav\\u00e9s    696   \n",
       "4               Valencia                Levante    695   \n",
       "..                   ...                    ...    ...   \n",
       "137            Las Rozas                  Spain   1598   \n",
       "138              Beograd                 Serbia  17322   \n",
       "139                 Bern            Switzerland   6697   \n",
       "140             Warszawa                 Poland  13869   \n",
       "141                Abuja                Nigeria  16823   \n",
       "\n",
       "                     officialName      type    area.name area.id  \\\n",
       "0             Newcastle United FC      club      England       0   \n",
       "1         Real Club Celta de Vigo      club        Spain     724   \n",
       "2    Reial Club Deportiu Espanyol      club        Spain     724   \n",
       "3           Deportivo Alav\\u00e9s      club        Spain     724   \n",
       "4                      Levante UD      club        Spain     724   \n",
       "..                            ...       ...          ...     ...   \n",
       "137                         Spain  national        Spain     724   \n",
       "138                        Serbia  national       Serbia     688   \n",
       "139                   Switzerland  national  Switzerland     756   \n",
       "140                        Poland  national       Poland     616   \n",
       "141                       Nigeria  national      Nigeria     566   \n",
       "\n",
       "    area.alpha3code area.alpha2code  \n",
       "0               XEN                  \n",
       "1               ESP              ES  \n",
       "2               ESP              ES  \n",
       "3               ESP              ES  \n",
       "4               ESP              ES  \n",
       "..              ...             ...  \n",
       "137             ESP              ES  \n",
       "138             SRB              RS  \n",
       "139             CHE              CH  \n",
       "140             POL              PL  \n",
       "141             NGA              NG  \n",
       "\n",
       "[142 rows x 9 columns]"
      ]
     },
     "execution_count": 49,
     "metadata": {},
     "output_type": "execute_result"
    }
   ],
   "source": [
    "teams_df"
   ]
  },
  {
   "cell_type": "code",
   "execution_count": 50,
   "id": "483e3fb4",
   "metadata": {
    "execution": {
     "iopub.execute_input": "2022-09-19T11:19:30.073655Z",
     "iopub.status.busy": "2022-09-19T11:19:30.073259Z",
     "iopub.status.idle": "2022-09-19T11:19:30.128905Z",
     "shell.execute_reply": "2022-09-19T11:19:30.127613Z"
    },
    "papermill": {
     "duration": 0.078993,
     "end_time": "2022-09-19T11:19:30.131725",
     "exception": false,
     "start_time": "2022-09-19T11:19:30.052732",
     "status": "completed"
    },
    "tags": []
   },
   "outputs": [],
   "source": [
    "teams_map = dict(zip(teams_df.wyId, teams_df.officialName))\n",
    "passes['team'] = passes['team_id'].astype(int).map(teams_map)"
   ]
  },
  {
   "cell_type": "code",
   "execution_count": 51,
   "id": "1eaec596",
   "metadata": {
    "execution": {
     "iopub.execute_input": "2022-09-19T11:19:30.173136Z",
     "iopub.status.busy": "2022-09-19T11:19:30.172713Z",
     "iopub.status.idle": "2022-09-19T11:19:30.180548Z",
     "shell.execute_reply": "2022-09-19T11:19:30.179276Z"
    },
    "papermill": {
     "duration": 0.031191,
     "end_time": "2022-09-19T11:19:30.182803",
     "exception": false,
     "start_time": "2022-09-19T11:19:30.151612",
     "status": "completed"
    },
    "tags": []
   },
   "outputs": [
    {
     "data": {
      "text/plain": [
       "'Swansea City AFC'"
      ]
     },
     "execution_count": 51,
     "metadata": {},
     "output_type": "execute_result"
    }
   ],
   "source": [
    "teams_map[10531]"
   ]
  },
  {
   "cell_type": "code",
   "execution_count": 52,
   "id": "232db4ef",
   "metadata": {
    "execution": {
     "iopub.execute_input": "2022-09-19T11:19:30.224383Z",
     "iopub.status.busy": "2022-09-19T11:19:30.223701Z",
     "iopub.status.idle": "2022-09-19T11:19:30.232543Z",
     "shell.execute_reply": "2022-09-19T11:19:30.231453Z"
    },
    "papermill": {
     "duration": 0.032103,
     "end_time": "2022-09-19T11:19:30.234767",
     "exception": false,
     "start_time": "2022-09-19T11:19:30.202664",
     "status": "completed"
    },
    "tags": []
   },
   "outputs": [
    {
     "data": {
      "text/plain": [
       "0         AFC Bournemouth\n",
       "1         AFC Bournemouth\n",
       "2         AFC Bournemouth\n",
       "3         AFC Bournemouth\n",
       "4         AFC Bournemouth\n",
       "              ...        \n",
       "1738    Leicester City FC\n",
       "1740    Leicester City FC\n",
       "1741    Leicester City FC\n",
       "1742           Arsenal FC\n",
       "1745    Leicester City FC\n",
       "Name: team, Length: 358718, dtype: object"
      ]
     },
     "execution_count": 52,
     "metadata": {},
     "output_type": "execute_result"
    }
   ],
   "source": [
    "passes['team']"
   ]
  },
  {
   "cell_type": "code",
   "execution_count": 53,
   "id": "f6b0cfad",
   "metadata": {
    "execution": {
     "iopub.execute_input": "2022-09-19T11:19:30.275858Z",
     "iopub.status.busy": "2022-09-19T11:19:30.275414Z",
     "iopub.status.idle": "2022-09-19T11:19:30.464268Z",
     "shell.execute_reply": "2022-09-19T11:19:30.463142Z"
    },
    "papermill": {
     "duration": 0.212373,
     "end_time": "2022-09-19T11:19:30.466789",
     "exception": false,
     "start_time": "2022-09-19T11:19:30.254416",
     "status": "completed"
    },
    "tags": []
   },
   "outputs": [
    {
     "data": {
      "text/html": [
       "<div>\n",
       "<style scoped>\n",
       "    .dataframe tbody tr th:only-of-type {\n",
       "        vertical-align: middle;\n",
       "    }\n",
       "\n",
       "    .dataframe tbody tr th {\n",
       "        vertical-align: top;\n",
       "    }\n",
       "\n",
       "    .dataframe thead th {\n",
       "        text-align: right;\n",
       "    }\n",
       "</style>\n",
       "<table border=\"1\" class=\"dataframe\">\n",
       "  <thead>\n",
       "    <tr style=\"text-align: right;\">\n",
       "      <th></th>\n",
       "      <th>end_coordinates_x</th>\n",
       "      <th>end_coordinates_y</th>\n",
       "    </tr>\n",
       "  </thead>\n",
       "  <tbody>\n",
       "    <tr>\n",
       "      <th>count</th>\n",
       "      <td>2741.000000</td>\n",
       "      <td>2741.000000</td>\n",
       "    </tr>\n",
       "    <tr>\n",
       "      <th>mean</th>\n",
       "      <td>0.532039</td>\n",
       "      <td>0.476454</td>\n",
       "    </tr>\n",
       "    <tr>\n",
       "      <th>std</th>\n",
       "      <td>0.198678</td>\n",
       "      <td>0.289966</td>\n",
       "    </tr>\n",
       "    <tr>\n",
       "      <th>min</th>\n",
       "      <td>0.000000</td>\n",
       "      <td>0.000000</td>\n",
       "    </tr>\n",
       "    <tr>\n",
       "      <th>25%</th>\n",
       "      <td>0.430000</td>\n",
       "      <td>0.220000</td>\n",
       "    </tr>\n",
       "    <tr>\n",
       "      <th>50%</th>\n",
       "      <td>0.610000</td>\n",
       "      <td>0.450000</td>\n",
       "    </tr>\n",
       "    <tr>\n",
       "      <th>75%</th>\n",
       "      <td>0.670000</td>\n",
       "      <td>0.740000</td>\n",
       "    </tr>\n",
       "    <tr>\n",
       "      <th>max</th>\n",
       "      <td>1.000000</td>\n",
       "      <td>1.000000</td>\n",
       "    </tr>\n",
       "  </tbody>\n",
       "</table>\n",
       "</div>"
      ],
      "text/plain": [
       "       end_coordinates_x  end_coordinates_y\n",
       "count        2741.000000        2741.000000\n",
       "mean            0.532039           0.476454\n",
       "std             0.198678           0.289966\n",
       "min             0.000000           0.000000\n",
       "25%             0.430000           0.220000\n",
       "50%             0.610000           0.450000\n",
       "75%             0.670000           0.740000\n",
       "max             1.000000           1.000000"
      ]
     },
     "execution_count": 53,
     "metadata": {},
     "output_type": "execute_result"
    }
   ],
   "source": [
    "passes[(passes.coordinates_x < 0.01) & (passes.coordinates_y < 0.01)][['end_coordinates_x', 'end_coordinates_y']].describe()"
   ]
  },
  {
   "cell_type": "code",
   "execution_count": 54,
   "id": "78685c4f",
   "metadata": {
    "execution": {
     "iopub.execute_input": "2022-09-19T11:19:30.508255Z",
     "iopub.status.busy": "2022-09-19T11:19:30.507797Z",
     "iopub.status.idle": "2022-09-19T11:19:30.563052Z",
     "shell.execute_reply": "2022-09-19T11:19:30.562119Z"
    },
    "papermill": {
     "duration": 0.079228,
     "end_time": "2022-09-19T11:19:30.565894",
     "exception": false,
     "start_time": "2022-09-19T11:19:30.486666",
     "status": "completed"
    },
    "tags": []
   },
   "outputs": [],
   "source": [
    "team_clusters = passes.groupby(['cluster', 'team']).size().reset_index().sort_values(by=['cluster', 0], ascending=[True, False])\n",
    "team_clusters.columns = ['cluster', 'team', 'passes']"
   ]
  },
  {
   "cell_type": "code",
   "execution_count": 55,
   "id": "b070aaeb",
   "metadata": {
    "execution": {
     "iopub.execute_input": "2022-09-19T11:19:30.607311Z",
     "iopub.status.busy": "2022-09-19T11:19:30.606927Z",
     "iopub.status.idle": "2022-09-19T11:19:30.617641Z",
     "shell.execute_reply": "2022-09-19T11:19:30.616625Z"
    },
    "papermill": {
     "duration": 0.034148,
     "end_time": "2022-09-19T11:19:30.619792",
     "exception": false,
     "start_time": "2022-09-19T11:19:30.585644",
     "status": "completed"
    },
    "tags": []
   },
   "outputs": [
    {
     "data": {
      "text/html": [
       "<div>\n",
       "<style scoped>\n",
       "    .dataframe tbody tr th:only-of-type {\n",
       "        vertical-align: middle;\n",
       "    }\n",
       "\n",
       "    .dataframe tbody tr th {\n",
       "        vertical-align: top;\n",
       "    }\n",
       "\n",
       "    .dataframe thead th {\n",
       "        text-align: right;\n",
       "    }\n",
       "</style>\n",
       "<table border=\"1\" class=\"dataframe\">\n",
       "  <thead>\n",
       "    <tr style=\"text-align: right;\">\n",
       "      <th></th>\n",
       "      <th>cluster</th>\n",
       "      <th>team</th>\n",
       "      <th>passes</th>\n",
       "    </tr>\n",
       "  </thead>\n",
       "  <tbody>\n",
       "    <tr>\n",
       "      <th>10</th>\n",
       "      <td>0</td>\n",
       "      <td>Manchester City FC</td>\n",
       "      <td>4006</td>\n",
       "    </tr>\n",
       "    <tr>\n",
       "      <th>9</th>\n",
       "      <td>0</td>\n",
       "      <td>Liverpool FC</td>\n",
       "      <td>3274</td>\n",
       "    </tr>\n",
       "    <tr>\n",
       "      <th>1</th>\n",
       "      <td>0</td>\n",
       "      <td>Arsenal FC</td>\n",
       "      <td>3264</td>\n",
       "    </tr>\n",
       "    <tr>\n",
       "      <th>16</th>\n",
       "      <td>0</td>\n",
       "      <td>Tottenham Hotspur FC</td>\n",
       "      <td>3236</td>\n",
       "    </tr>\n",
       "    <tr>\n",
       "      <th>4</th>\n",
       "      <td>0</td>\n",
       "      <td>Chelsea FC</td>\n",
       "      <td>2918</td>\n",
       "    </tr>\n",
       "  </tbody>\n",
       "</table>\n",
       "</div>"
      ],
      "text/plain": [
       "    cluster                  team  passes\n",
       "10        0    Manchester City FC    4006\n",
       "9         0          Liverpool FC    3274\n",
       "1         0            Arsenal FC    3264\n",
       "16        0  Tottenham Hotspur FC    3236\n",
       "4         0            Chelsea FC    2918"
      ]
     },
     "execution_count": 55,
     "metadata": {},
     "output_type": "execute_result"
    }
   ],
   "source": [
    "team_clusters.head()"
   ]
  },
  {
   "cell_type": "code",
   "execution_count": 56,
   "id": "ce08786f",
   "metadata": {
    "execution": {
     "iopub.execute_input": "2022-09-19T11:19:30.661469Z",
     "iopub.status.busy": "2022-09-19T11:19:30.661089Z",
     "iopub.status.idle": "2022-09-19T11:19:31.114087Z",
     "shell.execute_reply": "2022-09-19T11:19:31.112981Z"
    },
    "papermill": {
     "duration": 0.477437,
     "end_time": "2022-09-19T11:19:31.117013",
     "exception": false,
     "start_time": "2022-09-19T11:19:30.639576",
     "status": "completed"
    },
    "tags": []
   },
   "outputs": [
    {
     "data": {
      "image/png": "[encoded data removed]",
      "text/plain": [
       "<Figure size 1080x720 with 1 Axes>"
      ]
     },
     "metadata": {},
     "output_type": "display_data"
    }
   ],
   "source": [
    "cluster = 18\n",
    "fig, ax = create_pitch(105, 68,'white')\n",
    "plt.scatter(passes[passes.cluster == cluster]['x'], (68 - passes[passes.cluster == cluster]['y']), c='red')\n",
    "plt.scatter(passes[passes.cluster == cluster]['end_x'], (68 - passes[passes.cluster == cluster]['end_y']), c='blue')\n",
    "for index, pass_ in clusters_.iterrows():\n",
    "    if (index != cluster):\n",
    "        continue\n",
    "    x, y = pass_['x'], pass_['y']\n",
    "    end_x, end_y = pass_['end_x'], pass_['end_y']\n",
    "    color = 'blue' \n",
    "    y = 68 - y\n",
    "    end_y = 68 - end_y\n",
    "    plt.plot([x, end_x], [y, end_y], linewidth = 5)\n",
    "    plt.scatter(x, y, s=30, c='red')\n",
    "    plt.text((x+1),y+1,index, color = \"white\", fontweight = 'bold', fontsize = 'xx-large')\n",
    "    plt.savefig('gmm_cluster.png')"
   ]
  },
  {
   "cell_type": "code",
   "execution_count": 57,
   "id": "f1132836",
   "metadata": {
    "execution": {
     "iopub.execute_input": "2022-09-19T11:19:31.160791Z",
     "iopub.status.busy": "2022-09-19T11:19:31.160355Z",
     "iopub.status.idle": "2022-09-19T11:19:31.210438Z",
     "shell.execute_reply": "2022-09-19T11:19:31.209180Z"
    },
    "papermill": {
     "duration": 0.075011,
     "end_time": "2022-09-19T11:19:31.213204",
     "exception": false,
     "start_time": "2022-09-19T11:19:31.138193",
     "status": "completed"
    },
    "tags": []
   },
   "outputs": [
    {
     "data": {
      "text/html": [
       "<div>\n",
       "<style scoped>\n",
       "    .dataframe tbody tr th:only-of-type {\n",
       "        vertical-align: middle;\n",
       "    }\n",
       "\n",
       "    .dataframe tbody tr th {\n",
       "        vertical-align: top;\n",
       "    }\n",
       "\n",
       "    .dataframe thead th {\n",
       "        text-align: right;\n",
       "    }\n",
       "</style>\n",
       "<table border=\"1\" class=\"dataframe\">\n",
       "  <thead>\n",
       "    <tr style=\"text-align: right;\">\n",
       "      <th></th>\n",
       "      <th>cluster</th>\n",
       "      <th>success</th>\n",
       "      <th>score</th>\n",
       "    </tr>\n",
       "  </thead>\n",
       "  <tbody>\n",
       "    <tr>\n",
       "      <th>0</th>\n",
       "      <td>0</td>\n",
       "      <td>False</td>\n",
       "      <td>4924</td>\n",
       "    </tr>\n",
       "    <tr>\n",
       "      <th>1</th>\n",
       "      <td>0</td>\n",
       "      <td>True</td>\n",
       "      <td>36144</td>\n",
       "    </tr>\n",
       "    <tr>\n",
       "      <th>2</th>\n",
       "      <td>1</td>\n",
       "      <td>False</td>\n",
       "      <td>615</td>\n",
       "    </tr>\n",
       "    <tr>\n",
       "      <th>3</th>\n",
       "      <td>1</td>\n",
       "      <td>True</td>\n",
       "      <td>1232</td>\n",
       "    </tr>\n",
       "    <tr>\n",
       "      <th>4</th>\n",
       "      <td>2</td>\n",
       "      <td>False</td>\n",
       "      <td>2656</td>\n",
       "    </tr>\n",
       "  </tbody>\n",
       "</table>\n",
       "</div>"
      ],
      "text/plain": [
       "   cluster  success  score\n",
       "0        0    False   4924\n",
       "1        0     True  36144\n",
       "2        1    False    615\n",
       "3        1     True   1232\n",
       "4        2    False   2656"
      ]
     },
     "execution_count": 57,
     "metadata": {},
     "output_type": "execute_result"
    }
   ],
   "source": [
    "success_cluster = passes.groupby(['cluster', 'success']).size().reset_index()\n",
    "success_cluster.columns = ['cluster', 'success', 'score']\n",
    "success_cluster.head()"
   ]
  },
  {
   "cell_type": "code",
   "execution_count": 58,
   "id": "3c9ff4ba",
   "metadata": {
    "execution": {
     "iopub.execute_input": "2022-09-19T11:19:31.257721Z",
     "iopub.status.busy": "2022-09-19T11:19:31.257327Z",
     "iopub.status.idle": "2022-09-19T11:19:31.268866Z",
     "shell.execute_reply": "2022-09-19T11:19:31.268019Z"
    },
    "papermill": {
     "duration": 0.036801,
     "end_time": "2022-09-19T11:19:31.271395",
     "exception": false,
     "start_time": "2022-09-19T11:19:31.234594",
     "status": "completed"
    },
    "tags": []
   },
   "outputs": [],
   "source": [
    "success_cluster = success_cluster.pivot(index='cluster', columns='success', values = 'score')\n",
    "success_cluster.columns = ['success', 'fail']\n",
    "success_cluster['total'] = success_cluster['success'] + success_cluster['fail']  \n",
    "success_cluster['ratio'] = success_cluster['success'] / success_cluster['total']  "
   ]
  },
  {
   "cell_type": "code",
   "execution_count": 59,
   "id": "779f6f68",
   "metadata": {
    "execution": {
     "iopub.execute_input": "2022-09-19T11:19:31.316992Z",
     "iopub.status.busy": "2022-09-19T11:19:31.316353Z",
     "iopub.status.idle": "2022-09-19T11:19:31.328876Z",
     "shell.execute_reply": "2022-09-19T11:19:31.327709Z"
    },
    "papermill": {
     "duration": 0.037757,
     "end_time": "2022-09-19T11:19:31.331402",
     "exception": false,
     "start_time": "2022-09-19T11:19:31.293645",
     "status": "completed"
    },
    "tags": []
   },
   "outputs": [
    {
     "data": {
      "text/html": [
       "<div>\n",
       "<style scoped>\n",
       "    .dataframe tbody tr th:only-of-type {\n",
       "        vertical-align: middle;\n",
       "    }\n",
       "\n",
       "    .dataframe tbody tr th {\n",
       "        vertical-align: top;\n",
       "    }\n",
       "\n",
       "    .dataframe thead th {\n",
       "        text-align: right;\n",
       "    }\n",
       "</style>\n",
       "<table border=\"1\" class=\"dataframe\">\n",
       "  <thead>\n",
       "    <tr style=\"text-align: right;\">\n",
       "      <th></th>\n",
       "      <th>success</th>\n",
       "      <th>fail</th>\n",
       "      <th>total</th>\n",
       "      <th>ratio</th>\n",
       "    </tr>\n",
       "    <tr>\n",
       "      <th>cluster</th>\n",
       "      <th></th>\n",
       "      <th></th>\n",
       "      <th></th>\n",
       "      <th></th>\n",
       "    </tr>\n",
       "  </thead>\n",
       "  <tbody>\n",
       "    <tr>\n",
       "      <th>0</th>\n",
       "      <td>4924</td>\n",
       "      <td>36144</td>\n",
       "      <td>41068</td>\n",
       "      <td>0.119899</td>\n",
       "    </tr>\n",
       "    <tr>\n",
       "      <th>1</th>\n",
       "      <td>615</td>\n",
       "      <td>1232</td>\n",
       "      <td>1847</td>\n",
       "      <td>0.332972</td>\n",
       "    </tr>\n",
       "    <tr>\n",
       "      <th>2</th>\n",
       "      <td>2656</td>\n",
       "      <td>22592</td>\n",
       "      <td>25248</td>\n",
       "      <td>0.105196</td>\n",
       "    </tr>\n",
       "    <tr>\n",
       "      <th>3</th>\n",
       "      <td>3403</td>\n",
       "      <td>17768</td>\n",
       "      <td>21171</td>\n",
       "      <td>0.160739</td>\n",
       "    </tr>\n",
       "    <tr>\n",
       "      <th>4</th>\n",
       "      <td>4282</td>\n",
       "      <td>14300</td>\n",
       "      <td>18582</td>\n",
       "      <td>0.230438</td>\n",
       "    </tr>\n",
       "    <tr>\n",
       "      <th>5</th>\n",
       "      <td>1040</td>\n",
       "      <td>19996</td>\n",
       "      <td>21036</td>\n",
       "      <td>0.049439</td>\n",
       "    </tr>\n",
       "    <tr>\n",
       "      <th>6</th>\n",
       "      <td>2750</td>\n",
       "      <td>17244</td>\n",
       "      <td>19994</td>\n",
       "      <td>0.137541</td>\n",
       "    </tr>\n",
       "    <tr>\n",
       "      <th>7</th>\n",
       "      <td>4682</td>\n",
       "      <td>6333</td>\n",
       "      <td>11015</td>\n",
       "      <td>0.425057</td>\n",
       "    </tr>\n",
       "    <tr>\n",
       "      <th>8</th>\n",
       "      <td>2403</td>\n",
       "      <td>11366</td>\n",
       "      <td>13769</td>\n",
       "      <td>0.174522</td>\n",
       "    </tr>\n",
       "    <tr>\n",
       "      <th>9</th>\n",
       "      <td>5036</td>\n",
       "      <td>5893</td>\n",
       "      <td>10929</td>\n",
       "      <td>0.460792</td>\n",
       "    </tr>\n",
       "    <tr>\n",
       "      <th>10</th>\n",
       "      <td>2627</td>\n",
       "      <td>19450</td>\n",
       "      <td>22077</td>\n",
       "      <td>0.118993</td>\n",
       "    </tr>\n",
       "    <tr>\n",
       "      <th>11</th>\n",
       "      <td>2255</td>\n",
       "      <td>21466</td>\n",
       "      <td>23721</td>\n",
       "      <td>0.095063</td>\n",
       "    </tr>\n",
       "    <tr>\n",
       "      <th>12</th>\n",
       "      <td>1586</td>\n",
       "      <td>1543</td>\n",
       "      <td>3129</td>\n",
       "      <td>0.506871</td>\n",
       "    </tr>\n",
       "    <tr>\n",
       "      <th>13</th>\n",
       "      <td>3925</td>\n",
       "      <td>10388</td>\n",
       "      <td>14313</td>\n",
       "      <td>0.274226</td>\n",
       "    </tr>\n",
       "    <tr>\n",
       "      <th>14</th>\n",
       "      <td>4952</td>\n",
       "      <td>26139</td>\n",
       "      <td>31091</td>\n",
       "      <td>0.159274</td>\n",
       "    </tr>\n",
       "    <tr>\n",
       "      <th>15</th>\n",
       "      <td>4221</td>\n",
       "      <td>26042</td>\n",
       "      <td>30263</td>\n",
       "      <td>0.139477</td>\n",
       "    </tr>\n",
       "    <tr>\n",
       "      <th>16</th>\n",
       "      <td>5499</td>\n",
       "      <td>8247</td>\n",
       "      <td>13746</td>\n",
       "      <td>0.400044</td>\n",
       "    </tr>\n",
       "    <tr>\n",
       "      <th>17</th>\n",
       "      <td>2891</td>\n",
       "      <td>24836</td>\n",
       "      <td>27727</td>\n",
       "      <td>0.104267</td>\n",
       "    </tr>\n",
       "    <tr>\n",
       "      <th>18</th>\n",
       "      <td>2045</td>\n",
       "      <td>69</td>\n",
       "      <td>2114</td>\n",
       "      <td>0.967360</td>\n",
       "    </tr>\n",
       "    <tr>\n",
       "      <th>19</th>\n",
       "      <td>83</td>\n",
       "      <td>7</td>\n",
       "      <td>90</td>\n",
       "      <td>0.922222</td>\n",
       "    </tr>\n",
       "  </tbody>\n",
       "</table>\n",
       "</div>"
      ],
      "text/plain": [
       "         success   fail  total     ratio\n",
       "cluster                                 \n",
       "0           4924  36144  41068  0.119899\n",
       "1            615   1232   1847  0.332972\n",
       "2           2656  22592  25248  0.105196\n",
       "3           3403  17768  21171  0.160739\n",
       "4           4282  14300  18582  0.230438\n",
       "5           1040  19996  21036  0.049439\n",
       "6           2750  17244  19994  0.137541\n",
       "7           4682   6333  11015  0.425057\n",
       "8           2403  11366  13769  0.174522\n",
       "9           5036   5893  10929  0.460792\n",
       "10          2627  19450  22077  0.118993\n",
       "11          2255  21466  23721  0.095063\n",
       "12          1586   1543   3129  0.506871\n",
       "13          3925  10388  14313  0.274226\n",
       "14          4952  26139  31091  0.159274\n",
       "15          4221  26042  30263  0.139477\n",
       "16          5499   8247  13746  0.400044\n",
       "17          2891  24836  27727  0.104267\n",
       "18          2045     69   2114  0.967360\n",
       "19            83      7     90  0.922222"
      ]
     },
     "execution_count": 59,
     "metadata": {},
     "output_type": "execute_result"
    }
   ],
   "source": [
    "success_cluster"
   ]
  },
  {
   "cell_type": "code",
   "execution_count": 60,
   "id": "90486845",
   "metadata": {
    "execution": {
     "iopub.execute_input": "2022-09-19T11:19:31.376081Z",
     "iopub.status.busy": "2022-09-19T11:19:31.375405Z",
     "iopub.status.idle": "2022-09-19T11:19:31.381927Z",
     "shell.execute_reply": "2022-09-19T11:19:31.381123Z"
    },
    "papermill": {
     "duration": 0.031502,
     "end_time": "2022-09-19T11:19:31.384258",
     "exception": false,
     "start_time": "2022-09-19T11:19:31.352756",
     "status": "completed"
    },
    "tags": []
   },
   "outputs": [],
   "source": [
    "team_clusters.to_csv('team_clusters.csv', index = False)"
   ]
  },
  {
   "cell_type": "code",
   "execution_count": 61,
   "id": "58971883",
   "metadata": {
    "execution": {
     "iopub.execute_input": "2022-09-19T11:19:31.430795Z",
     "iopub.status.busy": "2022-09-19T11:19:31.429765Z",
     "iopub.status.idle": "2022-09-19T11:19:31.436377Z",
     "shell.execute_reply": "2022-09-19T11:19:31.435255Z"
    },
    "papermill": {
     "duration": 0.032043,
     "end_time": "2022-09-19T11:19:31.438895",
     "exception": false,
     "start_time": "2022-09-19T11:19:31.406852",
     "status": "completed"
    },
    "tags": []
   },
   "outputs": [],
   "source": [
    "success_cluster.to_csv('success_clusters.csv', index = False)"
   ]
  },
  {
   "cell_type": "code",
   "execution_count": null,
   "id": "1255effa",
   "metadata": {
    "papermill": {
     "duration": 0.021078,
     "end_time": "2022-09-19T11:19:31.481202",
     "exception": false,
     "start_time": "2022-09-19T11:19:31.460124",
     "status": "completed"
    },
    "tags": []
   },
   "outputs": [],
   "source": []
  }
 ],
 "metadata": {
  "kernelspec": {
   "display_name": "Python 3",
   "language": "python",
   "name": "python3"
  },
  "language_info": {
   "codemirror_mode": {
    "name": "ipython",
    "version": 3
   },
   "file_extension": ".py",
   "mimetype": "text/x-python",
   "name": "python",
   "nbconvert_exporter": "python",
   "pygments_lexer": "ipython3",
   "version": "3.7.12"
  },
  "papermill": {
   "default_parameters": {},
   "duration": 1723.467464,
   "end_time": "2022-09-19T11:19:32.632083",
   "environment_variables": {},
   "exception": null,
   "input_path": "__notebook__.ipynb",
   "output_path": "__notebook__.ipynb",
   "parameters": {},
   "start_time": "2022-09-19T10:50:49.164619",
   "version": "2.3.4"
  }
 },
 "nbformat": 4,
 "nbformat_minor": 5
}
