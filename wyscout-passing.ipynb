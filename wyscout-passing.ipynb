{
 "cells": [
  {
   "cell_type": "code",
   "execution_count": 1,
   "id": "1cdfc6fa",
   "metadata": {
    "execution": {
     "iopub.execute_input": "2022-09-22T17:06:05.148330Z",
     "iopub.status.busy": "2022-09-22T17:06:05.147855Z",
     "iopub.status.idle": "2022-09-22T17:06:19.380824Z",
     "shell.execute_reply": "2022-09-22T17:06:19.378821Z"
    },
    "papermill": {
     "duration": 14.262433,
     "end_time": "2022-09-22T17:06:19.384050",
     "exception": false,
     "start_time": "2022-09-22T17:06:05.121617",
     "status": "completed"
    },
    "tags": []
   },
   "outputs": [
    {
     "name": "stdout",
     "output_type": "stream",
     "text": [
      "Collecting kloppy\r\n",
      "  Downloading kloppy-3.5.1-py3-none-any.whl (139 kB)\r\n",
      "\u001b[2K     \u001b[90m━━━━━━━━━━━━━━━━━━━━━━━━━━━━━━━━━━━━━\u001b[0m \u001b[32m139.0/139.0 kB\u001b[0m \u001b[31m661.0 kB/s\u001b[0m eta \u001b[36m0:00:00\u001b[0m\r\n",
      "\u001b[?25hRequirement already satisfied: typing-extensions in /opt/conda/lib/python3.7/site-packages (from kloppy) (4.1.1)\r\n",
      "Requirement already satisfied: lxml<5,>=4.4.0 in /opt/conda/lib/python3.7/site-packages (from kloppy) (4.9.0)\r\n",
      "Requirement already satisfied: mypy-extensions in /opt/conda/lib/python3.7/site-packages (from kloppy) (0.4.3)\r\n",
      "Requirement already satisfied: requests<3,>=2.0.0 in /opt/conda/lib/python3.7/site-packages (from kloppy) (2.27.1)\r\n",
      "Requirement already satisfied: python-dateutil<3,>=2.8.1 in /opt/conda/lib/python3.7/site-packages (from kloppy) (2.8.2)\r\n",
      "Requirement already satisfied: pytz>=2020.1 in /opt/conda/lib/python3.7/site-packages (from kloppy) (2022.1)\r\n",
      "Requirement already satisfied: six>=1.5 in /opt/conda/lib/python3.7/site-packages (from python-dateutil<3,>=2.8.1->kloppy) (1.16.0)\r\n",
      "Requirement already satisfied: certifi>=2017.4.17 in /opt/conda/lib/python3.7/site-packages (from requests<3,>=2.0.0->kloppy) (2022.6.15)\r\n",
      "Requirement already satisfied: urllib3<1.27,>=1.21.1 in /opt/conda/lib/python3.7/site-packages (from requests<3,>=2.0.0->kloppy) (1.26.9)\r\n",
      "Requirement already satisfied: idna<4,>=2.5 in /opt/conda/lib/python3.7/site-packages (from requests<3,>=2.0.0->kloppy) (3.3)\r\n",
      "Requirement already satisfied: charset-normalizer~=2.0.0 in /opt/conda/lib/python3.7/site-packages (from requests<3,>=2.0.0->kloppy) (2.0.12)\r\n",
      "Installing collected packages: kloppy\r\n",
      "Successfully installed kloppy-3.5.1\r\n",
      "\u001b[33mWARNING: Running pip as the 'root' user can result in broken permissions and conflicting behaviour with the system package manager. It is recommended to use a virtual environment instead: https://pip.pypa.io/warnings/venv\u001b[0m\u001b[33m\r\n",
      "\u001b[0m"
     ]
    }
   ],
   "source": [
    "!pip install kloppy"
   ]
  },
  {
   "cell_type": "code",
   "execution_count": 2,
   "id": "7dbe7e07",
   "metadata": {
    "execution": {
     "iopub.execute_input": "2022-09-22T17:06:19.429903Z",
     "iopub.status.busy": "2022-09-22T17:06:19.428983Z",
     "iopub.status.idle": "2022-09-22T17:06:19.494205Z",
     "shell.execute_reply": "2022-09-22T17:06:19.493017Z"
    },
    "papermill": {
     "duration": 0.090736,
     "end_time": "2022-09-22T17:06:19.496866",
     "exception": false,
     "start_time": "2022-09-22T17:06:19.406130",
     "status": "completed"
    },
    "tags": []
   },
   "outputs": [],
   "source": [
    "from kloppy import datasets, wyscout\n",
    "import json\n",
    "import pandas as pd\n",
    "import numpy as np\n",
    "from matplotlib.patches import Arc\n",
    "import matplotlib.pyplot as plt"
   ]
  },
  {
   "cell_type": "code",
   "execution_count": 3,
   "id": "a15bfb7f",
   "metadata": {
    "execution": {
     "iopub.execute_input": "2022-09-22T17:06:19.542298Z",
     "iopub.status.busy": "2022-09-22T17:06:19.541841Z",
     "iopub.status.idle": "2022-09-22T17:06:19.547477Z",
     "shell.execute_reply": "2022-09-22T17:06:19.546553Z"
    },
    "papermill": {
     "duration": 0.030724,
     "end_time": "2022-09-22T17:06:19.549818",
     "exception": false,
     "start_time": "2022-09-22T17:06:19.519094",
     "status": "completed"
    },
    "tags": []
   },
   "outputs": [],
   "source": [
    "def load_json(json_path):\n",
    "    with open(json_path) as f:\n",
    "        data = json.load(f)\n",
    "        matches = pd.json_normalize(data, sep = \"_\")\n",
    "    return matches"
   ]
  },
  {
   "cell_type": "code",
   "execution_count": 4,
   "id": "f7dd76fb",
   "metadata": {
    "execution": {
     "iopub.execute_input": "2022-09-22T17:06:19.595682Z",
     "iopub.status.busy": "2022-09-22T17:06:19.595253Z",
     "iopub.status.idle": "2022-09-22T17:06:19.601722Z",
     "shell.execute_reply": "2022-09-22T17:06:19.600496Z"
    },
    "papermill": {
     "duration": 0.032558,
     "end_time": "2022-09-22T17:06:19.604585",
     "exception": false,
     "start_time": "2022-09-22T17:06:19.572027",
     "status": "completed"
    },
    "tags": []
   },
   "outputs": [],
   "source": [
    "def drop0var(df):\n",
    "    \"\"\"\n",
    "    param: df, a pandas dataframe\n",
    "    \"\"\"\n",
    "    todrop = (df.var()[df.var() == 0]).index.values\n",
    "    df = df.drop(todrop, axis=1)\n",
    "    return df"
   ]
  },
  {
   "cell_type": "code",
   "execution_count": 5,
   "id": "7968e55b",
   "metadata": {
    "execution": {
     "iopub.execute_input": "2022-09-22T17:06:19.649619Z",
     "iopub.status.busy": "2022-09-22T17:06:19.648765Z",
     "iopub.status.idle": "2022-09-22T17:06:19.672728Z",
     "shell.execute_reply": "2022-09-22T17:06:19.671417Z"
    },
    "papermill": {
     "duration": 0.049481,
     "end_time": "2022-09-22T17:06:19.675591",
     "exception": false,
     "start_time": "2022-09-22T17:06:19.626110",
     "status": "completed"
    },
    "tags": []
   },
   "outputs": [],
   "source": [
    "def create_pitch(length, width, linecolor, bounds = 15):\n",
    "\n",
    "    \"\"\"\n",
    "    mainly stolen from fc python\n",
    "    param length: an int the length of the field\n",
    "    param width: an int the height of the field\n",
    "    param linecolor: the color of the lines\n",
    "\"\"\"\n",
    "    #Create figure\n",
    "    fig=plt.figure()\n",
    "    #fig.set_size_inches(7, 5)\n",
    "    ax=fig.add_subplot(1,1,1)\n",
    "\n",
    "    #Pitch Outline & Centre Line\n",
    "    plt.plot([0,0],[0,width], color=linecolor)\n",
    "    plt.plot([0,length],[width,width], color=linecolor)\n",
    "    plt.plot([length,length],[width,0], color=linecolor)\n",
    "    plt.plot([length,0],[0,0], color=linecolor)\n",
    "    plt.plot([length/2,length/2],[0,width], color=linecolor)\n",
    "    plt.fill_between(x = [-bounds, length + bounds],\n",
    "                     y1 = [width + bounds, width + bounds],\n",
    "                     y2 = [-bounds, -bounds], color='green')\n",
    "\n",
    "    #Left Penalty Area\n",
    "    plt.plot([16.5 ,16.5],[(width/2 +16.5),(width/2-16.5)],color=linecolor)\n",
    "    plt.plot([0,16.5],[(width/2 +16.5),(width/2 +16.5)],color=linecolor)\n",
    "    plt.plot([16.5,0],[(width/2 -16.5),(width/2 -16.5)],color=linecolor)\n",
    "\n",
    "    #Right Penalty Area\n",
    "    plt.plot([(length-16.5),length],[(width/2 +16.5),(width/2 +16.5)],color=linecolor)\n",
    "    plt.plot([(length-16.5), (length-16.5)],[(width/2 +16.5),(width/2-16.5)],color=linecolor)\n",
    "    plt.plot([(length-16.5),length],[(width/2 -16.5),(width/2 -16.5)],color=linecolor)\n",
    "\n",
    "    #Left 5-meters Box\n",
    "    plt.plot([0,5.5],[(width/2+7.32/2+5.5),(width/2+7.32/2+5.5)],color=linecolor)\n",
    "    plt.plot([5.5,5.5],[(width/2+7.32/2+5.5),(width/2-7.32/2-5.5)],color=linecolor)\n",
    "    plt.plot([5.5,0.5],[(width/2-7.32/2-5.5),(width/2-7.32/2-5.5)],color=linecolor)\n",
    "\n",
    "    #Right 5-meters Box\n",
    "    plt.plot([length,length-5.5],[(width/2+7.32/2+5.5),(width/2+7.32/2+5.5)],color=linecolor)\n",
    "    plt.plot([length-5.5,length-5.5],[(width/2+7.32/2+5.5),width/2-7.32/2-5.5],color=linecolor)\n",
    "    plt.plot([length-5.5,length],[width/2-7.32/2-5.5,width/2-7.32/2-5.5],color=linecolor)\n",
    "\n",
    "    #Prepare Circles\n",
    "    centreCircle = plt.Circle((length/2,width/2),9.15,color=linecolor,fill=False)\n",
    "    centreSpot = plt.Circle((length/2,width/2),0.8,color=linecolor)\n",
    "    leftPenSpot = plt.Circle((11,width/2),0.8,color=linecolor)\n",
    "    rightPenSpot = plt.Circle((length-11,width/2),0.8,color=linecolor)\n",
    "\n",
    "    #Draw Circles\n",
    "    ax.add_patch(centreCircle)\n",
    "    ax.add_patch(centreSpot)\n",
    "    ax.add_patch(leftPenSpot)\n",
    "    ax.add_patch(rightPenSpot)\n",
    "\n",
    "    #Prepare Arcs\n",
    "    leftArc = Arc((11,width/2),height=18.3,width=18.3,angle=0,theta1=308,theta2=52,color=linecolor)\n",
    "    rightArc = Arc((length-11,width/2),height=18.3,width=18.3,angle=0,theta1=128,theta2=232,color=linecolor)\n",
    "\n",
    "    #Draw Arcs\n",
    "    ax.add_patch(leftArc)\n",
    "    ax.add_patch(rightArc)\n",
    "    #Axis titles\n",
    "    #Tidy Axes\n",
    "    plt.axis('off')\n",
    "\n",
    "    return fig,ax\n"
   ]
  },
  {
   "cell_type": "code",
   "execution_count": 6,
   "id": "2cfc31b6",
   "metadata": {
    "execution": {
     "iopub.execute_input": "2022-09-22T17:06:19.720667Z",
     "iopub.status.busy": "2022-09-22T17:06:19.720257Z",
     "iopub.status.idle": "2022-09-22T17:06:19.725483Z",
     "shell.execute_reply": "2022-09-22T17:06:19.724355Z"
    },
    "papermill": {
     "duration": 0.031082,
     "end_time": "2022-09-22T17:06:19.728076",
     "exception": false,
     "start_time": "2022-09-22T17:06:19.696994",
     "status": "completed"
    },
    "tags": []
   },
   "outputs": [],
   "source": [
    "def map_players(x):\n",
    "    try:\n",
    "        return player_map[x]\n",
    "    except:\n",
    "        return \"None\""
   ]
  },
  {
   "cell_type": "code",
   "execution_count": 7,
   "id": "27b83159",
   "metadata": {
    "execution": {
     "iopub.execute_input": "2022-09-22T17:06:19.773461Z",
     "iopub.status.busy": "2022-09-22T17:06:19.773032Z",
     "iopub.status.idle": "2022-09-22T17:06:21.007268Z",
     "shell.execute_reply": "2022-09-22T17:06:21.005974Z"
    },
    "papermill": {
     "duration": 1.260413,
     "end_time": "2022-09-22T17:06:21.009897",
     "exception": false,
     "start_time": "2022-09-22T17:06:19.749484",
     "status": "completed"
    },
    "tags": []
   },
   "outputs": [],
   "source": [
    "import seaborn as sns\n",
    "sns.set(rc={'figure.figsize':(15,10)})\n",
    "length = 105\n",
    "width = 68"
   ]
  },
  {
   "cell_type": "code",
   "execution_count": 8,
   "id": "f0b90d33",
   "metadata": {
    "execution": {
     "iopub.execute_input": "2022-09-22T17:06:21.055737Z",
     "iopub.status.busy": "2022-09-22T17:06:21.055338Z",
     "iopub.status.idle": "2022-09-22T17:06:21.061029Z",
     "shell.execute_reply": "2022-09-22T17:06:21.059825Z"
    },
    "papermill": {
     "duration": 0.032033,
     "end_time": "2022-09-22T17:06:21.063406",
     "exception": false,
     "start_time": "2022-09-22T17:06:21.031373",
     "status": "completed"
    },
    "tags": []
   },
   "outputs": [],
   "source": [
    "def map_length(x):\n",
    "    return x*length\n",
    "\n",
    "def map_width(x):\n",
    "    return x*width"
   ]
  },
  {
   "cell_type": "code",
   "execution_count": 9,
   "id": "96f78593",
   "metadata": {
    "execution": {
     "iopub.execute_input": "2022-09-22T17:06:21.109476Z",
     "iopub.status.busy": "2022-09-22T17:06:21.108304Z",
     "iopub.status.idle": "2022-09-22T17:06:21.691326Z",
     "shell.execute_reply": "2022-09-22T17:06:21.690049Z"
    },
    "papermill": {
     "duration": 0.608377,
     "end_time": "2022-09-22T17:06:21.694108",
     "exception": false,
     "start_time": "2022-09-22T17:06:21.085731",
     "status": "completed"
    },
    "tags": []
   },
   "outputs": [],
   "source": [
    "manu_westham = datasets.load('wyscout', match_id = 2499724)\n",
    "matchdf = manu_westham.to_pandas()"
   ]
  },
  {
   "cell_type": "code",
   "execution_count": 10,
   "id": "98d325fe",
   "metadata": {
    "execution": {
     "iopub.execute_input": "2022-09-22T17:06:21.739724Z",
     "iopub.status.busy": "2022-09-22T17:06:21.739328Z",
     "iopub.status.idle": "2022-09-22T17:06:21.998679Z",
     "shell.execute_reply": "2022-09-22T17:06:21.997467Z"
    },
    "papermill": {
     "duration": 0.285436,
     "end_time": "2022-09-22T17:06:22.001492",
     "exception": false,
     "start_time": "2022-09-22T17:06:21.716056",
     "status": "completed"
    },
    "tags": []
   },
   "outputs": [],
   "source": [
    "matches_json = '../input/being-difficult/matches_England.json'\n",
    "players_json = '../input/being-difficult/players.json'\n",
    "matches = load_json(matches_json)\n",
    "players = load_json(players_json)"
   ]
  },
  {
   "cell_type": "code",
   "execution_count": 11,
   "id": "24470ed9",
   "metadata": {
    "execution": {
     "iopub.execute_input": "2022-09-22T17:06:22.046923Z",
     "iopub.status.busy": "2022-09-22T17:06:22.046410Z",
     "iopub.status.idle": "2022-09-22T17:06:22.334296Z",
     "shell.execute_reply": "2022-09-22T17:06:22.333292Z"
    },
    "papermill": {
     "duration": 0.313412,
     "end_time": "2022-09-22T17:06:22.336969",
     "exception": false,
     "start_time": "2022-09-22T17:06:22.023557",
     "status": "completed"
    },
    "tags": []
   },
   "outputs": [],
   "source": [
    "player_map = {}\n",
    "for index, player in players.iterrows():\n",
    "    player_map[str(player.wyId)] = player.firstName + \" \" + player.lastName "
   ]
  },
  {
   "cell_type": "code",
   "execution_count": 12,
   "id": "c8ee4fe0",
   "metadata": {
    "execution": {
     "iopub.execute_input": "2022-09-22T17:06:22.383590Z",
     "iopub.status.busy": "2022-09-22T17:06:22.382680Z",
     "iopub.status.idle": "2022-09-22T17:06:22.397798Z",
     "shell.execute_reply": "2022-09-22T17:06:22.396521Z"
    },
    "papermill": {
     "duration": 0.040584,
     "end_time": "2022-09-22T17:06:22.400504",
     "exception": false,
     "start_time": "2022-09-22T17:06:22.359920",
     "status": "completed"
    },
    "tags": []
   },
   "outputs": [],
   "source": [
    "matchdf['x'] = matchdf['coordinates_x'].apply(map_length)\n",
    "matchdf['y'] = matchdf['coordinates_y'].apply(map_width)\n",
    "matchdf['end_x'] = matchdf['end_coordinates_x'].apply(map_length)\n",
    "matchdf['end_y'] = matchdf['end_coordinates_y'].apply(map_width)"
   ]
  },
  {
   "cell_type": "code",
   "execution_count": 13,
   "id": "6685164f",
   "metadata": {
    "execution": {
     "iopub.execute_input": "2022-09-22T17:06:22.445928Z",
     "iopub.status.busy": "2022-09-22T17:06:22.445509Z",
     "iopub.status.idle": "2022-09-22T17:09:48.199469Z",
     "shell.execute_reply": "2022-09-22T17:09:48.198283Z"
    },
    "papermill": {
     "duration": 205.779731,
     "end_time": "2022-09-22T17:09:48.202564",
     "exception": false,
     "start_time": "2022-09-22T17:06:22.422833",
     "status": "completed"
    },
    "tags": []
   },
   "outputs": [],
   "source": [
    "alldf = []\n",
    "for match in matches.wyId.unique():\n",
    "    try:\n",
    "        df = datasets.load('wyscout', match_id = match).to_pandas()\n",
    "        df = df[df.event_type =='PASS']\n",
    "        alldf.append(df)\n",
    "    except:\n",
    "        continue"
   ]
  },
  {
   "cell_type": "code",
   "execution_count": 14,
   "id": "80452556",
   "metadata": {
    "execution": {
     "iopub.execute_input": "2022-09-22T17:09:48.248403Z",
     "iopub.status.busy": "2022-09-22T17:09:48.248001Z",
     "iopub.status.idle": "2022-09-22T17:09:48.729500Z",
     "shell.execute_reply": "2022-09-22T17:09:48.728200Z"
    },
    "papermill": {
     "duration": 0.507109,
     "end_time": "2022-09-22T17:09:48.732404",
     "exception": false,
     "start_time": "2022-09-22T17:09:48.225295",
     "status": "completed"
    },
    "tags": []
   },
   "outputs": [],
   "source": [
    "allpasses = pd.concat(alldf)"
   ]
  },
  {
   "cell_type": "code",
   "execution_count": 15,
   "id": "2a818e75",
   "metadata": {
    "execution": {
     "iopub.execute_input": "2022-09-22T17:09:48.778526Z",
     "iopub.status.busy": "2022-09-22T17:09:48.778135Z",
     "iopub.status.idle": "2022-09-22T17:09:48.817302Z",
     "shell.execute_reply": "2022-09-22T17:09:48.816041Z"
    },
    "papermill": {
     "duration": 0.065664,
     "end_time": "2022-09-22T17:09:48.820259",
     "exception": false,
     "start_time": "2022-09-22T17:09:48.754595",
     "status": "completed"
    },
    "tags": []
   },
   "outputs": [
    {
     "name": "stderr",
     "output_type": "stream",
     "text": [
      "/opt/conda/lib/python3.7/site-packages/ipykernel_launcher.py:5: FutureWarning: Dropping of nuisance columns in DataFrame reductions (with 'numeric_only=None') is deprecated; in a future version this will raise TypeError.  Select only valid columns before calling the reduction.\n",
      "  \"\"\"\n"
     ]
    }
   ],
   "source": [
    "matches = drop0var(matches)"
   ]
  },
  {
   "cell_type": "code",
   "execution_count": 16,
   "id": "39c4faf4",
   "metadata": {
    "execution": {
     "iopub.execute_input": "2022-09-22T17:09:48.865513Z",
     "iopub.status.busy": "2022-09-22T17:09:48.865061Z",
     "iopub.status.idle": "2022-09-22T17:09:48.909971Z",
     "shell.execute_reply": "2022-09-22T17:09:48.908282Z"
    },
    "papermill": {
     "duration": 0.070227,
     "end_time": "2022-09-22T17:09:48.912687",
     "exception": false,
     "start_time": "2022-09-22T17:09:48.842460",
     "status": "completed"
    },
    "tags": []
   },
   "outputs": [
    {
     "data": {
      "text/html": [
       "<div>\n",
       "<style scoped>\n",
       "    .dataframe tbody tr th:only-of-type {\n",
       "        vertical-align: middle;\n",
       "    }\n",
       "\n",
       "    .dataframe tbody tr th {\n",
       "        vertical-align: top;\n",
       "    }\n",
       "\n",
       "    .dataframe thead th {\n",
       "        text-align: right;\n",
       "    }\n",
       "</style>\n",
       "<table border=\"1\" class=\"dataframe\">\n",
       "  <thead>\n",
       "    <tr style=\"text-align: right;\">\n",
       "      <th></th>\n",
       "      <th>event_id</th>\n",
       "      <th>event_type</th>\n",
       "      <th>result</th>\n",
       "      <th>success</th>\n",
       "      <th>period_id</th>\n",
       "      <th>timestamp</th>\n",
       "      <th>end_timestamp</th>\n",
       "      <th>ball_state</th>\n",
       "      <th>ball_owning_team</th>\n",
       "      <th>team_id</th>\n",
       "      <th>...</th>\n",
       "      <th>is_counter_attack</th>\n",
       "      <th>pass_type</th>\n",
       "      <th>set_piece_type</th>\n",
       "      <th>body_part_type</th>\n",
       "      <th>goalkeeper_action_type</th>\n",
       "      <th>card_type</th>\n",
       "      <th>x</th>\n",
       "      <th>y</th>\n",
       "      <th>end_x</th>\n",
       "      <th>end_y</th>\n",
       "    </tr>\n",
       "  </thead>\n",
       "  <tbody>\n",
       "    <tr>\n",
       "      <th>0</th>\n",
       "      <td>178494347</td>\n",
       "      <td>PASS</td>\n",
       "      <td>COMPLETE</td>\n",
       "      <td>True</td>\n",
       "      <td>1</td>\n",
       "      <td>5.546151</td>\n",
       "      <td>None</td>\n",
       "      <td>None</td>\n",
       "      <td>None</td>\n",
       "      <td>1611</td>\n",
       "      <td>...</td>\n",
       "      <td>False</td>\n",
       "      <td>SIMPLE_PASS</td>\n",
       "      <td>NaN</td>\n",
       "      <td>NaN</td>\n",
       "      <td>NaN</td>\n",
       "      <td>NaN</td>\n",
       "      <td>52.50</td>\n",
       "      <td>35.36</td>\n",
       "      <td>42.00</td>\n",
       "      <td>29.92</td>\n",
       "    </tr>\n",
       "    <tr>\n",
       "      <th>1</th>\n",
       "      <td>178494348</td>\n",
       "      <td>PASS</td>\n",
       "      <td>COMPLETE</td>\n",
       "      <td>True</td>\n",
       "      <td>1</td>\n",
       "      <td>6.708916</td>\n",
       "      <td>None</td>\n",
       "      <td>None</td>\n",
       "      <td>None</td>\n",
       "      <td>1611</td>\n",
       "      <td>...</td>\n",
       "      <td>False</td>\n",
       "      <td>SIMPLE_PASS</td>\n",
       "      <td>NaN</td>\n",
       "      <td>NaN</td>\n",
       "      <td>NaN</td>\n",
       "      <td>NaN</td>\n",
       "      <td>42.00</td>\n",
       "      <td>29.92</td>\n",
       "      <td>34.65</td>\n",
       "      <td>51.00</td>\n",
       "    </tr>\n",
       "    <tr>\n",
       "      <th>2</th>\n",
       "      <td>178494349</td>\n",
       "      <td>PASS</td>\n",
       "      <td>COMPLETE</td>\n",
       "      <td>True</td>\n",
       "      <td>1</td>\n",
       "      <td>9.612072</td>\n",
       "      <td>None</td>\n",
       "      <td>None</td>\n",
       "      <td>None</td>\n",
       "      <td>1611</td>\n",
       "      <td>...</td>\n",
       "      <td>False</td>\n",
       "      <td>SIMPLE_PASS</td>\n",
       "      <td>NaN</td>\n",
       "      <td>NaN</td>\n",
       "      <td>NaN</td>\n",
       "      <td>NaN</td>\n",
       "      <td>34.65</td>\n",
       "      <td>51.00</td>\n",
       "      <td>44.10</td>\n",
       "      <td>51.68</td>\n",
       "    </tr>\n",
       "    <tr>\n",
       "      <th>3</th>\n",
       "      <td>178494350</td>\n",
       "      <td>PASS</td>\n",
       "      <td>COMPLETE</td>\n",
       "      <td>True</td>\n",
       "      <td>1</td>\n",
       "      <td>10.718877</td>\n",
       "      <td>None</td>\n",
       "      <td>None</td>\n",
       "      <td>None</td>\n",
       "      <td>1611</td>\n",
       "      <td>...</td>\n",
       "      <td>False</td>\n",
       "      <td>SIMPLE_PASS</td>\n",
       "      <td>NaN</td>\n",
       "      <td>NaN</td>\n",
       "      <td>NaN</td>\n",
       "      <td>NaN</td>\n",
       "      <td>44.10</td>\n",
       "      <td>51.68</td>\n",
       "      <td>29.40</td>\n",
       "      <td>24.48</td>\n",
       "    </tr>\n",
       "    <tr>\n",
       "      <th>4</th>\n",
       "      <td>178494351</td>\n",
       "      <td>PASS</td>\n",
       "      <td>COMPLETE</td>\n",
       "      <td>True</td>\n",
       "      <td>1</td>\n",
       "      <td>12.728071</td>\n",
       "      <td>None</td>\n",
       "      <td>None</td>\n",
       "      <td>None</td>\n",
       "      <td>1611</td>\n",
       "      <td>...</td>\n",
       "      <td>False</td>\n",
       "      <td>SIMPLE_PASS</td>\n",
       "      <td>NaN</td>\n",
       "      <td>NaN</td>\n",
       "      <td>NaN</td>\n",
       "      <td>NaN</td>\n",
       "      <td>29.40</td>\n",
       "      <td>24.48</td>\n",
       "      <td>35.70</td>\n",
       "      <td>8.16</td>\n",
       "    </tr>\n",
       "    <tr>\n",
       "      <th>...</th>\n",
       "      <td>...</td>\n",
       "      <td>...</td>\n",
       "      <td>...</td>\n",
       "      <td>...</td>\n",
       "      <td>...</td>\n",
       "      <td>...</td>\n",
       "      <td>...</td>\n",
       "      <td>...</td>\n",
       "      <td>...</td>\n",
       "      <td>...</td>\n",
       "      <td>...</td>\n",
       "      <td>...</td>\n",
       "      <td>...</td>\n",
       "      <td>...</td>\n",
       "      <td>...</td>\n",
       "      <td>...</td>\n",
       "      <td>...</td>\n",
       "      <td>...</td>\n",
       "      <td>...</td>\n",
       "      <td>...</td>\n",
       "      <td>...</td>\n",
       "    </tr>\n",
       "    <tr>\n",
       "      <th>1641</th>\n",
       "      <td>178496018</td>\n",
       "      <td>RECOVERY</td>\n",
       "      <td>None</td>\n",
       "      <td>None</td>\n",
       "      <td>2</td>\n",
       "      <td>2862.313235</td>\n",
       "      <td>None</td>\n",
       "      <td>None</td>\n",
       "      <td>None</td>\n",
       "      <td>1633</td>\n",
       "      <td>...</td>\n",
       "      <td>False</td>\n",
       "      <td>NaN</td>\n",
       "      <td>NaN</td>\n",
       "      <td>NaN</td>\n",
       "      <td>NaN</td>\n",
       "      <td>NaN</td>\n",
       "      <td>5.25</td>\n",
       "      <td>23.80</td>\n",
       "      <td>NaN</td>\n",
       "      <td>NaN</td>\n",
       "    </tr>\n",
       "    <tr>\n",
       "      <th>1642</th>\n",
       "      <td>178496019</td>\n",
       "      <td>BALL_OUT</td>\n",
       "      <td>None</td>\n",
       "      <td>None</td>\n",
       "      <td>2</td>\n",
       "      <td>2866.414500</td>\n",
       "      <td>None</td>\n",
       "      <td>None</td>\n",
       "      <td>None</td>\n",
       "      <td>1633</td>\n",
       "      <td>...</td>\n",
       "      <td>False</td>\n",
       "      <td>NaN</td>\n",
       "      <td>NaN</td>\n",
       "      <td>NaN</td>\n",
       "      <td>NaN</td>\n",
       "      <td>NaN</td>\n",
       "      <td>6.30</td>\n",
       "      <td>0.00</td>\n",
       "      <td>NaN</td>\n",
       "      <td>NaN</td>\n",
       "    </tr>\n",
       "    <tr>\n",
       "      <th>1643</th>\n",
       "      <td>178495982</td>\n",
       "      <td>PASS</td>\n",
       "      <td>COMPLETE</td>\n",
       "      <td>True</td>\n",
       "      <td>2</td>\n",
       "      <td>2879.021252</td>\n",
       "      <td>None</td>\n",
       "      <td>None</td>\n",
       "      <td>None</td>\n",
       "      <td>1611</td>\n",
       "      <td>...</td>\n",
       "      <td>False</td>\n",
       "      <td>HAND_PASS</td>\n",
       "      <td>THROW_IN</td>\n",
       "      <td>NaN</td>\n",
       "      <td>NaN</td>\n",
       "      <td>NaN</td>\n",
       "      <td>93.45</td>\n",
       "      <td>68.00</td>\n",
       "      <td>97.65</td>\n",
       "      <td>61.88</td>\n",
       "    </tr>\n",
       "    <tr>\n",
       "      <th>1644</th>\n",
       "      <td>178496020</td>\n",
       "      <td>TAKE_ON</td>\n",
       "      <td>None</td>\n",
       "      <td>None</td>\n",
       "      <td>2</td>\n",
       "      <td>2883.667683</td>\n",
       "      <td>None</td>\n",
       "      <td>None</td>\n",
       "      <td>None</td>\n",
       "      <td>1633</td>\n",
       "      <td>...</td>\n",
       "      <td>False</td>\n",
       "      <td>NaN</td>\n",
       "      <td>NaN</td>\n",
       "      <td>NaN</td>\n",
       "      <td>NaN</td>\n",
       "      <td>NaN</td>\n",
       "      <td>7.35</td>\n",
       "      <td>6.12</td>\n",
       "      <td>NaN</td>\n",
       "      <td>NaN</td>\n",
       "    </tr>\n",
       "    <tr>\n",
       "      <th>1645</th>\n",
       "      <td>178496470</td>\n",
       "      <td>TAKE_ON</td>\n",
       "      <td>INCOMPLETE</td>\n",
       "      <td>False</td>\n",
       "      <td>2</td>\n",
       "      <td>2883.667683</td>\n",
       "      <td>None</td>\n",
       "      <td>None</td>\n",
       "      <td>None</td>\n",
       "      <td>1611</td>\n",
       "      <td>...</td>\n",
       "      <td>False</td>\n",
       "      <td>NaN</td>\n",
       "      <td>NaN</td>\n",
       "      <td>NaN</td>\n",
       "      <td>NaN</td>\n",
       "      <td>NaN</td>\n",
       "      <td>97.65</td>\n",
       "      <td>61.88</td>\n",
       "      <td>NaN</td>\n",
       "      <td>NaN</td>\n",
       "    </tr>\n",
       "  </tbody>\n",
       "</table>\n",
       "<p>1646 rows × 26 columns</p>\n",
       "</div>"
      ],
      "text/plain": [
       "       event_id event_type      result success  period_id    timestamp  \\\n",
       "0     178494347       PASS    COMPLETE    True          1     5.546151   \n",
       "1     178494348       PASS    COMPLETE    True          1     6.708916   \n",
       "2     178494349       PASS    COMPLETE    True          1     9.612072   \n",
       "3     178494350       PASS    COMPLETE    True          1    10.718877   \n",
       "4     178494351       PASS    COMPLETE    True          1    12.728071   \n",
       "...         ...        ...         ...     ...        ...          ...   \n",
       "1641  178496018   RECOVERY        None    None          2  2862.313235   \n",
       "1642  178496019   BALL_OUT        None    None          2  2866.414500   \n",
       "1643  178495982       PASS    COMPLETE    True          2  2879.021252   \n",
       "1644  178496020    TAKE_ON        None    None          2  2883.667683   \n",
       "1645  178496470    TAKE_ON  INCOMPLETE   False          2  2883.667683   \n",
       "\n",
       "     end_timestamp ball_state ball_owning_team team_id  ... is_counter_attack  \\\n",
       "0             None       None             None    1611  ...             False   \n",
       "1             None       None             None    1611  ...             False   \n",
       "2             None       None             None    1611  ...             False   \n",
       "3             None       None             None    1611  ...             False   \n",
       "4             None       None             None    1611  ...             False   \n",
       "...            ...        ...              ...     ...  ...               ...   \n",
       "1641          None       None             None    1633  ...             False   \n",
       "1642          None       None             None    1633  ...             False   \n",
       "1643          None       None             None    1611  ...             False   \n",
       "1644          None       None             None    1633  ...             False   \n",
       "1645          None       None             None    1611  ...             False   \n",
       "\n",
       "        pass_type  set_piece_type  body_part_type  goalkeeper_action_type  \\\n",
       "0     SIMPLE_PASS             NaN             NaN                     NaN   \n",
       "1     SIMPLE_PASS             NaN             NaN                     NaN   \n",
       "2     SIMPLE_PASS             NaN             NaN                     NaN   \n",
       "3     SIMPLE_PASS             NaN             NaN                     NaN   \n",
       "4     SIMPLE_PASS             NaN             NaN                     NaN   \n",
       "...           ...             ...             ...                     ...   \n",
       "1641          NaN             NaN             NaN                     NaN   \n",
       "1642          NaN             NaN             NaN                     NaN   \n",
       "1643    HAND_PASS        THROW_IN             NaN                     NaN   \n",
       "1644          NaN             NaN             NaN                     NaN   \n",
       "1645          NaN             NaN             NaN                     NaN   \n",
       "\n",
       "      card_type      x      y  end_x  end_y  \n",
       "0           NaN  52.50  35.36  42.00  29.92  \n",
       "1           NaN  42.00  29.92  34.65  51.00  \n",
       "2           NaN  34.65  51.00  44.10  51.68  \n",
       "3           NaN  44.10  51.68  29.40  24.48  \n",
       "4           NaN  29.40  24.48  35.70   8.16  \n",
       "...         ...    ...    ...    ...    ...  \n",
       "1641        NaN   5.25  23.80    NaN    NaN  \n",
       "1642        NaN   6.30   0.00    NaN    NaN  \n",
       "1643        NaN  93.45  68.00  97.65  61.88  \n",
       "1644        NaN   7.35   6.12    NaN    NaN  \n",
       "1645        NaN  97.65  61.88    NaN    NaN  \n",
       "\n",
       "[1646 rows x 26 columns]"
      ]
     },
     "execution_count": 16,
     "metadata": {},
     "output_type": "execute_result"
    }
   ],
   "source": [
    "matchdf"
   ]
  },
  {
   "cell_type": "code",
   "execution_count": 17,
   "id": "86f7c148",
   "metadata": {
    "execution": {
     "iopub.execute_input": "2022-09-22T17:09:48.960028Z",
     "iopub.status.busy": "2022-09-22T17:09:48.959586Z",
     "iopub.status.idle": "2022-09-22T17:09:48.984010Z",
     "shell.execute_reply": "2022-09-22T17:09:48.982734Z"
    },
    "papermill": {
     "duration": 0.050952,
     "end_time": "2022-09-22T17:09:48.987155",
     "exception": false,
     "start_time": "2022-09-22T17:09:48.936203",
     "status": "completed"
    },
    "tags": []
   },
   "outputs": [
    {
     "name": "stderr",
     "output_type": "stream",
     "text": [
      "/opt/conda/lib/python3.7/site-packages/ipykernel_launcher.py:5: FutureWarning: Dropping of nuisance columns in DataFrame reductions (with 'numeric_only=None') is deprecated; in a future version this will raise TypeError.  Select only valid columns before calling the reduction.\n",
      "  \"\"\"\n"
     ]
    }
   ],
   "source": [
    "matchdf = drop0var(matchdf)"
   ]
  },
  {
   "cell_type": "code",
   "execution_count": 18,
   "id": "8048c464",
   "metadata": {
    "execution": {
     "iopub.execute_input": "2022-09-22T17:09:49.034348Z",
     "iopub.status.busy": "2022-09-22T17:09:49.033255Z",
     "iopub.status.idle": "2022-09-22T17:09:49.040357Z",
     "shell.execute_reply": "2022-09-22T17:09:49.038427Z"
    },
    "papermill": {
     "duration": 0.033006,
     "end_time": "2022-09-22T17:09:49.043005",
     "exception": false,
     "start_time": "2022-09-22T17:09:49.009999",
     "status": "completed"
    },
    "tags": []
   },
   "outputs": [
    {
     "name": "stdout",
     "output_type": "stream",
     "text": [
      "event_id\n",
      "event_type\n",
      "result\n",
      "success\n",
      "period_id\n",
      "timestamp\n",
      "end_timestamp\n",
      "ball_state\n",
      "ball_owning_team\n",
      "team_id\n",
      "player_id\n",
      "coordinates_x\n",
      "coordinates_y\n",
      "end_coordinates_x\n",
      "end_coordinates_y\n",
      "receiver_player_id\n",
      "is_counter_attack\n",
      "pass_type\n",
      "set_piece_type\n",
      "body_part_type\n",
      "goalkeeper_action_type\n",
      "card_type\n",
      "x\n",
      "y\n",
      "end_x\n",
      "end_y\n"
     ]
    }
   ],
   "source": [
    "for col in matchdf.columns:\n",
    "    print(col)"
   ]
  },
  {
   "cell_type": "code",
   "execution_count": 19,
   "id": "8b879fb5",
   "metadata": {
    "execution": {
     "iopub.execute_input": "2022-09-22T17:09:49.089692Z",
     "iopub.status.busy": "2022-09-22T17:09:49.088657Z",
     "iopub.status.idle": "2022-09-22T17:09:49.097372Z",
     "shell.execute_reply": "2022-09-22T17:09:49.096175Z"
    },
    "papermill": {
     "duration": 0.034544,
     "end_time": "2022-09-22T17:09:49.099797",
     "exception": false,
     "start_time": "2022-09-22T17:09:49.065253",
     "status": "completed"
    },
    "tags": []
   },
   "outputs": [
    {
     "data": {
      "text/plain": [
       "0           PASS\n",
       "1           PASS\n",
       "2           PASS\n",
       "3           PASS\n",
       "4           PASS\n",
       "          ...   \n",
       "1641    RECOVERY\n",
       "1642    BALL_OUT\n",
       "1643        PASS\n",
       "1644     TAKE_ON\n",
       "1645     TAKE_ON\n",
       "Name: event_type, Length: 1646, dtype: object"
      ]
     },
     "execution_count": 19,
     "metadata": {},
     "output_type": "execute_result"
    }
   ],
   "source": [
    "matchdf.event_type"
   ]
  },
  {
   "cell_type": "code",
   "execution_count": 20,
   "id": "7c348fc5",
   "metadata": {
    "execution": {
     "iopub.execute_input": "2022-09-22T17:09:49.147387Z",
     "iopub.status.busy": "2022-09-22T17:09:49.146994Z",
     "iopub.status.idle": "2022-09-22T17:09:49.150978Z",
     "shell.execute_reply": "2022-09-22T17:09:49.150093Z"
    },
    "papermill": {
     "duration": 0.030448,
     "end_time": "2022-09-22T17:09:49.153072",
     "exception": false,
     "start_time": "2022-09-22T17:09:49.122624",
     "status": "completed"
    },
    "tags": []
   },
   "outputs": [],
   "source": [
    "# passes = matchdf[matchdf.event_type == \"PASS\"]\n",
    "passes = allpasses"
   ]
  },
  {
   "cell_type": "code",
   "execution_count": 21,
   "id": "f494a6ce",
   "metadata": {
    "execution": {
     "iopub.execute_input": "2022-09-22T17:09:49.200409Z",
     "iopub.status.busy": "2022-09-22T17:09:49.199364Z",
     "iopub.status.idle": "2022-09-22T17:09:49.461507Z",
     "shell.execute_reply": "2022-09-22T17:09:49.460431Z"
    },
    "papermill": {
     "duration": 0.288645,
     "end_time": "2022-09-22T17:09:49.464111",
     "exception": false,
     "start_time": "2022-09-22T17:09:49.175466",
     "status": "completed"
    },
    "tags": []
   },
   "outputs": [],
   "source": [
    "passes['x'] = passes['coordinates_x'].apply(map_length)\n",
    "passes['y'] = passes['coordinates_y'].apply(map_width)"
   ]
  },
  {
   "cell_type": "code",
   "execution_count": 22,
   "id": "c993da8a",
   "metadata": {
    "execution": {
     "iopub.execute_input": "2022-09-22T17:09:49.511296Z",
     "iopub.status.busy": "2022-09-22T17:09:49.510168Z",
     "iopub.status.idle": "2022-09-22T17:09:49.517265Z",
     "shell.execute_reply": "2022-09-22T17:09:49.516041Z"
    },
    "papermill": {
     "duration": 0.033272,
     "end_time": "2022-09-22T17:09:49.519837",
     "exception": false,
     "start_time": "2022-09-22T17:09:49.486565",
     "status": "completed"
    },
    "tags": []
   },
   "outputs": [
    {
     "data": {
      "text/plain": [
       "'1659'"
      ]
     },
     "execution_count": 22,
     "metadata": {},
     "output_type": "execute_result"
    }
   ],
   "source": [
    "passes.team_id.iloc[0]"
   ]
  },
  {
   "cell_type": "code",
   "execution_count": 23,
   "id": "0ea6acca",
   "metadata": {
    "execution": {
     "iopub.execute_input": "2022-09-22T17:09:49.567874Z",
     "iopub.status.busy": "2022-09-22T17:09:49.567429Z",
     "iopub.status.idle": "2022-09-22T17:09:49.574475Z",
     "shell.execute_reply": "2022-09-22T17:09:49.573048Z"
    },
    "papermill": {
     "duration": 0.034141,
     "end_time": "2022-09-22T17:09:49.577002",
     "exception": false,
     "start_time": "2022-09-22T17:09:49.542861",
     "status": "completed"
    },
    "tags": []
   },
   "outputs": [],
   "source": [
    "def plot_event(df):\n",
    "    create_pitch(length, width, 'white')\n",
    "    first_team = df.team_id.iloc[0]\n",
    "    for index, p in df.iterrows():\n",
    "        color = 'red' if p.team_id == first_team else 'blue'\n",
    "        x = p.x\n",
    "        y = p.y\n",
    "        plt.scatter(x, y, color = color)\n",
    "\n",
    "    plt.show()"
   ]
  },
  {
   "cell_type": "code",
   "execution_count": 24,
   "id": "9b1bb3a1",
   "metadata": {
    "execution": {
     "iopub.execute_input": "2022-09-22T17:09:49.625219Z",
     "iopub.status.busy": "2022-09-22T17:09:49.624814Z",
     "iopub.status.idle": "2022-09-22T17:09:49.630153Z",
     "shell.execute_reply": "2022-09-22T17:09:49.629055Z"
    },
    "papermill": {
     "duration": 0.032304,
     "end_time": "2022-09-22T17:09:49.632616",
     "exception": false,
     "start_time": "2022-09-22T17:09:49.600312",
     "status": "completed"
    },
    "tags": []
   },
   "outputs": [],
   "source": [
    "# plot_event(passes)"
   ]
  },
  {
   "cell_type": "code",
   "execution_count": 25,
   "id": "4698ec5c",
   "metadata": {
    "execution": {
     "iopub.execute_input": "2022-09-22T17:09:49.680309Z",
     "iopub.status.busy": "2022-09-22T17:09:49.679615Z",
     "iopub.status.idle": "2022-09-22T17:09:49.687093Z",
     "shell.execute_reply": "2022-09-22T17:09:49.686113Z"
    },
    "papermill": {
     "duration": 0.033693,
     "end_time": "2022-09-22T17:09:49.689346",
     "exception": false,
     "start_time": "2022-09-22T17:09:49.655653",
     "status": "completed"
    },
    "tags": []
   },
   "outputs": [
    {
     "data": {
      "text/plain": [
       "Index(['weight', 'firstName', 'middleName', 'lastName', 'currentTeamId',\n",
       "       'birthDate', 'height', 'wyId', 'foot', 'shortName',\n",
       "       'currentNationalTeamId', 'passportArea_name', 'passportArea_id',\n",
       "       'passportArea_alpha3code', 'passportArea_alpha2code', 'role_code2',\n",
       "       'role_code3', 'role_name', 'birthArea_name', 'birthArea_id',\n",
       "       'birthArea_alpha3code', 'birthArea_alpha2code'],\n",
       "      dtype='object')"
      ]
     },
     "execution_count": 25,
     "metadata": {},
     "output_type": "execute_result"
    }
   ],
   "source": [
    "players.columns"
   ]
  },
  {
   "cell_type": "code",
   "execution_count": 26,
   "id": "83654bc4",
   "metadata": {
    "execution": {
     "iopub.execute_input": "2022-09-22T17:09:49.737081Z",
     "iopub.status.busy": "2022-09-22T17:09:49.736005Z",
     "iopub.status.idle": "2022-09-22T17:09:49.759280Z",
     "shell.execute_reply": "2022-09-22T17:09:49.758272Z"
    },
    "papermill": {
     "duration": 0.049627,
     "end_time": "2022-09-22T17:09:49.761680",
     "exception": false,
     "start_time": "2022-09-22T17:09:49.712053",
     "status": "completed"
    },
    "tags": []
   },
   "outputs": [
    {
     "data": {
      "text/html": [
       "<div>\n",
       "<style scoped>\n",
       "    .dataframe tbody tr th:only-of-type {\n",
       "        vertical-align: middle;\n",
       "    }\n",
       "\n",
       "    .dataframe tbody tr th {\n",
       "        vertical-align: top;\n",
       "    }\n",
       "\n",
       "    .dataframe thead th {\n",
       "        text-align: right;\n",
       "    }\n",
       "</style>\n",
       "<table border=\"1\" class=\"dataframe\">\n",
       "  <thead>\n",
       "    <tr style=\"text-align: right;\">\n",
       "      <th></th>\n",
       "      <th>weight</th>\n",
       "      <th>firstName</th>\n",
       "      <th>middleName</th>\n",
       "      <th>lastName</th>\n",
       "      <th>currentTeamId</th>\n",
       "      <th>birthDate</th>\n",
       "      <th>height</th>\n",
       "      <th>wyId</th>\n",
       "      <th>foot</th>\n",
       "      <th>shortName</th>\n",
       "      <th>...</th>\n",
       "      <th>passportArea_id</th>\n",
       "      <th>passportArea_alpha3code</th>\n",
       "      <th>passportArea_alpha2code</th>\n",
       "      <th>role_code2</th>\n",
       "      <th>role_code3</th>\n",
       "      <th>role_name</th>\n",
       "      <th>birthArea_name</th>\n",
       "      <th>birthArea_id</th>\n",
       "      <th>birthArea_alpha3code</th>\n",
       "      <th>birthArea_alpha2code</th>\n",
       "    </tr>\n",
       "  </thead>\n",
       "  <tbody>\n",
       "    <tr>\n",
       "      <th>2900</th>\n",
       "      <td>63</td>\n",
       "      <td>Juan Manuel</td>\n",
       "      <td></td>\n",
       "      <td>Mata Garc\\u00eda</td>\n",
       "      <td>1611</td>\n",
       "      <td>1988-04-28</td>\n",
       "      <td>170</td>\n",
       "      <td>7906</td>\n",
       "      <td>left</td>\n",
       "      <td>Juan Mata</td>\n",
       "      <td>...</td>\n",
       "      <td>724</td>\n",
       "      <td>ESP</td>\n",
       "      <td>ES</td>\n",
       "      <td>MD</td>\n",
       "      <td>MID</td>\n",
       "      <td>Midfielder</td>\n",
       "      <td>Spain</td>\n",
       "      <td>724</td>\n",
       "      <td>ESP</td>\n",
       "      <td>ES</td>\n",
       "    </tr>\n",
       "  </tbody>\n",
       "</table>\n",
       "<p>1 rows × 22 columns</p>\n",
       "</div>"
      ],
      "text/plain": [
       "      weight    firstName middleName          lastName currentTeamId  \\\n",
       "2900      63  Juan Manuel             Mata Garc\\u00eda          1611   \n",
       "\n",
       "       birthDate  height  wyId  foot  shortName  ... passportArea_id  \\\n",
       "2900  1988-04-28     170  7906  left  Juan Mata  ...             724   \n",
       "\n",
       "     passportArea_alpha3code passportArea_alpha2code role_code2 role_code3  \\\n",
       "2900                     ESP                      ES         MD        MID   \n",
       "\n",
       "       role_name birthArea_name birthArea_id birthArea_alpha3code  \\\n",
       "2900  Midfielder          Spain          724                  ESP   \n",
       "\n",
       "     birthArea_alpha2code  \n",
       "2900                   ES  \n",
       "\n",
       "[1 rows x 22 columns]"
      ]
     },
     "execution_count": 26,
     "metadata": {},
     "output_type": "execute_result"
    }
   ],
   "source": [
    "players[players.wyId == 7906]"
   ]
  },
  {
   "cell_type": "code",
   "execution_count": 27,
   "id": "cdec3035",
   "metadata": {
    "execution": {
     "iopub.execute_input": "2022-09-22T17:09:49.810352Z",
     "iopub.status.busy": "2022-09-22T17:09:49.809921Z",
     "iopub.status.idle": "2022-09-22T17:09:49.818557Z",
     "shell.execute_reply": "2022-09-22T17:09:49.817379Z"
    },
    "papermill": {
     "duration": 0.036404,
     "end_time": "2022-09-22T17:09:49.821149",
     "exception": false,
     "start_time": "2022-09-22T17:09:49.784745",
     "status": "completed"
    },
    "tags": []
   },
   "outputs": [
    {
     "data": {
      "text/plain": [
       "0         7906\n",
       "1       105338\n",
       "2        70122\n",
       "3         7936\n",
       "4         7918\n",
       "         ...  \n",
       "1641      8301\n",
       "1642      None\n",
       "1643      None\n",
       "1644     14703\n",
       "1645      None\n",
       "Name: player_id, Length: 1646, dtype: object"
      ]
     },
     "execution_count": 27,
     "metadata": {},
     "output_type": "execute_result"
    }
   ],
   "source": [
    "matchdf.player_id"
   ]
  },
  {
   "cell_type": "code",
   "execution_count": 28,
   "id": "96670b1f",
   "metadata": {
    "execution": {
     "iopub.execute_input": "2022-09-22T17:09:49.870166Z",
     "iopub.status.busy": "2022-09-22T17:09:49.869403Z",
     "iopub.status.idle": "2022-09-22T17:09:49.876310Z",
     "shell.execute_reply": "2022-09-22T17:09:49.875349Z"
    },
    "papermill": {
     "duration": 0.034633,
     "end_time": "2022-09-22T17:09:49.878848",
     "exception": false,
     "start_time": "2022-09-22T17:09:49.844215",
     "status": "completed"
    },
    "tags": []
   },
   "outputs": [],
   "source": [
    "matchdf['player_name'] = matchdf.player_id.apply(map_players)"
   ]
  },
  {
   "cell_type": "code",
   "execution_count": 29,
   "id": "f01399fb",
   "metadata": {
    "execution": {
     "iopub.execute_input": "2022-09-22T17:09:49.928548Z",
     "iopub.status.busy": "2022-09-22T17:09:49.927828Z",
     "iopub.status.idle": "2022-09-22T17:09:49.944558Z",
     "shell.execute_reply": "2022-09-22T17:09:49.943366Z"
    },
    "papermill": {
     "duration": 0.044787,
     "end_time": "2022-09-22T17:09:49.946997",
     "exception": false,
     "start_time": "2022-09-22T17:09:49.902210",
     "status": "completed"
    },
    "tags": []
   },
   "outputs": [
    {
     "data": {
      "text/html": [
       "<div>\n",
       "<style scoped>\n",
       "    .dataframe tbody tr th:only-of-type {\n",
       "        vertical-align: middle;\n",
       "    }\n",
       "\n",
       "    .dataframe tbody tr th {\n",
       "        vertical-align: top;\n",
       "    }\n",
       "\n",
       "    .dataframe thead th {\n",
       "        text-align: right;\n",
       "    }\n",
       "</style>\n",
       "<table border=\"1\" class=\"dataframe\">\n",
       "  <thead>\n",
       "    <tr style=\"text-align: right;\">\n",
       "      <th></th>\n",
       "      <th>event_type</th>\n",
       "      <th>player_id</th>\n",
       "      <th>player_name</th>\n",
       "      <th>timestamp</th>\n",
       "    </tr>\n",
       "  </thead>\n",
       "  <tbody>\n",
       "    <tr>\n",
       "      <th>0</th>\n",
       "      <td>PASS</td>\n",
       "      <td>7906</td>\n",
       "      <td>Juan Manuel Mata Garc\\u00eda</td>\n",
       "      <td>5.546151</td>\n",
       "    </tr>\n",
       "    <tr>\n",
       "      <th>1</th>\n",
       "      <td>PASS</td>\n",
       "      <td>105338</td>\n",
       "      <td>Henrikh Mkhitaryan</td>\n",
       "      <td>6.708916</td>\n",
       "    </tr>\n",
       "    <tr>\n",
       "      <th>2</th>\n",
       "      <td>PASS</td>\n",
       "      <td>70122</td>\n",
       "      <td>Nemanja Mati\\u0107</td>\n",
       "      <td>9.612072</td>\n",
       "    </tr>\n",
       "    <tr>\n",
       "      <th>3</th>\n",
       "      <td>PASS</td>\n",
       "      <td>7936</td>\n",
       "      <td>Paul Pogba</td>\n",
       "      <td>10.718877</td>\n",
       "    </tr>\n",
       "    <tr>\n",
       "      <th>4</th>\n",
       "      <td>PASS</td>\n",
       "      <td>7918</td>\n",
       "      <td>Phil Jones</td>\n",
       "      <td>12.728071</td>\n",
       "    </tr>\n",
       "    <tr>\n",
       "      <th>...</th>\n",
       "      <td>...</td>\n",
       "      <td>...</td>\n",
       "      <td>...</td>\n",
       "      <td>...</td>\n",
       "    </tr>\n",
       "    <tr>\n",
       "      <th>1641</th>\n",
       "      <td>RECOVERY</td>\n",
       "      <td>8301</td>\n",
       "      <td>Joe Hart</td>\n",
       "      <td>2862.313235</td>\n",
       "    </tr>\n",
       "    <tr>\n",
       "      <th>1642</th>\n",
       "      <td>BALL_OUT</td>\n",
       "      <td>None</td>\n",
       "      <td>None</td>\n",
       "      <td>2866.414500</td>\n",
       "    </tr>\n",
       "    <tr>\n",
       "      <th>1643</th>\n",
       "      <td>PASS</td>\n",
       "      <td>None</td>\n",
       "      <td>None</td>\n",
       "      <td>2879.021252</td>\n",
       "    </tr>\n",
       "    <tr>\n",
       "      <th>1644</th>\n",
       "      <td>TAKE_ON</td>\n",
       "      <td>14703</td>\n",
       "      <td>Marko Arnautovi\\u0107</td>\n",
       "      <td>2883.667683</td>\n",
       "    </tr>\n",
       "    <tr>\n",
       "      <th>1645</th>\n",
       "      <td>TAKE_ON</td>\n",
       "      <td>None</td>\n",
       "      <td>None</td>\n",
       "      <td>2883.667683</td>\n",
       "    </tr>\n",
       "  </tbody>\n",
       "</table>\n",
       "<p>1646 rows × 4 columns</p>\n",
       "</div>"
      ],
      "text/plain": [
       "     event_type player_id                   player_name    timestamp\n",
       "0          PASS      7906  Juan Manuel Mata Garc\\u00eda     5.546151\n",
       "1          PASS    105338            Henrikh Mkhitaryan     6.708916\n",
       "2          PASS     70122            Nemanja Mati\\u0107     9.612072\n",
       "3          PASS      7936                    Paul Pogba    10.718877\n",
       "4          PASS      7918                    Phil Jones    12.728071\n",
       "...         ...       ...                           ...          ...\n",
       "1641   RECOVERY      8301                      Joe Hart  2862.313235\n",
       "1642   BALL_OUT      None                          None  2866.414500\n",
       "1643       PASS      None                          None  2879.021252\n",
       "1644    TAKE_ON     14703         Marko Arnautovi\\u0107  2883.667683\n",
       "1645    TAKE_ON      None                          None  2883.667683\n",
       "\n",
       "[1646 rows x 4 columns]"
      ]
     },
     "execution_count": 29,
     "metadata": {},
     "output_type": "execute_result"
    }
   ],
   "source": [
    "matchdf[['event_type', 'player_id', 'player_name', 'timestamp']]"
   ]
  },
  {
   "cell_type": "code",
   "execution_count": 30,
   "id": "31235e5e",
   "metadata": {
    "execution": {
     "iopub.execute_input": "2022-09-22T17:09:49.995543Z",
     "iopub.status.busy": "2022-09-22T17:09:49.994870Z",
     "iopub.status.idle": "2022-09-22T17:09:50.219316Z",
     "shell.execute_reply": "2022-09-22T17:09:50.218050Z"
    },
    "papermill": {
     "duration": 0.251853,
     "end_time": "2022-09-22T17:09:50.221927",
     "exception": false,
     "start_time": "2022-09-22T17:09:49.970074",
     "status": "completed"
    },
    "tags": []
   },
   "outputs": [
    {
     "data": {
      "text/plain": [
       "coordinates_x    1.0\n",
       "coordinates_y    1.0\n",
       "dtype: float64"
      ]
     },
     "execution_count": 30,
     "metadata": {},
     "output_type": "execute_result"
    }
   ],
   "source": [
    "passes[['coordinates_x', 'coordinates_y']].max()"
   ]
  },
  {
   "cell_type": "code",
   "execution_count": 31,
   "id": "24cd3acb",
   "metadata": {
    "execution": {
     "iopub.execute_input": "2022-09-22T17:09:50.271488Z",
     "iopub.status.busy": "2022-09-22T17:09:50.271048Z",
     "iopub.status.idle": "2022-09-22T17:09:50.283047Z",
     "shell.execute_reply": "2022-09-22T17:09:50.282151Z"
    },
    "papermill": {
     "duration": 0.039837,
     "end_time": "2022-09-22T17:09:50.285280",
     "exception": false,
     "start_time": "2022-09-22T17:09:50.245443",
     "status": "completed"
    },
    "tags": []
   },
   "outputs": [
    {
     "data": {
      "text/plain": [
       "coordinates_x    0.0\n",
       "coordinates_y    0.0\n",
       "dtype: float64"
      ]
     },
     "execution_count": 31,
     "metadata": {},
     "output_type": "execute_result"
    }
   ],
   "source": [
    "passes[['coordinates_x', 'coordinates_y']].min()"
   ]
  },
  {
   "cell_type": "code",
   "execution_count": 32,
   "id": "047da2a3",
   "metadata": {
    "execution": {
     "iopub.execute_input": "2022-09-22T17:09:50.335569Z",
     "iopub.status.busy": "2022-09-22T17:09:50.334712Z",
     "iopub.status.idle": "2022-09-22T17:09:50.340680Z",
     "shell.execute_reply": "2022-09-22T17:09:50.339708Z"
    },
    "papermill": {
     "duration": 0.034383,
     "end_time": "2022-09-22T17:09:50.343086",
     "exception": false,
     "start_time": "2022-09-22T17:09:50.308703",
     "status": "completed"
    },
    "tags": []
   },
   "outputs": [],
   "source": [
    "shots = matchdf[matchdf.event_type == 'SHOT']"
   ]
  },
  {
   "cell_type": "code",
   "execution_count": 33,
   "id": "86189459",
   "metadata": {
    "execution": {
     "iopub.execute_input": "2022-09-22T17:09:50.395860Z",
     "iopub.status.busy": "2022-09-22T17:09:50.395018Z",
     "iopub.status.idle": "2022-09-22T17:09:50.402298Z",
     "shell.execute_reply": "2022-09-22T17:09:50.401107Z"
    },
    "papermill": {
     "duration": 0.036885,
     "end_time": "2022-09-22T17:09:50.404920",
     "exception": false,
     "start_time": "2022-09-22T17:09:50.368035",
     "status": "completed"
    },
    "tags": []
   },
   "outputs": [
    {
     "name": "stdout",
     "output_type": "stream",
     "text": [
      "event_id                           178494555\n",
      "event_type                              SHOT\n",
      "result                            OFF_TARGET\n",
      "success                                False\n",
      "period_id                                  1\n",
      "timestamp                         665.816769\n",
      "end_timestamp                           None\n",
      "ball_state                              None\n",
      "ball_owning_team                        None\n",
      "team_id                                 1611\n",
      "player_id                             105338\n",
      "coordinates_x                           0.89\n",
      "coordinates_y                            0.7\n",
      "end_coordinates_x                        0.0\n",
      "end_coordinates_y                        0.0\n",
      "receiver_player_id                       NaN\n",
      "is_counter_attack                      False\n",
      "pass_type                                NaN\n",
      "set_piece_type                           NaN\n",
      "body_part_type                           NaN\n",
      "goalkeeper_action_type                   NaN\n",
      "card_type                                NaN\n",
      "x                                      93.45\n",
      "y                                       47.6\n",
      "end_x                                    0.0\n",
      "end_y                                    0.0\n",
      "player_name               Henrikh Mkhitaryan\n",
      "Name: 229, dtype: object\n"
     ]
    }
   ],
   "source": [
    "for i, s in shots.iterrows():\n",
    "    print(s)\n",
    "    break"
   ]
  },
  {
   "cell_type": "code",
   "execution_count": 34,
   "id": "273a50ec",
   "metadata": {
    "execution": {
     "iopub.execute_input": "2022-09-22T17:09:50.455331Z",
     "iopub.status.busy": "2022-09-22T17:09:50.454135Z",
     "iopub.status.idle": "2022-09-22T17:09:51.204157Z",
     "shell.execute_reply": "2022-09-22T17:09:51.203159Z"
    },
    "papermill": {
     "duration": 0.777953,
     "end_time": "2022-09-22T17:09:51.207113",
     "exception": false,
     "start_time": "2022-09-22T17:09:50.429160",
     "status": "completed"
    },
    "tags": []
   },
   "outputs": [
    {
     "data": {
      "image/png": "[encoded data removed]",
      "text/plain": [
       "<Figure size 1080x720 with 1 Axes>"
      ]
     },
     "metadata": {},
     "output_type": "display_data"
    }
   ],
   "source": [
    "plot_event(shots)"
   ]
  },
  {
   "cell_type": "code",
   "execution_count": 35,
   "id": "341aac6a",
   "metadata": {
    "execution": {
     "iopub.execute_input": "2022-09-22T17:09:51.259606Z",
     "iopub.status.busy": "2022-09-22T17:09:51.258543Z",
     "iopub.status.idle": "2022-09-22T17:09:51.266888Z",
     "shell.execute_reply": "2022-09-22T17:09:51.265542Z"
    },
    "papermill": {
     "duration": 0.037628,
     "end_time": "2022-09-22T17:09:51.269429",
     "exception": false,
     "start_time": "2022-09-22T17:09:51.231801",
     "status": "completed"
    },
    "tags": []
   },
   "outputs": [
    {
     "data": {
      "text/plain": [
       "Index(['event_id', 'event_type', 'result', 'success', 'period_id', 'timestamp',\n",
       "       'end_timestamp', 'ball_state', 'ball_owning_team', 'team_id',\n",
       "       'player_id', 'coordinates_x', 'coordinates_y', 'end_coordinates_x',\n",
       "       'end_coordinates_y', 'receiver_player_id', 'is_counter_attack',\n",
       "       'pass_type', 'body_part_type', 'set_piece_type',\n",
       "       'goalkeeper_action_type', 'card_type', 'x', 'y'],\n",
       "      dtype='object')"
      ]
     },
     "execution_count": 35,
     "metadata": {},
     "output_type": "execute_result"
    }
   ],
   "source": [
    "passes.columns"
   ]
  },
  {
   "cell_type": "code",
   "execution_count": 36,
   "id": "0533f542",
   "metadata": {
    "execution": {
     "iopub.execute_input": "2022-09-22T17:09:51.321154Z",
     "iopub.status.busy": "2022-09-22T17:09:51.320725Z",
     "iopub.status.idle": "2022-09-22T17:09:51.326351Z",
     "shell.execute_reply": "2022-09-22T17:09:51.325180Z"
    },
    "papermill": {
     "duration": 0.035028,
     "end_time": "2022-09-22T17:09:51.329659",
     "exception": false,
     "start_time": "2022-09-22T17:09:51.294631",
     "status": "completed"
    },
    "tags": []
   },
   "outputs": [],
   "source": [
    "cluster_cols = ['coordinates_x', 'coordinates_y', 'end_coordinates_x', 'end_coordinates_y']"
   ]
  },
  {
   "cell_type": "code",
   "execution_count": 37,
   "id": "8b30b910",
   "metadata": {
    "execution": {
     "iopub.execute_input": "2022-09-22T17:09:51.381831Z",
     "iopub.status.busy": "2022-09-22T17:09:51.381396Z",
     "iopub.status.idle": "2022-09-22T17:09:51.617305Z",
     "shell.execute_reply": "2022-09-22T17:09:51.616011Z"
    },
    "papermill": {
     "duration": 0.264701,
     "end_time": "2022-09-22T17:09:51.620087",
     "exception": false,
     "start_time": "2022-09-22T17:09:51.355386",
     "status": "completed"
    },
    "tags": []
   },
   "outputs": [],
   "source": [
    "passes['end_x'] = passes['end_coordinates_x'].apply(map_length)\n",
    "passes['end_y'] = passes['end_coordinates_y'].apply(map_width)"
   ]
  },
  {
   "cell_type": "code",
   "execution_count": 38,
   "id": "e789e15b",
   "metadata": {
    "execution": {
     "iopub.execute_input": "2022-09-22T17:09:51.671237Z",
     "iopub.status.busy": "2022-09-22T17:09:51.670817Z",
     "iopub.status.idle": "2022-09-22T17:09:59.885281Z",
     "shell.execute_reply": "2022-09-22T17:09:59.883518Z"
    },
    "papermill": {
     "duration": 8.243644,
     "end_time": "2022-09-22T17:09:59.888291",
     "exception": false,
     "start_time": "2022-09-22T17:09:51.644647",
     "status": "completed"
    },
    "tags": []
   },
   "outputs": [
    {
     "name": "stderr",
     "output_type": "stream",
     "text": [
      "/opt/conda/lib/python3.7/site-packages/sklearn/mixture/_base.py:282: ConvergenceWarning: Initialization 1 did not converge. Try different init parameters, or increase max_iter, tol or check for degenerate data.\n",
      "  ConvergenceWarning,\n"
     ]
    }
   ],
   "source": [
    "from sklearn.mixture import BayesianGaussianMixture\n",
    "bgm = BayesianGaussianMixture(n_components=20,\n",
    "                              random_state=42,\n",
    "                              max_iter = 1,\n",
    "                              init_params = 'kmeans').fit(passes[cluster_cols])"
   ]
  },
  {
   "cell_type": "code",
   "execution_count": 39,
   "id": "52e87fa0",
   "metadata": {
    "execution": {
     "iopub.execute_input": "2022-09-22T17:09:59.939315Z",
     "iopub.status.busy": "2022-09-22T17:09:59.938846Z",
     "iopub.status.idle": "2022-09-22T17:10:00.934758Z",
     "shell.execute_reply": "2022-09-22T17:10:00.932930Z"
    },
    "papermill": {
     "duration": 1.024261,
     "end_time": "2022-09-22T17:10:00.937665",
     "exception": false,
     "start_time": "2022-09-22T17:09:59.913404",
     "status": "completed"
    },
    "tags": []
   },
   "outputs": [],
   "source": [
    "passes['cluster'] = bgm.predict(passes[cluster_cols])\n",
    "clusters_ = passes.groupby('cluster').mean()[['x', 'y', 'end_x', 'end_y']]"
   ]
  },
  {
   "cell_type": "code",
   "execution_count": 40,
   "id": "77655f12",
   "metadata": {
    "execution": {
     "iopub.execute_input": "2022-09-22T17:10:00.989089Z",
     "iopub.status.busy": "2022-09-22T17:10:00.988618Z",
     "iopub.status.idle": "2022-09-22T17:10:03.448293Z",
     "shell.execute_reply": "2022-09-22T17:10:03.446975Z"
    },
    "papermill": {
     "duration": 2.487975,
     "end_time": "2022-09-22T17:10:03.451065",
     "exception": false,
     "start_time": "2022-09-22T17:10:00.963090",
     "status": "completed"
    },
    "tags": []
   },
   "outputs": [
    {
     "data": {
      "image/png": "[encoded data removed]",
      "text/plain": [
       "<Figure size 1080x720 with 1 Axes>"
      ]
     },
     "metadata": {},
     "output_type": "display_data"
    }
   ],
   "source": [
    "fig, ax = create_pitch(120, 80,'white')\n",
    "for index, pass_ in clusters_.iterrows():\n",
    "    if (index < 0):\n",
    "        continue\n",
    "    x, y = pass_['x'], pass_['y']\n",
    "    end_x, end_y = pass_['end_x'], pass_['end_y']\n",
    "    color = 'blue' \n",
    "    y = 80 - y\n",
    "    end_y = 80 - end_y\n",
    "    plt.plot([x, end_x], [y, end_y], linewidth = 5)\n",
    "    plt.text((x+1),y+1,index, color = \"white\", fontweight = 'bold', fontsize = 'xx-large')\n",
    "    plt.savefig('gmm_cluster.png')"
   ]
  },
  {
   "cell_type": "code",
   "execution_count": 41,
   "id": "d68769bb",
   "metadata": {
    "execution": {
     "iopub.execute_input": "2022-09-22T17:10:03.504997Z",
     "iopub.status.busy": "2022-09-22T17:10:03.504446Z",
     "iopub.status.idle": "2022-09-22T17:10:03.514736Z",
     "shell.execute_reply": "2022-09-22T17:10:03.513546Z"
    },
    "papermill": {
     "duration": 0.040852,
     "end_time": "2022-09-22T17:10:03.518373",
     "exception": false,
     "start_time": "2022-09-22T17:10:03.477521",
     "status": "completed"
    },
    "tags": []
   },
   "outputs": [],
   "source": [
    "clusters_.to_csv('pass_clusters.csv', index = False)"
   ]
  },
  {
   "cell_type": "code",
   "execution_count": 42,
   "id": "19573ca7",
   "metadata": {
    "execution": {
     "iopub.execute_input": "2022-09-22T17:10:03.571697Z",
     "iopub.status.busy": "2022-09-22T17:10:03.571253Z",
     "iopub.status.idle": "2022-09-22T17:10:03.580274Z",
     "shell.execute_reply": "2022-09-22T17:10:03.579060Z"
    },
    "papermill": {
     "duration": 0.038513,
     "end_time": "2022-09-22T17:10:03.582808",
     "exception": false,
     "start_time": "2022-09-22T17:10:03.544295",
     "status": "completed"
    },
    "tags": []
   },
   "outputs": [
    {
     "data": {
      "text/plain": [
       "Index(['event_id', 'event_type', 'result', 'success', 'period_id', 'timestamp',\n",
       "       'end_timestamp', 'ball_state', 'ball_owning_team', 'team_id',\n",
       "       'player_id', 'coordinates_x', 'coordinates_y', 'end_coordinates_x',\n",
       "       'end_coordinates_y', 'receiver_player_id', 'is_counter_attack',\n",
       "       'pass_type', 'body_part_type', 'set_piece_type',\n",
       "       'goalkeeper_action_type', 'card_type', 'x', 'y', 'end_x', 'end_y',\n",
       "       'cluster'],\n",
       "      dtype='object')"
      ]
     },
     "execution_count": 42,
     "metadata": {},
     "output_type": "execute_result"
    }
   ],
   "source": [
    "passes.columns"
   ]
  },
  {
   "cell_type": "code",
   "execution_count": 43,
   "id": "32335df2",
   "metadata": {
    "execution": {
     "iopub.execute_input": "2022-09-22T17:10:03.634742Z",
     "iopub.status.busy": "2022-09-22T17:10:03.634306Z",
     "iopub.status.idle": "2022-09-22T17:10:03.643755Z",
     "shell.execute_reply": "2022-09-22T17:10:03.642492Z"
    },
    "papermill": {
     "duration": 0.038266,
     "end_time": "2022-09-22T17:10:03.646134",
     "exception": false,
     "start_time": "2022-09-22T17:10:03.607868",
     "status": "completed"
    },
    "tags": []
   },
   "outputs": [
    {
     "data": {
      "text/plain": [
       "0       None\n",
       "1       None\n",
       "2       None\n",
       "3       None\n",
       "4       None\n",
       "        ... \n",
       "1738    None\n",
       "1740    None\n",
       "1741    None\n",
       "1742    None\n",
       "1745    None\n",
       "Name: ball_state, Length: 358718, dtype: object"
      ]
     },
     "execution_count": 43,
     "metadata": {},
     "output_type": "execute_result"
    }
   ],
   "source": [
    "passes['ball_state']"
   ]
  },
  {
   "cell_type": "code",
   "execution_count": 44,
   "id": "53c36b42",
   "metadata": {
    "execution": {
     "iopub.execute_input": "2022-09-22T17:10:03.699201Z",
     "iopub.status.busy": "2022-09-22T17:10:03.698761Z",
     "iopub.status.idle": "2022-09-22T17:10:07.748878Z",
     "shell.execute_reply": "2022-09-22T17:10:07.747701Z"
    },
    "papermill": {
     "duration": 4.080282,
     "end_time": "2022-09-22T17:10:07.751345",
     "exception": false,
     "start_time": "2022-09-22T17:10:03.671063",
     "status": "completed"
    },
    "tags": []
   },
   "outputs": [],
   "source": [
    "passes.to_csv('fullpasses.csv', index = False)"
   ]
  },
  {
   "cell_type": "code",
   "execution_count": 45,
   "id": "a2b4fd9d",
   "metadata": {
    "execution": {
     "iopub.execute_input": "2022-09-22T17:10:07.804923Z",
     "iopub.status.busy": "2022-09-22T17:10:07.804505Z",
     "iopub.status.idle": "2022-09-22T17:10:07.811874Z",
     "shell.execute_reply": "2022-09-22T17:10:07.810767Z"
    },
    "papermill": {
     "duration": 0.03687,
     "end_time": "2022-09-22T17:10:07.814233",
     "exception": false,
     "start_time": "2022-09-22T17:10:07.777363",
     "status": "completed"
    },
    "tags": []
   },
   "outputs": [
    {
     "data": {
      "text/plain": [
       "Index(['event_id', 'event_type', 'result', 'success', 'period_id', 'timestamp',\n",
       "       'end_timestamp', 'ball_state', 'ball_owning_team', 'team_id',\n",
       "       'player_id', 'coordinates_x', 'coordinates_y', 'end_coordinates_x',\n",
       "       'end_coordinates_y', 'receiver_player_id', 'is_counter_attack',\n",
       "       'pass_type', 'body_part_type', 'set_piece_type',\n",
       "       'goalkeeper_action_type', 'card_type', 'x', 'y', 'end_x', 'end_y',\n",
       "       'cluster'],\n",
       "      dtype='object')"
      ]
     },
     "execution_count": 45,
     "metadata": {},
     "output_type": "execute_result"
    }
   ],
   "source": [
    "passes.columns"
   ]
  },
  {
   "cell_type": "code",
   "execution_count": 46,
   "id": "4189d741",
   "metadata": {
    "execution": {
     "iopub.execute_input": "2022-09-22T17:10:07.867184Z",
     "iopub.status.busy": "2022-09-22T17:10:07.866757Z",
     "iopub.status.idle": "2022-09-22T17:10:07.923129Z",
     "shell.execute_reply": "2022-09-22T17:10:07.922019Z"
    },
    "papermill": {
     "duration": 0.08579,
     "end_time": "2022-09-22T17:10:07.925683",
     "exception": false,
     "start_time": "2022-09-22T17:10:07.839893",
     "status": "completed"
    },
    "tags": []
   },
   "outputs": [
    {
     "data": {
      "text/html": [
       "<div>\n",
       "<style scoped>\n",
       "    .dataframe tbody tr th:only-of-type {\n",
       "        vertical-align: middle;\n",
       "    }\n",
       "\n",
       "    .dataframe tbody tr th {\n",
       "        vertical-align: top;\n",
       "    }\n",
       "\n",
       "    .dataframe thead th {\n",
       "        text-align: right;\n",
       "    }\n",
       "</style>\n",
       "<table border=\"1\" class=\"dataframe\">\n",
       "  <thead>\n",
       "    <tr style=\"text-align: right;\">\n",
       "      <th></th>\n",
       "      <th>cluster</th>\n",
       "      <th>team_id</th>\n",
       "      <th>0</th>\n",
       "    </tr>\n",
       "  </thead>\n",
       "  <tbody>\n",
       "    <tr>\n",
       "      <th>0</th>\n",
       "      <td>0</td>\n",
       "      <td>10531</td>\n",
       "      <td>691</td>\n",
       "    </tr>\n",
       "    <tr>\n",
       "      <th>1</th>\n",
       "      <td>0</td>\n",
       "      <td>1609</td>\n",
       "      <td>1453</td>\n",
       "    </tr>\n",
       "    <tr>\n",
       "      <th>2</th>\n",
       "      <td>0</td>\n",
       "      <td>1610</td>\n",
       "      <td>1229</td>\n",
       "    </tr>\n",
       "    <tr>\n",
       "      <th>3</th>\n",
       "      <td>0</td>\n",
       "      <td>1611</td>\n",
       "      <td>1130</td>\n",
       "    </tr>\n",
       "    <tr>\n",
       "      <th>4</th>\n",
       "      <td>0</td>\n",
       "      <td>1612</td>\n",
       "      <td>1442</td>\n",
       "    </tr>\n",
       "    <tr>\n",
       "      <th>...</th>\n",
       "      <td>...</td>\n",
       "      <td>...</td>\n",
       "      <td>...</td>\n",
       "    </tr>\n",
       "    <tr>\n",
       "      <th>395</th>\n",
       "      <td>19</td>\n",
       "      <td>1644</td>\n",
       "      <td>205</td>\n",
       "    </tr>\n",
       "    <tr>\n",
       "      <th>396</th>\n",
       "      <td>19</td>\n",
       "      <td>1646</td>\n",
       "      <td>272</td>\n",
       "    </tr>\n",
       "    <tr>\n",
       "      <th>397</th>\n",
       "      <td>19</td>\n",
       "      <td>1651</td>\n",
       "      <td>235</td>\n",
       "    </tr>\n",
       "    <tr>\n",
       "      <th>398</th>\n",
       "      <td>19</td>\n",
       "      <td>1659</td>\n",
       "      <td>205</td>\n",
       "    </tr>\n",
       "    <tr>\n",
       "      <th>399</th>\n",
       "      <td>19</td>\n",
       "      <td>1673</td>\n",
       "      <td>181</td>\n",
       "    </tr>\n",
       "  </tbody>\n",
       "</table>\n",
       "<p>400 rows × 3 columns</p>\n",
       "</div>"
      ],
      "text/plain": [
       "     cluster team_id     0\n",
       "0          0   10531   691\n",
       "1          0    1609  1453\n",
       "2          0    1610  1229\n",
       "3          0    1611  1130\n",
       "4          0    1612  1442\n",
       "..       ...     ...   ...\n",
       "395       19    1644   205\n",
       "396       19    1646   272\n",
       "397       19    1651   235\n",
       "398       19    1659   205\n",
       "399       19    1673   181\n",
       "\n",
       "[400 rows x 3 columns]"
      ]
     },
     "execution_count": 46,
     "metadata": {},
     "output_type": "execute_result"
    }
   ],
   "source": [
    "passes.groupby(['cluster', 'team_id']).size().reset_index()"
   ]
  },
  {
   "cell_type": "code",
   "execution_count": 47,
   "id": "563b8728",
   "metadata": {
    "execution": {
     "iopub.execute_input": "2022-09-22T17:10:07.979084Z",
     "iopub.status.busy": "2022-09-22T17:10:07.978651Z",
     "iopub.status.idle": "2022-09-22T17:10:07.986419Z",
     "shell.execute_reply": "2022-09-22T17:10:07.985297Z"
    },
    "papermill": {
     "duration": 0.037762,
     "end_time": "2022-09-22T17:10:07.989041",
     "exception": false,
     "start_time": "2022-09-22T17:10:07.951279",
     "status": "completed"
    },
    "tags": []
   },
   "outputs": [
    {
     "data": {
      "text/plain": [
       "(358718, 27)"
      ]
     },
     "execution_count": 47,
     "metadata": {},
     "output_type": "execute_result"
    }
   ],
   "source": [
    "passes.shape"
   ]
  },
  {
   "cell_type": "code",
   "execution_count": 48,
   "id": "26b74412",
   "metadata": {
    "execution": {
     "iopub.execute_input": "2022-09-22T17:10:08.043784Z",
     "iopub.status.busy": "2022-09-22T17:10:08.043383Z",
     "iopub.status.idle": "2022-09-22T17:10:08.061380Z",
     "shell.execute_reply": "2022-09-22T17:10:08.059665Z"
    },
    "papermill": {
     "duration": 0.048429,
     "end_time": "2022-09-22T17:10:08.064472",
     "exception": false,
     "start_time": "2022-09-22T17:10:08.016043",
     "status": "completed"
    },
    "tags": []
   },
   "outputs": [],
   "source": [
    "with open('../input/football-event-data/teams.json') as f:\n",
    "    teams_json = json.load(f)\n",
    "    teams_df = pd.json_normalize(teams_json)"
   ]
  },
  {
   "cell_type": "code",
   "execution_count": 49,
   "id": "0471b556",
   "metadata": {
    "execution": {
     "iopub.execute_input": "2022-09-22T17:10:08.120619Z",
     "iopub.status.busy": "2022-09-22T17:10:08.120216Z",
     "iopub.status.idle": "2022-09-22T17:10:08.139298Z",
     "shell.execute_reply": "2022-09-22T17:10:08.138420Z"
    },
    "papermill": {
     "duration": 0.049287,
     "end_time": "2022-09-22T17:10:08.141517",
     "exception": false,
     "start_time": "2022-09-22T17:10:08.092230",
     "status": "completed"
    },
    "tags": []
   },
   "outputs": [
    {
     "data": {
      "text/html": [
       "<div>\n",
       "<style scoped>\n",
       "    .dataframe tbody tr th:only-of-type {\n",
       "        vertical-align: middle;\n",
       "    }\n",
       "\n",
       "    .dataframe tbody tr th {\n",
       "        vertical-align: top;\n",
       "    }\n",
       "\n",
       "    .dataframe thead th {\n",
       "        text-align: right;\n",
       "    }\n",
       "</style>\n",
       "<table border=\"1\" class=\"dataframe\">\n",
       "  <thead>\n",
       "    <tr style=\"text-align: right;\">\n",
       "      <th></th>\n",
       "      <th>city</th>\n",
       "      <th>name</th>\n",
       "      <th>wyId</th>\n",
       "      <th>officialName</th>\n",
       "      <th>type</th>\n",
       "      <th>area.name</th>\n",
       "      <th>area.id</th>\n",
       "      <th>area.alpha3code</th>\n",
       "      <th>area.alpha2code</th>\n",
       "    </tr>\n",
       "  </thead>\n",
       "  <tbody>\n",
       "    <tr>\n",
       "      <th>0</th>\n",
       "      <td>Newcastle upon Tyne</td>\n",
       "      <td>Newcastle United</td>\n",
       "      <td>1613</td>\n",
       "      <td>Newcastle United FC</td>\n",
       "      <td>club</td>\n",
       "      <td>England</td>\n",
       "      <td>0</td>\n",
       "      <td>XEN</td>\n",
       "      <td></td>\n",
       "    </tr>\n",
       "    <tr>\n",
       "      <th>1</th>\n",
       "      <td>Vigo</td>\n",
       "      <td>Celta de Vigo</td>\n",
       "      <td>692</td>\n",
       "      <td>Real Club Celta de Vigo</td>\n",
       "      <td>club</td>\n",
       "      <td>Spain</td>\n",
       "      <td>724</td>\n",
       "      <td>ESP</td>\n",
       "      <td>ES</td>\n",
       "    </tr>\n",
       "    <tr>\n",
       "      <th>2</th>\n",
       "      <td>Barcelona</td>\n",
       "      <td>Espanyol</td>\n",
       "      <td>691</td>\n",
       "      <td>Reial Club Deportiu Espanyol</td>\n",
       "      <td>club</td>\n",
       "      <td>Spain</td>\n",
       "      <td>724</td>\n",
       "      <td>ESP</td>\n",
       "      <td>ES</td>\n",
       "    </tr>\n",
       "    <tr>\n",
       "      <th>3</th>\n",
       "      <td>Vitoria-Gasteiz</td>\n",
       "      <td>Deportivo Alav\\u00e9s</td>\n",
       "      <td>696</td>\n",
       "      <td>Deportivo Alav\\u00e9s</td>\n",
       "      <td>club</td>\n",
       "      <td>Spain</td>\n",
       "      <td>724</td>\n",
       "      <td>ESP</td>\n",
       "      <td>ES</td>\n",
       "    </tr>\n",
       "    <tr>\n",
       "      <th>4</th>\n",
       "      <td>Valencia</td>\n",
       "      <td>Levante</td>\n",
       "      <td>695</td>\n",
       "      <td>Levante UD</td>\n",
       "      <td>club</td>\n",
       "      <td>Spain</td>\n",
       "      <td>724</td>\n",
       "      <td>ESP</td>\n",
       "      <td>ES</td>\n",
       "    </tr>\n",
       "    <tr>\n",
       "      <th>...</th>\n",
       "      <td>...</td>\n",
       "      <td>...</td>\n",
       "      <td>...</td>\n",
       "      <td>...</td>\n",
       "      <td>...</td>\n",
       "      <td>...</td>\n",
       "      <td>...</td>\n",
       "      <td>...</td>\n",
       "      <td>...</td>\n",
       "    </tr>\n",
       "    <tr>\n",
       "      <th>137</th>\n",
       "      <td>Las Rozas</td>\n",
       "      <td>Spain</td>\n",
       "      <td>1598</td>\n",
       "      <td>Spain</td>\n",
       "      <td>national</td>\n",
       "      <td>Spain</td>\n",
       "      <td>724</td>\n",
       "      <td>ESP</td>\n",
       "      <td>ES</td>\n",
       "    </tr>\n",
       "    <tr>\n",
       "      <th>138</th>\n",
       "      <td>Beograd</td>\n",
       "      <td>Serbia</td>\n",
       "      <td>17322</td>\n",
       "      <td>Serbia</td>\n",
       "      <td>national</td>\n",
       "      <td>Serbia</td>\n",
       "      <td>688</td>\n",
       "      <td>SRB</td>\n",
       "      <td>RS</td>\n",
       "    </tr>\n",
       "    <tr>\n",
       "      <th>139</th>\n",
       "      <td>Bern</td>\n",
       "      <td>Switzerland</td>\n",
       "      <td>6697</td>\n",
       "      <td>Switzerland</td>\n",
       "      <td>national</td>\n",
       "      <td>Switzerland</td>\n",
       "      <td>756</td>\n",
       "      <td>CHE</td>\n",
       "      <td>CH</td>\n",
       "    </tr>\n",
       "    <tr>\n",
       "      <th>140</th>\n",
       "      <td>Warszawa</td>\n",
       "      <td>Poland</td>\n",
       "      <td>13869</td>\n",
       "      <td>Poland</td>\n",
       "      <td>national</td>\n",
       "      <td>Poland</td>\n",
       "      <td>616</td>\n",
       "      <td>POL</td>\n",
       "      <td>PL</td>\n",
       "    </tr>\n",
       "    <tr>\n",
       "      <th>141</th>\n",
       "      <td>Abuja</td>\n",
       "      <td>Nigeria</td>\n",
       "      <td>16823</td>\n",
       "      <td>Nigeria</td>\n",
       "      <td>national</td>\n",
       "      <td>Nigeria</td>\n",
       "      <td>566</td>\n",
       "      <td>NGA</td>\n",
       "      <td>NG</td>\n",
       "    </tr>\n",
       "  </tbody>\n",
       "</table>\n",
       "<p>142 rows × 9 columns</p>\n",
       "</div>"
      ],
      "text/plain": [
       "                    city                   name   wyId  \\\n",
       "0    Newcastle upon Tyne       Newcastle United   1613   \n",
       "1                   Vigo          Celta de Vigo    692   \n",
       "2              Barcelona               Espanyol    691   \n",
       "3        Vitoria-Gasteiz  Deportivo Alav\\u00e9s    696   \n",
       "4               Valencia                Levante    695   \n",
       "..                   ...                    ...    ...   \n",
       "137            Las Rozas                  Spain   1598   \n",
       "138              Beograd                 Serbia  17322   \n",
       "139                 Bern            Switzerland   6697   \n",
       "140             Warszawa                 Poland  13869   \n",
       "141                Abuja                Nigeria  16823   \n",
       "\n",
       "                     officialName      type    area.name area.id  \\\n",
       "0             Newcastle United FC      club      England       0   \n",
       "1         Real Club Celta de Vigo      club        Spain     724   \n",
       "2    Reial Club Deportiu Espanyol      club        Spain     724   \n",
       "3           Deportivo Alav\\u00e9s      club        Spain     724   \n",
       "4                      Levante UD      club        Spain     724   \n",
       "..                            ...       ...          ...     ...   \n",
       "137                         Spain  national        Spain     724   \n",
       "138                        Serbia  national       Serbia     688   \n",
       "139                   Switzerland  national  Switzerland     756   \n",
       "140                        Poland  national       Poland     616   \n",
       "141                       Nigeria  national      Nigeria     566   \n",
       "\n",
       "    area.alpha3code area.alpha2code  \n",
       "0               XEN                  \n",
       "1               ESP              ES  \n",
       "2               ESP              ES  \n",
       "3               ESP              ES  \n",
       "4               ESP              ES  \n",
       "..              ...             ...  \n",
       "137             ESP              ES  \n",
       "138             SRB              RS  \n",
       "139             CHE              CH  \n",
       "140             POL              PL  \n",
       "141             NGA              NG  \n",
       "\n",
       "[142 rows x 9 columns]"
      ]
     },
     "execution_count": 49,
     "metadata": {},
     "output_type": "execute_result"
    }
   ],
   "source": [
    "teams_df"
   ]
  },
  {
   "cell_type": "code",
   "execution_count": 50,
   "id": "cfc00dee",
   "metadata": {
    "execution": {
     "iopub.execute_input": "2022-09-22T17:10:08.197656Z",
     "iopub.status.busy": "2022-09-22T17:10:08.196770Z",
     "iopub.status.idle": "2022-09-22T17:10:08.253928Z",
     "shell.execute_reply": "2022-09-22T17:10:08.252716Z"
    },
    "papermill": {
     "duration": 0.088158,
     "end_time": "2022-09-22T17:10:08.256688",
     "exception": false,
     "start_time": "2022-09-22T17:10:08.168530",
     "status": "completed"
    },
    "tags": []
   },
   "outputs": [],
   "source": [
    "teams_map = dict(zip(teams_df.wyId, teams_df.officialName))\n",
    "passes['team'] = passes['team_id'].astype(int).map(teams_map)"
   ]
  },
  {
   "cell_type": "code",
   "execution_count": 51,
   "id": "6b68395d",
   "metadata": {
    "execution": {
     "iopub.execute_input": "2022-09-22T17:10:08.310340Z",
     "iopub.status.busy": "2022-09-22T17:10:08.309921Z",
     "iopub.status.idle": "2022-09-22T17:10:08.317402Z",
     "shell.execute_reply": "2022-09-22T17:10:08.316002Z"
    },
    "papermill": {
     "duration": 0.038324,
     "end_time": "2022-09-22T17:10:08.320993",
     "exception": false,
     "start_time": "2022-09-22T17:10:08.282669",
     "status": "completed"
    },
    "tags": []
   },
   "outputs": [
    {
     "data": {
      "text/plain": [
       "'Swansea City AFC'"
      ]
     },
     "execution_count": 51,
     "metadata": {},
     "output_type": "execute_result"
    }
   ],
   "source": [
    "teams_map[10531]"
   ]
  },
  {
   "cell_type": "code",
   "execution_count": 52,
   "id": "4ad95694",
   "metadata": {
    "execution": {
     "iopub.execute_input": "2022-09-22T17:10:08.376151Z",
     "iopub.status.busy": "2022-09-22T17:10:08.375702Z",
     "iopub.status.idle": "2022-09-22T17:10:08.385699Z",
     "shell.execute_reply": "2022-09-22T17:10:08.384198Z"
    },
    "papermill": {
     "duration": 0.040825,
     "end_time": "2022-09-22T17:10:08.388560",
     "exception": false,
     "start_time": "2022-09-22T17:10:08.347735",
     "status": "completed"
    },
    "tags": []
   },
   "outputs": [
    {
     "data": {
      "text/plain": [
       "0         AFC Bournemouth\n",
       "1         AFC Bournemouth\n",
       "2         AFC Bournemouth\n",
       "3         AFC Bournemouth\n",
       "4         AFC Bournemouth\n",
       "              ...        \n",
       "1738    Leicester City FC\n",
       "1740    Leicester City FC\n",
       "1741    Leicester City FC\n",
       "1742           Arsenal FC\n",
       "1745    Leicester City FC\n",
       "Name: team, Length: 358718, dtype: object"
      ]
     },
     "execution_count": 52,
     "metadata": {},
     "output_type": "execute_result"
    }
   ],
   "source": [
    "passes['team']"
   ]
  },
  {
   "cell_type": "code",
   "execution_count": 53,
   "id": "e4fc4931",
   "metadata": {
    "execution": {
     "iopub.execute_input": "2022-09-22T17:10:08.443107Z",
     "iopub.status.busy": "2022-09-22T17:10:08.442687Z",
     "iopub.status.idle": "2022-09-22T17:10:08.633914Z",
     "shell.execute_reply": "2022-09-22T17:10:08.632175Z"
    },
    "papermill": {
     "duration": 0.222361,
     "end_time": "2022-09-22T17:10:08.637233",
     "exception": false,
     "start_time": "2022-09-22T17:10:08.414872",
     "status": "completed"
    },
    "tags": []
   },
   "outputs": [
    {
     "data": {
      "text/html": [
       "<div>\n",
       "<style scoped>\n",
       "    .dataframe tbody tr th:only-of-type {\n",
       "        vertical-align: middle;\n",
       "    }\n",
       "\n",
       "    .dataframe tbody tr th {\n",
       "        vertical-align: top;\n",
       "    }\n",
       "\n",
       "    .dataframe thead th {\n",
       "        text-align: right;\n",
       "    }\n",
       "</style>\n",
       "<table border=\"1\" class=\"dataframe\">\n",
       "  <thead>\n",
       "    <tr style=\"text-align: right;\">\n",
       "      <th></th>\n",
       "      <th>end_coordinates_x</th>\n",
       "      <th>end_coordinates_y</th>\n",
       "    </tr>\n",
       "  </thead>\n",
       "  <tbody>\n",
       "    <tr>\n",
       "      <th>count</th>\n",
       "      <td>2741.000000</td>\n",
       "      <td>2741.000000</td>\n",
       "    </tr>\n",
       "    <tr>\n",
       "      <th>mean</th>\n",
       "      <td>0.532039</td>\n",
       "      <td>0.476454</td>\n",
       "    </tr>\n",
       "    <tr>\n",
       "      <th>std</th>\n",
       "      <td>0.198678</td>\n",
       "      <td>0.289966</td>\n",
       "    </tr>\n",
       "    <tr>\n",
       "      <th>min</th>\n",
       "      <td>0.000000</td>\n",
       "      <td>0.000000</td>\n",
       "    </tr>\n",
       "    <tr>\n",
       "      <th>25%</th>\n",
       "      <td>0.430000</td>\n",
       "      <td>0.220000</td>\n",
       "    </tr>\n",
       "    <tr>\n",
       "      <th>50%</th>\n",
       "      <td>0.610000</td>\n",
       "      <td>0.450000</td>\n",
       "    </tr>\n",
       "    <tr>\n",
       "      <th>75%</th>\n",
       "      <td>0.670000</td>\n",
       "      <td>0.740000</td>\n",
       "    </tr>\n",
       "    <tr>\n",
       "      <th>max</th>\n",
       "      <td>1.000000</td>\n",
       "      <td>1.000000</td>\n",
       "    </tr>\n",
       "  </tbody>\n",
       "</table>\n",
       "</div>"
      ],
      "text/plain": [
       "       end_coordinates_x  end_coordinates_y\n",
       "count        2741.000000        2741.000000\n",
       "mean            0.532039           0.476454\n",
       "std             0.198678           0.289966\n",
       "min             0.000000           0.000000\n",
       "25%             0.430000           0.220000\n",
       "50%             0.610000           0.450000\n",
       "75%             0.670000           0.740000\n",
       "max             1.000000           1.000000"
      ]
     },
     "execution_count": 53,
     "metadata": {},
     "output_type": "execute_result"
    }
   ],
   "source": [
    "passes[(passes.coordinates_x < 0.01) & (passes.coordinates_y < 0.01)][['end_coordinates_x', 'end_coordinates_y']].describe()"
   ]
  },
  {
   "cell_type": "code",
   "execution_count": 54,
   "id": "513137f7",
   "metadata": {
    "execution": {
     "iopub.execute_input": "2022-09-22T17:10:08.695287Z",
     "iopub.status.busy": "2022-09-22T17:10:08.694810Z",
     "iopub.status.idle": "2022-09-22T17:10:08.752632Z",
     "shell.execute_reply": "2022-09-22T17:10:08.751339Z"
    },
    "papermill": {
     "duration": 0.091408,
     "end_time": "2022-09-22T17:10:08.756055",
     "exception": false,
     "start_time": "2022-09-22T17:10:08.664647",
     "status": "completed"
    },
    "tags": []
   },
   "outputs": [],
   "source": [
    "team_clusters = passes.groupby(['cluster', 'team']).size().reset_index().sort_values(by=['cluster', 0], ascending=[True, False])\n",
    "team_clusters.columns = ['cluster', 'team', 'passes']"
   ]
  },
  {
   "cell_type": "code",
   "execution_count": 55,
   "id": "e9f47482",
   "metadata": {
    "execution": {
     "iopub.execute_input": "2022-09-22T17:10:08.813819Z",
     "iopub.status.busy": "2022-09-22T17:10:08.813394Z",
     "iopub.status.idle": "2022-09-22T17:10:08.824852Z",
     "shell.execute_reply": "2022-09-22T17:10:08.823683Z"
    },
    "papermill": {
     "duration": 0.043381,
     "end_time": "2022-09-22T17:10:08.827567",
     "exception": false,
     "start_time": "2022-09-22T17:10:08.784186",
     "status": "completed"
    },
    "tags": []
   },
   "outputs": [
    {
     "data": {
      "text/html": [
       "<div>\n",
       "<style scoped>\n",
       "    .dataframe tbody tr th:only-of-type {\n",
       "        vertical-align: middle;\n",
       "    }\n",
       "\n",
       "    .dataframe tbody tr th {\n",
       "        vertical-align: top;\n",
       "    }\n",
       "\n",
       "    .dataframe thead th {\n",
       "        text-align: right;\n",
       "    }\n",
       "</style>\n",
       "<table border=\"1\" class=\"dataframe\">\n",
       "  <thead>\n",
       "    <tr style=\"text-align: right;\">\n",
       "      <th></th>\n",
       "      <th>cluster</th>\n",
       "      <th>team</th>\n",
       "      <th>passes</th>\n",
       "    </tr>\n",
       "  </thead>\n",
       "  <tbody>\n",
       "    <tr>\n",
       "      <th>10</th>\n",
       "      <td>0</td>\n",
       "      <td>Manchester City FC</td>\n",
       "      <td>2010</td>\n",
       "    </tr>\n",
       "    <tr>\n",
       "      <th>1</th>\n",
       "      <td>0</td>\n",
       "      <td>Arsenal FC</td>\n",
       "      <td>1453</td>\n",
       "    </tr>\n",
       "    <tr>\n",
       "      <th>9</th>\n",
       "      <td>0</td>\n",
       "      <td>Liverpool FC</td>\n",
       "      <td>1442</td>\n",
       "    </tr>\n",
       "    <tr>\n",
       "      <th>16</th>\n",
       "      <td>0</td>\n",
       "      <td>Tottenham Hotspur FC</td>\n",
       "      <td>1417</td>\n",
       "    </tr>\n",
       "    <tr>\n",
       "      <th>4</th>\n",
       "      <td>0</td>\n",
       "      <td>Chelsea FC</td>\n",
       "      <td>1229</td>\n",
       "    </tr>\n",
       "  </tbody>\n",
       "</table>\n",
       "</div>"
      ],
      "text/plain": [
       "    cluster                  team  passes\n",
       "10        0    Manchester City FC    2010\n",
       "1         0            Arsenal FC    1453\n",
       "9         0          Liverpool FC    1442\n",
       "16        0  Tottenham Hotspur FC    1417\n",
       "4         0            Chelsea FC    1229"
      ]
     },
     "execution_count": 55,
     "metadata": {},
     "output_type": "execute_result"
    }
   ],
   "source": [
    "team_clusters.head()"
   ]
  },
  {
   "cell_type": "code",
   "execution_count": 56,
   "id": "5ca1fd29",
   "metadata": {
    "execution": {
     "iopub.execute_input": "2022-09-22T17:10:08.884309Z",
     "iopub.status.busy": "2022-09-22T17:10:08.883868Z",
     "iopub.status.idle": "2022-09-22T17:10:09.430404Z",
     "shell.execute_reply": "2022-09-22T17:10:09.428941Z"
    },
    "papermill": {
     "duration": 0.577549,
     "end_time": "2022-09-22T17:10:09.432948",
     "exception": false,
     "start_time": "2022-09-22T17:10:08.855399",
     "status": "completed"
    },
    "tags": []
   },
   "outputs": [
    {
     "data": {
      "image/png": "[encoded data removed]",
      "text/plain": [
       "<Figure size 1080x720 with 1 Axes>"
      ]
     },
     "metadata": {},
     "output_type": "display_data"
    }
   ],
   "source": [
    "cluster = 1\n",
    "fig, ax = create_pitch(105, 68,'white')\n",
    "plt.scatter(passes[passes.cluster == cluster]['x'], (68 - passes[passes.cluster == cluster]['y']), c='red')\n",
    "plt.scatter(passes[passes.cluster == cluster]['end_x'], (68 - passes[passes.cluster == cluster]['end_y']), c='blue')\n",
    "for index, pass_ in clusters_.iterrows():\n",
    "    if (index != cluster):\n",
    "        continue\n",
    "    x, y = pass_['x'], pass_['y']\n",
    "    end_x, end_y = pass_['end_x'], pass_['end_y']\n",
    "    color = 'blue' \n",
    "    y = 68 - y\n",
    "    end_y = 68 - end_y\n",
    "    plt.plot([x, end_x], [y, end_y], linewidth = 5)\n",
    "    plt.scatter(x, y, s=30, c='red')\n",
    "    plt.text((x+1),y+1,index, color = \"white\", fontweight = 'bold', fontsize = 'xx-large')\n",
    "    plt.savefig('gmm_cluster.png')"
   ]
  },
  {
   "cell_type": "code",
   "execution_count": 57,
   "id": "9812ef2a",
   "metadata": {
    "execution": {
     "iopub.execute_input": "2022-09-22T17:10:09.492374Z",
     "iopub.status.busy": "2022-09-22T17:10:09.491969Z",
     "iopub.status.idle": "2022-09-22T17:10:09.515345Z",
     "shell.execute_reply": "2022-09-22T17:10:09.513399Z"
    },
    "papermill": {
     "duration": 0.057396,
     "end_time": "2022-09-22T17:10:09.519098",
     "exception": false,
     "start_time": "2022-09-22T17:10:09.461702",
     "status": "completed"
    },
    "tags": []
   },
   "outputs": [
    {
     "data": {
      "text/plain": [
       "(10450, 28)"
      ]
     },
     "execution_count": 57,
     "metadata": {},
     "output_type": "execute_result"
    }
   ],
   "source": [
    "passes[passes.cluster == cluster].shape"
   ]
  },
  {
   "cell_type": "code",
   "execution_count": 58,
   "id": "b5b67a85",
   "metadata": {
    "execution": {
     "iopub.execute_input": "2022-09-22T17:10:09.578809Z",
     "iopub.status.busy": "2022-09-22T17:10:09.578322Z",
     "iopub.status.idle": "2022-09-22T17:10:09.627396Z",
     "shell.execute_reply": "2022-09-22T17:10:09.626382Z"
    },
    "papermill": {
     "duration": 0.08241,
     "end_time": "2022-09-22T17:10:09.630152",
     "exception": false,
     "start_time": "2022-09-22T17:10:09.547742",
     "status": "completed"
    },
    "tags": []
   },
   "outputs": [
    {
     "data": {
      "text/html": [
       "<div>\n",
       "<style scoped>\n",
       "    .dataframe tbody tr th:only-of-type {\n",
       "        vertical-align: middle;\n",
       "    }\n",
       "\n",
       "    .dataframe tbody tr th {\n",
       "        vertical-align: top;\n",
       "    }\n",
       "\n",
       "    .dataframe thead th {\n",
       "        text-align: right;\n",
       "    }\n",
       "</style>\n",
       "<table border=\"1\" class=\"dataframe\">\n",
       "  <thead>\n",
       "    <tr style=\"text-align: right;\">\n",
       "      <th></th>\n",
       "      <th>cluster</th>\n",
       "      <th>success</th>\n",
       "      <th>score</th>\n",
       "    </tr>\n",
       "  </thead>\n",
       "  <tbody>\n",
       "    <tr>\n",
       "      <th>0</th>\n",
       "      <td>0</td>\n",
       "      <td>False</td>\n",
       "      <td>1642</td>\n",
       "    </tr>\n",
       "    <tr>\n",
       "      <th>1</th>\n",
       "      <td>0</td>\n",
       "      <td>True</td>\n",
       "      <td>16575</td>\n",
       "    </tr>\n",
       "    <tr>\n",
       "      <th>2</th>\n",
       "      <td>1</td>\n",
       "      <td>False</td>\n",
       "      <td>4265</td>\n",
       "    </tr>\n",
       "    <tr>\n",
       "      <th>3</th>\n",
       "      <td>1</td>\n",
       "      <td>True</td>\n",
       "      <td>4436</td>\n",
       "    </tr>\n",
       "    <tr>\n",
       "      <th>4</th>\n",
       "      <td>2</td>\n",
       "      <td>False</td>\n",
       "      <td>3746</td>\n",
       "    </tr>\n",
       "  </tbody>\n",
       "</table>\n",
       "</div>"
      ],
      "text/plain": [
       "   cluster  success  score\n",
       "0        0    False   1642\n",
       "1        0     True  16575\n",
       "2        1    False   4265\n",
       "3        1     True   4436\n",
       "4        2    False   3746"
      ]
     },
     "execution_count": 58,
     "metadata": {},
     "output_type": "execute_result"
    }
   ],
   "source": [
    "success_cluster = passes.groupby(['cluster', 'success']).size().reset_index()\n",
    "success_cluster.columns = ['cluster', 'success', 'score']\n",
    "success_cluster.head()"
   ]
  },
  {
   "cell_type": "code",
   "execution_count": 59,
   "id": "a2167902",
   "metadata": {
    "execution": {
     "iopub.execute_input": "2022-09-22T17:10:09.689707Z",
     "iopub.status.busy": "2022-09-22T17:10:09.689295Z",
     "iopub.status.idle": "2022-09-22T17:10:09.700366Z",
     "shell.execute_reply": "2022-09-22T17:10:09.699186Z"
    },
    "papermill": {
     "duration": 0.043829,
     "end_time": "2022-09-22T17:10:09.702762",
     "exception": false,
     "start_time": "2022-09-22T17:10:09.658933",
     "status": "completed"
    },
    "tags": []
   },
   "outputs": [
    {
     "data": {
      "text/html": [
       "<div>\n",
       "<style scoped>\n",
       "    .dataframe tbody tr th:only-of-type {\n",
       "        vertical-align: middle;\n",
       "    }\n",
       "\n",
       "    .dataframe tbody tr th {\n",
       "        vertical-align: top;\n",
       "    }\n",
       "\n",
       "    .dataframe thead th {\n",
       "        text-align: right;\n",
       "    }\n",
       "</style>\n",
       "<table border=\"1\" class=\"dataframe\">\n",
       "  <thead>\n",
       "    <tr style=\"text-align: right;\">\n",
       "      <th></th>\n",
       "      <th>cluster</th>\n",
       "      <th>success</th>\n",
       "      <th>score</th>\n",
       "    </tr>\n",
       "  </thead>\n",
       "  <tbody>\n",
       "    <tr>\n",
       "      <th>35</th>\n",
       "      <td>17</td>\n",
       "      <td>True</td>\n",
       "      <td>20392</td>\n",
       "    </tr>\n",
       "    <tr>\n",
       "      <th>36</th>\n",
       "      <td>18</td>\n",
       "      <td>False</td>\n",
       "      <td>1983</td>\n",
       "    </tr>\n",
       "    <tr>\n",
       "      <th>37</th>\n",
       "      <td>18</td>\n",
       "      <td>True</td>\n",
       "      <td>165</td>\n",
       "    </tr>\n",
       "    <tr>\n",
       "      <th>38</th>\n",
       "      <td>19</td>\n",
       "      <td>False</td>\n",
       "      <td>890</td>\n",
       "    </tr>\n",
       "    <tr>\n",
       "      <th>39</th>\n",
       "      <td>19</td>\n",
       "      <td>True</td>\n",
       "      <td>745</td>\n",
       "    </tr>\n",
       "  </tbody>\n",
       "</table>\n",
       "</div>"
      ],
      "text/plain": [
       "    cluster  success  score\n",
       "35       17     True  20392\n",
       "36       18    False   1983\n",
       "37       18     True    165\n",
       "38       19    False    890\n",
       "39       19     True    745"
      ]
     },
     "execution_count": 59,
     "metadata": {},
     "output_type": "execute_result"
    }
   ],
   "source": [
    "success_cluster.tail()"
   ]
  },
  {
   "cell_type": "code",
   "execution_count": 60,
   "id": "2c07ef1a",
   "metadata": {
    "execution": {
     "iopub.execute_input": "2022-09-22T17:10:09.760441Z",
     "iopub.status.busy": "2022-09-22T17:10:09.760039Z",
     "iopub.status.idle": "2022-09-22T17:10:09.774028Z",
     "shell.execute_reply": "2022-09-22T17:10:09.772684Z"
    },
    "papermill": {
     "duration": 0.045843,
     "end_time": "2022-09-22T17:10:09.776601",
     "exception": false,
     "start_time": "2022-09-22T17:10:09.730758",
     "status": "completed"
    },
    "tags": []
   },
   "outputs": [],
   "source": [
    "success_cluster = success_cluster.pivot(index='cluster', columns='success', values = 'score')\n",
    "success_cluster.columns = ['fail', 'success']\n",
    "success_cluster['total'] = success_cluster['success'] + success_cluster['fail']  \n",
    "success_cluster['ratio'] = success_cluster['success'] / success_cluster['total']  "
   ]
  },
  {
   "cell_type": "code",
   "execution_count": 61,
   "id": "b92013bc",
   "metadata": {
    "execution": {
     "iopub.execute_input": "2022-09-22T17:10:09.839298Z",
     "iopub.status.busy": "2022-09-22T17:10:09.838844Z",
     "iopub.status.idle": "2022-09-22T17:10:09.854236Z",
     "shell.execute_reply": "2022-09-22T17:10:09.853051Z"
    },
    "papermill": {
     "duration": 0.049198,
     "end_time": "2022-09-22T17:10:09.856658",
     "exception": false,
     "start_time": "2022-09-22T17:10:09.807460",
     "status": "completed"
    },
    "tags": []
   },
   "outputs": [
    {
     "data": {
      "text/html": [
       "<div>\n",
       "<style scoped>\n",
       "    .dataframe tbody tr th:only-of-type {\n",
       "        vertical-align: middle;\n",
       "    }\n",
       "\n",
       "    .dataframe tbody tr th {\n",
       "        vertical-align: top;\n",
       "    }\n",
       "\n",
       "    .dataframe thead th {\n",
       "        text-align: right;\n",
       "    }\n",
       "</style>\n",
       "<table border=\"1\" class=\"dataframe\">\n",
       "  <thead>\n",
       "    <tr style=\"text-align: right;\">\n",
       "      <th></th>\n",
       "      <th>fail</th>\n",
       "      <th>success</th>\n",
       "      <th>total</th>\n",
       "      <th>ratio</th>\n",
       "    </tr>\n",
       "    <tr>\n",
       "      <th>cluster</th>\n",
       "      <th></th>\n",
       "      <th></th>\n",
       "      <th></th>\n",
       "      <th></th>\n",
       "    </tr>\n",
       "  </thead>\n",
       "  <tbody>\n",
       "    <tr>\n",
       "      <th>0</th>\n",
       "      <td>1642</td>\n",
       "      <td>16575</td>\n",
       "      <td>18217</td>\n",
       "      <td>0.909864</td>\n",
       "    </tr>\n",
       "    <tr>\n",
       "      <th>1</th>\n",
       "      <td>4265</td>\n",
       "      <td>4436</td>\n",
       "      <td>8701</td>\n",
       "      <td>0.509826</td>\n",
       "    </tr>\n",
       "    <tr>\n",
       "      <th>2</th>\n",
       "      <td>3746</td>\n",
       "      <td>23620</td>\n",
       "      <td>27366</td>\n",
       "      <td>0.863115</td>\n",
       "    </tr>\n",
       "    <tr>\n",
       "      <th>3</th>\n",
       "      <td>3953</td>\n",
       "      <td>21956</td>\n",
       "      <td>25909</td>\n",
       "      <td>0.847428</td>\n",
       "    </tr>\n",
       "    <tr>\n",
       "      <th>4</th>\n",
       "      <td>4743</td>\n",
       "      <td>24796</td>\n",
       "      <td>29539</td>\n",
       "      <td>0.839433</td>\n",
       "    </tr>\n",
       "    <tr>\n",
       "      <th>5</th>\n",
       "      <td>845</td>\n",
       "      <td>14518</td>\n",
       "      <td>15363</td>\n",
       "      <td>0.944998</td>\n",
       "    </tr>\n",
       "    <tr>\n",
       "      <th>6</th>\n",
       "      <td>2587</td>\n",
       "      <td>22023</td>\n",
       "      <td>24610</td>\n",
       "      <td>0.894880</td>\n",
       "    </tr>\n",
       "    <tr>\n",
       "      <th>7</th>\n",
       "      <td>6043</td>\n",
       "      <td>11474</td>\n",
       "      <td>17517</td>\n",
       "      <td>0.655021</td>\n",
       "    </tr>\n",
       "    <tr>\n",
       "      <th>8</th>\n",
       "      <td>4079</td>\n",
       "      <td>17374</td>\n",
       "      <td>21453</td>\n",
       "      <td>0.809863</td>\n",
       "    </tr>\n",
       "    <tr>\n",
       "      <th>9</th>\n",
       "      <td>4145</td>\n",
       "      <td>18148</td>\n",
       "      <td>22293</td>\n",
       "      <td>0.814067</td>\n",
       "    </tr>\n",
       "    <tr>\n",
       "      <th>10</th>\n",
       "      <td>1684</td>\n",
       "      <td>16800</td>\n",
       "      <td>18484</td>\n",
       "      <td>0.908894</td>\n",
       "    </tr>\n",
       "    <tr>\n",
       "      <th>11</th>\n",
       "      <td>1829</td>\n",
       "      <td>17601</td>\n",
       "      <td>19430</td>\n",
       "      <td>0.905867</td>\n",
       "    </tr>\n",
       "    <tr>\n",
       "      <th>12</th>\n",
       "      <td>2937</td>\n",
       "      <td>8069</td>\n",
       "      <td>11006</td>\n",
       "      <td>0.733146</td>\n",
       "    </tr>\n",
       "    <tr>\n",
       "      <th>13</th>\n",
       "      <td>5247</td>\n",
       "      <td>10484</td>\n",
       "      <td>15731</td>\n",
       "      <td>0.666455</td>\n",
       "    </tr>\n",
       "    <tr>\n",
       "      <th>14</th>\n",
       "      <td>3811</td>\n",
       "      <td>21782</td>\n",
       "      <td>25593</td>\n",
       "      <td>0.851092</td>\n",
       "    </tr>\n",
       "    <tr>\n",
       "      <th>15</th>\n",
       "      <td>2498</td>\n",
       "      <td>14797</td>\n",
       "      <td>17295</td>\n",
       "      <td>0.855565</td>\n",
       "    </tr>\n",
       "    <tr>\n",
       "      <th>16</th>\n",
       "      <td>3274</td>\n",
       "      <td>5300</td>\n",
       "      <td>8574</td>\n",
       "      <td>0.618148</td>\n",
       "    </tr>\n",
       "    <tr>\n",
       "      <th>17</th>\n",
       "      <td>1674</td>\n",
       "      <td>20392</td>\n",
       "      <td>22066</td>\n",
       "      <td>0.924137</td>\n",
       "    </tr>\n",
       "    <tr>\n",
       "      <th>18</th>\n",
       "      <td>1983</td>\n",
       "      <td>165</td>\n",
       "      <td>2148</td>\n",
       "      <td>0.076816</td>\n",
       "    </tr>\n",
       "    <tr>\n",
       "      <th>19</th>\n",
       "      <td>890</td>\n",
       "      <td>745</td>\n",
       "      <td>1635</td>\n",
       "      <td>0.455657</td>\n",
       "    </tr>\n",
       "  </tbody>\n",
       "</table>\n",
       "</div>"
      ],
      "text/plain": [
       "         fail  success  total     ratio\n",
       "cluster                                \n",
       "0        1642    16575  18217  0.909864\n",
       "1        4265     4436   8701  0.509826\n",
       "2        3746    23620  27366  0.863115\n",
       "3        3953    21956  25909  0.847428\n",
       "4        4743    24796  29539  0.839433\n",
       "5         845    14518  15363  0.944998\n",
       "6        2587    22023  24610  0.894880\n",
       "7        6043    11474  17517  0.655021\n",
       "8        4079    17374  21453  0.809863\n",
       "9        4145    18148  22293  0.814067\n",
       "10       1684    16800  18484  0.908894\n",
       "11       1829    17601  19430  0.905867\n",
       "12       2937     8069  11006  0.733146\n",
       "13       5247    10484  15731  0.666455\n",
       "14       3811    21782  25593  0.851092\n",
       "15       2498    14797  17295  0.855565\n",
       "16       3274     5300   8574  0.618148\n",
       "17       1674    20392  22066  0.924137\n",
       "18       1983      165   2148  0.076816\n",
       "19        890      745   1635  0.455657"
      ]
     },
     "execution_count": 61,
     "metadata": {},
     "output_type": "execute_result"
    }
   ],
   "source": [
    "success_cluster"
   ]
  },
  {
   "cell_type": "code",
   "execution_count": 62,
   "id": "cd372747",
   "metadata": {
    "execution": {
     "iopub.execute_input": "2022-09-22T17:10:09.917071Z",
     "iopub.status.busy": "2022-09-22T17:10:09.916649Z",
     "iopub.status.idle": "2022-09-22T17:10:09.924204Z",
     "shell.execute_reply": "2022-09-22T17:10:09.923007Z"
    },
    "papermill": {
     "duration": 0.041589,
     "end_time": "2022-09-22T17:10:09.926760",
     "exception": false,
     "start_time": "2022-09-22T17:10:09.885171",
     "status": "completed"
    },
    "tags": []
   },
   "outputs": [],
   "source": [
    "team_clusters.to_csv('team_clusters.csv', index = False)"
   ]
  },
  {
   "cell_type": "code",
   "execution_count": 63,
   "id": "98aa4709",
   "metadata": {
    "execution": {
     "iopub.execute_input": "2022-09-22T17:10:09.985731Z",
     "iopub.status.busy": "2022-09-22T17:10:09.985307Z",
     "iopub.status.idle": "2022-09-22T17:10:09.991464Z",
     "shell.execute_reply": "2022-09-22T17:10:09.990576Z"
    },
    "papermill": {
     "duration": 0.038396,
     "end_time": "2022-09-22T17:10:09.993887",
     "exception": false,
     "start_time": "2022-09-22T17:10:09.955491",
     "status": "completed"
    },
    "tags": []
   },
   "outputs": [],
   "source": [
    "success_cluster.to_csv('success_clusters.csv', index = False)"
   ]
  },
  {
   "cell_type": "code",
   "execution_count": 64,
   "id": "0e229829",
   "metadata": {
    "execution": {
     "iopub.execute_input": "2022-09-22T17:10:10.055125Z",
     "iopub.status.busy": "2022-09-22T17:10:10.054657Z",
     "iopub.status.idle": "2022-09-22T17:10:10.066271Z",
     "shell.execute_reply": "2022-09-22T17:10:10.064914Z"
    },
    "papermill": {
     "duration": 0.045621,
     "end_time": "2022-09-22T17:10:10.069200",
     "exception": false,
     "start_time": "2022-09-22T17:10:10.023579",
     "status": "completed"
    },
    "tags": []
   },
   "outputs": [],
   "source": [
    "c18 = passes[passes.cluster == 18]"
   ]
  },
  {
   "cell_type": "code",
   "execution_count": 65,
   "id": "c9b8cdaa",
   "metadata": {
    "execution": {
     "iopub.execute_input": "2022-09-22T17:10:10.129785Z",
     "iopub.status.busy": "2022-09-22T17:10:10.129364Z",
     "iopub.status.idle": "2022-09-22T17:10:10.139621Z",
     "shell.execute_reply": "2022-09-22T17:10:10.138483Z"
    },
    "papermill": {
     "duration": 0.044461,
     "end_time": "2022-09-22T17:10:10.142613",
     "exception": false,
     "start_time": "2022-09-22T17:10:10.098152",
     "status": "completed"
    },
    "tags": []
   },
   "outputs": [
    {
     "data": {
      "text/plain": [
       "False    1983\n",
       "True      165\n",
       "Name: success, dtype: int64"
      ]
     },
     "execution_count": 65,
     "metadata": {},
     "output_type": "execute_result"
    }
   ],
   "source": [
    "c18.success.value_counts()"
   ]
  },
  {
   "cell_type": "code",
   "execution_count": 66,
   "id": "55442a39",
   "metadata": {
    "execution": {
     "iopub.execute_input": "2022-09-22T17:10:10.204763Z",
     "iopub.status.busy": "2022-09-22T17:10:10.204337Z",
     "iopub.status.idle": "2022-09-22T17:10:10.219599Z",
     "shell.execute_reply": "2022-09-22T17:10:10.218327Z"
    },
    "papermill": {
     "duration": 0.049741,
     "end_time": "2022-09-22T17:10:10.222122",
     "exception": false,
     "start_time": "2022-09-22T17:10:10.172381",
     "status": "completed"
    },
    "tags": []
   },
   "outputs": [
    {
     "data": {
      "text/plain": [
       "cluster\n",
       "0     18217\n",
       "1     10450\n",
       "2     27366\n",
       "3     25909\n",
       "4     29539\n",
       "5     15421\n",
       "6     24914\n",
       "7     17517\n",
       "8     22339\n",
       "9     22293\n",
       "10    18484\n",
       "11    19430\n",
       "12    11006\n",
       "13    15731\n",
       "14    25866\n",
       "15    17295\n",
       "16     8574\n",
       "17    22066\n",
       "18     2336\n",
       "19     3965\n",
       "dtype: int64"
      ]
     },
     "execution_count": 66,
     "metadata": {},
     "output_type": "execute_result"
    }
   ],
   "source": [
    "passes.groupby('cluster').size()"
   ]
  },
  {
   "cell_type": "code",
   "execution_count": 67,
   "id": "547aa207",
   "metadata": {
    "execution": {
     "iopub.execute_input": "2022-09-22T17:10:10.281669Z",
     "iopub.status.busy": "2022-09-22T17:10:10.281296Z",
     "iopub.status.idle": "2022-09-22T17:10:10.299097Z",
     "shell.execute_reply": "2022-09-22T17:10:10.297648Z"
    },
    "papermill": {
     "duration": 0.050692,
     "end_time": "2022-09-22T17:10:10.301912",
     "exception": false,
     "start_time": "2022-09-22T17:10:10.251220",
     "status": "completed"
    },
    "tags": []
   },
   "outputs": [
    {
     "data": {
      "text/plain": [
       "78            None\n",
       "99            None\n",
       "224       COMPLETE\n",
       "345           None\n",
       "353     INCOMPLETE\n",
       "           ...    \n",
       "701           None\n",
       "1455    INCOMPLETE\n",
       "1516          None\n",
       "1714      COMPLETE\n",
       "1732      COMPLETE\n",
       "Name: result, Length: 3965, dtype: object"
      ]
     },
     "execution_count": 67,
     "metadata": {},
     "output_type": "execute_result"
    }
   ],
   "source": [
    "passes[passes.cluster == 19]['result']"
   ]
  },
  {
   "cell_type": "code",
   "execution_count": 68,
   "id": "1eec5000",
   "metadata": {
    "execution": {
     "iopub.execute_input": "2022-09-22T17:10:10.362788Z",
     "iopub.status.busy": "2022-09-22T17:10:10.361993Z",
     "iopub.status.idle": "2022-09-22T17:10:10.458830Z",
     "shell.execute_reply": "2022-09-22T17:10:10.457668Z"
    },
    "papermill": {
     "duration": 0.129976,
     "end_time": "2022-09-22T17:10:10.461320",
     "exception": false,
     "start_time": "2022-09-22T17:10:10.331344",
     "status": "completed"
    },
    "tags": []
   },
   "outputs": [
    {
     "data": {
      "text/html": [
       "<div>\n",
       "<style scoped>\n",
       "    .dataframe tbody tr th:only-of-type {\n",
       "        vertical-align: middle;\n",
       "    }\n",
       "\n",
       "    .dataframe tbody tr th {\n",
       "        vertical-align: top;\n",
       "    }\n",
       "\n",
       "    .dataframe thead th {\n",
       "        text-align: right;\n",
       "    }\n",
       "</style>\n",
       "<table border=\"1\" class=\"dataframe\">\n",
       "  <thead>\n",
       "    <tr style=\"text-align: right;\">\n",
       "      <th></th>\n",
       "      <th>event_id</th>\n",
       "      <th>event_type</th>\n",
       "      <th>result</th>\n",
       "      <th>success</th>\n",
       "      <th>period_id</th>\n",
       "      <th>timestamp</th>\n",
       "      <th>end_timestamp</th>\n",
       "      <th>ball_state</th>\n",
       "      <th>ball_owning_team</th>\n",
       "      <th>team_id</th>\n",
       "      <th>...</th>\n",
       "      <th>body_part_type</th>\n",
       "      <th>set_piece_type</th>\n",
       "      <th>goalkeeper_action_type</th>\n",
       "      <th>card_type</th>\n",
       "      <th>x</th>\n",
       "      <th>y</th>\n",
       "      <th>end_x</th>\n",
       "      <th>end_y</th>\n",
       "      <th>cluster</th>\n",
       "      <th>team</th>\n",
       "    </tr>\n",
       "  </thead>\n",
       "  <tbody>\n",
       "    <tr>\n",
       "      <th>78</th>\n",
       "      <td>251700222</td>\n",
       "      <td>PASS</td>\n",
       "      <td>None</td>\n",
       "      <td>None</td>\n",
       "      <td>1</td>\n",
       "      <td>298.721998</td>\n",
       "      <td>None</td>\n",
       "      <td>None</td>\n",
       "      <td>None</td>\n",
       "      <td>1646</td>\n",
       "      <td>...</td>\n",
       "      <td>NaN</td>\n",
       "      <td>GOAL_KICK</td>\n",
       "      <td>NaN</td>\n",
       "      <td>NaN</td>\n",
       "      <td>0.0</td>\n",
       "      <td>0.0</td>\n",
       "      <td>71.40</td>\n",
       "      <td>8.84</td>\n",
       "      <td>19</td>\n",
       "      <td>Burnley FC</td>\n",
       "    </tr>\n",
       "    <tr>\n",
       "      <th>99</th>\n",
       "      <td>251700236</td>\n",
       "      <td>PASS</td>\n",
       "      <td>None</td>\n",
       "      <td>None</td>\n",
       "      <td>1</td>\n",
       "      <td>394.641716</td>\n",
       "      <td>None</td>\n",
       "      <td>None</td>\n",
       "      <td>None</td>\n",
       "      <td>1646</td>\n",
       "      <td>...</td>\n",
       "      <td>NaN</td>\n",
       "      <td>GOAL_KICK</td>\n",
       "      <td>NaN</td>\n",
       "      <td>NaN</td>\n",
       "      <td>0.0</td>\n",
       "      <td>0.0</td>\n",
       "      <td>67.20</td>\n",
       "      <td>25.84</td>\n",
       "      <td>19</td>\n",
       "      <td>Burnley FC</td>\n",
       "    </tr>\n",
       "    <tr>\n",
       "      <th>134</th>\n",
       "      <td>251700368</td>\n",
       "      <td>PASS</td>\n",
       "      <td>None</td>\n",
       "      <td>None</td>\n",
       "      <td>1</td>\n",
       "      <td>506.220518</td>\n",
       "      <td>None</td>\n",
       "      <td>None</td>\n",
       "      <td>None</td>\n",
       "      <td>1659</td>\n",
       "      <td>...</td>\n",
       "      <td>NaN</td>\n",
       "      <td>GOAL_KICK</td>\n",
       "      <td>NaN</td>\n",
       "      <td>NaN</td>\n",
       "      <td>105.0</td>\n",
       "      <td>68.0</td>\n",
       "      <td>64.05</td>\n",
       "      <td>33.32</td>\n",
       "      <td>1</td>\n",
       "      <td>AFC Bournemouth</td>\n",
       "    </tr>\n",
       "    <tr>\n",
       "      <th>345</th>\n",
       "      <td>251700418</td>\n",
       "      <td>PASS</td>\n",
       "      <td>None</td>\n",
       "      <td>None</td>\n",
       "      <td>1</td>\n",
       "      <td>1191.372555</td>\n",
       "      <td>None</td>\n",
       "      <td>None</td>\n",
       "      <td>None</td>\n",
       "      <td>1646</td>\n",
       "      <td>...</td>\n",
       "      <td>NaN</td>\n",
       "      <td>GOAL_KICK</td>\n",
       "      <td>NaN</td>\n",
       "      <td>NaN</td>\n",
       "      <td>0.0</td>\n",
       "      <td>0.0</td>\n",
       "      <td>70.35</td>\n",
       "      <td>21.76</td>\n",
       "      <td>19</td>\n",
       "      <td>Burnley FC</td>\n",
       "    </tr>\n",
       "    <tr>\n",
       "      <th>515</th>\n",
       "      <td>251700808</td>\n",
       "      <td>PASS</td>\n",
       "      <td>None</td>\n",
       "      <td>None</td>\n",
       "      <td>1</td>\n",
       "      <td>1746.363804</td>\n",
       "      <td>None</td>\n",
       "      <td>None</td>\n",
       "      <td>None</td>\n",
       "      <td>1659</td>\n",
       "      <td>...</td>\n",
       "      <td>NaN</td>\n",
       "      <td>GOAL_KICK</td>\n",
       "      <td>NaN</td>\n",
       "      <td>NaN</td>\n",
       "      <td>105.0</td>\n",
       "      <td>68.0</td>\n",
       "      <td>64.05</td>\n",
       "      <td>15.64</td>\n",
       "      <td>1</td>\n",
       "      <td>AFC Bournemouth</td>\n",
       "    </tr>\n",
       "    <tr>\n",
       "      <th>...</th>\n",
       "      <td>...</td>\n",
       "      <td>...</td>\n",
       "      <td>...</td>\n",
       "      <td>...</td>\n",
       "      <td>...</td>\n",
       "      <td>...</td>\n",
       "      <td>...</td>\n",
       "      <td>...</td>\n",
       "      <td>...</td>\n",
       "      <td>...</td>\n",
       "      <td>...</td>\n",
       "      <td>...</td>\n",
       "      <td>...</td>\n",
       "      <td>...</td>\n",
       "      <td>...</td>\n",
       "      <td>...</td>\n",
       "      <td>...</td>\n",
       "      <td>...</td>\n",
       "      <td>...</td>\n",
       "      <td>...</td>\n",
       "      <td>...</td>\n",
       "    </tr>\n",
       "    <tr>\n",
       "      <th>1471</th>\n",
       "      <td>177960755</td>\n",
       "      <td>PASS</td>\n",
       "      <td>None</td>\n",
       "      <td>None</td>\n",
       "      <td>2</td>\n",
       "      <td>1941.332376</td>\n",
       "      <td>None</td>\n",
       "      <td>None</td>\n",
       "      <td>None</td>\n",
       "      <td>1609</td>\n",
       "      <td>...</td>\n",
       "      <td>NaN</td>\n",
       "      <td>GOAL_KICK</td>\n",
       "      <td>NaN</td>\n",
       "      <td>NaN</td>\n",
       "      <td>0.0</td>\n",
       "      <td>0.0</td>\n",
       "      <td>18.90</td>\n",
       "      <td>8.16</td>\n",
       "      <td>14</td>\n",
       "      <td>Arsenal FC</td>\n",
       "    </tr>\n",
       "    <tr>\n",
       "      <th>1497</th>\n",
       "      <td>177960775</td>\n",
       "      <td>PASS</td>\n",
       "      <td>None</td>\n",
       "      <td>None</td>\n",
       "      <td>2</td>\n",
       "      <td>2026.279667</td>\n",
       "      <td>None</td>\n",
       "      <td>None</td>\n",
       "      <td>None</td>\n",
       "      <td>1631</td>\n",
       "      <td>...</td>\n",
       "      <td>NaN</td>\n",
       "      <td>GOAL_KICK</td>\n",
       "      <td>NaN</td>\n",
       "      <td>NaN</td>\n",
       "      <td>105.0</td>\n",
       "      <td>68.0</td>\n",
       "      <td>74.55</td>\n",
       "      <td>27.88</td>\n",
       "      <td>1</td>\n",
       "      <td>Leicester City FC</td>\n",
       "    </tr>\n",
       "    <tr>\n",
       "      <th>1516</th>\n",
       "      <td>177960810</td>\n",
       "      <td>PASS</td>\n",
       "      <td>None</td>\n",
       "      <td>None</td>\n",
       "      <td>2</td>\n",
       "      <td>2081.634766</td>\n",
       "      <td>None</td>\n",
       "      <td>None</td>\n",
       "      <td>None</td>\n",
       "      <td>1609</td>\n",
       "      <td>...</td>\n",
       "      <td>NaN</td>\n",
       "      <td>GOAL_KICK</td>\n",
       "      <td>NaN</td>\n",
       "      <td>NaN</td>\n",
       "      <td>0.0</td>\n",
       "      <td>0.0</td>\n",
       "      <td>38.85</td>\n",
       "      <td>22.44</td>\n",
       "      <td>19</td>\n",
       "      <td>Arsenal FC</td>\n",
       "    </tr>\n",
       "    <tr>\n",
       "      <th>1543</th>\n",
       "      <td>177960828</td>\n",
       "      <td>PASS</td>\n",
       "      <td>None</td>\n",
       "      <td>None</td>\n",
       "      <td>2</td>\n",
       "      <td>2195.371198</td>\n",
       "      <td>None</td>\n",
       "      <td>None</td>\n",
       "      <td>None</td>\n",
       "      <td>1631</td>\n",
       "      <td>...</td>\n",
       "      <td>NaN</td>\n",
       "      <td>GOAL_KICK</td>\n",
       "      <td>NaN</td>\n",
       "      <td>NaN</td>\n",
       "      <td>105.0</td>\n",
       "      <td>68.0</td>\n",
       "      <td>74.55</td>\n",
       "      <td>42.84</td>\n",
       "      <td>1</td>\n",
       "      <td>Leicester City FC</td>\n",
       "    </tr>\n",
       "    <tr>\n",
       "      <th>1745</th>\n",
       "      <td>177961042</td>\n",
       "      <td>PASS</td>\n",
       "      <td>None</td>\n",
       "      <td>None</td>\n",
       "      <td>2</td>\n",
       "      <td>3006.647279</td>\n",
       "      <td>None</td>\n",
       "      <td>None</td>\n",
       "      <td>None</td>\n",
       "      <td>1631</td>\n",
       "      <td>...</td>\n",
       "      <td>NaN</td>\n",
       "      <td>GOAL_KICK</td>\n",
       "      <td>NaN</td>\n",
       "      <td>NaN</td>\n",
       "      <td>105.0</td>\n",
       "      <td>68.0</td>\n",
       "      <td>105.00</td>\n",
       "      <td>68.00</td>\n",
       "      <td>8</td>\n",
       "      <td>Leicester City FC</td>\n",
       "    </tr>\n",
       "  </tbody>\n",
       "</table>\n",
       "<p>5788 rows × 28 columns</p>\n",
       "</div>"
      ],
      "text/plain": [
       "       event_id event_type result success  period_id    timestamp  \\\n",
       "78    251700222       PASS   None    None          1   298.721998   \n",
       "99    251700236       PASS   None    None          1   394.641716   \n",
       "134   251700368       PASS   None    None          1   506.220518   \n",
       "345   251700418       PASS   None    None          1  1191.372555   \n",
       "515   251700808       PASS   None    None          1  1746.363804   \n",
       "...         ...        ...    ...     ...        ...          ...   \n",
       "1471  177960755       PASS   None    None          2  1941.332376   \n",
       "1497  177960775       PASS   None    None          2  2026.279667   \n",
       "1516  177960810       PASS   None    None          2  2081.634766   \n",
       "1543  177960828       PASS   None    None          2  2195.371198   \n",
       "1745  177961042       PASS   None    None          2  3006.647279   \n",
       "\n",
       "     end_timestamp ball_state ball_owning_team team_id  ... body_part_type  \\\n",
       "78            None       None             None    1646  ...            NaN   \n",
       "99            None       None             None    1646  ...            NaN   \n",
       "134           None       None             None    1659  ...            NaN   \n",
       "345           None       None             None    1646  ...            NaN   \n",
       "515           None       None             None    1659  ...            NaN   \n",
       "...            ...        ...              ...     ...  ...            ...   \n",
       "1471          None       None             None    1609  ...            NaN   \n",
       "1497          None       None             None    1631  ...            NaN   \n",
       "1516          None       None             None    1609  ...            NaN   \n",
       "1543          None       None             None    1631  ...            NaN   \n",
       "1745          None       None             None    1631  ...            NaN   \n",
       "\n",
       "      set_piece_type  goalkeeper_action_type  card_type      x     y   end_x  \\\n",
       "78         GOAL_KICK                     NaN        NaN    0.0   0.0   71.40   \n",
       "99         GOAL_KICK                     NaN        NaN    0.0   0.0   67.20   \n",
       "134        GOAL_KICK                     NaN        NaN  105.0  68.0   64.05   \n",
       "345        GOAL_KICK                     NaN        NaN    0.0   0.0   70.35   \n",
       "515        GOAL_KICK                     NaN        NaN  105.0  68.0   64.05   \n",
       "...              ...                     ...        ...    ...   ...     ...   \n",
       "1471       GOAL_KICK                     NaN        NaN    0.0   0.0   18.90   \n",
       "1497       GOAL_KICK                     NaN        NaN  105.0  68.0   74.55   \n",
       "1516       GOAL_KICK                     NaN        NaN    0.0   0.0   38.85   \n",
       "1543       GOAL_KICK                     NaN        NaN  105.0  68.0   74.55   \n",
       "1745       GOAL_KICK                     NaN        NaN  105.0  68.0  105.00   \n",
       "\n",
       "      end_y cluster               team  \n",
       "78     8.84      19         Burnley FC  \n",
       "99    25.84      19         Burnley FC  \n",
       "134   33.32       1    AFC Bournemouth  \n",
       "345   21.76      19         Burnley FC  \n",
       "515   15.64       1    AFC Bournemouth  \n",
       "...     ...     ...                ...  \n",
       "1471   8.16      14         Arsenal FC  \n",
       "1497  27.88       1  Leicester City FC  \n",
       "1516  22.44      19         Arsenal FC  \n",
       "1543  42.84       1  Leicester City FC  \n",
       "1745  68.00       8  Leicester City FC  \n",
       "\n",
       "[5788 rows x 28 columns]"
      ]
     },
     "execution_count": 68,
     "metadata": {},
     "output_type": "execute_result"
    }
   ],
   "source": [
    "none_passes = passes[(passes.success != True) & (passes.success != False)]\n",
    "none_passes"
   ]
  },
  {
   "cell_type": "code",
   "execution_count": 69,
   "id": "7ed85fc3",
   "metadata": {
    "execution": {
     "iopub.execute_input": "2022-09-22T17:10:10.521800Z",
     "iopub.status.busy": "2022-09-22T17:10:10.521045Z",
     "iopub.status.idle": "2022-09-22T17:10:10.528583Z",
     "shell.execute_reply": "2022-09-22T17:10:10.527665Z"
    },
    "papermill": {
     "duration": 0.040286,
     "end_time": "2022-09-22T17:10:10.530845",
     "exception": false,
     "start_time": "2022-09-22T17:10:10.490559",
     "status": "completed"
    },
    "tags": []
   },
   "outputs": [
    {
     "data": {
      "text/plain": [
       "array([19,  1, 14,  8,  5, 18,  6])"
      ]
     },
     "execution_count": 69,
     "metadata": {},
     "output_type": "execute_result"
    }
   ],
   "source": [
    "none_passes.cluster.unique()"
   ]
  },
  {
   "cell_type": "code",
   "execution_count": 70,
   "id": "1baff17b",
   "metadata": {
    "execution": {
     "iopub.execute_input": "2022-09-22T17:10:10.594211Z",
     "iopub.status.busy": "2022-09-22T17:10:10.593372Z",
     "iopub.status.idle": "2022-09-22T17:10:10.600983Z",
     "shell.execute_reply": "2022-09-22T17:10:10.599846Z"
    },
    "papermill": {
     "duration": 0.043085,
     "end_time": "2022-09-22T17:10:10.603640",
     "exception": false,
     "start_time": "2022-09-22T17:10:10.560555",
     "status": "completed"
    },
    "tags": []
   },
   "outputs": [
    {
     "data": {
      "text/plain": [
       "pandas.core.series.Series"
      ]
     },
     "execution_count": 70,
     "metadata": {},
     "output_type": "execute_result"
    }
   ],
   "source": [
    "type(passes.result)"
   ]
  },
  {
   "cell_type": "code",
   "execution_count": 71,
   "id": "c9eda844",
   "metadata": {
    "execution": {
     "iopub.execute_input": "2022-09-22T17:10:10.667783Z",
     "iopub.status.busy": "2022-09-22T17:10:10.667367Z",
     "iopub.status.idle": "2022-09-22T17:10:10.691496Z",
     "shell.execute_reply": "2022-09-22T17:10:10.690453Z"
    },
    "papermill": {
     "duration": 0.058054,
     "end_time": "2022-09-22T17:10:10.693871",
     "exception": false,
     "start_time": "2022-09-22T17:10:10.635817",
     "status": "completed"
    },
    "tags": []
   },
   "outputs": [
    {
     "data": {
      "text/plain": [
       "array([nan, 'THROW_IN', 'FREE_KICK', 'GOAL_KICK', 'CORNER_KICK'],\n",
       "      dtype=object)"
      ]
     },
     "execution_count": 71,
     "metadata": {},
     "output_type": "execute_result"
    }
   ],
   "source": [
    "passes.set_piece_type.unique()"
   ]
  },
  {
   "cell_type": "code",
   "execution_count": 72,
   "id": "6f24d28c",
   "metadata": {
    "execution": {
     "iopub.execute_input": "2022-09-22T17:10:10.756992Z",
     "iopub.status.busy": "2022-09-22T17:10:10.756242Z",
     "iopub.status.idle": "2022-09-22T17:10:10.790425Z",
     "shell.execute_reply": "2022-09-22T17:10:10.789384Z"
    },
    "papermill": {
     "duration": 0.068939,
     "end_time": "2022-09-22T17:10:10.793021",
     "exception": false,
     "start_time": "2022-09-22T17:10:10.724082",
     "status": "completed"
    },
    "tags": []
   },
   "outputs": [],
   "source": [
    "passes.loc[:, 'set_piece_type'] = passes.set_piece_type.fillna('notsp')"
   ]
  },
  {
   "cell_type": "code",
   "execution_count": 73,
   "id": "fd433cc2",
   "metadata": {
    "execution": {
     "iopub.execute_input": "2022-09-22T17:10:10.855063Z",
     "iopub.status.busy": "2022-09-22T17:10:10.854018Z",
     "iopub.status.idle": "2022-09-22T17:10:10.970164Z",
     "shell.execute_reply": "2022-09-22T17:10:10.968924Z"
    },
    "papermill": {
     "duration": 0.150504,
     "end_time": "2022-09-22T17:10:10.973090",
     "exception": false,
     "start_time": "2022-09-22T17:10:10.822586",
     "status": "completed"
    },
    "tags": []
   },
   "outputs": [],
   "source": [
    "free_passes = passes[passes.set_piece_type == 'notsp']"
   ]
  },
  {
   "cell_type": "code",
   "execution_count": 74,
   "id": "eda339e2",
   "metadata": {
    "execution": {
     "iopub.execute_input": "2022-09-22T17:10:11.035147Z",
     "iopub.status.busy": "2022-09-22T17:10:11.034494Z",
     "iopub.status.idle": "2022-09-22T17:49:13.741728Z",
     "shell.execute_reply": "2022-09-22T17:49:13.740484Z"
    },
    "papermill": {
     "duration": 2342.743061,
     "end_time": "2022-09-22T17:49:13.745392",
     "exception": false,
     "start_time": "2022-09-22T17:10:11.002331",
     "status": "completed"
    },
    "tags": []
   },
   "outputs": [
    {
     "name": "stderr",
     "output_type": "stream",
     "text": [
      "/opt/conda/lib/python3.7/site-packages/sklearn/mixture/_base.py:282: ConvergenceWarning: Initialization 1 did not converge. Try different init parameters, or increase max_iter, tol or check for degenerate data.\n",
      "  ConvergenceWarning,\n"
     ]
    }
   ],
   "source": [
    "bgm = BayesianGaussianMixture(n_components=30,\n",
    "                              random_state=42,\n",
    "                              max_iter = 1000,\n",
    "                              init_params = 'kmeans').fit(free_passes[cluster_cols])"
   ]
  },
  {
   "cell_type": "code",
   "execution_count": 75,
   "id": "aebb933b",
   "metadata": {
    "execution": {
     "iopub.execute_input": "2022-09-22T17:49:13.808293Z",
     "iopub.status.busy": "2022-09-22T17:49:13.807864Z",
     "iopub.status.idle": "2022-09-22T17:49:14.960574Z",
     "shell.execute_reply": "2022-09-22T17:49:14.959302Z"
    },
    "papermill": {
     "duration": 1.187929,
     "end_time": "2022-09-22T17:49:14.963766",
     "exception": false,
     "start_time": "2022-09-22T17:49:13.775837",
     "status": "completed"
    },
    "tags": []
   },
   "outputs": [
    {
     "name": "stderr",
     "output_type": "stream",
     "text": [
      "/opt/conda/lib/python3.7/site-packages/ipykernel_launcher.py:1: SettingWithCopyWarning: \n",
      "A value is trying to be set on a copy of a slice from a DataFrame.\n",
      "Try using .loc[row_indexer,col_indexer] = value instead\n",
      "\n",
      "See the caveats in the documentation: https://pandas.pydata.org/pandas-docs/stable/user_guide/indexing.html#returning-a-view-versus-a-copy\n",
      "  \"\"\"Entry point for launching an IPython kernel.\n"
     ]
    }
   ],
   "source": [
    "free_passes['clusterfp'] = bgm.predict(free_passes[cluster_cols])"
   ]
  },
  {
   "cell_type": "code",
   "execution_count": 76,
   "id": "e3c06696",
   "metadata": {
    "execution": {
     "iopub.execute_input": "2022-09-22T17:49:15.028543Z",
     "iopub.status.busy": "2022-09-22T17:49:15.027921Z",
     "iopub.status.idle": "2022-09-22T17:49:18.876683Z",
     "shell.execute_reply": "2022-09-22T17:49:18.875388Z"
    },
    "papermill": {
     "duration": 3.884394,
     "end_time": "2022-09-22T17:49:18.879937",
     "exception": false,
     "start_time": "2022-09-22T17:49:14.995543",
     "status": "completed"
    },
    "tags": []
   },
   "outputs": [
    {
     "data": {
      "image/png": "[encoded data removed]",
      "text/plain": [
       "<Figure size 1080x720 with 1 Axes>"
      ]
     },
     "metadata": {},
     "output_type": "display_data"
    }
   ],
   "source": [
    "clusters_f = free_passes.groupby('clusterfp').mean()\n",
    "fig, ax = create_pitch(120, 80,'white')\n",
    "for index, pass_ in clusters_f.iterrows():\n",
    "    if (index < 0):\n",
    "        continue\n",
    "    x, y = pass_['x'], pass_['y']\n",
    "    end_x, end_y = pass_['end_x'], pass_['end_y']\n",
    "    color = 'blue' \n",
    "    y = 80 - y\n",
    "    end_y = 80 - end_y\n",
    "    plt.plot([x, end_x], [y, end_y], linewidth = 5)\n",
    "    plt.text((x+1),y+1,index, color = \"white\", fontweight = 'bold', fontsize = 'xx-large')\n",
    "    plt.savefig('gmm_cluster.png')"
   ]
  },
  {
   "cell_type": "code",
   "execution_count": 77,
   "id": "780bfd79",
   "metadata": {
    "execution": {
     "iopub.execute_input": "2022-09-22T17:49:18.948385Z",
     "iopub.status.busy": "2022-09-22T17:49:18.947202Z",
     "iopub.status.idle": "2022-09-22T17:49:18.953696Z",
     "shell.execute_reply": "2022-09-22T17:49:18.952348Z"
    },
    "papermill": {
     "duration": 0.043209,
     "end_time": "2022-09-22T17:49:18.956158",
     "exception": false,
     "start_time": "2022-09-22T17:49:18.912949",
     "status": "completed"
    },
    "tags": []
   },
   "outputs": [
    {
     "name": "stdout",
     "output_type": "stream",
     "text": [
      "it will be interesting to look at arsenal fr last season to this, arteta saying numbers, did they change or was it really just bad luck\n"
     ]
    }
   ],
   "source": [
    "print(\"it will be interesting to look at arsenal fr last season to this, arteta saying numbers, did they change or was it really just bad luck\")"
   ]
  },
  {
   "cell_type": "code",
   "execution_count": 78,
   "id": "cb39d137",
   "metadata": {
    "execution": {
     "iopub.execute_input": "2022-09-22T17:49:19.022091Z",
     "iopub.status.busy": "2022-09-22T17:49:19.021640Z",
     "iopub.status.idle": "2022-09-22T17:49:19.064377Z",
     "shell.execute_reply": "2022-09-22T17:49:19.063217Z"
    },
    "papermill": {
     "duration": 0.07816,
     "end_time": "2022-09-22T17:49:19.066821",
     "exception": false,
     "start_time": "2022-09-22T17:49:18.988661",
     "status": "completed"
    },
    "tags": []
   },
   "outputs": [
    {
     "data": {
      "text/html": [
       "<div>\n",
       "<style scoped>\n",
       "    .dataframe tbody tr th:only-of-type {\n",
       "        vertical-align: middle;\n",
       "    }\n",
       "\n",
       "    .dataframe tbody tr th {\n",
       "        vertical-align: top;\n",
       "    }\n",
       "\n",
       "    .dataframe thead th {\n",
       "        text-align: right;\n",
       "    }\n",
       "</style>\n",
       "<table border=\"1\" class=\"dataframe\">\n",
       "  <thead>\n",
       "    <tr style=\"text-align: right;\">\n",
       "      <th></th>\n",
       "      <th>cluster</th>\n",
       "      <th>success</th>\n",
       "      <th>score</th>\n",
       "    </tr>\n",
       "  </thead>\n",
       "  <tbody>\n",
       "    <tr>\n",
       "      <th>0</th>\n",
       "      <td>0</td>\n",
       "      <td>False</td>\n",
       "      <td>1394</td>\n",
       "    </tr>\n",
       "    <tr>\n",
       "      <th>1</th>\n",
       "      <td>0</td>\n",
       "      <td>True</td>\n",
       "      <td>9931</td>\n",
       "    </tr>\n",
       "    <tr>\n",
       "      <th>2</th>\n",
       "      <td>1</td>\n",
       "      <td>False</td>\n",
       "      <td>757</td>\n",
       "    </tr>\n",
       "    <tr>\n",
       "      <th>3</th>\n",
       "      <td>1</td>\n",
       "      <td>True</td>\n",
       "      <td>8664</td>\n",
       "    </tr>\n",
       "    <tr>\n",
       "      <th>4</th>\n",
       "      <td>2</td>\n",
       "      <td>False</td>\n",
       "      <td>3362</td>\n",
       "    </tr>\n",
       "  </tbody>\n",
       "</table>\n",
       "</div>"
      ],
      "text/plain": [
       "   cluster  success  score\n",
       "0        0    False   1394\n",
       "1        0     True   9931\n",
       "2        1    False    757\n",
       "3        1     True   8664\n",
       "4        2    False   3362"
      ]
     },
     "execution_count": 78,
     "metadata": {},
     "output_type": "execute_result"
    }
   ],
   "source": [
    "success_cluster = free_passes.groupby(['clusterfp', 'success']).size().reset_index()\n",
    "success_cluster.columns = ['cluster', 'success', 'score']\n",
    "success_cluster.head()"
   ]
  },
  {
   "cell_type": "code",
   "execution_count": 79,
   "id": "76f88f9a",
   "metadata": {
    "execution": {
     "iopub.execute_input": "2022-09-22T17:49:19.132485Z",
     "iopub.status.busy": "2022-09-22T17:49:19.132066Z",
     "iopub.status.idle": "2022-09-22T17:49:19.143351Z",
     "shell.execute_reply": "2022-09-22T17:49:19.142469Z"
    },
    "papermill": {
     "duration": 0.047236,
     "end_time": "2022-09-22T17:49:19.145671",
     "exception": false,
     "start_time": "2022-09-22T17:49:19.098435",
     "status": "completed"
    },
    "tags": []
   },
   "outputs": [],
   "source": [
    "success_cluster = success_cluster.pivot(index='cluster', columns='success', values = 'score')\n",
    "success_cluster.columns = ['fail', 'success']\n",
    "success_cluster['total'] = success_cluster['success'] + success_cluster['fail']  \n",
    "success_cluster['ratio'] = success_cluster['success'] / success_cluster['total']  "
   ]
  },
  {
   "cell_type": "code",
   "execution_count": 80,
   "id": "e00006ca",
   "metadata": {
    "execution": {
     "iopub.execute_input": "2022-09-22T17:49:19.211840Z",
     "iopub.status.busy": "2022-09-22T17:49:19.211226Z",
     "iopub.status.idle": "2022-09-22T17:49:19.228255Z",
     "shell.execute_reply": "2022-09-22T17:49:19.227310Z"
    },
    "papermill": {
     "duration": 0.053059,
     "end_time": "2022-09-22T17:49:19.230650",
     "exception": false,
     "start_time": "2022-09-22T17:49:19.177591",
     "status": "completed"
    },
    "tags": []
   },
   "outputs": [
    {
     "data": {
      "text/html": [
       "<div>\n",
       "<style scoped>\n",
       "    .dataframe tbody tr th:only-of-type {\n",
       "        vertical-align: middle;\n",
       "    }\n",
       "\n",
       "    .dataframe tbody tr th {\n",
       "        vertical-align: top;\n",
       "    }\n",
       "\n",
       "    .dataframe thead th {\n",
       "        text-align: right;\n",
       "    }\n",
       "</style>\n",
       "<table border=\"1\" class=\"dataframe\">\n",
       "  <thead>\n",
       "    <tr style=\"text-align: right;\">\n",
       "      <th></th>\n",
       "      <th>fail</th>\n",
       "      <th>success</th>\n",
       "      <th>total</th>\n",
       "      <th>ratio</th>\n",
       "    </tr>\n",
       "    <tr>\n",
       "      <th>cluster</th>\n",
       "      <th></th>\n",
       "      <th></th>\n",
       "      <th></th>\n",
       "      <th></th>\n",
       "    </tr>\n",
       "  </thead>\n",
       "  <tbody>\n",
       "    <tr>\n",
       "      <th>22</th>\n",
       "      <td>1683</td>\n",
       "      <td>41</td>\n",
       "      <td>1724</td>\n",
       "      <td>0.023782</td>\n",
       "    </tr>\n",
       "    <tr>\n",
       "      <th>15</th>\n",
       "      <td>618</td>\n",
       "      <td>19</td>\n",
       "      <td>637</td>\n",
       "      <td>0.029827</td>\n",
       "    </tr>\n",
       "    <tr>\n",
       "      <th>7</th>\n",
       "      <td>4804</td>\n",
       "      <td>5177</td>\n",
       "      <td>9981</td>\n",
       "      <td>0.518686</td>\n",
       "    </tr>\n",
       "    <tr>\n",
       "      <th>16</th>\n",
       "      <td>4074</td>\n",
       "      <td>4998</td>\n",
       "      <td>9072</td>\n",
       "      <td>0.550926</td>\n",
       "    </tr>\n",
       "    <tr>\n",
       "      <th>23</th>\n",
       "      <td>2498</td>\n",
       "      <td>3474</td>\n",
       "      <td>5972</td>\n",
       "      <td>0.581715</td>\n",
       "    </tr>\n",
       "    <tr>\n",
       "      <th>18</th>\n",
       "      <td>1851</td>\n",
       "      <td>4132</td>\n",
       "      <td>5983</td>\n",
       "      <td>0.690623</td>\n",
       "    </tr>\n",
       "    <tr>\n",
       "      <th>5</th>\n",
       "      <td>3948</td>\n",
       "      <td>8960</td>\n",
       "      <td>12908</td>\n",
       "      <td>0.694143</td>\n",
       "    </tr>\n",
       "    <tr>\n",
       "      <th>19</th>\n",
       "      <td>2292</td>\n",
       "      <td>6110</td>\n",
       "      <td>8402</td>\n",
       "      <td>0.727208</td>\n",
       "    </tr>\n",
       "    <tr>\n",
       "      <th>17</th>\n",
       "      <td>1728</td>\n",
       "      <td>4729</td>\n",
       "      <td>6457</td>\n",
       "      <td>0.732383</td>\n",
       "    </tr>\n",
       "    <tr>\n",
       "      <th>13</th>\n",
       "      <td>3432</td>\n",
       "      <td>9844</td>\n",
       "      <td>13276</td>\n",
       "      <td>0.741488</td>\n",
       "    </tr>\n",
       "    <tr>\n",
       "      <th>21</th>\n",
       "      <td>3003</td>\n",
       "      <td>9826</td>\n",
       "      <td>12829</td>\n",
       "      <td>0.765921</td>\n",
       "    </tr>\n",
       "    <tr>\n",
       "      <th>2</th>\n",
       "      <td>3362</td>\n",
       "      <td>16948</td>\n",
       "      <td>20310</td>\n",
       "      <td>0.834466</td>\n",
       "    </tr>\n",
       "    <tr>\n",
       "      <th>3</th>\n",
       "      <td>2635</td>\n",
       "      <td>14040</td>\n",
       "      <td>16675</td>\n",
       "      <td>0.841979</td>\n",
       "    </tr>\n",
       "    <tr>\n",
       "      <th>24</th>\n",
       "      <td>2772</td>\n",
       "      <td>16135</td>\n",
       "      <td>18907</td>\n",
       "      <td>0.853388</td>\n",
       "    </tr>\n",
       "    <tr>\n",
       "      <th>12</th>\n",
       "      <td>1756</td>\n",
       "      <td>10401</td>\n",
       "      <td>12157</td>\n",
       "      <td>0.855556</td>\n",
       "    </tr>\n",
       "    <tr>\n",
       "      <th>4</th>\n",
       "      <td>1983</td>\n",
       "      <td>12445</td>\n",
       "      <td>14428</td>\n",
       "      <td>0.862559</td>\n",
       "    </tr>\n",
       "    <tr>\n",
       "      <th>0</th>\n",
       "      <td>1394</td>\n",
       "      <td>9931</td>\n",
       "      <td>11325</td>\n",
       "      <td>0.876909</td>\n",
       "    </tr>\n",
       "    <tr>\n",
       "      <th>10</th>\n",
       "      <td>1019</td>\n",
       "      <td>7625</td>\n",
       "      <td>8644</td>\n",
       "      <td>0.882115</td>\n",
       "    </tr>\n",
       "    <tr>\n",
       "      <th>8</th>\n",
       "      <td>1936</td>\n",
       "      <td>14545</td>\n",
       "      <td>16481</td>\n",
       "      <td>0.882531</td>\n",
       "    </tr>\n",
       "    <tr>\n",
       "      <th>11</th>\n",
       "      <td>1747</td>\n",
       "      <td>13914</td>\n",
       "      <td>15661</td>\n",
       "      <td>0.888449</td>\n",
       "    </tr>\n",
       "    <tr>\n",
       "      <th>26</th>\n",
       "      <td>1791</td>\n",
       "      <td>14370</td>\n",
       "      <td>16161</td>\n",
       "      <td>0.889178</td>\n",
       "    </tr>\n",
       "    <tr>\n",
       "      <th>29</th>\n",
       "      <td>1602</td>\n",
       "      <td>13076</td>\n",
       "      <td>14678</td>\n",
       "      <td>0.890857</td>\n",
       "    </tr>\n",
       "    <tr>\n",
       "      <th>28</th>\n",
       "      <td>976</td>\n",
       "      <td>9234</td>\n",
       "      <td>10210</td>\n",
       "      <td>0.904407</td>\n",
       "    </tr>\n",
       "    <tr>\n",
       "      <th>14</th>\n",
       "      <td>1027</td>\n",
       "      <td>10232</td>\n",
       "      <td>11259</td>\n",
       "      <td>0.908784</td>\n",
       "    </tr>\n",
       "    <tr>\n",
       "      <th>1</th>\n",
       "      <td>757</td>\n",
       "      <td>8664</td>\n",
       "      <td>9421</td>\n",
       "      <td>0.919648</td>\n",
       "    </tr>\n",
       "    <tr>\n",
       "      <th>9</th>\n",
       "      <td>877</td>\n",
       "      <td>10809</td>\n",
       "      <td>11686</td>\n",
       "      <td>0.924953</td>\n",
       "    </tr>\n",
       "    <tr>\n",
       "      <th>27</th>\n",
       "      <td>475</td>\n",
       "      <td>9177</td>\n",
       "      <td>9652</td>\n",
       "      <td>0.950787</td>\n",
       "    </tr>\n",
       "    <tr>\n",
       "      <th>6</th>\n",
       "      <td>340</td>\n",
       "      <td>9729</td>\n",
       "      <td>10069</td>\n",
       "      <td>0.966233</td>\n",
       "    </tr>\n",
       "    <tr>\n",
       "      <th>20</th>\n",
       "      <td>67</td>\n",
       "      <td>4080</td>\n",
       "      <td>4147</td>\n",
       "      <td>0.983844</td>\n",
       "    </tr>\n",
       "    <tr>\n",
       "      <th>25</th>\n",
       "      <td>67</td>\n",
       "      <td>4103</td>\n",
       "      <td>4170</td>\n",
       "      <td>0.983933</td>\n",
       "    </tr>\n",
       "  </tbody>\n",
       "</table>\n",
       "</div>"
      ],
      "text/plain": [
       "         fail  success  total     ratio\n",
       "cluster                                \n",
       "22       1683       41   1724  0.023782\n",
       "15        618       19    637  0.029827\n",
       "7        4804     5177   9981  0.518686\n",
       "16       4074     4998   9072  0.550926\n",
       "23       2498     3474   5972  0.581715\n",
       "18       1851     4132   5983  0.690623\n",
       "5        3948     8960  12908  0.694143\n",
       "19       2292     6110   8402  0.727208\n",
       "17       1728     4729   6457  0.732383\n",
       "13       3432     9844  13276  0.741488\n",
       "21       3003     9826  12829  0.765921\n",
       "2        3362    16948  20310  0.834466\n",
       "3        2635    14040  16675  0.841979\n",
       "24       2772    16135  18907  0.853388\n",
       "12       1756    10401  12157  0.855556\n",
       "4        1983    12445  14428  0.862559\n",
       "0        1394     9931  11325  0.876909\n",
       "10       1019     7625   8644  0.882115\n",
       "8        1936    14545  16481  0.882531\n",
       "11       1747    13914  15661  0.888449\n",
       "26       1791    14370  16161  0.889178\n",
       "29       1602    13076  14678  0.890857\n",
       "28        976     9234  10210  0.904407\n",
       "14       1027    10232  11259  0.908784\n",
       "1         757     8664   9421  0.919648\n",
       "9         877    10809  11686  0.924953\n",
       "27        475     9177   9652  0.950787\n",
       "6         340     9729  10069  0.966233\n",
       "20         67     4080   4147  0.983844\n",
       "25         67     4103   4170  0.983933"
      ]
     },
     "execution_count": 80,
     "metadata": {},
     "output_type": "execute_result"
    }
   ],
   "source": [
    "success_cluster.sort_values(by='ratio')"
   ]
  },
  {
   "cell_type": "code",
   "execution_count": 81,
   "id": "a5043818",
   "metadata": {
    "execution": {
     "iopub.execute_input": "2022-09-22T17:49:19.299570Z",
     "iopub.status.busy": "2022-09-22T17:49:19.298317Z",
     "iopub.status.idle": "2022-09-22T17:49:19.859837Z",
     "shell.execute_reply": "2022-09-22T17:49:19.858737Z"
    },
    "papermill": {
     "duration": 0.597588,
     "end_time": "2022-09-22T17:49:19.862566",
     "exception": false,
     "start_time": "2022-09-22T17:49:19.264978",
     "status": "completed"
    },
    "tags": []
   },
   "outputs": [
    {
     "data": {
      "image/png": "[encoded data removed]",
      "text/plain": [
       "<Figure size 1080x720 with 1 Axes>"
      ]
     },
     "metadata": {},
     "output_type": "display_data"
    }
   ],
   "source": [
    "passes = free_passes\n",
    "cluster = 16\n",
    "fig, ax = create_pitch(105, 68,'white')\n",
    "plt.scatter(passes[passes.clusterfp == cluster]['x'], (68 - passes[passes.clusterfp == cluster]['y']), c='red')\n",
    "plt.scatter(passes[passes.clusterfp == cluster]['end_x'], (68 - passes[passes.clusterfp == cluster]['end_y']), c='blue')\n",
    "for index, pass_ in clusters_f.iterrows():\n",
    "    if (index != cluster):\n",
    "        continue\n",
    "    x, y = pass_['x'], pass_['y']\n",
    "    end_x, end_y = pass_['end_x'], pass_['end_y']\n",
    "    color = 'blue' \n",
    "    y = 68 - y\n",
    "    end_y = 68 - end_y\n",
    "    plt.plot([x, end_x], [y, end_y], linewidth = 5)\n",
    "    plt.scatter(x, y, s=30, c='red')\n",
    "    plt.text((x+1),y+1,index, color = \"white\", fontweight = 'bold', fontsize = 'xx-large')\n",
    "    plt.savefig('gmm_cluster.png')"
   ]
  },
  {
   "cell_type": "markdown",
   "id": "71281a1e",
   "metadata": {
    "papermill": {
     "duration": 0.033508,
     "end_time": "2022-09-22T17:49:19.929726",
     "exception": false,
     "start_time": "2022-09-22T17:49:19.896218",
     "status": "completed"
    },
    "tags": []
   },
   "source": [
    "# 19 are passes that go back and to the corner? Crosses? Inverted?"
   ]
  },
  {
   "cell_type": "code",
   "execution_count": 82,
   "id": "ed4286d6",
   "metadata": {
    "execution": {
     "iopub.execute_input": "2022-09-22T17:49:20.003121Z",
     "iopub.status.busy": "2022-09-22T17:49:20.002612Z",
     "iopub.status.idle": "2022-09-22T17:49:20.542090Z",
     "shell.execute_reply": "2022-09-22T17:49:20.540468Z"
    },
    "papermill": {
     "duration": 0.580328,
     "end_time": "2022-09-22T17:49:20.544998",
     "exception": false,
     "start_time": "2022-09-22T17:49:19.964670",
     "status": "completed"
    },
    "tags": []
   },
   "outputs": [
    {
     "data": {
      "image/png": "[encoded data removed]",
      "text/plain": [
       "<Figure size 1080x720 with 1 Axes>"
      ]
     },
     "metadata": {},
     "output_type": "display_data"
    }
   ],
   "source": [
    "passes = free_passes\n",
    "cluster = 19\n",
    "fig, ax = create_pitch(105, 68,'white')\n",
    "plt.scatter(passes[passes.clusterfp == cluster]['x'], (68 - passes[passes.clusterfp == cluster]['y']), c='red')\n",
    "plt.scatter(passes[passes.clusterfp == cluster]['end_x'], (68 - passes[passes.clusterfp == cluster]['end_y']), c='blue')\n",
    "for index, pass_ in clusters_f.iterrows():\n",
    "    if (index != cluster):\n",
    "        continue\n",
    "    x, y = pass_['x'], pass_['y']\n",
    "    end_x, end_y = pass_['end_x'], pass_['end_y']\n",
    "    color = 'blue' \n",
    "    y = 68 - y\n",
    "    end_y = 68 - end_y\n",
    "    plt.plot([x, end_x], [y, end_y], linewidth = 5)\n",
    "    plt.scatter(x, y, s=30, c='red')\n",
    "    plt.text((x+1),y+1,index, color = \"white\", fontweight = 'bold', fontsize = 'xx-large')\n",
    "    plt.savefig('gmm_cluster.png')"
   ]
  },
  {
   "cell_type": "code",
   "execution_count": 83,
   "id": "c2d56316",
   "metadata": {
    "execution": {
     "iopub.execute_input": "2022-09-22T17:49:20.618173Z",
     "iopub.status.busy": "2022-09-22T17:49:20.617724Z",
     "iopub.status.idle": "2022-09-22T17:49:21.297647Z",
     "shell.execute_reply": "2022-09-22T17:49:21.296434Z"
    },
    "papermill": {
     "duration": 0.720765,
     "end_time": "2022-09-22T17:49:21.300518",
     "exception": false,
     "start_time": "2022-09-22T17:49:20.579753",
     "status": "completed"
    },
    "tags": []
   },
   "outputs": [
    {
     "data": {
      "image/png": "[encoded data removed]",
      "text/plain": [
       "<Figure size 1080x720 with 1 Axes>"
      ]
     },
     "metadata": {},
     "output_type": "display_data"
    }
   ],
   "source": [
    "cluster = 2\n",
    "fig, ax = create_pitch(105, 68,'white')\n",
    "plt.scatter(passes[passes.clusterfp == cluster]['x'], (68 - passes[passes.clusterfp == cluster]['y']), c='red')\n",
    "plt.scatter(passes[passes.clusterfp == cluster]['end_x'], (68 - passes[passes.clusterfp == cluster]['end_y']), c='blue')\n",
    "for index, pass_ in clusters_f.iterrows():\n",
    "    if (index != cluster):\n",
    "        continue\n",
    "    x, y = pass_['x'], pass_['y']\n",
    "    end_x, end_y = pass_['end_x'], pass_['end_y']\n",
    "    color = 'blue' \n",
    "    y = 68 - y\n",
    "    end_y = 68 - end_y\n",
    "    plt.plot([x, end_x], [y, end_y], linewidth = 5)\n",
    "    plt.scatter(x, y, s=30, c='red')\n",
    "    plt.text((x+1),y+1,index, color = \"white\", fontweight = 'bold', fontsize = 'xx-large')\n",
    "    plt.savefig('gmm_cluster.png')"
   ]
  },
  {
   "cell_type": "code",
   "execution_count": 84,
   "id": "aeead2fa",
   "metadata": {
    "execution": {
     "iopub.execute_input": "2022-09-22T17:49:21.373352Z",
     "iopub.status.busy": "2022-09-22T17:49:21.372902Z",
     "iopub.status.idle": "2022-09-22T17:49:21.893669Z",
     "shell.execute_reply": "2022-09-22T17:49:21.892497Z"
    },
    "papermill": {
     "duration": 0.56107,
     "end_time": "2022-09-22T17:49:21.896750",
     "exception": false,
     "start_time": "2022-09-22T17:49:21.335680",
     "status": "completed"
    },
    "tags": []
   },
   "outputs": [
    {
     "data": {
      "image/png": "[encoded data removed]",
      "text/plain": [
       "<Figure size 1080x720 with 1 Axes>"
      ]
     },
     "metadata": {},
     "output_type": "display_data"
    }
   ],
   "source": [
    "cluster = 18\n",
    "fig, ax = create_pitch(105, 68,'white')\n",
    "plt.scatter(passes[passes.clusterfp == cluster]['x'], (68 - passes[passes.clusterfp == cluster]['y']), c='red')\n",
    "plt.scatter(passes[passes.clusterfp == cluster]['end_x'], (68 - passes[passes.clusterfp == cluster]['end_y']), c='blue')\n",
    "for index, pass_ in clusters_f.iterrows():\n",
    "    if (index != cluster):\n",
    "        continue\n",
    "    x, y = pass_['x'], pass_['y']\n",
    "    end_x, end_y = pass_['end_x'], pass_['end_y']\n",
    "    color = 'blue' \n",
    "    y = 68 - y\n",
    "    end_y = 68 - end_y\n",
    "    plt.plot([x, end_x], [y, end_y], linewidth = 5)\n",
    "    plt.scatter(x, y, s=30, c='red')\n",
    "    plt.text((x+1),y+1,index, color = \"white\", fontweight = 'bold', fontsize = 'xx-large')\n",
    "    plt.savefig('gmm_cluster.png')"
   ]
  },
  {
   "cell_type": "code",
   "execution_count": 85,
   "id": "b09eab8f",
   "metadata": {
    "execution": {
     "iopub.execute_input": "2022-09-22T17:49:21.977288Z",
     "iopub.status.busy": "2022-09-22T17:49:21.974587Z",
     "iopub.status.idle": "2022-09-22T17:49:22.379850Z",
     "shell.execute_reply": "2022-09-22T17:49:22.378525Z"
    },
    "papermill": {
     "duration": 0.447897,
     "end_time": "2022-09-22T17:49:22.382218",
     "exception": false,
     "start_time": "2022-09-22T17:49:21.934321",
     "status": "completed"
    },
    "tags": []
   },
   "outputs": [
    {
     "data": {
      "image/png": "[encoded data removed]",
      "text/plain": [
       "<Figure size 1080x720 with 1 Axes>"
      ]
     },
     "metadata": {},
     "output_type": "display_data"
    }
   ],
   "source": [
    "cluster = 15\n",
    "fig, ax = create_pitch(105, 68,'white')\n",
    "plt.scatter(passes[passes.clusterfp == cluster]['x'], (68 - passes[passes.clusterfp == cluster]['y']), c='red')\n",
    "plt.scatter(passes[passes.clusterfp == cluster]['end_x'], (68 - passes[passes.clusterfp == cluster]['end_y']), c='blue')\n",
    "for index, pass_ in clusters_f.iterrows():\n",
    "    if (index != cluster):\n",
    "        continue\n",
    "    x, y = pass_['x'], pass_['y']\n",
    "    end_x, end_y = pass_['end_x'], pass_['end_y']\n",
    "    color = 'blue' \n",
    "    y = 68 - y\n",
    "    end_y = 68 - end_y\n",
    "    plt.plot([x, end_x], [y, end_y], linewidth = 5)\n",
    "    plt.scatter(x, y, s=30, c='red')\n",
    "    plt.text((x+1),y+1,index, color = \"white\", fontweight = 'bold', fontsize = 'xx-large')\n",
    "    plt.savefig('gmm_cluster.png')"
   ]
  },
  {
   "cell_type": "code",
   "execution_count": 86,
   "id": "d46f7844",
   "metadata": {
    "execution": {
     "iopub.execute_input": "2022-09-22T17:49:22.459872Z",
     "iopub.status.busy": "2022-09-22T17:49:22.459426Z",
     "iopub.status.idle": "2022-09-22T17:49:23.007272Z",
     "shell.execute_reply": "2022-09-22T17:49:23.006046Z"
    },
    "papermill": {
     "duration": 0.590021,
     "end_time": "2022-09-22T17:49:23.009988",
     "exception": false,
     "start_time": "2022-09-22T17:49:22.419967",
     "status": "completed"
    },
    "tags": []
   },
   "outputs": [
    {
     "data": {
      "image/png": "[encoded data removed]",
      "text/plain": [
       "<Figure size 1080x720 with 1 Axes>"
      ]
     },
     "metadata": {},
     "output_type": "display_data"
    }
   ],
   "source": [
    "cluster = 1\n",
    "fig, ax = create_pitch(105, 68,'white')\n",
    "plt.scatter(passes[passes.clusterfp == cluster]['x'], (68 - passes[passes.clusterfp == cluster]['y']), c='red')\n",
    "plt.scatter(passes[passes.clusterfp == cluster]['end_x'], (68 - passes[passes.clusterfp == cluster]['end_y']), c='blue')\n",
    "for index, pass_ in clusters_f.iterrows():\n",
    "    if (index != cluster):\n",
    "        continue\n",
    "    x, y = pass_['x'], pass_['y']\n",
    "    end_x, end_y = pass_['end_x'], pass_['end_y']\n",
    "    color = 'blue' \n",
    "    y = 68 - y\n",
    "    end_y = 68 - end_y\n",
    "    plt.plot([x, end_x], [y, end_y], linewidth = 5)\n",
    "    plt.scatter(x, y, s=30, c='red')\n",
    "    plt.text((x+1),y+1,index, color = \"white\", fontweight = 'bold', fontsize = 'xx-large')\n",
    "    plt.savefig('gmm_cluster.png')"
   ]
  },
  {
   "cell_type": "code",
   "execution_count": 87,
   "id": "056d1313",
   "metadata": {
    "execution": {
     "iopub.execute_input": "2022-09-22T17:49:23.088035Z",
     "iopub.status.busy": "2022-09-22T17:49:23.087620Z",
     "iopub.status.idle": "2022-09-22T17:49:23.727536Z",
     "shell.execute_reply": "2022-09-22T17:49:23.726395Z"
    },
    "papermill": {
     "duration": 0.681509,
     "end_time": "2022-09-22T17:49:23.730130",
     "exception": false,
     "start_time": "2022-09-22T17:49:23.048621",
     "status": "completed"
    },
    "tags": []
   },
   "outputs": [
    {
     "data": {
      "image/png": "[encoded data removed]",
      "text/plain": [
       "<Figure size 1080x720 with 1 Axes>"
      ]
     },
     "metadata": {},
     "output_type": "display_data"
    }
   ],
   "source": [
    "cluster = 8\n",
    "fig, ax = create_pitch(105, 68,'white')\n",
    "plt.scatter(passes[passes.clusterfp == cluster]['x'], (68 - passes[passes.clusterfp == cluster]['y']), c='red')\n",
    "plt.scatter(passes[passes.clusterfp == cluster]['end_x'], (68 - passes[passes.clusterfp == cluster]['end_y']), c='blue')\n",
    "for index, pass_ in clusters_f.iterrows():\n",
    "    if (index != cluster):\n",
    "        continue\n",
    "    x, y = pass_['x'], pass_['y']\n",
    "    end_x, end_y = pass_['end_x'], pass_['end_y']\n",
    "    color = 'blue' \n",
    "    y = 68 - y\n",
    "    end_y = 68 - end_y\n",
    "    plt.plot([x, end_x], [y, end_y], linewidth = 5)\n",
    "    plt.scatter(x, y, s=30, c='red')\n",
    "    plt.text((x+1),y+1,index, color = \"white\", fontweight = 'bold', fontsize = 'xx-large')\n",
    "    plt.savefig('gmm_cluster.png')"
   ]
  },
  {
   "cell_type": "code",
   "execution_count": 88,
   "id": "6b3a5953",
   "metadata": {
    "execution": {
     "iopub.execute_input": "2022-09-22T17:49:23.811594Z",
     "iopub.status.busy": "2022-09-22T17:49:23.810592Z",
     "iopub.status.idle": "2022-09-22T17:49:23.831453Z",
     "shell.execute_reply": "2022-09-22T17:49:23.830333Z"
    },
    "papermill": {
     "duration": 0.064141,
     "end_time": "2022-09-22T17:49:23.834113",
     "exception": false,
     "start_time": "2022-09-22T17:49:23.769972",
     "status": "completed"
    },
    "tags": []
   },
   "outputs": [
    {
     "data": {
      "text/plain": [
       "Index(['event_id', 'event_type', 'result', 'success', 'period_id', 'timestamp',\n",
       "       'end_timestamp', 'ball_state', 'ball_owning_team', 'team_id',\n",
       "       'player_id', 'coordinates_x', 'coordinates_y', 'end_coordinates_x',\n",
       "       'end_coordinates_y', 'receiver_player_id', 'is_counter_attack',\n",
       "       'pass_type', 'body_part_type', 'set_piece_type',\n",
       "       'goalkeeper_action_type', 'card_type', 'x', 'y', 'end_x', 'end_y',\n",
       "       'cluster', 'team', 'clusterfp'],\n",
       "      dtype='object')"
      ]
     },
     "execution_count": 88,
     "metadata": {},
     "output_type": "execute_result"
    }
   ],
   "source": [
    "free_passes[free_passes['clusterfp']==19].columns"
   ]
  },
  {
   "cell_type": "code",
   "execution_count": 89,
   "id": "57c97594",
   "metadata": {
    "execution": {
     "iopub.execute_input": "2022-09-22T17:49:23.916255Z",
     "iopub.status.busy": "2022-09-22T17:49:23.915655Z",
     "iopub.status.idle": "2022-09-22T17:49:23.942096Z",
     "shell.execute_reply": "2022-09-22T17:49:23.940789Z"
    },
    "papermill": {
     "duration": 0.07198,
     "end_time": "2022-09-22T17:49:23.945161",
     "exception": false,
     "start_time": "2022-09-22T17:49:23.873181",
     "status": "completed"
    },
    "tags": []
   },
   "outputs": [
    {
     "data": {
      "text/html": [
       "<div>\n",
       "<style scoped>\n",
       "    .dataframe tbody tr th:only-of-type {\n",
       "        vertical-align: middle;\n",
       "    }\n",
       "\n",
       "    .dataframe tbody tr th {\n",
       "        vertical-align: top;\n",
       "    }\n",
       "\n",
       "    .dataframe thead th {\n",
       "        text-align: right;\n",
       "    }\n",
       "</style>\n",
       "<table border=\"1\" class=\"dataframe\">\n",
       "  <thead>\n",
       "    <tr style=\"text-align: right;\">\n",
       "      <th></th>\n",
       "      <th>pass_type</th>\n",
       "      <th>ball_state</th>\n",
       "    </tr>\n",
       "  </thead>\n",
       "  <tbody>\n",
       "    <tr>\n",
       "      <th>3</th>\n",
       "      <td>HIGH_PASS</td>\n",
       "      <td>None</td>\n",
       "    </tr>\n",
       "    <tr>\n",
       "      <th>88</th>\n",
       "      <td>HIGH_PASS</td>\n",
       "      <td>None</td>\n",
       "    </tr>\n",
       "    <tr>\n",
       "      <th>224</th>\n",
       "      <td>SIMPLE_PASS</td>\n",
       "      <td>None</td>\n",
       "    </tr>\n",
       "    <tr>\n",
       "      <th>252</th>\n",
       "      <td>HIGH_PASS</td>\n",
       "      <td>None</td>\n",
       "    </tr>\n",
       "    <tr>\n",
       "      <th>265</th>\n",
       "      <td>HIGH_PASS</td>\n",
       "      <td>None</td>\n",
       "    </tr>\n",
       "    <tr>\n",
       "      <th>...</th>\n",
       "      <td>...</td>\n",
       "      <td>...</td>\n",
       "    </tr>\n",
       "    <tr>\n",
       "      <th>1364</th>\n",
       "      <td>HIGH_PASS</td>\n",
       "      <td>None</td>\n",
       "    </tr>\n",
       "    <tr>\n",
       "      <th>1473</th>\n",
       "      <td>SIMPLE_PASS</td>\n",
       "      <td>None</td>\n",
       "    </tr>\n",
       "    <tr>\n",
       "      <th>1509</th>\n",
       "      <td>SIMPLE_PASS</td>\n",
       "      <td>None</td>\n",
       "    </tr>\n",
       "    <tr>\n",
       "      <th>1558</th>\n",
       "      <td>SIMPLE_PASS</td>\n",
       "      <td>None</td>\n",
       "    </tr>\n",
       "    <tr>\n",
       "      <th>1693</th>\n",
       "      <td>LAUNCH</td>\n",
       "      <td>None</td>\n",
       "    </tr>\n",
       "  </tbody>\n",
       "</table>\n",
       "<p>8402 rows × 2 columns</p>\n",
       "</div>"
      ],
      "text/plain": [
       "        pass_type ball_state\n",
       "3       HIGH_PASS       None\n",
       "88      HIGH_PASS       None\n",
       "224   SIMPLE_PASS       None\n",
       "252     HIGH_PASS       None\n",
       "265     HIGH_PASS       None\n",
       "...           ...        ...\n",
       "1364    HIGH_PASS       None\n",
       "1473  SIMPLE_PASS       None\n",
       "1509  SIMPLE_PASS       None\n",
       "1558  SIMPLE_PASS       None\n",
       "1693       LAUNCH       None\n",
       "\n",
       "[8402 rows x 2 columns]"
      ]
     },
     "execution_count": 89,
     "metadata": {},
     "output_type": "execute_result"
    }
   ],
   "source": [
    "free_passes[free_passes['clusterfp']==19][['pass_type', 'ball_state']]"
   ]
  },
  {
   "cell_type": "code",
   "execution_count": 90,
   "id": "666c4890",
   "metadata": {
    "execution": {
     "iopub.execute_input": "2022-09-22T17:49:24.029207Z",
     "iopub.status.busy": "2022-09-22T17:49:24.028790Z",
     "iopub.status.idle": "2022-09-22T17:49:24.095759Z",
     "shell.execute_reply": "2022-09-22T17:49:24.094325Z"
    },
    "papermill": {
     "duration": 0.11124,
     "end_time": "2022-09-22T17:49:24.098347",
     "exception": false,
     "start_time": "2022-09-22T17:49:23.987107",
     "status": "completed"
    },
    "tags": []
   },
   "outputs": [],
   "source": [
    "team_clusters = passes.groupby(['clusterfp', 'team', 'success']).size().reset_index()\n",
    "team_clusters.columns = ['cluster', 'team', 'success', 'passes']"
   ]
  },
  {
   "cell_type": "code",
   "execution_count": 91,
   "id": "71315576",
   "metadata": {
    "execution": {
     "iopub.execute_input": "2022-09-22T17:49:24.180385Z",
     "iopub.status.busy": "2022-09-22T17:49:24.179933Z",
     "iopub.status.idle": "2022-09-22T17:49:24.200103Z",
     "shell.execute_reply": "2022-09-22T17:49:24.198989Z"
    },
    "papermill": {
     "duration": 0.063751,
     "end_time": "2022-09-22T17:49:24.202400",
     "exception": false,
     "start_time": "2022-09-22T17:49:24.138649",
     "status": "completed"
    },
    "tags": []
   },
   "outputs": [
    {
     "data": {
      "text/html": [
       "<div>\n",
       "<style scoped>\n",
       "    .dataframe tbody tr th:only-of-type {\n",
       "        vertical-align: middle;\n",
       "    }\n",
       "\n",
       "    .dataframe tbody tr th {\n",
       "        vertical-align: top;\n",
       "    }\n",
       "\n",
       "    .dataframe thead th {\n",
       "        text-align: right;\n",
       "    }\n",
       "</style>\n",
       "<table border=\"1\" class=\"dataframe\">\n",
       "  <thead>\n",
       "    <tr style=\"text-align: right;\">\n",
       "      <th></th>\n",
       "      <th>cluster</th>\n",
       "      <th>team</th>\n",
       "      <th>success</th>\n",
       "      <th>passes</th>\n",
       "    </tr>\n",
       "  </thead>\n",
       "  <tbody>\n",
       "    <tr>\n",
       "      <th>21</th>\n",
       "      <td>0</td>\n",
       "      <td>Manchester City FC</td>\n",
       "      <td>True</td>\n",
       "      <td>944</td>\n",
       "    </tr>\n",
       "    <tr>\n",
       "      <th>19</th>\n",
       "      <td>0</td>\n",
       "      <td>Liverpool FC</td>\n",
       "      <td>True</td>\n",
       "      <td>759</td>\n",
       "    </tr>\n",
       "    <tr>\n",
       "      <th>3</th>\n",
       "      <td>0</td>\n",
       "      <td>Arsenal FC</td>\n",
       "      <td>True</td>\n",
       "      <td>732</td>\n",
       "    </tr>\n",
       "    <tr>\n",
       "      <th>23</th>\n",
       "      <td>0</td>\n",
       "      <td>Manchester United FC</td>\n",
       "      <td>True</td>\n",
       "      <td>664</td>\n",
       "    </tr>\n",
       "    <tr>\n",
       "      <th>33</th>\n",
       "      <td>0</td>\n",
       "      <td>Tottenham Hotspur FC</td>\n",
       "      <td>True</td>\n",
       "      <td>648</td>\n",
       "    </tr>\n",
       "    <tr>\n",
       "      <th>9</th>\n",
       "      <td>0</td>\n",
       "      <td>Chelsea FC</td>\n",
       "      <td>True</td>\n",
       "      <td>644</td>\n",
       "    </tr>\n",
       "    <tr>\n",
       "      <th>27</th>\n",
       "      <td>0</td>\n",
       "      <td>Southampton FC</td>\n",
       "      <td>True</td>\n",
       "      <td>482</td>\n",
       "    </tr>\n",
       "    <tr>\n",
       "      <th>31</th>\n",
       "      <td>0</td>\n",
       "      <td>Swansea City AFC</td>\n",
       "      <td>True</td>\n",
       "      <td>441</td>\n",
       "    </tr>\n",
       "    <tr>\n",
       "      <th>25</th>\n",
       "      <td>0</td>\n",
       "      <td>Newcastle United FC</td>\n",
       "      <td>True</td>\n",
       "      <td>431</td>\n",
       "    </tr>\n",
       "    <tr>\n",
       "      <th>1</th>\n",
       "      <td>0</td>\n",
       "      <td>AFC Bournemouth</td>\n",
       "      <td>True</td>\n",
       "      <td>421</td>\n",
       "    </tr>\n",
       "    <tr>\n",
       "      <th>35</th>\n",
       "      <td>0</td>\n",
       "      <td>Watford FC</td>\n",
       "      <td>True</td>\n",
       "      <td>408</td>\n",
       "    </tr>\n",
       "    <tr>\n",
       "      <th>11</th>\n",
       "      <td>0</td>\n",
       "      <td>Crystal Palace FC</td>\n",
       "      <td>True</td>\n",
       "      <td>399</td>\n",
       "    </tr>\n",
       "    <tr>\n",
       "      <th>17</th>\n",
       "      <td>0</td>\n",
       "      <td>Leicester City FC</td>\n",
       "      <td>True</td>\n",
       "      <td>394</td>\n",
       "    </tr>\n",
       "    <tr>\n",
       "      <th>13</th>\n",
       "      <td>0</td>\n",
       "      <td>Everton FC</td>\n",
       "      <td>True</td>\n",
       "      <td>390</td>\n",
       "    </tr>\n",
       "    <tr>\n",
       "      <th>37</th>\n",
       "      <td>0</td>\n",
       "      <td>West Bromwich Albion FC</td>\n",
       "      <td>True</td>\n",
       "      <td>385</td>\n",
       "    </tr>\n",
       "    <tr>\n",
       "      <th>7</th>\n",
       "      <td>0</td>\n",
       "      <td>Burnley FC</td>\n",
       "      <td>True</td>\n",
       "      <td>380</td>\n",
       "    </tr>\n",
       "    <tr>\n",
       "      <th>5</th>\n",
       "      <td>0</td>\n",
       "      <td>Brighton &amp; Hove Albion FC</td>\n",
       "      <td>True</td>\n",
       "      <td>371</td>\n",
       "    </tr>\n",
       "    <tr>\n",
       "      <th>15</th>\n",
       "      <td>0</td>\n",
       "      <td>Huddersfield Town FC</td>\n",
       "      <td>True</td>\n",
       "      <td>353</td>\n",
       "    </tr>\n",
       "    <tr>\n",
       "      <th>29</th>\n",
       "      <td>0</td>\n",
       "      <td>Stoke City FC</td>\n",
       "      <td>True</td>\n",
       "      <td>346</td>\n",
       "    </tr>\n",
       "    <tr>\n",
       "      <th>39</th>\n",
       "      <td>0</td>\n",
       "      <td>West Ham United FC</td>\n",
       "      <td>True</td>\n",
       "      <td>339</td>\n",
       "    </tr>\n",
       "    <tr>\n",
       "      <th>14</th>\n",
       "      <td>0</td>\n",
       "      <td>Huddersfield Town FC</td>\n",
       "      <td>False</td>\n",
       "      <td>94</td>\n",
       "    </tr>\n",
       "    <tr>\n",
       "      <th>0</th>\n",
       "      <td>0</td>\n",
       "      <td>AFC Bournemouth</td>\n",
       "      <td>False</td>\n",
       "      <td>91</td>\n",
       "    </tr>\n",
       "    <tr>\n",
       "      <th>36</th>\n",
       "      <td>0</td>\n",
       "      <td>West Bromwich Albion FC</td>\n",
       "      <td>False</td>\n",
       "      <td>89</td>\n",
       "    </tr>\n",
       "    <tr>\n",
       "      <th>4</th>\n",
       "      <td>0</td>\n",
       "      <td>Brighton &amp; Hove Albion FC</td>\n",
       "      <td>False</td>\n",
       "      <td>84</td>\n",
       "    </tr>\n",
       "    <tr>\n",
       "      <th>2</th>\n",
       "      <td>0</td>\n",
       "      <td>Arsenal FC</td>\n",
       "      <td>False</td>\n",
       "      <td>83</td>\n",
       "    </tr>\n",
       "    <tr>\n",
       "      <th>24</th>\n",
       "      <td>0</td>\n",
       "      <td>Newcastle United FC</td>\n",
       "      <td>False</td>\n",
       "      <td>80</td>\n",
       "    </tr>\n",
       "    <tr>\n",
       "      <th>12</th>\n",
       "      <td>0</td>\n",
       "      <td>Everton FC</td>\n",
       "      <td>False</td>\n",
       "      <td>79</td>\n",
       "    </tr>\n",
       "    <tr>\n",
       "      <th>16</th>\n",
       "      <td>0</td>\n",
       "      <td>Leicester City FC</td>\n",
       "      <td>False</td>\n",
       "      <td>72</td>\n",
       "    </tr>\n",
       "    <tr>\n",
       "      <th>6</th>\n",
       "      <td>0</td>\n",
       "      <td>Burnley FC</td>\n",
       "      <td>False</td>\n",
       "      <td>71</td>\n",
       "    </tr>\n",
       "    <tr>\n",
       "      <th>38</th>\n",
       "      <td>0</td>\n",
       "      <td>West Ham United FC</td>\n",
       "      <td>False</td>\n",
       "      <td>67</td>\n",
       "    </tr>\n",
       "    <tr>\n",
       "      <th>30</th>\n",
       "      <td>0</td>\n",
       "      <td>Swansea City AFC</td>\n",
       "      <td>False</td>\n",
       "      <td>65</td>\n",
       "    </tr>\n",
       "    <tr>\n",
       "      <th>10</th>\n",
       "      <td>0</td>\n",
       "      <td>Crystal Palace FC</td>\n",
       "      <td>False</td>\n",
       "      <td>64</td>\n",
       "    </tr>\n",
       "    <tr>\n",
       "      <th>34</th>\n",
       "      <td>0</td>\n",
       "      <td>Watford FC</td>\n",
       "      <td>False</td>\n",
       "      <td>63</td>\n",
       "    </tr>\n",
       "    <tr>\n",
       "      <th>8</th>\n",
       "      <td>0</td>\n",
       "      <td>Chelsea FC</td>\n",
       "      <td>False</td>\n",
       "      <td>62</td>\n",
       "    </tr>\n",
       "    <tr>\n",
       "      <th>18</th>\n",
       "      <td>0</td>\n",
       "      <td>Liverpool FC</td>\n",
       "      <td>False</td>\n",
       "      <td>60</td>\n",
       "    </tr>\n",
       "    <tr>\n",
       "      <th>32</th>\n",
       "      <td>0</td>\n",
       "      <td>Tottenham Hotspur FC</td>\n",
       "      <td>False</td>\n",
       "      <td>60</td>\n",
       "    </tr>\n",
       "    <tr>\n",
       "      <th>20</th>\n",
       "      <td>0</td>\n",
       "      <td>Manchester City FC</td>\n",
       "      <td>False</td>\n",
       "      <td>57</td>\n",
       "    </tr>\n",
       "    <tr>\n",
       "      <th>26</th>\n",
       "      <td>0</td>\n",
       "      <td>Southampton FC</td>\n",
       "      <td>False</td>\n",
       "      <td>56</td>\n",
       "    </tr>\n",
       "    <tr>\n",
       "      <th>28</th>\n",
       "      <td>0</td>\n",
       "      <td>Stoke City FC</td>\n",
       "      <td>False</td>\n",
       "      <td>49</td>\n",
       "    </tr>\n",
       "    <tr>\n",
       "      <th>22</th>\n",
       "      <td>0</td>\n",
       "      <td>Manchester United FC</td>\n",
       "      <td>False</td>\n",
       "      <td>48</td>\n",
       "    </tr>\n",
       "    <tr>\n",
       "      <th>61</th>\n",
       "      <td>1</td>\n",
       "      <td>Manchester City FC</td>\n",
       "      <td>True</td>\n",
       "      <td>896</td>\n",
       "    </tr>\n",
       "    <tr>\n",
       "      <th>59</th>\n",
       "      <td>1</td>\n",
       "      <td>Liverpool FC</td>\n",
       "      <td>True</td>\n",
       "      <td>722</td>\n",
       "    </tr>\n",
       "    <tr>\n",
       "      <th>73</th>\n",
       "      <td>1</td>\n",
       "      <td>Tottenham Hotspur FC</td>\n",
       "      <td>True</td>\n",
       "      <td>681</td>\n",
       "    </tr>\n",
       "    <tr>\n",
       "      <th>43</th>\n",
       "      <td>1</td>\n",
       "      <td>Arsenal FC</td>\n",
       "      <td>True</td>\n",
       "      <td>657</td>\n",
       "    </tr>\n",
       "    <tr>\n",
       "      <th>49</th>\n",
       "      <td>1</td>\n",
       "      <td>Chelsea FC</td>\n",
       "      <td>True</td>\n",
       "      <td>615</td>\n",
       "    </tr>\n",
       "    <tr>\n",
       "      <th>63</th>\n",
       "      <td>1</td>\n",
       "      <td>Manchester United FC</td>\n",
       "      <td>True</td>\n",
       "      <td>573</td>\n",
       "    </tr>\n",
       "    <tr>\n",
       "      <th>67</th>\n",
       "      <td>1</td>\n",
       "      <td>Southampton FC</td>\n",
       "      <td>True</td>\n",
       "      <td>488</td>\n",
       "    </tr>\n",
       "    <tr>\n",
       "      <th>75</th>\n",
       "      <td>1</td>\n",
       "      <td>Watford FC</td>\n",
       "      <td>True</td>\n",
       "      <td>378</td>\n",
       "    </tr>\n",
       "    <tr>\n",
       "      <th>71</th>\n",
       "      <td>1</td>\n",
       "      <td>Swansea City AFC</td>\n",
       "      <td>True</td>\n",
       "      <td>354</td>\n",
       "    </tr>\n",
       "    <tr>\n",
       "      <th>69</th>\n",
       "      <td>1</td>\n",
       "      <td>Stoke City FC</td>\n",
       "      <td>True</td>\n",
       "      <td>337</td>\n",
       "    </tr>\n",
       "  </tbody>\n",
       "</table>\n",
       "</div>"
      ],
      "text/plain": [
       "    cluster                       team  success  passes\n",
       "21        0         Manchester City FC     True     944\n",
       "19        0               Liverpool FC     True     759\n",
       "3         0                 Arsenal FC     True     732\n",
       "23        0       Manchester United FC     True     664\n",
       "33        0       Tottenham Hotspur FC     True     648\n",
       "9         0                 Chelsea FC     True     644\n",
       "27        0             Southampton FC     True     482\n",
       "31        0           Swansea City AFC     True     441\n",
       "25        0        Newcastle United FC     True     431\n",
       "1         0            AFC Bournemouth     True     421\n",
       "35        0                 Watford FC     True     408\n",
       "11        0          Crystal Palace FC     True     399\n",
       "17        0          Leicester City FC     True     394\n",
       "13        0                 Everton FC     True     390\n",
       "37        0    West Bromwich Albion FC     True     385\n",
       "7         0                 Burnley FC     True     380\n",
       "5         0  Brighton & Hove Albion FC     True     371\n",
       "15        0       Huddersfield Town FC     True     353\n",
       "29        0              Stoke City FC     True     346\n",
       "39        0         West Ham United FC     True     339\n",
       "14        0       Huddersfield Town FC    False      94\n",
       "0         0            AFC Bournemouth    False      91\n",
       "36        0    West Bromwich Albion FC    False      89\n",
       "4         0  Brighton & Hove Albion FC    False      84\n",
       "2         0                 Arsenal FC    False      83\n",
       "24        0        Newcastle United FC    False      80\n",
       "12        0                 Everton FC    False      79\n",
       "16        0          Leicester City FC    False      72\n",
       "6         0                 Burnley FC    False      71\n",
       "38        0         West Ham United FC    False      67\n",
       "30        0           Swansea City AFC    False      65\n",
       "10        0          Crystal Palace FC    False      64\n",
       "34        0                 Watford FC    False      63\n",
       "8         0                 Chelsea FC    False      62\n",
       "18        0               Liverpool FC    False      60\n",
       "32        0       Tottenham Hotspur FC    False      60\n",
       "20        0         Manchester City FC    False      57\n",
       "26        0             Southampton FC    False      56\n",
       "28        0              Stoke City FC    False      49\n",
       "22        0       Manchester United FC    False      48\n",
       "61        1         Manchester City FC     True     896\n",
       "59        1               Liverpool FC     True     722\n",
       "73        1       Tottenham Hotspur FC     True     681\n",
       "43        1                 Arsenal FC     True     657\n",
       "49        1                 Chelsea FC     True     615\n",
       "63        1       Manchester United FC     True     573\n",
       "67        1             Southampton FC     True     488\n",
       "75        1                 Watford FC     True     378\n",
       "71        1           Swansea City AFC     True     354\n",
       "69        1              Stoke City FC     True     337"
      ]
     },
     "execution_count": 91,
     "metadata": {},
     "output_type": "execute_result"
    }
   ],
   "source": [
    "team_clusters.sort_values(by=['cluster', 'passes'], ascending=[True, False]).head(50)"
   ]
  },
  {
   "cell_type": "code",
   "execution_count": 92,
   "id": "1933354f",
   "metadata": {
    "execution": {
     "iopub.execute_input": "2022-09-22T17:49:24.286336Z",
     "iopub.status.busy": "2022-09-22T17:49:24.285634Z",
     "iopub.status.idle": "2022-09-22T17:49:24.311615Z",
     "shell.execute_reply": "2022-09-22T17:49:24.310515Z"
    },
    "papermill": {
     "duration": 0.069902,
     "end_time": "2022-09-22T17:49:24.313917",
     "exception": false,
     "start_time": "2022-09-22T17:49:24.244015",
     "status": "completed"
    },
    "tags": []
   },
   "outputs": [
    {
     "data": {
      "text/html": [
       "<div>\n",
       "<style scoped>\n",
       "    .dataframe tbody tr th:only-of-type {\n",
       "        vertical-align: middle;\n",
       "    }\n",
       "\n",
       "    .dataframe tbody tr th {\n",
       "        vertical-align: top;\n",
       "    }\n",
       "\n",
       "    .dataframe thead th {\n",
       "        text-align: right;\n",
       "    }\n",
       "</style>\n",
       "<table border=\"1\" class=\"dataframe\">\n",
       "  <thead>\n",
       "    <tr style=\"text-align: right;\">\n",
       "      <th></th>\n",
       "      <th>team</th>\n",
       "      <th>fail</th>\n",
       "      <th>success</th>\n",
       "      <th>total</th>\n",
       "      <th>ratio</th>\n",
       "      <th>total_rank</th>\n",
       "    </tr>\n",
       "  </thead>\n",
       "  <tbody>\n",
       "    <tr>\n",
       "      <th>14</th>\n",
       "      <td>Huddersfield Town FC</td>\n",
       "      <td>191</td>\n",
       "      <td>160</td>\n",
       "      <td>351</td>\n",
       "      <td>0.455840</td>\n",
       "      <td>15</td>\n",
       "    </tr>\n",
       "    <tr>\n",
       "      <th>18</th>\n",
       "      <td>Swansea City AFC</td>\n",
       "      <td>171</td>\n",
       "      <td>158</td>\n",
       "      <td>329</td>\n",
       "      <td>0.480243</td>\n",
       "      <td>19</td>\n",
       "    </tr>\n",
       "    <tr>\n",
       "      <th>8</th>\n",
       "      <td>Leicester City FC</td>\n",
       "      <td>241</td>\n",
       "      <td>223</td>\n",
       "      <td>464</td>\n",
       "      <td>0.480603</td>\n",
       "      <td>9</td>\n",
       "    </tr>\n",
       "    <tr>\n",
       "      <th>12</th>\n",
       "      <td>West Ham United FC</td>\n",
       "      <td>187</td>\n",
       "      <td>181</td>\n",
       "      <td>368</td>\n",
       "      <td>0.491848</td>\n",
       "      <td>13</td>\n",
       "    </tr>\n",
       "    <tr>\n",
       "      <th>17</th>\n",
       "      <td>Stoke City FC</td>\n",
       "      <td>172</td>\n",
       "      <td>172</td>\n",
       "      <td>344</td>\n",
       "      <td>0.500000</td>\n",
       "      <td>18</td>\n",
       "    </tr>\n",
       "    <tr>\n",
       "      <th>7</th>\n",
       "      <td>Southampton FC</td>\n",
       "      <td>224</td>\n",
       "      <td>242</td>\n",
       "      <td>466</td>\n",
       "      <td>0.519313</td>\n",
       "      <td>8</td>\n",
       "    </tr>\n",
       "    <tr>\n",
       "      <th>15</th>\n",
       "      <td>West Bromwich Albion FC</td>\n",
       "      <td>165</td>\n",
       "      <td>183</td>\n",
       "      <td>348</td>\n",
       "      <td>0.525862</td>\n",
       "      <td>16</td>\n",
       "    </tr>\n",
       "    <tr>\n",
       "      <th>5</th>\n",
       "      <td>AFC Bournemouth</td>\n",
       "      <td>222</td>\n",
       "      <td>252</td>\n",
       "      <td>474</td>\n",
       "      <td>0.531646</td>\n",
       "      <td>6</td>\n",
       "    </tr>\n",
       "    <tr>\n",
       "      <th>13</th>\n",
       "      <td>Burnley FC</td>\n",
       "      <td>167</td>\n",
       "      <td>191</td>\n",
       "      <td>358</td>\n",
       "      <td>0.533520</td>\n",
       "      <td>14</td>\n",
       "    </tr>\n",
       "    <tr>\n",
       "      <th>4</th>\n",
       "      <td>Tottenham Hotspur FC</td>\n",
       "      <td>248</td>\n",
       "      <td>286</td>\n",
       "      <td>534</td>\n",
       "      <td>0.535581</td>\n",
       "      <td>5</td>\n",
       "    </tr>\n",
       "    <tr>\n",
       "      <th>11</th>\n",
       "      <td>Brighton &amp; Hove Albion FC</td>\n",
       "      <td>172</td>\n",
       "      <td>201</td>\n",
       "      <td>373</td>\n",
       "      <td>0.538874</td>\n",
       "      <td>12</td>\n",
       "    </tr>\n",
       "    <tr>\n",
       "      <th>16</th>\n",
       "      <td>Newcastle United FC</td>\n",
       "      <td>160</td>\n",
       "      <td>187</td>\n",
       "      <td>347</td>\n",
       "      <td>0.538905</td>\n",
       "      <td>17</td>\n",
       "    </tr>\n",
       "    <tr>\n",
       "      <th>10</th>\n",
       "      <td>Watford FC</td>\n",
       "      <td>200</td>\n",
       "      <td>238</td>\n",
       "      <td>438</td>\n",
       "      <td>0.543379</td>\n",
       "      <td>11</td>\n",
       "    </tr>\n",
       "    <tr>\n",
       "      <th>2</th>\n",
       "      <td>Manchester United FC</td>\n",
       "      <td>275</td>\n",
       "      <td>360</td>\n",
       "      <td>635</td>\n",
       "      <td>0.566929</td>\n",
       "      <td>3</td>\n",
       "    </tr>\n",
       "    <tr>\n",
       "      <th>3</th>\n",
       "      <td>Liverpool FC</td>\n",
       "      <td>251</td>\n",
       "      <td>354</td>\n",
       "      <td>605</td>\n",
       "      <td>0.585124</td>\n",
       "      <td>4</td>\n",
       "    </tr>\n",
       "    <tr>\n",
       "      <th>6</th>\n",
       "      <td>Crystal Palace FC</td>\n",
       "      <td>196</td>\n",
       "      <td>277</td>\n",
       "      <td>473</td>\n",
       "      <td>0.585624</td>\n",
       "      <td>7</td>\n",
       "    </tr>\n",
       "    <tr>\n",
       "      <th>19</th>\n",
       "      <td>Everton FC</td>\n",
       "      <td>113</td>\n",
       "      <td>164</td>\n",
       "      <td>277</td>\n",
       "      <td>0.592058</td>\n",
       "      <td>20</td>\n",
       "    </tr>\n",
       "    <tr>\n",
       "      <th>9</th>\n",
       "      <td>Chelsea FC</td>\n",
       "      <td>177</td>\n",
       "      <td>275</td>\n",
       "      <td>452</td>\n",
       "      <td>0.608407</td>\n",
       "      <td>10</td>\n",
       "    </tr>\n",
       "    <tr>\n",
       "      <th>1</th>\n",
       "      <td>Manchester City FC</td>\n",
       "      <td>276</td>\n",
       "      <td>437</td>\n",
       "      <td>713</td>\n",
       "      <td>0.612903</td>\n",
       "      <td>2</td>\n",
       "    </tr>\n",
       "    <tr>\n",
       "      <th>0</th>\n",
       "      <td>Arsenal FC</td>\n",
       "      <td>266</td>\n",
       "      <td>457</td>\n",
       "      <td>723</td>\n",
       "      <td>0.632089</td>\n",
       "      <td>1</td>\n",
       "    </tr>\n",
       "  </tbody>\n",
       "</table>\n",
       "</div>"
      ],
      "text/plain": [
       "                         team  fail  success  total     ratio  total_rank\n",
       "14       Huddersfield Town FC   191      160    351  0.455840          15\n",
       "18           Swansea City AFC   171      158    329  0.480243          19\n",
       "8           Leicester City FC   241      223    464  0.480603           9\n",
       "12         West Ham United FC   187      181    368  0.491848          13\n",
       "17              Stoke City FC   172      172    344  0.500000          18\n",
       "7              Southampton FC   224      242    466  0.519313           8\n",
       "15    West Bromwich Albion FC   165      183    348  0.525862          16\n",
       "5             AFC Bournemouth   222      252    474  0.531646           6\n",
       "13                 Burnley FC   167      191    358  0.533520          14\n",
       "4        Tottenham Hotspur FC   248      286    534  0.535581           5\n",
       "11  Brighton & Hove Albion FC   172      201    373  0.538874          12\n",
       "16        Newcastle United FC   160      187    347  0.538905          17\n",
       "10                 Watford FC   200      238    438  0.543379          11\n",
       "2        Manchester United FC   275      360    635  0.566929           3\n",
       "3                Liverpool FC   251      354    605  0.585124           4\n",
       "6           Crystal Palace FC   196      277    473  0.585624           7\n",
       "19                 Everton FC   113      164    277  0.592058          20\n",
       "9                  Chelsea FC   177      275    452  0.608407          10\n",
       "1          Manchester City FC   276      437    713  0.612903           2\n",
       "0                  Arsenal FC   266      457    723  0.632089           1"
      ]
     },
     "execution_count": 92,
     "metadata": {},
     "output_type": "execute_result"
    }
   ],
   "source": [
    "c16 = team_clusters[team_clusters.cluster == 16].pivot(index='team', columns='success', values = 'passes')\n",
    "c16.columns = ['fail', 'success']\n",
    "c16['total'] = (c16.success + c16.fail)\n",
    "c16['ratio'] = c16.success / c16.total\n",
    "c16 = c16.sort_values(by='total', ascending = False).reset_index()\n",
    "c16['total_rank'] = c16.index + 1\n",
    "c16.sort_values(by = 'ratio')"
   ]
  },
  {
   "cell_type": "code",
   "execution_count": 93,
   "id": "fd353906",
   "metadata": {
    "execution": {
     "iopub.execute_input": "2022-09-22T17:49:24.396343Z",
     "iopub.status.busy": "2022-09-22T17:49:24.395931Z",
     "iopub.status.idle": "2022-09-22T17:49:24.421890Z",
     "shell.execute_reply": "2022-09-22T17:49:24.420715Z"
    },
    "papermill": {
     "duration": 0.070301,
     "end_time": "2022-09-22T17:49:24.424393",
     "exception": false,
     "start_time": "2022-09-22T17:49:24.354092",
     "status": "completed"
    },
    "tags": []
   },
   "outputs": [
    {
     "data": {
      "text/html": [
       "<div>\n",
       "<style scoped>\n",
       "    .dataframe tbody tr th:only-of-type {\n",
       "        vertical-align: middle;\n",
       "    }\n",
       "\n",
       "    .dataframe tbody tr th {\n",
       "        vertical-align: top;\n",
       "    }\n",
       "\n",
       "    .dataframe thead th {\n",
       "        text-align: right;\n",
       "    }\n",
       "</style>\n",
       "<table border=\"1\" class=\"dataframe\">\n",
       "  <thead>\n",
       "    <tr style=\"text-align: right;\">\n",
       "      <th></th>\n",
       "      <th>team</th>\n",
       "      <th>fail</th>\n",
       "      <th>success</th>\n",
       "      <th>total</th>\n",
       "      <th>ratio</th>\n",
       "      <th>total_rank</th>\n",
       "    </tr>\n",
       "  </thead>\n",
       "  <tbody>\n",
       "    <tr>\n",
       "      <th>17</th>\n",
       "      <td>Stoke City FC</td>\n",
       "      <td>126</td>\n",
       "      <td>230</td>\n",
       "      <td>356</td>\n",
       "      <td>0.646067</td>\n",
       "      <td>18</td>\n",
       "    </tr>\n",
       "    <tr>\n",
       "      <th>19</th>\n",
       "      <td>West Ham United FC</td>\n",
       "      <td>117</td>\n",
       "      <td>218</td>\n",
       "      <td>335</td>\n",
       "      <td>0.650746</td>\n",
       "      <td>20</td>\n",
       "    </tr>\n",
       "    <tr>\n",
       "      <th>9</th>\n",
       "      <td>Leicester City FC</td>\n",
       "      <td>142</td>\n",
       "      <td>269</td>\n",
       "      <td>411</td>\n",
       "      <td>0.654501</td>\n",
       "      <td>10</td>\n",
       "    </tr>\n",
       "    <tr>\n",
       "      <th>13</th>\n",
       "      <td>West Bromwich Albion FC</td>\n",
       "      <td>129</td>\n",
       "      <td>249</td>\n",
       "      <td>378</td>\n",
       "      <td>0.658730</td>\n",
       "      <td>14</td>\n",
       "    </tr>\n",
       "    <tr>\n",
       "      <th>12</th>\n",
       "      <td>Crystal Palace FC</td>\n",
       "      <td>125</td>\n",
       "      <td>267</td>\n",
       "      <td>392</td>\n",
       "      <td>0.681122</td>\n",
       "      <td>13</td>\n",
       "    </tr>\n",
       "    <tr>\n",
       "      <th>7</th>\n",
       "      <td>Burnley FC</td>\n",
       "      <td>142</td>\n",
       "      <td>304</td>\n",
       "      <td>446</td>\n",
       "      <td>0.681614</td>\n",
       "      <td>8</td>\n",
       "    </tr>\n",
       "    <tr>\n",
       "      <th>14</th>\n",
       "      <td>Newcastle United FC</td>\n",
       "      <td>118</td>\n",
       "      <td>253</td>\n",
       "      <td>371</td>\n",
       "      <td>0.681941</td>\n",
       "      <td>15</td>\n",
       "    </tr>\n",
       "    <tr>\n",
       "      <th>15</th>\n",
       "      <td>Swansea City AFC</td>\n",
       "      <td>117</td>\n",
       "      <td>251</td>\n",
       "      <td>368</td>\n",
       "      <td>0.682065</td>\n",
       "      <td>16</td>\n",
       "    </tr>\n",
       "    <tr>\n",
       "      <th>18</th>\n",
       "      <td>Huddersfield Town FC</td>\n",
       "      <td>111</td>\n",
       "      <td>239</td>\n",
       "      <td>350</td>\n",
       "      <td>0.682857</td>\n",
       "      <td>19</td>\n",
       "    </tr>\n",
       "    <tr>\n",
       "      <th>5</th>\n",
       "      <td>Brighton &amp; Hove Albion FC</td>\n",
       "      <td>145</td>\n",
       "      <td>316</td>\n",
       "      <td>461</td>\n",
       "      <td>0.685466</td>\n",
       "      <td>6</td>\n",
       "    </tr>\n",
       "    <tr>\n",
       "      <th>16</th>\n",
       "      <td>Everton FC</td>\n",
       "      <td>113</td>\n",
       "      <td>249</td>\n",
       "      <td>362</td>\n",
       "      <td>0.687845</td>\n",
       "      <td>17</td>\n",
       "    </tr>\n",
       "    <tr>\n",
       "      <th>8</th>\n",
       "      <td>Southampton FC</td>\n",
       "      <td>125</td>\n",
       "      <td>318</td>\n",
       "      <td>443</td>\n",
       "      <td>0.717833</td>\n",
       "      <td>9</td>\n",
       "    </tr>\n",
       "    <tr>\n",
       "      <th>11</th>\n",
       "      <td>AFC Bournemouth</td>\n",
       "      <td>108</td>\n",
       "      <td>302</td>\n",
       "      <td>410</td>\n",
       "      <td>0.736585</td>\n",
       "      <td>12</td>\n",
       "    </tr>\n",
       "    <tr>\n",
       "      <th>10</th>\n",
       "      <td>Watford FC</td>\n",
       "      <td>107</td>\n",
       "      <td>303</td>\n",
       "      <td>410</td>\n",
       "      <td>0.739024</td>\n",
       "      <td>11</td>\n",
       "    </tr>\n",
       "    <tr>\n",
       "      <th>3</th>\n",
       "      <td>Tottenham Hotspur FC</td>\n",
       "      <td>115</td>\n",
       "      <td>361</td>\n",
       "      <td>476</td>\n",
       "      <td>0.758403</td>\n",
       "      <td>4</td>\n",
       "    </tr>\n",
       "    <tr>\n",
       "      <th>0</th>\n",
       "      <td>Liverpool FC</td>\n",
       "      <td>111</td>\n",
       "      <td>398</td>\n",
       "      <td>509</td>\n",
       "      <td>0.781925</td>\n",
       "      <td>1</td>\n",
       "    </tr>\n",
       "    <tr>\n",
       "      <th>2</th>\n",
       "      <td>Manchester United FC</td>\n",
       "      <td>107</td>\n",
       "      <td>392</td>\n",
       "      <td>499</td>\n",
       "      <td>0.785571</td>\n",
       "      <td>3</td>\n",
       "    </tr>\n",
       "    <tr>\n",
       "      <th>4</th>\n",
       "      <td>Arsenal FC</td>\n",
       "      <td>92</td>\n",
       "      <td>375</td>\n",
       "      <td>467</td>\n",
       "      <td>0.802998</td>\n",
       "      <td>5</td>\n",
       "    </tr>\n",
       "    <tr>\n",
       "      <th>6</th>\n",
       "      <td>Chelsea FC</td>\n",
       "      <td>84</td>\n",
       "      <td>374</td>\n",
       "      <td>458</td>\n",
       "      <td>0.816594</td>\n",
       "      <td>7</td>\n",
       "    </tr>\n",
       "    <tr>\n",
       "      <th>1</th>\n",
       "      <td>Manchester City FC</td>\n",
       "      <td>58</td>\n",
       "      <td>442</td>\n",
       "      <td>500</td>\n",
       "      <td>0.884000</td>\n",
       "      <td>2</td>\n",
       "    </tr>\n",
       "  </tbody>\n",
       "</table>\n",
       "</div>"
      ],
      "text/plain": [
       "                         team  fail  success  total     ratio  total_rank\n",
       "17              Stoke City FC   126      230    356  0.646067          18\n",
       "19         West Ham United FC   117      218    335  0.650746          20\n",
       "9           Leicester City FC   142      269    411  0.654501          10\n",
       "13    West Bromwich Albion FC   129      249    378  0.658730          14\n",
       "12          Crystal Palace FC   125      267    392  0.681122          13\n",
       "7                  Burnley FC   142      304    446  0.681614           8\n",
       "14        Newcastle United FC   118      253    371  0.681941          15\n",
       "15           Swansea City AFC   117      251    368  0.682065          16\n",
       "18       Huddersfield Town FC   111      239    350  0.682857          19\n",
       "5   Brighton & Hove Albion FC   145      316    461  0.685466           6\n",
       "16                 Everton FC   113      249    362  0.687845          17\n",
       "8              Southampton FC   125      318    443  0.717833           9\n",
       "11            AFC Bournemouth   108      302    410  0.736585          12\n",
       "10                 Watford FC   107      303    410  0.739024          11\n",
       "3        Tottenham Hotspur FC   115      361    476  0.758403           4\n",
       "0                Liverpool FC   111      398    509  0.781925           1\n",
       "2        Manchester United FC   107      392    499  0.785571           3\n",
       "4                  Arsenal FC    92      375    467  0.802998           5\n",
       "6                  Chelsea FC    84      374    458  0.816594           7\n",
       "1          Manchester City FC    58      442    500  0.884000           2"
      ]
     },
     "execution_count": 93,
     "metadata": {},
     "output_type": "execute_result"
    }
   ],
   "source": [
    "c19 = team_clusters[team_clusters.cluster == 19].pivot(index='team', columns='success', values = 'passes')\n",
    "c19.columns = ['fail', 'success']\n",
    "c19['total'] = (c19.success + c19.fail)\n",
    "c19['ratio'] = c19.success / c19.total\n",
    "c19 = c19.sort_values(by='total', ascending = False).reset_index()\n",
    "c19['total_rank'] = c19.index + 1 \n",
    "c19.sort_values(by = 'ratio')"
   ]
  },
  {
   "cell_type": "code",
   "execution_count": 94,
   "id": "1e042c8f",
   "metadata": {
    "execution": {
     "iopub.execute_input": "2022-09-22T17:49:24.507427Z",
     "iopub.status.busy": "2022-09-22T17:49:24.506992Z",
     "iopub.status.idle": "2022-09-22T17:49:24.522409Z",
     "shell.execute_reply": "2022-09-22T17:49:24.521456Z"
    },
    "papermill": {
     "duration": 0.059678,
     "end_time": "2022-09-22T17:49:24.524721",
     "exception": false,
     "start_time": "2022-09-22T17:49:24.465043",
     "status": "completed"
    },
    "tags": []
   },
   "outputs": [
    {
     "data": {
      "text/html": [
       "<div>\n",
       "<style scoped>\n",
       "    .dataframe tbody tr th:only-of-type {\n",
       "        vertical-align: middle;\n",
       "    }\n",
       "\n",
       "    .dataframe tbody tr th {\n",
       "        vertical-align: top;\n",
       "    }\n",
       "\n",
       "    .dataframe thead th {\n",
       "        text-align: right;\n",
       "    }\n",
       "</style>\n",
       "<table border=\"1\" class=\"dataframe\">\n",
       "  <thead>\n",
       "    <tr style=\"text-align: right;\">\n",
       "      <th></th>\n",
       "      <th>cluster</th>\n",
       "      <th>team</th>\n",
       "      <th>success</th>\n",
       "      <th>passes</th>\n",
       "    </tr>\n",
       "  </thead>\n",
       "  <tbody>\n",
       "    <tr>\n",
       "      <th>752</th>\n",
       "      <td>19</td>\n",
       "      <td>AFC Bournemouth</td>\n",
       "      <td>True</td>\n",
       "      <td>302</td>\n",
       "    </tr>\n",
       "    <tr>\n",
       "      <th>754</th>\n",
       "      <td>19</td>\n",
       "      <td>Arsenal FC</td>\n",
       "      <td>True</td>\n",
       "      <td>375</td>\n",
       "    </tr>\n",
       "    <tr>\n",
       "      <th>756</th>\n",
       "      <td>19</td>\n",
       "      <td>Brighton &amp; Hove Albion FC</td>\n",
       "      <td>True</td>\n",
       "      <td>316</td>\n",
       "    </tr>\n",
       "    <tr>\n",
       "      <th>758</th>\n",
       "      <td>19</td>\n",
       "      <td>Burnley FC</td>\n",
       "      <td>True</td>\n",
       "      <td>304</td>\n",
       "    </tr>\n",
       "    <tr>\n",
       "      <th>760</th>\n",
       "      <td>19</td>\n",
       "      <td>Chelsea FC</td>\n",
       "      <td>True</td>\n",
       "      <td>374</td>\n",
       "    </tr>\n",
       "    <tr>\n",
       "      <th>762</th>\n",
       "      <td>19</td>\n",
       "      <td>Crystal Palace FC</td>\n",
       "      <td>True</td>\n",
       "      <td>267</td>\n",
       "    </tr>\n",
       "    <tr>\n",
       "      <th>764</th>\n",
       "      <td>19</td>\n",
       "      <td>Everton FC</td>\n",
       "      <td>True</td>\n",
       "      <td>249</td>\n",
       "    </tr>\n",
       "    <tr>\n",
       "      <th>766</th>\n",
       "      <td>19</td>\n",
       "      <td>Huddersfield Town FC</td>\n",
       "      <td>True</td>\n",
       "      <td>239</td>\n",
       "    </tr>\n",
       "    <tr>\n",
       "      <th>768</th>\n",
       "      <td>19</td>\n",
       "      <td>Leicester City FC</td>\n",
       "      <td>True</td>\n",
       "      <td>269</td>\n",
       "    </tr>\n",
       "    <tr>\n",
       "      <th>770</th>\n",
       "      <td>19</td>\n",
       "      <td>Liverpool FC</td>\n",
       "      <td>True</td>\n",
       "      <td>398</td>\n",
       "    </tr>\n",
       "    <tr>\n",
       "      <th>772</th>\n",
       "      <td>19</td>\n",
       "      <td>Manchester City FC</td>\n",
       "      <td>True</td>\n",
       "      <td>442</td>\n",
       "    </tr>\n",
       "    <tr>\n",
       "      <th>774</th>\n",
       "      <td>19</td>\n",
       "      <td>Manchester United FC</td>\n",
       "      <td>True</td>\n",
       "      <td>392</td>\n",
       "    </tr>\n",
       "    <tr>\n",
       "      <th>776</th>\n",
       "      <td>19</td>\n",
       "      <td>Newcastle United FC</td>\n",
       "      <td>True</td>\n",
       "      <td>253</td>\n",
       "    </tr>\n",
       "    <tr>\n",
       "      <th>778</th>\n",
       "      <td>19</td>\n",
       "      <td>Southampton FC</td>\n",
       "      <td>True</td>\n",
       "      <td>318</td>\n",
       "    </tr>\n",
       "    <tr>\n",
       "      <th>780</th>\n",
       "      <td>19</td>\n",
       "      <td>Stoke City FC</td>\n",
       "      <td>True</td>\n",
       "      <td>230</td>\n",
       "    </tr>\n",
       "    <tr>\n",
       "      <th>782</th>\n",
       "      <td>19</td>\n",
       "      <td>Swansea City AFC</td>\n",
       "      <td>True</td>\n",
       "      <td>251</td>\n",
       "    </tr>\n",
       "    <tr>\n",
       "      <th>784</th>\n",
       "      <td>19</td>\n",
       "      <td>Tottenham Hotspur FC</td>\n",
       "      <td>True</td>\n",
       "      <td>361</td>\n",
       "    </tr>\n",
       "    <tr>\n",
       "      <th>786</th>\n",
       "      <td>19</td>\n",
       "      <td>Watford FC</td>\n",
       "      <td>True</td>\n",
       "      <td>303</td>\n",
       "    </tr>\n",
       "    <tr>\n",
       "      <th>788</th>\n",
       "      <td>19</td>\n",
       "      <td>West Bromwich Albion FC</td>\n",
       "      <td>True</td>\n",
       "      <td>249</td>\n",
       "    </tr>\n",
       "    <tr>\n",
       "      <th>790</th>\n",
       "      <td>19</td>\n",
       "      <td>West Ham United FC</td>\n",
       "      <td>True</td>\n",
       "      <td>218</td>\n",
       "    </tr>\n",
       "  </tbody>\n",
       "</table>\n",
       "</div>"
      ],
      "text/plain": [
       "     cluster                       team  success  passes\n",
       "752       19            AFC Bournemouth     True     302\n",
       "754       19                 Arsenal FC     True     375\n",
       "756       19  Brighton & Hove Albion FC     True     316\n",
       "758       19                 Burnley FC     True     304\n",
       "760       19                 Chelsea FC     True     374\n",
       "762       19          Crystal Palace FC     True     267\n",
       "764       19                 Everton FC     True     249\n",
       "766       19       Huddersfield Town FC     True     239\n",
       "768       19          Leicester City FC     True     269\n",
       "770       19               Liverpool FC     True     398\n",
       "772       19         Manchester City FC     True     442\n",
       "774       19       Manchester United FC     True     392\n",
       "776       19        Newcastle United FC     True     253\n",
       "778       19             Southampton FC     True     318\n",
       "780       19              Stoke City FC     True     230\n",
       "782       19           Swansea City AFC     True     251\n",
       "784       19       Tottenham Hotspur FC     True     361\n",
       "786       19                 Watford FC     True     303\n",
       "788       19    West Bromwich Albion FC     True     249\n",
       "790       19         West Ham United FC     True     218"
      ]
     },
     "execution_count": 94,
     "metadata": {},
     "output_type": "execute_result"
    }
   ],
   "source": [
    "team_clusters[(team_clusters.cluster == 19) & (team_clusters.success == True)]"
   ]
  },
  {
   "cell_type": "code",
   "execution_count": 95,
   "id": "579b9bd5",
   "metadata": {
    "execution": {
     "iopub.execute_input": "2022-09-22T17:49:24.608851Z",
     "iopub.status.busy": "2022-09-22T17:49:24.608457Z",
     "iopub.status.idle": "2022-09-22T17:49:24.622745Z",
     "shell.execute_reply": "2022-09-22T17:49:24.621560Z"
    },
    "papermill": {
     "duration": 0.059339,
     "end_time": "2022-09-22T17:49:24.625179",
     "exception": false,
     "start_time": "2022-09-22T17:49:24.565840",
     "status": "completed"
    },
    "tags": []
   },
   "outputs": [
    {
     "data": {
      "text/html": [
       "<div>\n",
       "<style scoped>\n",
       "    .dataframe tbody tr th:only-of-type {\n",
       "        vertical-align: middle;\n",
       "    }\n",
       "\n",
       "    .dataframe tbody tr th {\n",
       "        vertical-align: top;\n",
       "    }\n",
       "\n",
       "    .dataframe thead th {\n",
       "        text-align: right;\n",
       "    }\n",
       "</style>\n",
       "<table border=\"1\" class=\"dataframe\">\n",
       "  <thead>\n",
       "    <tr style=\"text-align: right;\">\n",
       "      <th></th>\n",
       "      <th>cluster</th>\n",
       "      <th>team</th>\n",
       "      <th>success</th>\n",
       "      <th>passes</th>\n",
       "    </tr>\n",
       "  </thead>\n",
       "  <tbody>\n",
       "    <tr>\n",
       "      <th>751</th>\n",
       "      <td>19</td>\n",
       "      <td>AFC Bournemouth</td>\n",
       "      <td>False</td>\n",
       "      <td>108</td>\n",
       "    </tr>\n",
       "    <tr>\n",
       "      <th>753</th>\n",
       "      <td>19</td>\n",
       "      <td>Arsenal FC</td>\n",
       "      <td>False</td>\n",
       "      <td>92</td>\n",
       "    </tr>\n",
       "    <tr>\n",
       "      <th>755</th>\n",
       "      <td>19</td>\n",
       "      <td>Brighton &amp; Hove Albion FC</td>\n",
       "      <td>False</td>\n",
       "      <td>145</td>\n",
       "    </tr>\n",
       "    <tr>\n",
       "      <th>757</th>\n",
       "      <td>19</td>\n",
       "      <td>Burnley FC</td>\n",
       "      <td>False</td>\n",
       "      <td>142</td>\n",
       "    </tr>\n",
       "    <tr>\n",
       "      <th>759</th>\n",
       "      <td>19</td>\n",
       "      <td>Chelsea FC</td>\n",
       "      <td>False</td>\n",
       "      <td>84</td>\n",
       "    </tr>\n",
       "    <tr>\n",
       "      <th>761</th>\n",
       "      <td>19</td>\n",
       "      <td>Crystal Palace FC</td>\n",
       "      <td>False</td>\n",
       "      <td>125</td>\n",
       "    </tr>\n",
       "    <tr>\n",
       "      <th>763</th>\n",
       "      <td>19</td>\n",
       "      <td>Everton FC</td>\n",
       "      <td>False</td>\n",
       "      <td>113</td>\n",
       "    </tr>\n",
       "    <tr>\n",
       "      <th>765</th>\n",
       "      <td>19</td>\n",
       "      <td>Huddersfield Town FC</td>\n",
       "      <td>False</td>\n",
       "      <td>111</td>\n",
       "    </tr>\n",
       "    <tr>\n",
       "      <th>767</th>\n",
       "      <td>19</td>\n",
       "      <td>Leicester City FC</td>\n",
       "      <td>False</td>\n",
       "      <td>142</td>\n",
       "    </tr>\n",
       "    <tr>\n",
       "      <th>769</th>\n",
       "      <td>19</td>\n",
       "      <td>Liverpool FC</td>\n",
       "      <td>False</td>\n",
       "      <td>111</td>\n",
       "    </tr>\n",
       "    <tr>\n",
       "      <th>771</th>\n",
       "      <td>19</td>\n",
       "      <td>Manchester City FC</td>\n",
       "      <td>False</td>\n",
       "      <td>58</td>\n",
       "    </tr>\n",
       "    <tr>\n",
       "      <th>773</th>\n",
       "      <td>19</td>\n",
       "      <td>Manchester United FC</td>\n",
       "      <td>False</td>\n",
       "      <td>107</td>\n",
       "    </tr>\n",
       "    <tr>\n",
       "      <th>775</th>\n",
       "      <td>19</td>\n",
       "      <td>Newcastle United FC</td>\n",
       "      <td>False</td>\n",
       "      <td>118</td>\n",
       "    </tr>\n",
       "    <tr>\n",
       "      <th>777</th>\n",
       "      <td>19</td>\n",
       "      <td>Southampton FC</td>\n",
       "      <td>False</td>\n",
       "      <td>125</td>\n",
       "    </tr>\n",
       "    <tr>\n",
       "      <th>779</th>\n",
       "      <td>19</td>\n",
       "      <td>Stoke City FC</td>\n",
       "      <td>False</td>\n",
       "      <td>126</td>\n",
       "    </tr>\n",
       "    <tr>\n",
       "      <th>781</th>\n",
       "      <td>19</td>\n",
       "      <td>Swansea City AFC</td>\n",
       "      <td>False</td>\n",
       "      <td>117</td>\n",
       "    </tr>\n",
       "    <tr>\n",
       "      <th>783</th>\n",
       "      <td>19</td>\n",
       "      <td>Tottenham Hotspur FC</td>\n",
       "      <td>False</td>\n",
       "      <td>115</td>\n",
       "    </tr>\n",
       "    <tr>\n",
       "      <th>785</th>\n",
       "      <td>19</td>\n",
       "      <td>Watford FC</td>\n",
       "      <td>False</td>\n",
       "      <td>107</td>\n",
       "    </tr>\n",
       "    <tr>\n",
       "      <th>787</th>\n",
       "      <td>19</td>\n",
       "      <td>West Bromwich Albion FC</td>\n",
       "      <td>False</td>\n",
       "      <td>129</td>\n",
       "    </tr>\n",
       "    <tr>\n",
       "      <th>789</th>\n",
       "      <td>19</td>\n",
       "      <td>West Ham United FC</td>\n",
       "      <td>False</td>\n",
       "      <td>117</td>\n",
       "    </tr>\n",
       "  </tbody>\n",
       "</table>\n",
       "</div>"
      ],
      "text/plain": [
       "     cluster                       team  success  passes\n",
       "751       19            AFC Bournemouth    False     108\n",
       "753       19                 Arsenal FC    False      92\n",
       "755       19  Brighton & Hove Albion FC    False     145\n",
       "757       19                 Burnley FC    False     142\n",
       "759       19                 Chelsea FC    False      84\n",
       "761       19          Crystal Palace FC    False     125\n",
       "763       19                 Everton FC    False     113\n",
       "765       19       Huddersfield Town FC    False     111\n",
       "767       19          Leicester City FC    False     142\n",
       "769       19               Liverpool FC    False     111\n",
       "771       19         Manchester City FC    False      58\n",
       "773       19       Manchester United FC    False     107\n",
       "775       19        Newcastle United FC    False     118\n",
       "777       19             Southampton FC    False     125\n",
       "779       19              Stoke City FC    False     126\n",
       "781       19           Swansea City AFC    False     117\n",
       "783       19       Tottenham Hotspur FC    False     115\n",
       "785       19                 Watford FC    False     107\n",
       "787       19    West Bromwich Albion FC    False     129\n",
       "789       19         West Ham United FC    False     117"
      ]
     },
     "execution_count": 95,
     "metadata": {},
     "output_type": "execute_result"
    }
   ],
   "source": [
    "team_clusters[(team_clusters.cluster == 19) & (team_clusters.success == False)]"
   ]
  },
  {
   "cell_type": "code",
   "execution_count": 96,
   "id": "0c441ec6",
   "metadata": {
    "execution": {
     "iopub.execute_input": "2022-09-22T17:49:24.711339Z",
     "iopub.status.busy": "2022-09-22T17:49:24.710915Z",
     "iopub.status.idle": "2022-09-22T17:49:24.735971Z",
     "shell.execute_reply": "2022-09-22T17:49:24.734870Z"
    },
    "papermill": {
     "duration": 0.070124,
     "end_time": "2022-09-22T17:49:24.738228",
     "exception": false,
     "start_time": "2022-09-22T17:49:24.668104",
     "status": "completed"
    },
    "tags": []
   },
   "outputs": [
    {
     "data": {
      "text/html": [
       "<div>\n",
       "<style scoped>\n",
       "    .dataframe tbody tr th:only-of-type {\n",
       "        vertical-align: middle;\n",
       "    }\n",
       "\n",
       "    .dataframe tbody tr th {\n",
       "        vertical-align: top;\n",
       "    }\n",
       "\n",
       "    .dataframe thead th {\n",
       "        text-align: right;\n",
       "    }\n",
       "</style>\n",
       "<table border=\"1\" class=\"dataframe\">\n",
       "  <thead>\n",
       "    <tr style=\"text-align: right;\">\n",
       "      <th></th>\n",
       "      <th>team</th>\n",
       "      <th>fail</th>\n",
       "      <th>success</th>\n",
       "      <th>total</th>\n",
       "      <th>ratio</th>\n",
       "      <th>total_rank</th>\n",
       "    </tr>\n",
       "  </thead>\n",
       "  <tbody>\n",
       "    <tr>\n",
       "      <th>12</th>\n",
       "      <td>Burnley FC</td>\n",
       "      <td>208</td>\n",
       "      <td>698</td>\n",
       "      <td>906</td>\n",
       "      <td>0.770419</td>\n",
       "      <td>13</td>\n",
       "    </tr>\n",
       "    <tr>\n",
       "      <th>17</th>\n",
       "      <td>Everton FC</td>\n",
       "      <td>183</td>\n",
       "      <td>628</td>\n",
       "      <td>811</td>\n",
       "      <td>0.774353</td>\n",
       "      <td>18</td>\n",
       "    </tr>\n",
       "    <tr>\n",
       "      <th>18</th>\n",
       "      <td>West Bromwich Albion FC</td>\n",
       "      <td>175</td>\n",
       "      <td>626</td>\n",
       "      <td>801</td>\n",
       "      <td>0.781523</td>\n",
       "      <td>19</td>\n",
       "    </tr>\n",
       "    <tr>\n",
       "      <th>13</th>\n",
       "      <td>Watford FC</td>\n",
       "      <td>186</td>\n",
       "      <td>714</td>\n",
       "      <td>900</td>\n",
       "      <td>0.793333</td>\n",
       "      <td>14</td>\n",
       "    </tr>\n",
       "    <tr>\n",
       "      <th>16</th>\n",
       "      <td>Newcastle United FC</td>\n",
       "      <td>164</td>\n",
       "      <td>651</td>\n",
       "      <td>815</td>\n",
       "      <td>0.798773</td>\n",
       "      <td>17</td>\n",
       "    </tr>\n",
       "    <tr>\n",
       "      <th>8</th>\n",
       "      <td>Huddersfield Town FC</td>\n",
       "      <td>194</td>\n",
       "      <td>778</td>\n",
       "      <td>972</td>\n",
       "      <td>0.800412</td>\n",
       "      <td>9</td>\n",
       "    </tr>\n",
       "    <tr>\n",
       "      <th>10</th>\n",
       "      <td>Brighton &amp; Hove Albion FC</td>\n",
       "      <td>186</td>\n",
       "      <td>748</td>\n",
       "      <td>934</td>\n",
       "      <td>0.800857</td>\n",
       "      <td>11</td>\n",
       "    </tr>\n",
       "    <tr>\n",
       "      <th>19</th>\n",
       "      <td>Stoke City FC</td>\n",
       "      <td>149</td>\n",
       "      <td>608</td>\n",
       "      <td>757</td>\n",
       "      <td>0.803170</td>\n",
       "      <td>20</td>\n",
       "    </tr>\n",
       "    <tr>\n",
       "      <th>7</th>\n",
       "      <td>Leicester City FC</td>\n",
       "      <td>202</td>\n",
       "      <td>832</td>\n",
       "      <td>1034</td>\n",
       "      <td>0.804642</td>\n",
       "      <td>8</td>\n",
       "    </tr>\n",
       "    <tr>\n",
       "      <th>14</th>\n",
       "      <td>Crystal Palace FC</td>\n",
       "      <td>157</td>\n",
       "      <td>673</td>\n",
       "      <td>830</td>\n",
       "      <td>0.810843</td>\n",
       "      <td>15</td>\n",
       "    </tr>\n",
       "    <tr>\n",
       "      <th>5</th>\n",
       "      <td>AFC Bournemouth</td>\n",
       "      <td>200</td>\n",
       "      <td>923</td>\n",
       "      <td>1123</td>\n",
       "      <td>0.821906</td>\n",
       "      <td>6</td>\n",
       "    </tr>\n",
       "    <tr>\n",
       "      <th>11</th>\n",
       "      <td>West Ham United FC</td>\n",
       "      <td>161</td>\n",
       "      <td>751</td>\n",
       "      <td>912</td>\n",
       "      <td>0.823465</td>\n",
       "      <td>12</td>\n",
       "    </tr>\n",
       "    <tr>\n",
       "      <th>15</th>\n",
       "      <td>Swansea City AFC</td>\n",
       "      <td>135</td>\n",
       "      <td>686</td>\n",
       "      <td>821</td>\n",
       "      <td>0.835566</td>\n",
       "      <td>16</td>\n",
       "    </tr>\n",
       "    <tr>\n",
       "      <th>6</th>\n",
       "      <td>Southampton FC</td>\n",
       "      <td>168</td>\n",
       "      <td>889</td>\n",
       "      <td>1057</td>\n",
       "      <td>0.841060</td>\n",
       "      <td>7</td>\n",
       "    </tr>\n",
       "    <tr>\n",
       "      <th>4</th>\n",
       "      <td>Tottenham Hotspur FC</td>\n",
       "      <td>176</td>\n",
       "      <td>977</td>\n",
       "      <td>1153</td>\n",
       "      <td>0.847355</td>\n",
       "      <td>5</td>\n",
       "    </tr>\n",
       "    <tr>\n",
       "      <th>1</th>\n",
       "      <td>Arsenal FC</td>\n",
       "      <td>170</td>\n",
       "      <td>1091</td>\n",
       "      <td>1261</td>\n",
       "      <td>0.865186</td>\n",
       "      <td>2</td>\n",
       "    </tr>\n",
       "    <tr>\n",
       "      <th>2</th>\n",
       "      <td>Manchester United FC</td>\n",
       "      <td>163</td>\n",
       "      <td>1070</td>\n",
       "      <td>1233</td>\n",
       "      <td>0.867802</td>\n",
       "      <td>3</td>\n",
       "    </tr>\n",
       "    <tr>\n",
       "      <th>9</th>\n",
       "      <td>Chelsea FC</td>\n",
       "      <td>116</td>\n",
       "      <td>819</td>\n",
       "      <td>935</td>\n",
       "      <td>0.875936</td>\n",
       "      <td>10</td>\n",
       "    </tr>\n",
       "    <tr>\n",
       "      <th>3</th>\n",
       "      <td>Liverpool FC</td>\n",
       "      <td>139</td>\n",
       "      <td>1074</td>\n",
       "      <td>1213</td>\n",
       "      <td>0.885408</td>\n",
       "      <td>4</td>\n",
       "    </tr>\n",
       "    <tr>\n",
       "      <th>0</th>\n",
       "      <td>Manchester City FC</td>\n",
       "      <td>130</td>\n",
       "      <td>1712</td>\n",
       "      <td>1842</td>\n",
       "      <td>0.929425</td>\n",
       "      <td>1</td>\n",
       "    </tr>\n",
       "  </tbody>\n",
       "</table>\n",
       "</div>"
      ],
      "text/plain": [
       "                         team  fail  success  total     ratio  total_rank\n",
       "12                 Burnley FC   208      698    906  0.770419          13\n",
       "17                 Everton FC   183      628    811  0.774353          18\n",
       "18    West Bromwich Albion FC   175      626    801  0.781523          19\n",
       "13                 Watford FC   186      714    900  0.793333          14\n",
       "16        Newcastle United FC   164      651    815  0.798773          17\n",
       "8        Huddersfield Town FC   194      778    972  0.800412           9\n",
       "10  Brighton & Hove Albion FC   186      748    934  0.800857          11\n",
       "19              Stoke City FC   149      608    757  0.803170          20\n",
       "7           Leicester City FC   202      832   1034  0.804642           8\n",
       "14          Crystal Palace FC   157      673    830  0.810843          15\n",
       "5             AFC Bournemouth   200      923   1123  0.821906           6\n",
       "11         West Ham United FC   161      751    912  0.823465          12\n",
       "15           Swansea City AFC   135      686    821  0.835566          16\n",
       "6              Southampton FC   168      889   1057  0.841060           7\n",
       "4        Tottenham Hotspur FC   176      977   1153  0.847355           5\n",
       "1                  Arsenal FC   170     1091   1261  0.865186           2\n",
       "2        Manchester United FC   163     1070   1233  0.867802           3\n",
       "9                  Chelsea FC   116      819    935  0.875936          10\n",
       "3                Liverpool FC   139     1074   1213  0.885408           4\n",
       "0          Manchester City FC   130     1712   1842  0.929425           1"
      ]
     },
     "execution_count": 96,
     "metadata": {},
     "output_type": "execute_result"
    }
   ],
   "source": [
    "c2 = team_clusters[team_clusters.cluster == 2].pivot(index='team', columns='success', values = 'passes')\n",
    "c2.columns = ['fail', 'success']\n",
    "c2['total'] = (c2.success + c2.fail)\n",
    "c2['ratio'] = c2.success / c2.total\n",
    "c2 = c2.sort_values(by='total', ascending = False).reset_index()\n",
    "c2['total_rank'] = c2.index + 1\n",
    "c2.sort_values(by = 'ratio')"
   ]
  },
  {
   "cell_type": "code",
   "execution_count": null,
   "id": "afd70a32",
   "metadata": {
    "papermill": {
     "duration": 0.042499,
     "end_time": "2022-09-22T17:49:24.823363",
     "exception": false,
     "start_time": "2022-09-22T17:49:24.780864",
     "status": "completed"
    },
    "tags": []
   },
   "outputs": [],
   "source": []
  },
  {
   "cell_type": "code",
   "execution_count": null,
   "id": "227c8a00",
   "metadata": {
    "papermill": {
     "duration": 0.042334,
     "end_time": "2022-09-22T17:49:24.907658",
     "exception": false,
     "start_time": "2022-09-22T17:49:24.865324",
     "status": "completed"
    },
    "tags": []
   },
   "outputs": [],
   "source": []
  }
 ],
 "metadata": {
  "kernelspec": {
   "display_name": "Python 3",
   "language": "python",
   "name": "python3"
  },
  "language_info": {
   "codemirror_mode": {
    "name": "ipython",
    "version": 3
   },
   "file_extension": ".py",
   "mimetype": "text/x-python",
   "name": "python",
   "nbconvert_exporter": "python",
   "pygments_lexer": "ipython3",
   "version": "3.7.12"
  },
  "papermill": {
   "default_parameters": {},
   "duration": 2611.504618,
   "end_time": "2022-09-22T17:49:25.980834",
   "environment_variables": {},
   "exception": null,
   "input_path": "__notebook__.ipynb",
   "output_path": "__notebook__.ipynb",
   "parameters": {},
   "start_time": "2022-09-22T17:05:54.476216",
   "version": "2.3.4"
  }
 },
 "nbformat": 4,
 "nbformat_minor": 5
}
