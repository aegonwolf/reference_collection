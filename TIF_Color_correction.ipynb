{
  "nbformat": 4,
  "nbformat_minor": 0,
  "metadata": {
    "colab": {
      "name": "TIF_Color_correction.ipynb",
      "provenance": [],
      "collapsed_sections": []
    },
    "kernelspec": {
      "display_name": "Python 3",
      "name": "python3"
    },
    "language_info": {
      "name": "python"
    }
  },
  "cells": [
    {
      "cell_type": "code",
      "metadata": {
        "colab": {
          "base_uri": "https://localhost:8080/"
        },
        "id": "LbgrKDfZnM1o",
        "outputId": "8d277d5c-e37b-46e0-f9b6-255d1cdb7e0d"
      },
      "source": [
        "from google.colab import drive\n",
        "drive.mount('/content/drive')"
      ],
      "execution_count": null,
      "outputs": [
        {
          "output_type": "stream",
          "name": "stdout",
          "text": [
            "Mounted at /content/drive\n"
          ]
        }
      ]
    },
    {
      "cell_type": "code",
      "metadata": {
        "colab": {
          "base_uri": "https://localhost:8080/"
        },
        "id": "HcZTw3-WCWO1",
        "outputId": "1da259f9-841e-42fc-f809-688ef74777a0"
      },
      "source": [
        "!pip install gdal\n",
        "from osgeo import gdal\n",
        "import numpy as np\n",
        "import subprocess\n",
        "import os"
      ],
      "execution_count": null,
      "outputs": [
        {
          "output_type": "stream",
          "name": "stdout",
          "text": [
            "Requirement already satisfied: gdal in /usr/local/lib/python3.7/dist-packages (2.2.2)\n"
          ]
        }
      ]
    },
    {
      "cell_type": "code",
      "metadata": {
        "id": "6KKLqESkuWBc"
      },
      "source": [
        "# data path for fetching large chunks of data\n",
        "data_path = \"/content/drive/MyDrive/ai4good/share.phys.ethz.ch/~pf/albecker/GA658GIZ/20210924/Nairobi/Ortho/\""
      ],
      "execution_count": null,
      "outputs": []
    },
    {
      "cell_type": "code",
      "metadata": {
        "id": "HJsRqGR6Citc"
      },
      "source": [
        "# alternative input method for specific tifs (swap head of for loop)\n",
        "data_path = '/content/drive/MyDrive/test_data_ai4g/'\n",
        "input_tifs = ['2560_9850.tif']"
      ],
      "execution_count": null,
      "outputs": []
    },
    {
      "cell_type": "code",
      "metadata": {
        "colab": {
          "base_uri": "https://localhost:8080/"
        },
        "id": "TuFDBRlIKeWU",
        "outputId": "540149c9-8129-4112-9350-84f8582aa21d"
      },
      "source": [
        "for input_tif in os.listdir(data_path):\n",
        "#for input_tif in input_tifs:\n",
        "    if input_tif.endswith(\".tif\"):\n",
        "        rasterImageName = data_path + input_tif\n",
        "        srcRaster = gdal.Open(rasterImageName)\n",
        "        outputRaster = '/content/drive/MyDrive/ai4good/corrected_tifs/corrected_' + input_tif\n",
        "        outputPixType='Byte'\n",
        "        outputFormat='GTiff'\n",
        "        rescale_type='rescale'\n",
        "        percentiles=[2, 98]\n",
        "\n",
        "        nbands = srcRaster.RasterCount\n",
        "        if nbands == 3:\n",
        "            cmd = ['gdal_translate', '-ot', outputPixType, '-of', outputFormat,\n",
        "                  '-co', '\"PHOTOMETRIC=rgb\"']\n",
        "        else:\n",
        "            cmd = ['gdal_translate', '-ot', outputPixType, '-of', outputFormat]\n",
        "\n",
        "        for bandId in range(srcRaster.RasterCount):\n",
        "            bandId = bandId+1\n",
        "            band = srcRaster.GetRasterBand(bandId)\n",
        "            if rescale_type == 'rescale':\n",
        "                bmin = band.GetMinimum()\n",
        "                bmax = band.GetMaximum()\n",
        "                # if not exist minimum and maximum values\n",
        "                if bmin is None or bmax is None:\n",
        "                    (bmin, bmax) = band.ComputeRasterMinMax(1)\n",
        "                # else, rescale\n",
        "                band_arr_tmp = band.ReadAsArray()\n",
        "                bmin = np.percentile(band_arr_tmp.flatten(), percentiles[0])\n",
        "                bmax = np.percentile(band_arr_tmp.flatten(), percentiles[1])\n",
        "\n",
        "            else:\n",
        "                bmin, bmax = 0, 65535\n",
        "\n",
        "            cmd.append('-scale_{}'.format(bandId))\n",
        "            cmd.append('{}'.format(bmin))\n",
        "            cmd.append('{}'.format(bmax))\n",
        "            cmd.append('{}'.format(0))\n",
        "            cmd.append('{}'.format(255))\n",
        "\n",
        "        cmd.append(rasterImageName)\n",
        "        cmd.append(outputRaster)\n",
        "        print(cmd)\n",
        "        subprocess.call(cmd)\n",
        "    else:\n",
        "        continue"
      ],
      "execution_count": null,
      "outputs": [
        {
          "output_type": "stream",
          "name": "stdout",
          "text": [
            "['gdal_translate', '-ot', 'Byte', '-of', 'GTiff', '-scale_1', '0.0', '8653.0', '0', '255', '-scale_2', '0.0', '6293.0', '0', '255', '-scale_3', '0.0', '4951.0', '0', '255', '-scale_4', '0.0', '14625.0', '0', '255', '/content/drive/MyDrive/ai4good/share.phys.ethz.ch/~pf/albecker/GA658GIZ/20210924/Nairobi/Ortho/2760_9870.tif', '/content/drive/MyDrive/ai4good/corrected_tifs/corrected_2760_9870.tif']\n",
            "['gdal_translate', '-ot', 'Byte', '-of', 'GTiff', '-scale_1', '0.0', '9765.0', '0', '255', '-scale_2', '0.0', '7127.0', '0', '255', '-scale_3', '0.0', '5599.0', '0', '255', '-scale_4', '0.0', '17169.0', '0', '255', '/content/drive/MyDrive/ai4good/share.phys.ethz.ch/~pf/albecker/GA658GIZ/20210924/Nairobi/Ortho/2560_9860.tif', '/content/drive/MyDrive/ai4good/corrected_tifs/corrected_2560_9860.tif']\n",
            "['gdal_translate', '-ot', 'Byte', '-of', 'GTiff', '-scale_1', '0.0', '10275.0', '0', '255', '-scale_2', '0.0', '7591.0', '0', '255', '-scale_3', '0.0', '6109.0', '0', '255', '-scale_4', '0.0', '14809.0', '0', '255', '/content/drive/MyDrive/ai4good/share.phys.ethz.ch/~pf/albecker/GA658GIZ/20210924/Nairobi/Ortho/2560_9850.tif', '/content/drive/MyDrive/ai4good/corrected_tifs/corrected_2560_9850.tif']\n",
            "['gdal_translate', '-ot', 'Byte', '-of', 'GTiff', '-scale_1', '0.0', '9393.0', '0', '255', '-scale_2', '0.0', '7127.0', '0', '255', '-scale_3', '0.0', '5691.0', '0', '255', '-scale_4', '0.0', '15875.0', '0', '255', '/content/drive/MyDrive/ai4good/share.phys.ethz.ch/~pf/albecker/GA658GIZ/20210924/Nairobi/Ortho/2510_9850.tif', '/content/drive/MyDrive/ai4good/corrected_tifs/corrected_2510_9850.tif']\n",
            "['gdal_translate', '-ot', 'Byte', '-of', 'GTiff', '-scale_1', '0.0', '8007.0', '0', '255', '-scale_2', '0.0', '5599.0', '0', '255', '-scale_3', '0.0', '4071.0', '0', '255', '-scale_4', '0.0', '17263.0', '0', '255', '/content/drive/MyDrive/ai4good/share.phys.ethz.ch/~pf/albecker/GA658GIZ/20210924/Nairobi/Ortho/2460_9860.tif', '/content/drive/MyDrive/ai4good/corrected_tifs/corrected_2460_9860.tif']\n",
            "['gdal_translate', '-ot', 'Byte', '-of', 'GTiff', '-scale_1', '0.0', '7359.0', '0', '255', '-scale_2', '0.0', '5137.0', '0', '255', '-scale_3', '0.0', '3747.0', '0', '255', '-scale_4', '0.0', '12867.0', '0', '255', '/content/drive/MyDrive/ai4good/share.phys.ethz.ch/~pf/albecker/GA658GIZ/20210924/Nairobi/Ortho/2760_9865.tif', '/content/drive/MyDrive/ai4good/corrected_tifs/corrected_2760_9865.tif']\n",
            "['gdal_translate', '-ot', 'Byte', '-of', 'GTiff', '-scale_1', '0.0', '9487.0', '0', '255', '-scale_2', '0.0', '6709.0', '0', '255', '-scale_3', '0.0', '5321.0', '0', '255', '-scale_4', '0.0', '13745.0', '0', '255', '/content/drive/MyDrive/ai4good/share.phys.ethz.ch/~pf/albecker/GA658GIZ/20210924/Nairobi/Ortho/2710_9855.tif', '/content/drive/MyDrive/ai4good/corrected_tifs/corrected_2710_9855.tif']\n",
            "['gdal_translate', '-ot', 'Byte', '-of', 'GTiff', '-scale_1', '1063.0', '11847.0', '0', '255', '-scale_2', '1109.0', '9393.0', '0', '255', '-scale_3', '555.0', '7775.0', '0', '255', '-scale_4', '2267.0', '16661.0', '0', '255', '/content/drive/MyDrive/ai4good/share.phys.ethz.ch/~pf/albecker/GA658GIZ/20210924/Nairobi/Ortho/2560_9855.tif', '/content/drive/MyDrive/ai4good/corrected_tifs/corrected_2560_9855.tif']\n",
            "['gdal_translate', '-ot', 'Byte', '-of', 'GTiff', '-scale_1', '0.0', '9719.0', '0', '255', '-scale_2', '0.0', '6709.0', '0', '255', '-scale_3', '0.0', '5183.0', '0', '255', '-scale_4', '0.0', '15829.0', '0', '255', '/content/drive/MyDrive/ai4good/share.phys.ethz.ch/~pf/albecker/GA658GIZ/20210924/Nairobi/Ortho/2610_9865.tif', '/content/drive/MyDrive/ai4good/corrected_tifs/corrected_2610_9865.tif']\n",
            "['gdal_translate', '-ot', 'Byte', '-of', 'GTiff', '-scale_1', '0.0', '9301.0', '0', '255', '-scale_2', '0.0', '6663.0', '0', '255', '-scale_3', '0.0', '5137.0', '0', '255', '-scale_4', '0.0', '14531.0', '0', '255', '/content/drive/MyDrive/ai4good/share.phys.ethz.ch/~pf/albecker/GA658GIZ/20210924/Nairobi/Ortho/2660_9870.tif', '/content/drive/MyDrive/ai4good/corrected_tifs/corrected_2660_9870.tif']\n",
            "['gdal_translate', '-ot', 'Byte', '-of', 'GTiff', '-scale_1', '0.0', '9255.0', '0', '255', '-scale_2', '0.0', '6801.0', '0', '255', '-scale_3', '0.0', '5229.0', '0', '255', '-scale_4', '0.0', '16013.0', '0', '255', '/content/drive/MyDrive/ai4good/share.phys.ethz.ch/~pf/albecker/GA658GIZ/20210924/Nairobi/Ortho/2510_9860.tif', '/content/drive/MyDrive/ai4good/corrected_tifs/corrected_2510_9860.tif']\n",
            "['gdal_translate', '-ot', 'Byte', '-of', 'GTiff', '-scale_1', '0.0', '8053.0', '0', '255', '-scale_2', '0.0', '5599.0', '0', '255', '-scale_3', '0.0', '4071.0', '0', '255', '-scale_4', '0.0', '14485.0', '0', '255', '/content/drive/MyDrive/ai4good/share.phys.ethz.ch/~pf/albecker/GA658GIZ/20210924/Nairobi/Ortho/2410_9855.tif', '/content/drive/MyDrive/ai4good/corrected_tifs/corrected_2410_9855.tif']\n",
            "['gdal_translate', '-ot', 'Byte', '-of', 'GTiff', '-scale_1', '0.0', '9857.0', '0', '255', '-scale_2', '0.0', '7405.0', '0', '255', '-scale_3', '0.0', '5785.0', '0', '255', '-scale_4', '0.0', '15411.0', '0', '255', '/content/drive/MyDrive/ai4good/share.phys.ethz.ch/~pf/albecker/GA658GIZ/20210924/Nairobi/Ortho/2460_9855.tif', '/content/drive/MyDrive/ai4good/corrected_tifs/corrected_2460_9855.tif']\n",
            "['gdal_translate', '-ot', 'Byte', '-of', 'GTiff', '-scale_1', '0.0', '10413.0', '0', '255', '-scale_2', '0.0', '7867.0', '0', '255', '-scale_3', '0.0', '6385.0', '0', '255', '-scale_4', '0.0', '14393.0', '0', '255', '/content/drive/MyDrive/ai4good/share.phys.ethz.ch/~pf/albecker/GA658GIZ/20210924/Nairobi/Ortho/2660_9855.tif', '/content/drive/MyDrive/ai4good/corrected_tifs/corrected_2660_9855.tif']\n",
            "['gdal_translate', '-ot', 'Byte', '-of', 'GTiff', '-scale_1', '0.0', '10321.0', '0', '255', '-scale_2', '0.0', '7451.0', '0', '255', '-scale_3', '0.0', '5923.0', '0', '255', '-scale_4', '0.0', '15179.0', '0', '255', '/content/drive/MyDrive/ai4good/share.phys.ethz.ch/~pf/albecker/GA658GIZ/20210924/Nairobi/Ortho/2710_9870.tif', '/content/drive/MyDrive/ai4good/corrected_tifs/corrected_2710_9870.tif']\n",
            "['gdal_translate', '-ot', 'Byte', '-of', 'GTiff', '-scale_1', '1667.0', '10969.0', '0', '255', '-scale_2', '1481.0', '8515.0', '0', '255', '-scale_3', '831.0', '7079.0', '0', '255', '-scale_4', '3285.0', '15087.0', '0', '255', '/content/drive/MyDrive/ai4good/share.phys.ethz.ch/~pf/albecker/GA658GIZ/20210924/Nairobi/Ortho/2610_9855.tif', '/content/drive/MyDrive/ai4good/corrected_tifs/corrected_2610_9855.tif']\n",
            "['gdal_translate', '-ot', 'Byte', '-of', 'GTiff', '-scale_1', '0.0', '8701.0', '0', '255', '-scale_2', '0.0', '6247.0', '0', '255', '-scale_3', '0.0', '4951.0', '0', '255', '-scale_4', '0.0', '14485.0', '0', '255', '/content/drive/MyDrive/ai4good/share.phys.ethz.ch/~pf/albecker/GA658GIZ/20210924/Nairobi/Ortho/2760_9860.tif', '/content/drive/MyDrive/ai4good/corrected_tifs/corrected_2760_9860.tif']\n",
            "['gdal_translate', '-ot', 'Byte', '-of', 'GTiff', '-scale_1', '0.0', '8793.0', '0', '255', '-scale_2', '0.0', '6201.0', '0', '255', '-scale_3', '0.0', '4675.0', '0', '255', '-scale_4', '0.0', '13885.0', '0', '255', '/content/drive/MyDrive/ai4good/share.phys.ethz.ch/~pf/albecker/GA658GIZ/20210924/Nairobi/Ortho/2410_9860.tif', '/content/drive/MyDrive/ai4good/corrected_tifs/corrected_2410_9860.tif']\n",
            "['gdal_translate', '-ot', 'Byte', '-of', 'GTiff', '-scale_1', '0.0', '10969.0', '0', '255', '-scale_2', '0.0', '8701.0', '0', '255', '-scale_3', '0.0', '7265.0', '0', '255', '-scale_4', '0.0', '14577.0', '0', '255', '/content/drive/MyDrive/ai4good/share.phys.ethz.ch/~pf/albecker/GA658GIZ/20210924/Nairobi/Ortho/2660_9850.tif', '/content/drive/MyDrive/ai4good/corrected_tifs/corrected_2660_9850.tif']\n",
            "['gdal_translate', '-ot', 'Byte', '-of', 'GTiff', '-scale_1', '0.0', '10413.0', '0', '255', '-scale_2', '0.0', '7821.0', '0', '255', '-scale_3', '0.0', '6479.0', '0', '255', '-scale_4', '0.0', '15781.0', '0', '255', '/content/drive/MyDrive/ai4good/share.phys.ethz.ch/~pf/albecker/GA658GIZ/20210924/Nairobi/Ortho/2610_9860.tif', '/content/drive/MyDrive/ai4good/corrected_tifs/corrected_2610_9860.tif']\n",
            "['gdal_translate', '-ot', 'Byte', '-of', 'GTiff', '-scale_1', '1619.0', '8885.0', '0', '255', '-scale_2', '1527.0', '6431.0', '0', '255', '-scale_3', '785.0', '4999.0', '0', '255', '-scale_4', '4351.0', '15875.0', '0', '255', '/content/drive/MyDrive/ai4good/share.phys.ethz.ch/~pf/albecker/GA658GIZ/20210924/Nairobi/Ortho/2710_9865.tif', '/content/drive/MyDrive/ai4good/corrected_tifs/corrected_2710_9865.tif']\n",
            "['gdal_translate', '-ot', 'Byte', '-of', 'GTiff', '-scale_1', '0.0', '9765.0', '0', '255', '-scale_2', '0.0', '7127.0', '0', '255', '-scale_3', '0.0', '5599.0', '0', '255', '-scale_4', '0.0', '15689.0', '0', '255', '/content/drive/MyDrive/ai4good/share.phys.ethz.ch/~pf/albecker/GA658GIZ/20210924/Nairobi/Ortho/2710_9860.tif', '/content/drive/MyDrive/ai4good/corrected_tifs/corrected_2710_9860.tif']\n",
            "['gdal_translate', '-ot', 'Byte', '-of', 'GTiff', '-scale_1', '1805.0', '11615.0', '0', '255', '-scale_2', '1527.0', '8747.0', '0', '255', '-scale_3', '785.0', '7033.0', '0', '255', '-scale_4', '3239.0', '16059.0', '0', '255', '/content/drive/MyDrive/ai4good/share.phys.ethz.ch/~pf/albecker/GA658GIZ/20210924/Nairobi/Ortho/2660_9860.tif', '/content/drive/MyDrive/ai4good/corrected_tifs/corrected_2660_9860.tif']\n",
            "['gdal_translate', '-ot', 'Byte', '-of', 'GTiff', '-scale_1', '1109.0', '11385.0', '0', '255', '-scale_2', '1063.0', '8331.0', '0', '255', '-scale_3', '461.0', '6663.0', '0', '255', '-scale_4', '2359.0', '17077.0', '0', '255', '/content/drive/MyDrive/ai4good/share.phys.ethz.ch/~pf/albecker/GA658GIZ/20210924/Nairobi/Ortho/2660_9865.tif', '/content/drive/MyDrive/ai4good/corrected_tifs/corrected_2660_9865.tif']\n",
            "['gdal_translate', '-ot', 'Byte', '-of', 'GTiff', '-scale_1', '0.0', '12587.0', '0', '255', '-scale_2', '0.0', '10459.0', '0', '255', '-scale_3', '0.0', '8701.0', '0', '255', '-scale_4', '0.0', '15735.0', '0', '255', '/content/drive/MyDrive/ai4good/share.phys.ethz.ch/~pf/albecker/GA658GIZ/20210924/Nairobi/Ortho/2610_9850.tif', '/content/drive/MyDrive/ai4good/corrected_tifs/corrected_2610_9850.tif']\n",
            "['gdal_translate', '-ot', 'Byte', '-of', 'GTiff', '-scale_1', '277.0', '9951.0', '0', '255', '-scale_2', '647.0', '7265.0', '0', '255', '-scale_3', '45.0', '5691.0', '0', '255', '-scale_4', '2267.0', '16199.0', '0', '255', '/content/drive/MyDrive/ai4good/share.phys.ethz.ch/~pf/albecker/GA658GIZ/20210924/Nairobi/Ortho/2510_9855.tif', '/content/drive/MyDrive/ai4good/corrected_tifs/corrected_2510_9855.tif']\n"
          ]
        }
      ]
    }
  ]
}