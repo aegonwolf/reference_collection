{
  "nbformat": 4,
  "nbformat_minor": 5,
  "metadata": {
    "kernelspec": {
      "display_name": "Python 3 (ipykernel)",
      "language": "python",
      "name": "python3"
    },
    "language_info": {
      "codemirror_mode": {
        "name": "ipython",
        "version": 3
      },
      "file_extension": ".py",
      "mimetype": "text/x-python",
      "name": "python",
      "nbconvert_exporter": "python",
      "pygments_lexer": "ipython3",
      "version": "3.9.7"
    },
    "colab": {
      "name": "create 8 bit spacenet.ipynb",
      "provenance": []
    }
  },
  "cells": [
    {
      "cell_type": "code",
      "metadata": {
        "id": "dress-discussion"
      },
      "source": [
        "import pandas as pd\n",
        "from multiprocessing import Pool\n",
        "from tqdm.notebook import tqdm\n",
        "import time\n",
        "import numpy as np\n",
        "import os\n",
        "import rasterio\n",
        "import glob as glob\n",
        "from skimage.io import imread, imsave\n",
        "#import osmnx as ox\n",
        "import numpy as np\n",
        "import matplotlib\n",
        "import matplotlib.pyplot as plt\n",
        "import geopandas as gpd\n",
        "from osgeo import gdal, ogr, osr\n",
        "import cv2\n",
        "import subprocess\n",
        "import shapely\n",
        "from shapely.geometry import MultiLineString\n",
        "from matplotlib.patches import PathPatch\n",
        "import matplotlib.path"
      ],
      "id": "dress-discussion",
      "execution_count": null,
      "outputs": []
    },
    {
      "cell_type": "code",
      "metadata": {
        "id": "1e67f983-dc70-4dc5-bce8-39fe2fd49cee"
      },
      "source": [
        "default_crs = {'init': 'epsg:4326'}"
      ],
      "id": "1e67f983-dc70-4dc5-bce8-39fe2fd49cee",
      "execution_count": null,
      "outputs": []
    },
    {
      "cell_type": "code",
      "metadata": {
        "id": "9e644add-6921-4cef-9a15-a3167b535989"
      },
      "source": [
        "imgs = []\n",
        "\n",
        "# change this to your data prefix\n",
        "path_prefix = 'path'"
      ],
      "id": "9e644add-6921-4cef-9a15-a3167b535989",
      "execution_count": null,
      "outputs": []
    },
    {
      "cell_type": "code",
      "metadata": {
        "id": "15de3074-8d0f-4fe4-a31f-68050cb5c30a"
      },
      "source": [
        "# default variables from the hosts of the challenge\n",
        "buffer_meters = 2\n",
        "burnValue = 150\n",
        "# only train folders\n",
        "folders = ['Shanghai', 'Khartoum', 'Paris', 'LasVegas']\n",
        "# image types\n",
        "prefix_dict = {\n",
        "    'mul': 'MS',\n",
        "    'muls': 'PS-MS',\n",
        "    'pan': 'PAN',\n",
        "    'rgbps': 'PS-RGB',\n",
        "}"
      ],
      "id": "15de3074-8d0f-4fe4-a31f-68050cb5c30a",
      "execution_count": null,
      "outputs": []
    },
    {
      "cell_type": "code",
      "metadata": {
        "id": "21846a49-980c-42b7-bd7d-aebdbe4b9d0f"
      },
      "source": [
        "for folder in folders:\n",
        "    for prefix in prefix_dict.items():\n",
        "        filenames = glob.glob(path_prefix + '/' + folder + '/' + prefix[1] + '/*.tif')\n",
        "        imgs.extend(filenames)"
      ],
      "id": "21846a49-980c-42b7-bd7d-aebdbe4b9d0f",
      "execution_count": null,
      "outputs": []
    },
    {
      "cell_type": "code",
      "metadata": {
        "id": "c8adbacc-85f9-482d-87b4-f19ffc61140f"
      },
      "source": [
        "img_folders = [(imgs[0].split('/')[2]) for img in imgs]\n",
        "img_subfolders = ['PS-RGB' for img in imgs]\n",
        "img_files = [(img.split('\\\\')[1]) for img in imgs]"
      ],
      "id": "c8adbacc-85f9-482d-87b4-f19ffc61140f",
      "execution_count": null,
      "outputs": []
    },
    {
      "cell_type": "code",
      "metadata": {
        "id": "bf34611f-7d54-4c27-9c10-89db146e968e"
      },
      "source": [
        "input_data = zip(imgs, img_folders, img_subfolders, img_files)\n",
        "input_data = [item for item in input_data]"
      ],
      "id": "bf34611f-7d54-4c27-9c10-89db146e968e",
      "execution_count": null,
      "outputs": []
    },
    {
      "cell_type": "code",
      "metadata": {
        "id": "minimal-counter"
      },
      "source": [
        "def create_8bit(input_data):\n",
        "    img_path = input_data[0]\n",
        "    img_folder = input_data[1]\n",
        "    img_subfolder = input_data[2]\n",
        "    img_file = input_data[3]\n",
        "\n",
        "    \n",
        "    bit8_folder = os.path.join(path_prefix, img_folder, img_subfolder + '_8bit')\n",
        "    bit8_path = os.path.join(bit8_folder, img_file)\n",
        "\n",
        "    if not os.path.exists(bit8_folder):\n",
        "        os.mkdir(bit8_folder)\n",
        "\n",
        "    if os.path.isfile(bit8_path):\n",
        "        os.remove(bit8_path)\n",
        "    try:\n",
        "        # convert images to 8-bit\n",
        "        convert_to_8Bit(img_path,\n",
        "                        bit8_path,\n",
        "                        outputPixType='Byte',\n",
        "                        outputFormat='GTiff',\n",
        "                        rescale_type='rescale',\n",
        "                        percentiles=[2, 98])\n",
        "    except BaseException as e:\n",
        "        print(str(e) + 'Something went wrong')\n",
        "        mask_max = -1\n",
        "\n",
        "    return \n",
        "\n",
        "def convert_to_8Bit(inputRaster, outputRaster,\n",
        "                    outputPixType='Byte',\n",
        "                    outputFormat='GTiff',\n",
        "                    rescale_type='rescale',\n",
        "                    percentiles=[2, 98]):\n",
        "    '''\n",
        "    Convert 16bit image to 8bit\n",
        "    rescale_type = [clip, rescale]\n",
        "        if clip, scaling is done strictly between 0 65535\n",
        "        if rescale, each band is rescaled to a min and max\n",
        "        set by percentiles\n",
        "    '''\n",
        "\n",
        "    srcRaster = gdal.Open(inputRaster)\n",
        "    cmd = ['gdal_translate', '-ot', outputPixType, '-of',\n",
        "           outputFormat]\n",
        "\n",
        "    # iterate through bands\n",
        "    for bandId in range(srcRaster.RasterCount):\n",
        "        bandId = bandId + 1\n",
        "        band = srcRaster.GetRasterBand(bandId)\n",
        "        if rescale_type == 'rescale':\n",
        "            bmin = band.GetMinimum()\n",
        "            bmax = band.GetMaximum()\n",
        "            # if not exist minimum and maximum values\n",
        "            if bmin is None or bmax is None:\n",
        "                (bmin, bmax) = band.ComputeRasterMinMax(1)\n",
        "            # else, rescale\n",
        "            band_arr_tmp = band.ReadAsArray()\n",
        "            bmin = np.percentile(band_arr_tmp.flatten(),\n",
        "                                 percentiles[0])\n",
        "            bmax = np.percentile(band_arr_tmp.flatten(),\n",
        "                                 percentiles[1])\n",
        "\n",
        "        else:\n",
        "            bmin, bmax = 0, 65535\n",
        "\n",
        "        cmd.append('-scale_{}'.format(bandId))\n",
        "        cmd.append('{}'.format(bmin))\n",
        "        cmd.append('{}'.format(bmax))\n",
        "        cmd.append('{}'.format(0))\n",
        "        cmd.append('{}'.format(255))\n",
        "\n",
        "    cmd.append(inputRaster)\n",
        "    cmd.append(outputRaster)\n",
        "    # print(\"Conversin command:\", cmd)\n",
        "    subprocess.call(cmd)\n",
        "\n",
        "    return\n"
      ],
      "id": "minimal-counter",
      "execution_count": null,
      "outputs": []
    },
    {
      "cell_type": "code",
      "metadata": {
        "id": "42f36822-e94c-4eda-ad01-6adb7a3e6048"
      },
      "source": [
        "from joblib import Parallel, delayed"
      ],
      "id": "42f36822-e94c-4eda-ad01-6adb7a3e6048",
      "execution_count": null,
      "outputs": []
    },
    {
      "cell_type": "code",
      "metadata": {
        "colab": {
          "referenced_widgets": [
            "c834c08514a44c2b8f2cee0d79170795"
          ]
        },
        "id": "10343a55-32ba-48f5-86ac-f1f045f81224",
        "outputId": "5b44a5ce-2bdd-4358-943c-fd6999b0e7f1"
      },
      "source": [
        "#n_jobs = number of cores you want to run in parallel\n",
        "Parallel(n_jobs = 16)(delayed(create_8bit)(ds) for ds in tqdm(input_data, total = len(input_data)))"
      ],
      "id": "10343a55-32ba-48f5-86ac-f1f045f81224",
      "execution_count": null,
      "outputs": [
        {
          "data": {
            "application/vnd.jupyter.widget-view+json": {
              "model_id": "c834c08514a44c2b8f2cee0d79170795",
              "version_major": 2,
              "version_minor": 0
            },
            "text/plain": [
              "  0%|          | 0/2497 [00:00<?, ?it/s]"
            ]
          },
          "metadata": {},
          "output_type": "display_data"
        }
      ]
    }
  ]
}