{
 "cells": [
  {
   "cell_type": "code",
   "execution_count": 1,
   "id": "c555c40d",
   "metadata": {
    "execution": {
     "iopub.execute_input": "2022-08-27T11:15:47.495073Z",
     "iopub.status.busy": "2022-08-27T11:15:47.494174Z",
     "iopub.status.idle": "2022-08-27T11:15:59.744495Z",
     "shell.execute_reply": "2022-08-27T11:15:59.743391Z"
    },
    "papermill": {
     "duration": 12.26083,
     "end_time": "2022-08-27T11:15:59.747081",
     "exception": false,
     "start_time": "2022-08-27T11:15:47.486251",
     "status": "completed"
    },
    "tags": []
   },
   "outputs": [
    {
     "name": "stdout",
     "output_type": "stream",
     "text": [
      "Collecting kloppy\r\n",
      "  Downloading kloppy-3.5.1-py3-none-any.whl (139 kB)\r\n",
      "\u001b[2K     \u001b[90m━━━━━━━━━━━━━━━━━━━━━━━━━━━━━━━━━━━━━\u001b[0m \u001b[32m139.0/139.0 kB\u001b[0m \u001b[31m993.1 kB/s\u001b[0m eta \u001b[36m0:00:00\u001b[0m\r\n",
      "\u001b[?25hRequirement already satisfied: requests<3,>=2.0.0 in /opt/conda/lib/python3.7/site-packages (from kloppy) (2.27.1)\r\n",
      "Requirement already satisfied: pytz>=2020.1 in /opt/conda/lib/python3.7/site-packages (from kloppy) (2022.1)\r\n",
      "Requirement already satisfied: typing-extensions in /opt/conda/lib/python3.7/site-packages (from kloppy) (4.1.1)\r\n",
      "Requirement already satisfied: lxml<5,>=4.4.0 in /opt/conda/lib/python3.7/site-packages (from kloppy) (4.9.0)\r\n",
      "Requirement already satisfied: python-dateutil<3,>=2.8.1 in /opt/conda/lib/python3.7/site-packages (from kloppy) (2.8.2)\r\n",
      "Requirement already satisfied: mypy-extensions in /opt/conda/lib/python3.7/site-packages (from kloppy) (0.4.3)\r\n",
      "Requirement already satisfied: six>=1.5 in /opt/conda/lib/python3.7/site-packages (from python-dateutil<3,>=2.8.1->kloppy) (1.16.0)\r\n",
      "Requirement already satisfied: certifi>=2017.4.17 in /opt/conda/lib/python3.7/site-packages (from requests<3,>=2.0.0->kloppy) (2022.6.15)\r\n",
      "Requirement already satisfied: charset-normalizer~=2.0.0 in /opt/conda/lib/python3.7/site-packages (from requests<3,>=2.0.0->kloppy) (2.0.12)\r\n",
      "Requirement already satisfied: idna<4,>=2.5 in /opt/conda/lib/python3.7/site-packages (from requests<3,>=2.0.0->kloppy) (3.3)\r\n",
      "Requirement already satisfied: urllib3<1.27,>=1.21.1 in /opt/conda/lib/python3.7/site-packages (from requests<3,>=2.0.0->kloppy) (1.26.9)\r\n",
      "Installing collected packages: kloppy\r\n",
      "Successfully installed kloppy-3.5.1\r\n",
      "\u001b[33mWARNING: Running pip as the 'root' user can result in broken permissions and conflicting behaviour with the system package manager. It is recommended to use a virtual environment instead: https://pip.pypa.io/warnings/venv\u001b[0m\u001b[33m\r\n",
      "\u001b[0m"
     ]
    }
   ],
   "source": [
    "!pip install kloppy"
   ]
  },
  {
   "cell_type": "code",
   "execution_count": 2,
   "id": "59e1602b",
   "metadata": {
    "_cell_guid": "b1076dfc-b9ad-4769-8c92-a6c4dae69d19",
    "_uuid": "8f2839f25d086af736a60e9eeb907d3b93b6e0e5",
    "execution": {
     "iopub.execute_input": "2022-08-27T11:15:59.760722Z",
     "iopub.status.busy": "2022-08-27T11:15:59.759636Z",
     "iopub.status.idle": "2022-08-27T11:15:59.819828Z",
     "shell.execute_reply": "2022-08-27T11:15:59.818782Z"
    },
    "papermill": {
     "duration": 0.06984,
     "end_time": "2022-08-27T11:15:59.822812",
     "exception": false,
     "start_time": "2022-08-27T11:15:59.752972",
     "status": "completed"
    },
    "tags": []
   },
   "outputs": [],
   "source": [
    "from kloppy import datasets, wyscout"
   ]
  },
  {
   "cell_type": "code",
   "execution_count": 3,
   "id": "f61446f2",
   "metadata": {
    "execution": {
     "iopub.execute_input": "2022-08-27T11:15:59.835332Z",
     "iopub.status.busy": "2022-08-27T11:15:59.835006Z",
     "iopub.status.idle": "2022-08-27T11:16:00.766064Z",
     "shell.execute_reply": "2022-08-27T11:16:00.765111Z"
    },
    "papermill": {
     "duration": 0.940486,
     "end_time": "2022-08-27T11:16:00.768876",
     "exception": false,
     "start_time": "2022-08-27T11:15:59.828390",
     "status": "completed"
    },
    "tags": []
   },
   "outputs": [],
   "source": [
    "manu_westham = datasets.load('wyscout', match_id = 2499724)"
   ]
  },
  {
   "cell_type": "code",
   "execution_count": 4,
   "id": "485a40f6",
   "metadata": {
    "execution": {
     "iopub.execute_input": "2022-08-27T11:16:00.780745Z",
     "iopub.status.busy": "2022-08-27T11:16:00.780152Z",
     "iopub.status.idle": "2022-08-27T11:16:00.865191Z",
     "shell.execute_reply": "2022-08-27T11:16:00.864051Z"
    },
    "papermill": {
     "duration": 0.093311,
     "end_time": "2022-08-27T11:16:00.867417",
     "exception": false,
     "start_time": "2022-08-27T11:16:00.774106",
     "status": "completed"
    },
    "tags": []
   },
   "outputs": [
    {
     "data": {
      "text/html": [
       "<div>\n",
       "<style scoped>\n",
       "    .dataframe tbody tr th:only-of-type {\n",
       "        vertical-align: middle;\n",
       "    }\n",
       "\n",
       "    .dataframe tbody tr th {\n",
       "        vertical-align: top;\n",
       "    }\n",
       "\n",
       "    .dataframe thead th {\n",
       "        text-align: right;\n",
       "    }\n",
       "</style>\n",
       "<table border=\"1\" class=\"dataframe\">\n",
       "  <thead>\n",
       "    <tr style=\"text-align: right;\">\n",
       "      <th></th>\n",
       "      <th>event_id</th>\n",
       "      <th>event_type</th>\n",
       "      <th>result</th>\n",
       "      <th>success</th>\n",
       "      <th>period_id</th>\n",
       "      <th>timestamp</th>\n",
       "      <th>end_timestamp</th>\n",
       "      <th>ball_state</th>\n",
       "      <th>ball_owning_team</th>\n",
       "      <th>team_id</th>\n",
       "      <th>...</th>\n",
       "      <th>coordinates_y</th>\n",
       "      <th>end_coordinates_x</th>\n",
       "      <th>end_coordinates_y</th>\n",
       "      <th>receiver_player_id</th>\n",
       "      <th>is_counter_attack</th>\n",
       "      <th>pass_type</th>\n",
       "      <th>set_piece_type</th>\n",
       "      <th>body_part_type</th>\n",
       "      <th>goalkeeper_action_type</th>\n",
       "      <th>card_type</th>\n",
       "    </tr>\n",
       "  </thead>\n",
       "  <tbody>\n",
       "    <tr>\n",
       "      <th>0</th>\n",
       "      <td>178494347</td>\n",
       "      <td>PASS</td>\n",
       "      <td>COMPLETE</td>\n",
       "      <td>True</td>\n",
       "      <td>1</td>\n",
       "      <td>5.546151</td>\n",
       "      <td>None</td>\n",
       "      <td>None</td>\n",
       "      <td>None</td>\n",
       "      <td>1611</td>\n",
       "      <td>...</td>\n",
       "      <td>0.52</td>\n",
       "      <td>0.40</td>\n",
       "      <td>0.44</td>\n",
       "      <td>NaN</td>\n",
       "      <td>False</td>\n",
       "      <td>SIMPLE_PASS</td>\n",
       "      <td>NaN</td>\n",
       "      <td>NaN</td>\n",
       "      <td>NaN</td>\n",
       "      <td>NaN</td>\n",
       "    </tr>\n",
       "    <tr>\n",
       "      <th>1</th>\n",
       "      <td>178494348</td>\n",
       "      <td>PASS</td>\n",
       "      <td>COMPLETE</td>\n",
       "      <td>True</td>\n",
       "      <td>1</td>\n",
       "      <td>6.708916</td>\n",
       "      <td>None</td>\n",
       "      <td>None</td>\n",
       "      <td>None</td>\n",
       "      <td>1611</td>\n",
       "      <td>...</td>\n",
       "      <td>0.44</td>\n",
       "      <td>0.33</td>\n",
       "      <td>0.75</td>\n",
       "      <td>NaN</td>\n",
       "      <td>False</td>\n",
       "      <td>SIMPLE_PASS</td>\n",
       "      <td>NaN</td>\n",
       "      <td>NaN</td>\n",
       "      <td>NaN</td>\n",
       "      <td>NaN</td>\n",
       "    </tr>\n",
       "    <tr>\n",
       "      <th>2</th>\n",
       "      <td>178494349</td>\n",
       "      <td>PASS</td>\n",
       "      <td>COMPLETE</td>\n",
       "      <td>True</td>\n",
       "      <td>1</td>\n",
       "      <td>9.612072</td>\n",
       "      <td>None</td>\n",
       "      <td>None</td>\n",
       "      <td>None</td>\n",
       "      <td>1611</td>\n",
       "      <td>...</td>\n",
       "      <td>0.75</td>\n",
       "      <td>0.42</td>\n",
       "      <td>0.76</td>\n",
       "      <td>NaN</td>\n",
       "      <td>False</td>\n",
       "      <td>SIMPLE_PASS</td>\n",
       "      <td>NaN</td>\n",
       "      <td>NaN</td>\n",
       "      <td>NaN</td>\n",
       "      <td>NaN</td>\n",
       "    </tr>\n",
       "    <tr>\n",
       "      <th>3</th>\n",
       "      <td>178494350</td>\n",
       "      <td>PASS</td>\n",
       "      <td>COMPLETE</td>\n",
       "      <td>True</td>\n",
       "      <td>1</td>\n",
       "      <td>10.718877</td>\n",
       "      <td>None</td>\n",
       "      <td>None</td>\n",
       "      <td>None</td>\n",
       "      <td>1611</td>\n",
       "      <td>...</td>\n",
       "      <td>0.76</td>\n",
       "      <td>0.28</td>\n",
       "      <td>0.36</td>\n",
       "      <td>NaN</td>\n",
       "      <td>False</td>\n",
       "      <td>SIMPLE_PASS</td>\n",
       "      <td>NaN</td>\n",
       "      <td>NaN</td>\n",
       "      <td>NaN</td>\n",
       "      <td>NaN</td>\n",
       "    </tr>\n",
       "    <tr>\n",
       "      <th>4</th>\n",
       "      <td>178494351</td>\n",
       "      <td>PASS</td>\n",
       "      <td>COMPLETE</td>\n",
       "      <td>True</td>\n",
       "      <td>1</td>\n",
       "      <td>12.728071</td>\n",
       "      <td>None</td>\n",
       "      <td>None</td>\n",
       "      <td>None</td>\n",
       "      <td>1611</td>\n",
       "      <td>...</td>\n",
       "      <td>0.36</td>\n",
       "      <td>0.34</td>\n",
       "      <td>0.12</td>\n",
       "      <td>NaN</td>\n",
       "      <td>False</td>\n",
       "      <td>SIMPLE_PASS</td>\n",
       "      <td>NaN</td>\n",
       "      <td>NaN</td>\n",
       "      <td>NaN</td>\n",
       "      <td>NaN</td>\n",
       "    </tr>\n",
       "    <tr>\n",
       "      <th>...</th>\n",
       "      <td>...</td>\n",
       "      <td>...</td>\n",
       "      <td>...</td>\n",
       "      <td>...</td>\n",
       "      <td>...</td>\n",
       "      <td>...</td>\n",
       "      <td>...</td>\n",
       "      <td>...</td>\n",
       "      <td>...</td>\n",
       "      <td>...</td>\n",
       "      <td>...</td>\n",
       "      <td>...</td>\n",
       "      <td>...</td>\n",
       "      <td>...</td>\n",
       "      <td>...</td>\n",
       "      <td>...</td>\n",
       "      <td>...</td>\n",
       "      <td>...</td>\n",
       "      <td>...</td>\n",
       "      <td>...</td>\n",
       "      <td>...</td>\n",
       "    </tr>\n",
       "    <tr>\n",
       "      <th>1641</th>\n",
       "      <td>178496018</td>\n",
       "      <td>RECOVERY</td>\n",
       "      <td>None</td>\n",
       "      <td>None</td>\n",
       "      <td>2</td>\n",
       "      <td>2862.313235</td>\n",
       "      <td>None</td>\n",
       "      <td>None</td>\n",
       "      <td>None</td>\n",
       "      <td>1633</td>\n",
       "      <td>...</td>\n",
       "      <td>0.35</td>\n",
       "      <td>NaN</td>\n",
       "      <td>NaN</td>\n",
       "      <td>NaN</td>\n",
       "      <td>False</td>\n",
       "      <td>NaN</td>\n",
       "      <td>NaN</td>\n",
       "      <td>NaN</td>\n",
       "      <td>NaN</td>\n",
       "      <td>NaN</td>\n",
       "    </tr>\n",
       "    <tr>\n",
       "      <th>1642</th>\n",
       "      <td>178496019</td>\n",
       "      <td>BALL_OUT</td>\n",
       "      <td>None</td>\n",
       "      <td>None</td>\n",
       "      <td>2</td>\n",
       "      <td>2866.414500</td>\n",
       "      <td>None</td>\n",
       "      <td>None</td>\n",
       "      <td>None</td>\n",
       "      <td>1633</td>\n",
       "      <td>...</td>\n",
       "      <td>0.00</td>\n",
       "      <td>NaN</td>\n",
       "      <td>NaN</td>\n",
       "      <td>NaN</td>\n",
       "      <td>False</td>\n",
       "      <td>NaN</td>\n",
       "      <td>NaN</td>\n",
       "      <td>NaN</td>\n",
       "      <td>NaN</td>\n",
       "      <td>NaN</td>\n",
       "    </tr>\n",
       "    <tr>\n",
       "      <th>1643</th>\n",
       "      <td>178495982</td>\n",
       "      <td>PASS</td>\n",
       "      <td>COMPLETE</td>\n",
       "      <td>True</td>\n",
       "      <td>2</td>\n",
       "      <td>2879.021252</td>\n",
       "      <td>None</td>\n",
       "      <td>None</td>\n",
       "      <td>None</td>\n",
       "      <td>1611</td>\n",
       "      <td>...</td>\n",
       "      <td>1.00</td>\n",
       "      <td>0.93</td>\n",
       "      <td>0.91</td>\n",
       "      <td>NaN</td>\n",
       "      <td>False</td>\n",
       "      <td>HAND_PASS</td>\n",
       "      <td>THROW_IN</td>\n",
       "      <td>NaN</td>\n",
       "      <td>NaN</td>\n",
       "      <td>NaN</td>\n",
       "    </tr>\n",
       "    <tr>\n",
       "      <th>1644</th>\n",
       "      <td>178496020</td>\n",
       "      <td>TAKE_ON</td>\n",
       "      <td>None</td>\n",
       "      <td>None</td>\n",
       "      <td>2</td>\n",
       "      <td>2883.667683</td>\n",
       "      <td>None</td>\n",
       "      <td>None</td>\n",
       "      <td>None</td>\n",
       "      <td>1633</td>\n",
       "      <td>...</td>\n",
       "      <td>0.09</td>\n",
       "      <td>NaN</td>\n",
       "      <td>NaN</td>\n",
       "      <td>NaN</td>\n",
       "      <td>False</td>\n",
       "      <td>NaN</td>\n",
       "      <td>NaN</td>\n",
       "      <td>NaN</td>\n",
       "      <td>NaN</td>\n",
       "      <td>NaN</td>\n",
       "    </tr>\n",
       "    <tr>\n",
       "      <th>1645</th>\n",
       "      <td>178496470</td>\n",
       "      <td>TAKE_ON</td>\n",
       "      <td>INCOMPLETE</td>\n",
       "      <td>False</td>\n",
       "      <td>2</td>\n",
       "      <td>2883.667683</td>\n",
       "      <td>None</td>\n",
       "      <td>None</td>\n",
       "      <td>None</td>\n",
       "      <td>1611</td>\n",
       "      <td>...</td>\n",
       "      <td>0.91</td>\n",
       "      <td>NaN</td>\n",
       "      <td>NaN</td>\n",
       "      <td>NaN</td>\n",
       "      <td>False</td>\n",
       "      <td>NaN</td>\n",
       "      <td>NaN</td>\n",
       "      <td>NaN</td>\n",
       "      <td>NaN</td>\n",
       "      <td>NaN</td>\n",
       "    </tr>\n",
       "  </tbody>\n",
       "</table>\n",
       "<p>1646 rows × 22 columns</p>\n",
       "</div>"
      ],
      "text/plain": [
       "       event_id event_type      result success  period_id    timestamp  \\\n",
       "0     178494347       PASS    COMPLETE    True          1     5.546151   \n",
       "1     178494348       PASS    COMPLETE    True          1     6.708916   \n",
       "2     178494349       PASS    COMPLETE    True          1     9.612072   \n",
       "3     178494350       PASS    COMPLETE    True          1    10.718877   \n",
       "4     178494351       PASS    COMPLETE    True          1    12.728071   \n",
       "...         ...        ...         ...     ...        ...          ...   \n",
       "1641  178496018   RECOVERY        None    None          2  2862.313235   \n",
       "1642  178496019   BALL_OUT        None    None          2  2866.414500   \n",
       "1643  178495982       PASS    COMPLETE    True          2  2879.021252   \n",
       "1644  178496020    TAKE_ON        None    None          2  2883.667683   \n",
       "1645  178496470    TAKE_ON  INCOMPLETE   False          2  2883.667683   \n",
       "\n",
       "     end_timestamp ball_state ball_owning_team team_id  ... coordinates_y  \\\n",
       "0             None       None             None    1611  ...          0.52   \n",
       "1             None       None             None    1611  ...          0.44   \n",
       "2             None       None             None    1611  ...          0.75   \n",
       "3             None       None             None    1611  ...          0.76   \n",
       "4             None       None             None    1611  ...          0.36   \n",
       "...            ...        ...              ...     ...  ...           ...   \n",
       "1641          None       None             None    1633  ...          0.35   \n",
       "1642          None       None             None    1633  ...          0.00   \n",
       "1643          None       None             None    1611  ...          1.00   \n",
       "1644          None       None             None    1633  ...          0.09   \n",
       "1645          None       None             None    1611  ...          0.91   \n",
       "\n",
       "      end_coordinates_x  end_coordinates_y  receiver_player_id  \\\n",
       "0                  0.40               0.44                 NaN   \n",
       "1                  0.33               0.75                 NaN   \n",
       "2                  0.42               0.76                 NaN   \n",
       "3                  0.28               0.36                 NaN   \n",
       "4                  0.34               0.12                 NaN   \n",
       "...                 ...                ...                 ...   \n",
       "1641                NaN                NaN                 NaN   \n",
       "1642                NaN                NaN                 NaN   \n",
       "1643               0.93               0.91                 NaN   \n",
       "1644                NaN                NaN                 NaN   \n",
       "1645                NaN                NaN                 NaN   \n",
       "\n",
       "      is_counter_attack    pass_type  set_piece_type body_part_type  \\\n",
       "0                 False  SIMPLE_PASS             NaN            NaN   \n",
       "1                 False  SIMPLE_PASS             NaN            NaN   \n",
       "2                 False  SIMPLE_PASS             NaN            NaN   \n",
       "3                 False  SIMPLE_PASS             NaN            NaN   \n",
       "4                 False  SIMPLE_PASS             NaN            NaN   \n",
       "...                 ...          ...             ...            ...   \n",
       "1641              False          NaN             NaN            NaN   \n",
       "1642              False          NaN             NaN            NaN   \n",
       "1643              False    HAND_PASS        THROW_IN            NaN   \n",
       "1644              False          NaN             NaN            NaN   \n",
       "1645              False          NaN             NaN            NaN   \n",
       "\n",
       "     goalkeeper_action_type card_type  \n",
       "0                       NaN       NaN  \n",
       "1                       NaN       NaN  \n",
       "2                       NaN       NaN  \n",
       "3                       NaN       NaN  \n",
       "4                       NaN       NaN  \n",
       "...                     ...       ...  \n",
       "1641                    NaN       NaN  \n",
       "1642                    NaN       NaN  \n",
       "1643                    NaN       NaN  \n",
       "1644                    NaN       NaN  \n",
       "1645                    NaN       NaN  \n",
       "\n",
       "[1646 rows x 22 columns]"
      ]
     },
     "execution_count": 4,
     "metadata": {},
     "output_type": "execute_result"
    }
   ],
   "source": [
    "manu_westham.to_pandas()"
   ]
  },
  {
   "cell_type": "code",
   "execution_count": 5,
   "id": "a850abb5",
   "metadata": {
    "execution": {
     "iopub.execute_input": "2022-08-27T11:16:00.881125Z",
     "iopub.status.busy": "2022-08-27T11:16:00.880739Z",
     "iopub.status.idle": "2022-08-27T11:16:00.885480Z",
     "shell.execute_reply": "2022-08-27T11:16:00.884568Z"
    },
    "papermill": {
     "duration": 0.014219,
     "end_time": "2022-08-27T11:16:00.887640",
     "exception": false,
     "start_time": "2022-08-27T11:16:00.873421",
     "status": "completed"
    },
    "tags": []
   },
   "outputs": [],
   "source": [
    "import json\n",
    "import pandas as pd\n",
    "import numpy as np"
   ]
  },
  {
   "cell_type": "code",
   "execution_count": 6,
   "id": "67178eb4",
   "metadata": {
    "execution": {
     "iopub.execute_input": "2022-08-27T11:16:00.900881Z",
     "iopub.status.busy": "2022-08-27T11:16:00.900346Z",
     "iopub.status.idle": "2022-08-27T11:16:00.995744Z",
     "shell.execute_reply": "2022-08-27T11:16:00.994849Z"
    },
    "papermill": {
     "duration": 0.104764,
     "end_time": "2022-08-27T11:16:00.998281",
     "exception": false,
     "start_time": "2022-08-27T11:16:00.893517",
     "status": "completed"
    },
    "tags": []
   },
   "outputs": [],
   "source": [
    "json_path = '../input/wyscoutdata/matches_England.json'\n",
    "with open(json_path) as f:\n",
    "    data = json.load(f)\n",
    "    matches = pd.json_normalize(data, sep = \"_\")"
   ]
  },
  {
   "cell_type": "code",
   "execution_count": 7,
   "id": "bb2db0ea",
   "metadata": {
    "execution": {
     "iopub.execute_input": "2022-08-27T11:16:01.011748Z",
     "iopub.status.busy": "2022-08-27T11:16:01.011367Z",
     "iopub.status.idle": "2022-08-27T11:16:01.021799Z",
     "shell.execute_reply": "2022-08-27T11:16:01.020910Z"
    },
    "papermill": {
     "duration": 0.01967,
     "end_time": "2022-08-27T11:16:01.023891",
     "exception": false,
     "start_time": "2022-08-27T11:16:01.004221",
     "status": "completed"
    },
    "tags": []
   },
   "outputs": [
    {
     "data": {
      "text/plain": [
       "0      38\n",
       "1      38\n",
       "2      38\n",
       "3      38\n",
       "4      38\n",
       "       ..\n",
       "375     1\n",
       "376     1\n",
       "377     1\n",
       "378     1\n",
       "379     1\n",
       "Name: gameweek, Length: 380, dtype: int64"
      ]
     },
     "execution_count": 7,
     "metadata": {},
     "output_type": "execute_result"
    }
   ],
   "source": [
    "matches['gameweek']"
   ]
  },
  {
   "cell_type": "code",
   "execution_count": 8,
   "id": "52bd2ed1",
   "metadata": {
    "execution": {
     "iopub.execute_input": "2022-08-27T11:16:01.036601Z",
     "iopub.status.busy": "2022-08-27T11:16:01.036001Z",
     "iopub.status.idle": "2022-08-27T11:16:01.042225Z",
     "shell.execute_reply": "2022-08-27T11:16:01.041358Z"
    },
    "papermill": {
     "duration": 0.014536,
     "end_time": "2022-08-27T11:16:01.044100",
     "exception": false,
     "start_time": "2022-08-27T11:16:01.029564",
     "status": "completed"
    },
    "tags": []
   },
   "outputs": [
    {
     "data": {
      "text/plain": [
       "['AFC Bournemouth', '1']"
      ]
     },
     "execution_count": 8,
     "metadata": {},
     "output_type": "execute_result"
    }
   ],
   "source": [
    "matches.label.iloc[0].split(' - ')[1].split(', ')"
   ]
  },
  {
   "cell_type": "code",
   "execution_count": 9,
   "id": "69b3c9f8",
   "metadata": {
    "execution": {
     "iopub.execute_input": "2022-08-27T11:16:01.057134Z",
     "iopub.status.busy": "2022-08-27T11:16:01.056501Z",
     "iopub.status.idle": "2022-08-27T11:16:01.061458Z",
     "shell.execute_reply": "2022-08-27T11:16:01.060625Z"
    },
    "papermill": {
     "duration": 0.013575,
     "end_time": "2022-08-27T11:16:01.063296",
     "exception": false,
     "start_time": "2022-08-27T11:16:01.049721",
     "status": "completed"
    },
    "tags": []
   },
   "outputs": [],
   "source": [
    "def split_label(string):\n",
    "    home, away_home_score, away_score = string.split(' - ')\n",
    "    away, home_score = away_home_score.split(', ')\n",
    "    return home, away, home_score, away_score"
   ]
  },
  {
   "cell_type": "code",
   "execution_count": 10,
   "id": "734babe4",
   "metadata": {
    "execution": {
     "iopub.execute_input": "2022-08-27T11:16:01.076442Z",
     "iopub.status.busy": "2022-08-27T11:16:01.076142Z",
     "iopub.status.idle": "2022-08-27T11:16:01.085154Z",
     "shell.execute_reply": "2022-08-27T11:16:01.084206Z"
    },
    "papermill": {
     "duration": 0.01793,
     "end_time": "2022-08-27T11:16:01.087140",
     "exception": false,
     "start_time": "2022-08-27T11:16:01.069210",
     "status": "completed"
    },
    "tags": []
   },
   "outputs": [],
   "source": [
    "matches['home_team'],matches['away_team'], matches['home_score'], matches['away_score'] = zip(*matches['label'].map(split_label))"
   ]
  },
  {
   "cell_type": "code",
   "execution_count": 11,
   "id": "01e3ba85",
   "metadata": {
    "execution": {
     "iopub.execute_input": "2022-08-27T11:16:01.099907Z",
     "iopub.status.busy": "2022-08-27T11:16:01.099301Z",
     "iopub.status.idle": "2022-08-27T11:16:01.107051Z",
     "shell.execute_reply": "2022-08-27T11:16:01.106292Z"
    },
    "papermill": {
     "duration": 0.016294,
     "end_time": "2022-08-27T11:16:01.108866",
     "exception": false,
     "start_time": "2022-08-27T11:16:01.092572",
     "status": "completed"
    },
    "tags": []
   },
   "outputs": [],
   "source": [
    "scores = matches[['home_team', 'away_team', 'home_score', 'away_score', 'gameweek']]"
   ]
  },
  {
   "cell_type": "code",
   "execution_count": 12,
   "id": "e78d99dd",
   "metadata": {
    "execution": {
     "iopub.execute_input": "2022-08-27T11:16:01.121909Z",
     "iopub.status.busy": "2022-08-27T11:16:01.121369Z",
     "iopub.status.idle": "2022-08-27T11:16:01.127027Z",
     "shell.execute_reply": "2022-08-27T11:16:01.126345Z"
    },
    "papermill": {
     "duration": 0.014013,
     "end_time": "2022-08-27T11:16:01.128796",
     "exception": false,
     "start_time": "2022-08-27T11:16:01.114783",
     "status": "completed"
    },
    "tags": []
   },
   "outputs": [
    {
     "data": {
      "text/plain": [
       "array(['Burnley', 'Crystal Palace', 'Huddersfield Town', 'Liverpool',\n",
       "       'Manchester United', 'Newcastle United', 'Southampton',\n",
       "       'Swansea City', 'Tottenham Hotspur', 'West Ham United',\n",
       "       'Manchester City', 'Leicester City', 'Chelsea', 'Arsenal',\n",
       "       'Everton', 'AFC Bournemouth', 'Watford', 'West Bromwich Albion',\n",
       "       'Stoke City', 'Brighton & Hove Albion'], dtype=object)"
      ]
     },
     "execution_count": 12,
     "metadata": {},
     "output_type": "execute_result"
    }
   ],
   "source": [
    "teams = matches['home_team'].unique()\n",
    "teams"
   ]
  },
  {
   "cell_type": "code",
   "execution_count": 13,
   "id": "0f194d4d",
   "metadata": {
    "execution": {
     "iopub.execute_input": "2022-08-27T11:16:01.142546Z",
     "iopub.status.busy": "2022-08-27T11:16:01.141978Z",
     "iopub.status.idle": "2022-08-27T11:16:01.147967Z",
     "shell.execute_reply": "2022-08-27T11:16:01.147331Z"
    },
    "papermill": {
     "duration": 0.015498,
     "end_time": "2022-08-27T11:16:01.150281",
     "exception": false,
     "start_time": "2022-08-27T11:16:01.134783",
     "status": "completed"
    },
    "tags": []
   },
   "outputs": [
    {
     "name": "stderr",
     "output_type": "stream",
     "text": [
      "/opt/conda/lib/python3.7/site-packages/ipykernel_launcher.py:1: DeprecationWarning: `np.int` is a deprecated alias for the builtin `int`. To silence this warning, use `int` by itself. Doing this will not modify any behavior and is safe. When replacing `np.int`, you may wish to use e.g. `np.int64` or `np.int32` to specify the precision. If you wish to review your current use, check the release note link for additional information.\n",
      "Deprecated in NumPy 1.20; for more details and guidance: https://numpy.org/devdocs/release/1.20.0-notes.html#deprecations\n",
      "  \"\"\"Entry point for launching an IPython kernel.\n",
      "/opt/conda/lib/python3.7/site-packages/ipykernel_launcher.py:1: SettingWithCopyWarning: \n",
      "A value is trying to be set on a copy of a slice from a DataFrame.\n",
      "Try using .loc[row_indexer,col_indexer] = value instead\n",
      "\n",
      "See the caveats in the documentation: https://pandas.pydata.org/pandas-docs/stable/user_guide/indexing.html#returning-a-view-versus-a-copy\n",
      "  \"\"\"Entry point for launching an IPython kernel.\n",
      "/opt/conda/lib/python3.7/site-packages/ipykernel_launcher.py:2: DeprecationWarning: `np.int` is a deprecated alias for the builtin `int`. To silence this warning, use `int` by itself. Doing this will not modify any behavior and is safe. When replacing `np.int`, you may wish to use e.g. `np.int64` or `np.int32` to specify the precision. If you wish to review your current use, check the release note link for additional information.\n",
      "Deprecated in NumPy 1.20; for more details and guidance: https://numpy.org/devdocs/release/1.20.0-notes.html#deprecations\n",
      "  \n",
      "/opt/conda/lib/python3.7/site-packages/ipykernel_launcher.py:2: SettingWithCopyWarning: \n",
      "A value is trying to be set on a copy of a slice from a DataFrame.\n",
      "Try using .loc[row_indexer,col_indexer] = value instead\n",
      "\n",
      "See the caveats in the documentation: https://pandas.pydata.org/pandas-docs/stable/user_guide/indexing.html#returning-a-view-versus-a-copy\n",
      "  \n"
     ]
    }
   ],
   "source": [
    "scores['home_score'] = scores['home_score'].astype(np.int)\n",
    "scores['away_score'] = scores['away_score'].astype(np.int)"
   ]
  },
  {
   "cell_type": "code",
   "execution_count": 14,
   "id": "e099ddcd",
   "metadata": {
    "execution": {
     "iopub.execute_input": "2022-08-27T11:16:01.164338Z",
     "iopub.status.busy": "2022-08-27T11:16:01.163853Z",
     "iopub.status.idle": "2022-08-27T11:16:01.195175Z",
     "shell.execute_reply": "2022-08-27T11:16:01.194418Z"
    },
    "papermill": {
     "duration": 0.040211,
     "end_time": "2022-08-27T11:16:01.197269",
     "exception": false,
     "start_time": "2022-08-27T11:16:01.157058",
     "status": "completed"
    },
    "tags": []
   },
   "outputs": [],
   "source": [
    "table = {}\n",
    "for team in teams:\n",
    "    table[team] = {'goals': 0, 'goals_against': 0, 'points': 0, 'wins': 0, 'draws': 0, 'losses': 0}\n",
    "for index, game in scores.iterrows():\n",
    "    home_team = game['home_team']\n",
    "    away_team = game['away_team']\n",
    "    away_score = game['away_score']\n",
    "    home_score = game['home_score']\n",
    "    #update scores\n",
    "    table[home_team]['goals'] += home_score\n",
    "    table[home_team]['goals_against'] += away_score\n",
    "    table[away_team]['goals'] += away_score\n",
    "    table[away_team]['goals_against'] += home_score\n",
    "    #update wins\n",
    "    if home_score > away_score:\n",
    "        table[home_team]['wins'] += 1\n",
    "        table[away_team]['losses'] += 1 \n",
    "    elif home_score == away_score:\n",
    "        table[home_team]['draws'] += 1\n",
    "        table[away_team]['draws'] += 1\n",
    "    else:\n",
    "        table[home_team]['losses'] += 1\n",
    "        table[away_team]['wins'] += 1"
   ]
  },
  {
   "cell_type": "code",
   "execution_count": 15,
   "id": "740f3f21",
   "metadata": {
    "execution": {
     "iopub.execute_input": "2022-08-27T11:16:01.211195Z",
     "iopub.status.busy": "2022-08-27T11:16:01.210653Z",
     "iopub.status.idle": "2022-08-27T11:16:01.215783Z",
     "shell.execute_reply": "2022-08-27T11:16:01.215091Z"
    },
    "papermill": {
     "duration": 0.014523,
     "end_time": "2022-08-27T11:16:01.217678",
     "exception": false,
     "start_time": "2022-08-27T11:16:01.203155",
     "status": "completed"
    },
    "tags": []
   },
   "outputs": [],
   "source": [
    "table = pd.DataFrame().from_dict(table, orient='index')"
   ]
  },
  {
   "cell_type": "code",
   "execution_count": 16,
   "id": "3c0b8bf7",
   "metadata": {
    "execution": {
     "iopub.execute_input": "2022-08-27T11:16:01.231981Z",
     "iopub.status.busy": "2022-08-27T11:16:01.231494Z",
     "iopub.status.idle": "2022-08-27T11:16:01.236139Z",
     "shell.execute_reply": "2022-08-27T11:16:01.235365Z"
    },
    "papermill": {
     "duration": 0.01408,
     "end_time": "2022-08-27T11:16:01.238056",
     "exception": false,
     "start_time": "2022-08-27T11:16:01.223976",
     "status": "completed"
    },
    "tags": []
   },
   "outputs": [],
   "source": [
    "table['points'] = table['wins']*3 + table['draws']"
   ]
  },
  {
   "cell_type": "code",
   "execution_count": 17,
   "id": "4609fb8d",
   "metadata": {
    "execution": {
     "iopub.execute_input": "2022-08-27T11:16:01.252384Z",
     "iopub.status.busy": "2022-08-27T11:16:01.251649Z",
     "iopub.status.idle": "2022-08-27T11:16:01.263344Z",
     "shell.execute_reply": "2022-08-27T11:16:01.262622Z"
    },
    "papermill": {
     "duration": 0.020945,
     "end_time": "2022-08-27T11:16:01.265372",
     "exception": false,
     "start_time": "2022-08-27T11:16:01.244427",
     "status": "completed"
    },
    "tags": []
   },
   "outputs": [
    {
     "data": {
      "text/html": [
       "<div>\n",
       "<style scoped>\n",
       "    .dataframe tbody tr th:only-of-type {\n",
       "        vertical-align: middle;\n",
       "    }\n",
       "\n",
       "    .dataframe tbody tr th {\n",
       "        vertical-align: top;\n",
       "    }\n",
       "\n",
       "    .dataframe thead th {\n",
       "        text-align: right;\n",
       "    }\n",
       "</style>\n",
       "<table border=\"1\" class=\"dataframe\">\n",
       "  <thead>\n",
       "    <tr style=\"text-align: right;\">\n",
       "      <th></th>\n",
       "      <th>goals</th>\n",
       "      <th>goals_against</th>\n",
       "      <th>points</th>\n",
       "      <th>wins</th>\n",
       "      <th>draws</th>\n",
       "      <th>losses</th>\n",
       "    </tr>\n",
       "  </thead>\n",
       "  <tbody>\n",
       "    <tr>\n",
       "      <th>West Bromwich Albion</th>\n",
       "      <td>31</td>\n",
       "      <td>56</td>\n",
       "      <td>31</td>\n",
       "      <td>6</td>\n",
       "      <td>13</td>\n",
       "      <td>19</td>\n",
       "    </tr>\n",
       "    <tr>\n",
       "      <th>Stoke City</th>\n",
       "      <td>35</td>\n",
       "      <td>68</td>\n",
       "      <td>33</td>\n",
       "      <td>7</td>\n",
       "      <td>12</td>\n",
       "      <td>19</td>\n",
       "    </tr>\n",
       "    <tr>\n",
       "      <th>Swansea City</th>\n",
       "      <td>28</td>\n",
       "      <td>56</td>\n",
       "      <td>33</td>\n",
       "      <td>8</td>\n",
       "      <td>9</td>\n",
       "      <td>21</td>\n",
       "    </tr>\n",
       "    <tr>\n",
       "      <th>Southampton</th>\n",
       "      <td>37</td>\n",
       "      <td>56</td>\n",
       "      <td>36</td>\n",
       "      <td>7</td>\n",
       "      <td>15</td>\n",
       "      <td>16</td>\n",
       "    </tr>\n",
       "    <tr>\n",
       "      <th>Huddersfield Town</th>\n",
       "      <td>28</td>\n",
       "      <td>58</td>\n",
       "      <td>37</td>\n",
       "      <td>9</td>\n",
       "      <td>10</td>\n",
       "      <td>19</td>\n",
       "    </tr>\n",
       "    <tr>\n",
       "      <th>Brighton &amp; Hove Albion</th>\n",
       "      <td>34</td>\n",
       "      <td>54</td>\n",
       "      <td>40</td>\n",
       "      <td>9</td>\n",
       "      <td>13</td>\n",
       "      <td>16</td>\n",
       "    </tr>\n",
       "    <tr>\n",
       "      <th>Watford</th>\n",
       "      <td>44</td>\n",
       "      <td>64</td>\n",
       "      <td>41</td>\n",
       "      <td>11</td>\n",
       "      <td>8</td>\n",
       "      <td>19</td>\n",
       "    </tr>\n",
       "    <tr>\n",
       "      <th>West Ham United</th>\n",
       "      <td>48</td>\n",
       "      <td>68</td>\n",
       "      <td>42</td>\n",
       "      <td>10</td>\n",
       "      <td>12</td>\n",
       "      <td>16</td>\n",
       "    </tr>\n",
       "    <tr>\n",
       "      <th>AFC Bournemouth</th>\n",
       "      <td>45</td>\n",
       "      <td>61</td>\n",
       "      <td>44</td>\n",
       "      <td>11</td>\n",
       "      <td>11</td>\n",
       "      <td>16</td>\n",
       "    </tr>\n",
       "    <tr>\n",
       "      <th>Crystal Palace</th>\n",
       "      <td>45</td>\n",
       "      <td>55</td>\n",
       "      <td>44</td>\n",
       "      <td>11</td>\n",
       "      <td>11</td>\n",
       "      <td>16</td>\n",
       "    </tr>\n",
       "    <tr>\n",
       "      <th>Newcastle United</th>\n",
       "      <td>39</td>\n",
       "      <td>47</td>\n",
       "      <td>44</td>\n",
       "      <td>12</td>\n",
       "      <td>8</td>\n",
       "      <td>18</td>\n",
       "    </tr>\n",
       "    <tr>\n",
       "      <th>Leicester City</th>\n",
       "      <td>56</td>\n",
       "      <td>60</td>\n",
       "      <td>47</td>\n",
       "      <td>12</td>\n",
       "      <td>11</td>\n",
       "      <td>15</td>\n",
       "    </tr>\n",
       "    <tr>\n",
       "      <th>Everton</th>\n",
       "      <td>44</td>\n",
       "      <td>58</td>\n",
       "      <td>49</td>\n",
       "      <td>13</td>\n",
       "      <td>10</td>\n",
       "      <td>15</td>\n",
       "    </tr>\n",
       "    <tr>\n",
       "      <th>Burnley</th>\n",
       "      <td>36</td>\n",
       "      <td>39</td>\n",
       "      <td>54</td>\n",
       "      <td>14</td>\n",
       "      <td>12</td>\n",
       "      <td>12</td>\n",
       "    </tr>\n",
       "    <tr>\n",
       "      <th>Arsenal</th>\n",
       "      <td>74</td>\n",
       "      <td>51</td>\n",
       "      <td>63</td>\n",
       "      <td>19</td>\n",
       "      <td>6</td>\n",
       "      <td>13</td>\n",
       "    </tr>\n",
       "    <tr>\n",
       "      <th>Chelsea</th>\n",
       "      <td>62</td>\n",
       "      <td>38</td>\n",
       "      <td>70</td>\n",
       "      <td>21</td>\n",
       "      <td>7</td>\n",
       "      <td>10</td>\n",
       "    </tr>\n",
       "    <tr>\n",
       "      <th>Liverpool</th>\n",
       "      <td>84</td>\n",
       "      <td>38</td>\n",
       "      <td>75</td>\n",
       "      <td>21</td>\n",
       "      <td>12</td>\n",
       "      <td>5</td>\n",
       "    </tr>\n",
       "    <tr>\n",
       "      <th>Tottenham Hotspur</th>\n",
       "      <td>74</td>\n",
       "      <td>36</td>\n",
       "      <td>77</td>\n",
       "      <td>23</td>\n",
       "      <td>8</td>\n",
       "      <td>7</td>\n",
       "    </tr>\n",
       "    <tr>\n",
       "      <th>Manchester United</th>\n",
       "      <td>68</td>\n",
       "      <td>28</td>\n",
       "      <td>81</td>\n",
       "      <td>25</td>\n",
       "      <td>6</td>\n",
       "      <td>7</td>\n",
       "    </tr>\n",
       "    <tr>\n",
       "      <th>Manchester City</th>\n",
       "      <td>106</td>\n",
       "      <td>27</td>\n",
       "      <td>100</td>\n",
       "      <td>32</td>\n",
       "      <td>4</td>\n",
       "      <td>2</td>\n",
       "    </tr>\n",
       "  </tbody>\n",
       "</table>\n",
       "</div>"
      ],
      "text/plain": [
       "                        goals  goals_against  points  wins  draws  losses\n",
       "West Bromwich Albion       31             56      31     6     13      19\n",
       "Stoke City                 35             68      33     7     12      19\n",
       "Swansea City               28             56      33     8      9      21\n",
       "Southampton                37             56      36     7     15      16\n",
       "Huddersfield Town          28             58      37     9     10      19\n",
       "Brighton & Hove Albion     34             54      40     9     13      16\n",
       "Watford                    44             64      41    11      8      19\n",
       "West Ham United            48             68      42    10     12      16\n",
       "AFC Bournemouth            45             61      44    11     11      16\n",
       "Crystal Palace             45             55      44    11     11      16\n",
       "Newcastle United           39             47      44    12      8      18\n",
       "Leicester City             56             60      47    12     11      15\n",
       "Everton                    44             58      49    13     10      15\n",
       "Burnley                    36             39      54    14     12      12\n",
       "Arsenal                    74             51      63    19      6      13\n",
       "Chelsea                    62             38      70    21      7      10\n",
       "Liverpool                  84             38      75    21     12       5\n",
       "Tottenham Hotspur          74             36      77    23      8       7\n",
       "Manchester United          68             28      81    25      6       7\n",
       "Manchester City           106             27     100    32      4       2"
      ]
     },
     "execution_count": 17,
     "metadata": {},
     "output_type": "execute_result"
    }
   ],
   "source": [
    "table.sort_values(by = 'points')"
   ]
  },
  {
   "cell_type": "code",
   "execution_count": 18,
   "id": "10922fcb",
   "metadata": {
    "execution": {
     "iopub.execute_input": "2022-08-27T11:16:01.279781Z",
     "iopub.status.busy": "2022-08-27T11:16:01.279289Z",
     "iopub.status.idle": "2022-08-27T11:16:01.285486Z",
     "shell.execute_reply": "2022-08-27T11:16:01.284750Z"
    },
    "papermill": {
     "duration": 0.015317,
     "end_time": "2022-08-27T11:16:01.287262",
     "exception": false,
     "start_time": "2022-08-27T11:16:01.271945",
     "status": "completed"
    },
    "tags": []
   },
   "outputs": [],
   "source": [
    "table.to_csv(\"epl_table.csv\")"
   ]
  },
  {
   "cell_type": "code",
   "execution_count": null,
   "id": "55a637d2",
   "metadata": {
    "papermill": {
     "duration": 0.006655,
     "end_time": "2022-08-27T11:16:01.300162",
     "exception": false,
     "start_time": "2022-08-27T11:16:01.293507",
     "status": "completed"
    },
    "tags": []
   },
   "outputs": [],
   "source": []
  }
 ],
 "metadata": {
  "kernelspec": {
   "display_name": "Python 3",
   "language": "python",
   "name": "python3"
  },
  "language_info": {
   "codemirror_mode": {
    "name": "ipython",
    "version": 3
   },
   "file_extension": ".py",
   "mimetype": "text/x-python",
   "name": "python",
   "nbconvert_exporter": "python",
   "pygments_lexer": "ipython3",
   "version": "3.7.12"
  },
  "papermill": {
   "default_parameters": {},
   "duration": 23.320771,
   "end_time": "2022-08-27T11:16:01.927402",
   "environment_variables": {},
   "exception": null,
   "input_path": "__notebook__.ipynb",
   "output_path": "__notebook__.ipynb",
   "parameters": {},
   "start_time": "2022-08-27T11:15:38.606631",
   "version": "2.3.4"
  }
 },
 "nbformat": 4,
 "nbformat_minor": 5
}
