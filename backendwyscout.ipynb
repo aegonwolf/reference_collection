{
 "cells": [
  {
   "cell_type": "code",
   "execution_count": 1,
   "id": "396c974d",
   "metadata": {
    "execution": {
     "iopub.execute_input": "2022-09-01T16:44:13.923536Z",
     "iopub.status.busy": "2022-09-01T16:44:13.923059Z",
     "iopub.status.idle": "2022-09-01T16:44:25.528300Z",
     "shell.execute_reply": "2022-09-01T16:44:25.527533Z"
    },
    "papermill": {
     "duration": 11.617467,
     "end_time": "2022-09-01T16:44:25.531096",
     "exception": false,
     "start_time": "2022-09-01T16:44:13.913629",
     "status": "completed"
    },
    "tags": []
   },
   "outputs": [
    {
     "name": "stdout",
     "output_type": "stream",
     "text": [
      "Collecting kloppy\r\n",
      "  Downloading kloppy-3.5.1-py3-none-any.whl (139 kB)\r\n",
      "\u001b[2K     \u001b[90m━━━━━━━━━━━━━━━━━━━━━━━━━━━━━━━━━━━━━\u001b[0m \u001b[32m139.0/139.0 kB\u001b[0m \u001b[31m654.3 kB/s\u001b[0m eta \u001b[36m0:00:00\u001b[0m\r\n",
      "\u001b[?25hRequirement already satisfied: pytz>=2020.1 in /opt/conda/lib/python3.7/site-packages (from kloppy) (2022.1)\r\n",
      "Requirement already satisfied: mypy-extensions in /opt/conda/lib/python3.7/site-packages (from kloppy) (0.4.3)\r\n",
      "Requirement already satisfied: typing-extensions in /opt/conda/lib/python3.7/site-packages (from kloppy) (4.1.1)\r\n",
      "Requirement already satisfied: requests<3,>=2.0.0 in /opt/conda/lib/python3.7/site-packages (from kloppy) (2.27.1)\r\n",
      "Requirement already satisfied: python-dateutil<3,>=2.8.1 in /opt/conda/lib/python3.7/site-packages (from kloppy) (2.8.2)\r\n",
      "Requirement already satisfied: lxml<5,>=4.4.0 in /opt/conda/lib/python3.7/site-packages (from kloppy) (4.9.0)\r\n",
      "Requirement already satisfied: six>=1.5 in /opt/conda/lib/python3.7/site-packages (from python-dateutil<3,>=2.8.1->kloppy) (1.16.0)\r\n",
      "Requirement already satisfied: urllib3<1.27,>=1.21.1 in /opt/conda/lib/python3.7/site-packages (from requests<3,>=2.0.0->kloppy) (1.26.9)\r\n",
      "Requirement already satisfied: charset-normalizer~=2.0.0 in /opt/conda/lib/python3.7/site-packages (from requests<3,>=2.0.0->kloppy) (2.0.12)\r\n",
      "Requirement already satisfied: certifi>=2017.4.17 in /opt/conda/lib/python3.7/site-packages (from requests<3,>=2.0.0->kloppy) (2022.6.15)\r\n",
      "Requirement already satisfied: idna<4,>=2.5 in /opt/conda/lib/python3.7/site-packages (from requests<3,>=2.0.0->kloppy) (3.3)\r\n",
      "Installing collected packages: kloppy\r\n",
      "Successfully installed kloppy-3.5.1\r\n",
      "\u001b[33mWARNING: Running pip as the 'root' user can result in broken permissions and conflicting behaviour with the system package manager. It is recommended to use a virtual environment instead: https://pip.pypa.io/warnings/venv\u001b[0m\u001b[33m\r\n",
      "\u001b[0m"
     ]
    }
   ],
   "source": [
    "!pip install kloppy"
   ]
  },
  {
   "cell_type": "code",
   "execution_count": 2,
   "id": "14ac8045",
   "metadata": {
    "_cell_guid": "b1076dfc-b9ad-4769-8c92-a6c4dae69d19",
    "_uuid": "8f2839f25d086af736a60e9eeb907d3b93b6e0e5",
    "execution": {
     "iopub.execute_input": "2022-09-01T16:44:25.546983Z",
     "iopub.status.busy": "2022-09-01T16:44:25.546618Z",
     "iopub.status.idle": "2022-09-01T16:44:25.596488Z",
     "shell.execute_reply": "2022-09-01T16:44:25.595516Z"
    },
    "papermill": {
     "duration": 0.06026,
     "end_time": "2022-09-01T16:44:25.598796",
     "exception": false,
     "start_time": "2022-09-01T16:44:25.538536",
     "status": "completed"
    },
    "tags": []
   },
   "outputs": [],
   "source": [
    "from kloppy import datasets, wyscout\n",
    "import json\n",
    "import pandas as pd\n",
    "import numpy as np"
   ]
  },
  {
   "cell_type": "code",
   "execution_count": 3,
   "id": "b37e53c9",
   "metadata": {
    "execution": {
     "iopub.execute_input": "2022-09-01T16:44:25.613899Z",
     "iopub.status.busy": "2022-09-01T16:44:25.613545Z",
     "iopub.status.idle": "2022-09-01T16:44:26.202663Z",
     "shell.execute_reply": "2022-09-01T16:44:26.201557Z"
    },
    "papermill": {
     "duration": 0.599329,
     "end_time": "2022-09-01T16:44:26.205061",
     "exception": false,
     "start_time": "2022-09-01T16:44:25.605732",
     "status": "completed"
    },
    "tags": []
   },
   "outputs": [],
   "source": [
    "manu_westham = datasets.load('wyscout', match_id = 2499724)"
   ]
  },
  {
   "cell_type": "code",
   "execution_count": 4,
   "id": "d87c0842",
   "metadata": {
    "execution": {
     "iopub.execute_input": "2022-09-01T16:44:26.221014Z",
     "iopub.status.busy": "2022-09-01T16:44:26.220040Z",
     "iopub.status.idle": "2022-09-01T16:44:26.309290Z",
     "shell.execute_reply": "2022-09-01T16:44:26.308396Z"
    },
    "papermill": {
     "duration": 0.098928,
     "end_time": "2022-09-01T16:44:26.311142",
     "exception": false,
     "start_time": "2022-09-01T16:44:26.212214",
     "status": "completed"
    },
    "tags": []
   },
   "outputs": [
    {
     "data": {
      "text/plain": [
       "{1613: 'Newcastle United',\n",
       " 692: 'Celta de Vigo',\n",
       " 691: 'Espanyol',\n",
       " 696: 'Deportivo Alav\\\\u00e9s',\n",
       " 695: 'Levante',\n",
       " 3795: 'Troyes',\n",
       " 698: 'Getafe',\n",
       " 2454: \"Borussia M'gladbach\",\n",
       " 1673: 'Huddersfield Town',\n",
       " 678: 'Athletic Club',\n",
       " 679: 'Atl\\\\u00e9tico Madrid',\n",
       " 3766: 'Olympique Lyonnais',\n",
       " 3767: 'PSG',\n",
       " 674: 'Valencia',\n",
       " 675: 'Real Madrid',\n",
       " 676: 'Barcelona',\n",
       " 714: 'Las Palmas',\n",
       " 712: 'Legan\\\\u00e9s',\n",
       " 3204: 'SPAL',\n",
       " 10531: 'Swansea City',\n",
       " 3771: 'Olympique Marseille',\n",
       " 3770: 'Nantes',\n",
       " 3775: 'Nice',\n",
       " 3774: 'Rennes',\n",
       " 3779: 'Strasbourg',\n",
       " 701: 'Eibar',\n",
       " 1659: 'AFC Bournemouth',\n",
       " 1651: 'Brighton & Hove Albion',\n",
       " 2443: 'Werder Bremen',\n",
       " 2446: 'Bayer Leverkusen',\n",
       " 2447: 'Borussia Dortmund',\n",
       " 2444: 'Bayern M\\\\u00fcnchen',\n",
       " 2445: 'Stuttgart',\n",
       " 2449: 'Schalke 04',\n",
       " 3157: 'Milan',\n",
       " 3799: 'Angers',\n",
       " 3159: 'Juventus',\n",
       " 3158: 'Roma',\n",
       " 3315: 'Sassuolo',\n",
       " 1646: 'Burnley',\n",
       " 3772: 'Bordeaux',\n",
       " 2455: 'Hannover 96',\n",
       " 3804: 'Dijon',\n",
       " 2457: 'Hertha BSC',\n",
       " 2451: 'Wolfsburg',\n",
       " 2450: 'Hamburger SV',\n",
       " 2453: 'Freiburg',\n",
       " 3166: 'Bologna',\n",
       " 3777: 'Metz',\n",
       " 3164: 'Sampdoria',\n",
       " 3165: 'Chievo',\n",
       " 3162: 'Lazio',\n",
       " 3163: 'Udinese',\n",
       " 3161: 'Internazionale',\n",
       " 1631: 'Leicester City',\n",
       " 1633: 'West Ham United',\n",
       " 1639: 'Stoke City',\n",
       " 3219: 'Benevento',\n",
       " 3782: 'Saint-\\\\u00c9tienne',\n",
       " 756: 'Girona',\n",
       " 1644: 'Watford',\n",
       " 2482: 'Hoffenheim',\n",
       " 3173: 'Cagliari',\n",
       " 3172: 'Atalanta',\n",
       " 3176: 'Fiorentina',\n",
       " 1623: 'Everton',\n",
       " 1627: 'West Bromwich Albion',\n",
       " 1625: 'Manchester City',\n",
       " 1624: 'Tottenham Hotspur',\n",
       " 2481: 'Augsburg',\n",
       " 1628: 'Crystal Palace',\n",
       " 19830: 'Monaco',\n",
       " 2460: 'Mainz 05',\n",
       " 3776: 'Lille',\n",
       " 2462: 'Eintracht Frankfurt',\n",
       " 1619: 'Southampton',\n",
       " 2463: 'K\\\\u00f6ln',\n",
       " 1612: 'Liverpool',\n",
       " 1610: 'Chelsea',\n",
       " 1611: 'Manchester United',\n",
       " 3185: 'Torino',\n",
       " 3187: 'Napoli',\n",
       " 677: 'Deportivo La Coru\\\\u00f1a',\n",
       " 2975: 'RB Leipzig',\n",
       " 1609: 'Arsenal',\n",
       " 3783: 'Caen',\n",
       " 3780: 'Toulouse',\n",
       " 3787: 'Montpellier',\n",
       " 3785: 'Guingamp',\n",
       " 3789: 'Amiens SC',\n",
       " 3197: 'Crotone',\n",
       " 3194: 'Hellas Verona',\n",
       " 3193: 'Genoa',\n",
       " 684: 'Real Betis',\n",
       " 687: 'Real Sociedad',\n",
       " 680: 'Sevilla',\n",
       " 683: 'M\\\\u00e1laga',\n",
       " 682: 'Villarreal',\n",
       " 14855: 'Korea Republic',\n",
       " 10451: 'Hungary',\n",
       " 4687: 'Turkey',\n",
       " 14358: 'Russia',\n",
       " 7047: 'Sweden',\n",
       " 16276: 'Tunisia',\n",
       " 6380: 'Brazil',\n",
       " 3148: 'Germany',\n",
       " 8731: 'Albania',\n",
       " 11944: 'Romania',\n",
       " 14622: 'Ukraine',\n",
       " 16216: 'Morocco',\n",
       " 14496: 'Slovakia',\n",
       " 12430: 'Colombia',\n",
       " 17929: 'Panama',\n",
       " 8493: 'Australia',\n",
       " 12274: 'Argentina',\n",
       " 10962: 'Northern Ireland',\n",
       " 9905: 'Portugal',\n",
       " 5629: 'Belgium',\n",
       " 7712: 'Denmark',\n",
       " 15670: 'Uruguay',\n",
       " 10682: 'Wales',\n",
       " 16871: 'Costa Rica',\n",
       " 2413: 'England',\n",
       " 16129: 'Egypt',\n",
       " 12913: 'Japan',\n",
       " 10840: 'Iran',\n",
       " 9109: 'Austria',\n",
       " 7839: 'Iceland',\n",
       " 9598: 'Croatia',\n",
       " 15473: 'Mexico',\n",
       " 8274: 'Republic of Ireland',\n",
       " 11555: 'Czech Republic',\n",
       " 19314: 'Senegal',\n",
       " 3757: 'Italy',\n",
       " 15594: 'Peru',\n",
       " 4418: 'France',\n",
       " 16521: 'Saudi Arabia',\n",
       " 1598: 'Spain',\n",
       " 17322: 'Serbia',\n",
       " 6697: 'Switzerland',\n",
       " 13869: 'Poland',\n",
       " 16823: 'Nigeria'}"
      ]
     },
     "execution_count": 4,
     "metadata": {},
     "output_type": "execute_result"
    }
   ],
   "source": [
    "teams_json = '../input/football-event-data/teams.json'\n",
    "with open(teams_json) as f:\n",
    "    data = json.load(f)\n",
    "    teams = pd.json_normalize(data, sep = \"_\")\n",
    "teams_map = dict()\n",
    "for i, team in teams.iterrows():\n",
    "    teams_map[team['wyId']] = team['name']\n",
    "teams_map"
   ]
  },
  {
   "cell_type": "code",
   "execution_count": 5,
   "id": "030fd22a",
   "metadata": {
    "execution": {
     "iopub.execute_input": "2022-09-01T16:44:26.326791Z",
     "iopub.status.busy": "2022-09-01T16:44:26.326456Z",
     "iopub.status.idle": "2022-09-01T16:44:26.453046Z",
     "shell.execute_reply": "2022-09-01T16:44:26.451848Z"
    },
    "papermill": {
     "duration": 0.137288,
     "end_time": "2022-09-01T16:44:26.455583",
     "exception": false,
     "start_time": "2022-09-01T16:44:26.318295",
     "status": "completed"
    },
    "tags": []
   },
   "outputs": [],
   "source": [
    "json_path = '../input/wyscoutdata/matches_England.json'\n",
    "with open(json_path) as f:\n",
    "    data = json.load(f)\n",
    "    matches = pd.json_normalize(data, sep = \"_\")"
   ]
  },
  {
   "cell_type": "code",
   "execution_count": 6,
   "id": "73043c47",
   "metadata": {
    "execution": {
     "iopub.execute_input": "2022-09-01T16:44:26.471815Z",
     "iopub.status.busy": "2022-09-01T16:44:26.471454Z",
     "iopub.status.idle": "2022-09-01T16:44:26.514589Z",
     "shell.execute_reply": "2022-09-01T16:44:26.513389Z"
    },
    "papermill": {
     "duration": 0.054474,
     "end_time": "2022-09-01T16:44:26.517496",
     "exception": false,
     "start_time": "2022-09-01T16:44:26.463022",
     "status": "completed"
    },
    "tags": []
   },
   "outputs": [
    {
     "data": {
      "text/plain": [
       "['matches_European_Championship.json',\n",
       " 'matches_France.json',\n",
       " 'matches_Italy.json',\n",
       " 'matches_Spain.json',\n",
       " 'matches_World_Cup.json',\n",
       " 'matches_England.json',\n",
       " 'matches_Germany.json']"
      ]
     },
     "execution_count": 6,
     "metadata": {},
     "output_type": "execute_result"
    }
   ],
   "source": [
    "import os\n",
    "os.listdir('/kaggle/input/wyscoutdata')"
   ]
  },
  {
   "cell_type": "code",
   "execution_count": 7,
   "id": "bee9e8df",
   "metadata": {
    "execution": {
     "iopub.execute_input": "2022-09-01T16:44:26.533812Z",
     "iopub.status.busy": "2022-09-01T16:44:26.533457Z",
     "iopub.status.idle": "2022-09-01T16:44:26.543284Z",
     "shell.execute_reply": "2022-09-01T16:44:26.542460Z"
    },
    "papermill": {
     "duration": 0.019891,
     "end_time": "2022-09-01T16:44:26.545085",
     "exception": false,
     "start_time": "2022-09-01T16:44:26.525194",
     "status": "completed"
    },
    "tags": []
   },
   "outputs": [
    {
     "data": {
      "text/plain": [
       "0      38\n",
       "1      38\n",
       "2      38\n",
       "3      38\n",
       "4      38\n",
       "       ..\n",
       "375     1\n",
       "376     1\n",
       "377     1\n",
       "378     1\n",
       "379     1\n",
       "Name: gameweek, Length: 380, dtype: int64"
      ]
     },
     "execution_count": 7,
     "metadata": {},
     "output_type": "execute_result"
    }
   ],
   "source": [
    "matches['gameweek']"
   ]
  },
  {
   "cell_type": "code",
   "execution_count": 8,
   "id": "12bda71c",
   "metadata": {
    "execution": {
     "iopub.execute_input": "2022-09-01T16:44:26.561840Z",
     "iopub.status.busy": "2022-09-01T16:44:26.560833Z",
     "iopub.status.idle": "2022-09-01T16:44:26.567539Z",
     "shell.execute_reply": "2022-09-01T16:44:26.566473Z"
    },
    "papermill": {
     "duration": 0.016763,
     "end_time": "2022-09-01T16:44:26.569249",
     "exception": false,
     "start_time": "2022-09-01T16:44:26.552486",
     "status": "completed"
    },
    "tags": []
   },
   "outputs": [
    {
     "data": {
      "text/plain": [
       "['AFC Bournemouth', '1']"
      ]
     },
     "execution_count": 8,
     "metadata": {},
     "output_type": "execute_result"
    }
   ],
   "source": [
    "matches.label.iloc[0].split(' - ')[1].split(', ')"
   ]
  },
  {
   "cell_type": "code",
   "execution_count": 9,
   "id": "275529d4",
   "metadata": {
    "execution": {
     "iopub.execute_input": "2022-09-01T16:44:26.586192Z",
     "iopub.status.busy": "2022-09-01T16:44:26.585553Z",
     "iopub.status.idle": "2022-09-01T16:44:26.590702Z",
     "shell.execute_reply": "2022-09-01T16:44:26.589693Z"
    },
    "papermill": {
     "duration": 0.016049,
     "end_time": "2022-09-01T16:44:26.592697",
     "exception": false,
     "start_time": "2022-09-01T16:44:26.576648",
     "status": "completed"
    },
    "tags": []
   },
   "outputs": [],
   "source": [
    "def split_label(string):\n",
    "    home, away_home_score, away_score = string.split(' - ')\n",
    "    away, home_score = away_home_score.split(', ')\n",
    "    return home, away, home_score, away_score"
   ]
  },
  {
   "cell_type": "code",
   "execution_count": 10,
   "id": "9b8f4fa1",
   "metadata": {
    "execution": {
     "iopub.execute_input": "2022-09-01T16:44:26.609383Z",
     "iopub.status.busy": "2022-09-01T16:44:26.608740Z",
     "iopub.status.idle": "2022-09-01T16:44:26.617209Z",
     "shell.execute_reply": "2022-09-01T16:44:26.616585Z"
    },
    "papermill": {
     "duration": 0.019402,
     "end_time": "2022-09-01T16:44:26.619581",
     "exception": false,
     "start_time": "2022-09-01T16:44:26.600179",
     "status": "completed"
    },
    "tags": []
   },
   "outputs": [],
   "source": [
    "matches['home_team'],matches['away_team'], matches['home_score'], matches['away_score'] = zip(*matches['label'].map(split_label))"
   ]
  },
  {
   "cell_type": "code",
   "execution_count": 11,
   "id": "f2a0c2d3",
   "metadata": {
    "execution": {
     "iopub.execute_input": "2022-09-01T16:44:26.636373Z",
     "iopub.status.busy": "2022-09-01T16:44:26.635641Z",
     "iopub.status.idle": "2022-09-01T16:44:26.647110Z",
     "shell.execute_reply": "2022-09-01T16:44:26.646407Z"
    },
    "papermill": {
     "duration": 0.021524,
     "end_time": "2022-09-01T16:44:26.649012",
     "exception": false,
     "start_time": "2022-09-01T16:44:26.627488",
     "status": "completed"
    },
    "tags": []
   },
   "outputs": [],
   "source": [
    "scores = matches[['home_team', 'away_team', 'home_score', 'away_score', 'gameweek']]"
   ]
  },
  {
   "cell_type": "code",
   "execution_count": 12,
   "id": "f1436b43",
   "metadata": {
    "execution": {
     "iopub.execute_input": "2022-09-01T16:44:26.666421Z",
     "iopub.status.busy": "2022-09-01T16:44:26.666011Z",
     "iopub.status.idle": "2022-09-01T16:44:26.672328Z",
     "shell.execute_reply": "2022-09-01T16:44:26.671465Z"
    },
    "papermill": {
     "duration": 0.017956,
     "end_time": "2022-09-01T16:44:26.674471",
     "exception": false,
     "start_time": "2022-09-01T16:44:26.656515",
     "status": "completed"
    },
    "tags": []
   },
   "outputs": [
    {
     "data": {
      "text/plain": [
       "array(['Burnley', 'Crystal Palace', 'Huddersfield Town', 'Liverpool',\n",
       "       'Manchester United', 'Newcastle United', 'Southampton',\n",
       "       'Swansea City', 'Tottenham Hotspur', 'West Ham United',\n",
       "       'Manchester City', 'Leicester City', 'Chelsea', 'Arsenal',\n",
       "       'Everton', 'AFC Bournemouth', 'Watford', 'West Bromwich Albion',\n",
       "       'Stoke City', 'Brighton & Hove Albion'], dtype=object)"
      ]
     },
     "execution_count": 12,
     "metadata": {},
     "output_type": "execute_result"
    }
   ],
   "source": [
    "teams = matches['home_team'].unique()\n",
    "teams"
   ]
  },
  {
   "cell_type": "code",
   "execution_count": 13,
   "id": "1d316f67",
   "metadata": {
    "execution": {
     "iopub.execute_input": "2022-09-01T16:44:26.691108Z",
     "iopub.status.busy": "2022-09-01T16:44:26.690736Z",
     "iopub.status.idle": "2022-09-01T16:44:26.698395Z",
     "shell.execute_reply": "2022-09-01T16:44:26.696480Z"
    },
    "papermill": {
     "duration": 0.018762,
     "end_time": "2022-09-01T16:44:26.700798",
     "exception": false,
     "start_time": "2022-09-01T16:44:26.682036",
     "status": "completed"
    },
    "tags": []
   },
   "outputs": [
    {
     "name": "stderr",
     "output_type": "stream",
     "text": [
      "/opt/conda/lib/python3.7/site-packages/ipykernel_launcher.py:1: DeprecationWarning: `np.int` is a deprecated alias for the builtin `int`. To silence this warning, use `int` by itself. Doing this will not modify any behavior and is safe. When replacing `np.int`, you may wish to use e.g. `np.int64` or `np.int32` to specify the precision. If you wish to review your current use, check the release note link for additional information.\n",
      "Deprecated in NumPy 1.20; for more details and guidance: https://numpy.org/devdocs/release/1.20.0-notes.html#deprecations\n",
      "  \"\"\"Entry point for launching an IPython kernel.\n",
      "/opt/conda/lib/python3.7/site-packages/ipykernel_launcher.py:1: SettingWithCopyWarning: \n",
      "A value is trying to be set on a copy of a slice from a DataFrame.\n",
      "Try using .loc[row_indexer,col_indexer] = value instead\n",
      "\n",
      "See the caveats in the documentation: https://pandas.pydata.org/pandas-docs/stable/user_guide/indexing.html#returning-a-view-versus-a-copy\n",
      "  \"\"\"Entry point for launching an IPython kernel.\n",
      "/opt/conda/lib/python3.7/site-packages/ipykernel_launcher.py:2: DeprecationWarning: `np.int` is a deprecated alias for the builtin `int`. To silence this warning, use `int` by itself. Doing this will not modify any behavior and is safe. When replacing `np.int`, you may wish to use e.g. `np.int64` or `np.int32` to specify the precision. If you wish to review your current use, check the release note link for additional information.\n",
      "Deprecated in NumPy 1.20; for more details and guidance: https://numpy.org/devdocs/release/1.20.0-notes.html#deprecations\n",
      "  \n",
      "/opt/conda/lib/python3.7/site-packages/ipykernel_launcher.py:2: SettingWithCopyWarning: \n",
      "A value is trying to be set on a copy of a slice from a DataFrame.\n",
      "Try using .loc[row_indexer,col_indexer] = value instead\n",
      "\n",
      "See the caveats in the documentation: https://pandas.pydata.org/pandas-docs/stable/user_guide/indexing.html#returning-a-view-versus-a-copy\n",
      "  \n"
     ]
    }
   ],
   "source": [
    "scores['home_score'] = scores['home_score'].astype(np.int)\n",
    "scores['away_score'] = scores['away_score'].astype(np.int)"
   ]
  },
  {
   "cell_type": "code",
   "execution_count": 14,
   "id": "d8c0d0ee",
   "metadata": {
    "execution": {
     "iopub.execute_input": "2022-09-01T16:44:26.717817Z",
     "iopub.status.busy": "2022-09-01T16:44:26.717437Z",
     "iopub.status.idle": "2022-09-01T16:44:26.749799Z",
     "shell.execute_reply": "2022-09-01T16:44:26.748561Z"
    },
    "papermill": {
     "duration": 0.04347,
     "end_time": "2022-09-01T16:44:26.752272",
     "exception": false,
     "start_time": "2022-09-01T16:44:26.708802",
     "status": "completed"
    },
    "tags": []
   },
   "outputs": [],
   "source": [
    "table = {}\n",
    "for team in teams:\n",
    "    table[team] = {'goals': 0, 'goals_against': 0, 'points': 0, 'wins': 0, 'draws': 0, 'losses': 0}\n",
    "for index, game in scores.iterrows():\n",
    "    home_team = game['home_team']\n",
    "    away_team = game['away_team']\n",
    "    away_score = game['away_score']\n",
    "    home_score = game['home_score']\n",
    "    #update scores\n",
    "    table[home_team]['goals'] += home_score\n",
    "    table[home_team]['goals_against'] += away_score\n",
    "    table[away_team]['goals'] += away_score\n",
    "    table[away_team]['goals_against'] += home_score\n",
    "    #update wins\n",
    "    if home_score > away_score:\n",
    "        table[home_team]['wins'] += 1\n",
    "        table[away_team]['losses'] += 1 \n",
    "    elif home_score == away_score:\n",
    "        table[home_team]['draws'] += 1\n",
    "        table[away_team]['draws'] += 1\n",
    "    else:\n",
    "        table[home_team]['losses'] += 1\n",
    "        table[away_team]['wins'] += 1"
   ]
  },
  {
   "cell_type": "code",
   "execution_count": 15,
   "id": "efe75813",
   "metadata": {
    "execution": {
     "iopub.execute_input": "2022-09-01T16:44:26.769192Z",
     "iopub.status.busy": "2022-09-01T16:44:26.768338Z",
     "iopub.status.idle": "2022-09-01T16:44:26.774081Z",
     "shell.execute_reply": "2022-09-01T16:44:26.773234Z"
    },
    "papermill": {
     "duration": 0.016137,
     "end_time": "2022-09-01T16:44:26.775982",
     "exception": false,
     "start_time": "2022-09-01T16:44:26.759845",
     "status": "completed"
    },
    "tags": []
   },
   "outputs": [],
   "source": [
    "table = pd.DataFrame().from_dict(table, orient='index')"
   ]
  },
  {
   "cell_type": "code",
   "execution_count": 16,
   "id": "8c449cf7",
   "metadata": {
    "execution": {
     "iopub.execute_input": "2022-09-01T16:44:26.792332Z",
     "iopub.status.busy": "2022-09-01T16:44:26.791729Z",
     "iopub.status.idle": "2022-09-01T16:44:26.796779Z",
     "shell.execute_reply": "2022-09-01T16:44:26.796109Z"
    },
    "papermill": {
     "duration": 0.015066,
     "end_time": "2022-09-01T16:44:26.798504",
     "exception": false,
     "start_time": "2022-09-01T16:44:26.783438",
     "status": "completed"
    },
    "tags": []
   },
   "outputs": [],
   "source": [
    "table['points'] = table['wins']*3 + table['draws']"
   ]
  },
  {
   "cell_type": "code",
   "execution_count": 17,
   "id": "866e08d6",
   "metadata": {
    "execution": {
     "iopub.execute_input": "2022-09-01T16:44:26.814778Z",
     "iopub.status.busy": "2022-09-01T16:44:26.814162Z",
     "iopub.status.idle": "2022-09-01T16:44:26.829493Z",
     "shell.execute_reply": "2022-09-01T16:44:26.828642Z"
    },
    "papermill": {
     "duration": 0.025338,
     "end_time": "2022-09-01T16:44:26.831232",
     "exception": false,
     "start_time": "2022-09-01T16:44:26.805894",
     "status": "completed"
    },
    "tags": []
   },
   "outputs": [
    {
     "data": {
      "text/html": [
       "<div>\n",
       "<style scoped>\n",
       "    .dataframe tbody tr th:only-of-type {\n",
       "        vertical-align: middle;\n",
       "    }\n",
       "\n",
       "    .dataframe tbody tr th {\n",
       "        vertical-align: top;\n",
       "    }\n",
       "\n",
       "    .dataframe thead th {\n",
       "        text-align: right;\n",
       "    }\n",
       "</style>\n",
       "<table border=\"1\" class=\"dataframe\">\n",
       "  <thead>\n",
       "    <tr style=\"text-align: right;\">\n",
       "      <th></th>\n",
       "      <th>goals</th>\n",
       "      <th>goals_against</th>\n",
       "      <th>points</th>\n",
       "      <th>wins</th>\n",
       "      <th>draws</th>\n",
       "      <th>losses</th>\n",
       "    </tr>\n",
       "  </thead>\n",
       "  <tbody>\n",
       "    <tr>\n",
       "      <th>West Bromwich Albion</th>\n",
       "      <td>31</td>\n",
       "      <td>56</td>\n",
       "      <td>31</td>\n",
       "      <td>6</td>\n",
       "      <td>13</td>\n",
       "      <td>19</td>\n",
       "    </tr>\n",
       "    <tr>\n",
       "      <th>Stoke City</th>\n",
       "      <td>35</td>\n",
       "      <td>68</td>\n",
       "      <td>33</td>\n",
       "      <td>7</td>\n",
       "      <td>12</td>\n",
       "      <td>19</td>\n",
       "    </tr>\n",
       "    <tr>\n",
       "      <th>Swansea City</th>\n",
       "      <td>28</td>\n",
       "      <td>56</td>\n",
       "      <td>33</td>\n",
       "      <td>8</td>\n",
       "      <td>9</td>\n",
       "      <td>21</td>\n",
       "    </tr>\n",
       "    <tr>\n",
       "      <th>Southampton</th>\n",
       "      <td>37</td>\n",
       "      <td>56</td>\n",
       "      <td>36</td>\n",
       "      <td>7</td>\n",
       "      <td>15</td>\n",
       "      <td>16</td>\n",
       "    </tr>\n",
       "    <tr>\n",
       "      <th>Huddersfield Town</th>\n",
       "      <td>28</td>\n",
       "      <td>58</td>\n",
       "      <td>37</td>\n",
       "      <td>9</td>\n",
       "      <td>10</td>\n",
       "      <td>19</td>\n",
       "    </tr>\n",
       "    <tr>\n",
       "      <th>Brighton &amp; Hove Albion</th>\n",
       "      <td>34</td>\n",
       "      <td>54</td>\n",
       "      <td>40</td>\n",
       "      <td>9</td>\n",
       "      <td>13</td>\n",
       "      <td>16</td>\n",
       "    </tr>\n",
       "    <tr>\n",
       "      <th>Watford</th>\n",
       "      <td>44</td>\n",
       "      <td>64</td>\n",
       "      <td>41</td>\n",
       "      <td>11</td>\n",
       "      <td>8</td>\n",
       "      <td>19</td>\n",
       "    </tr>\n",
       "    <tr>\n",
       "      <th>West Ham United</th>\n",
       "      <td>48</td>\n",
       "      <td>68</td>\n",
       "      <td>42</td>\n",
       "      <td>10</td>\n",
       "      <td>12</td>\n",
       "      <td>16</td>\n",
       "    </tr>\n",
       "    <tr>\n",
       "      <th>AFC Bournemouth</th>\n",
       "      <td>45</td>\n",
       "      <td>61</td>\n",
       "      <td>44</td>\n",
       "      <td>11</td>\n",
       "      <td>11</td>\n",
       "      <td>16</td>\n",
       "    </tr>\n",
       "    <tr>\n",
       "      <th>Crystal Palace</th>\n",
       "      <td>45</td>\n",
       "      <td>55</td>\n",
       "      <td>44</td>\n",
       "      <td>11</td>\n",
       "      <td>11</td>\n",
       "      <td>16</td>\n",
       "    </tr>\n",
       "    <tr>\n",
       "      <th>Newcastle United</th>\n",
       "      <td>39</td>\n",
       "      <td>47</td>\n",
       "      <td>44</td>\n",
       "      <td>12</td>\n",
       "      <td>8</td>\n",
       "      <td>18</td>\n",
       "    </tr>\n",
       "    <tr>\n",
       "      <th>Leicester City</th>\n",
       "      <td>56</td>\n",
       "      <td>60</td>\n",
       "      <td>47</td>\n",
       "      <td>12</td>\n",
       "      <td>11</td>\n",
       "      <td>15</td>\n",
       "    </tr>\n",
       "    <tr>\n",
       "      <th>Everton</th>\n",
       "      <td>44</td>\n",
       "      <td>58</td>\n",
       "      <td>49</td>\n",
       "      <td>13</td>\n",
       "      <td>10</td>\n",
       "      <td>15</td>\n",
       "    </tr>\n",
       "    <tr>\n",
       "      <th>Burnley</th>\n",
       "      <td>36</td>\n",
       "      <td>39</td>\n",
       "      <td>54</td>\n",
       "      <td>14</td>\n",
       "      <td>12</td>\n",
       "      <td>12</td>\n",
       "    </tr>\n",
       "    <tr>\n",
       "      <th>Arsenal</th>\n",
       "      <td>74</td>\n",
       "      <td>51</td>\n",
       "      <td>63</td>\n",
       "      <td>19</td>\n",
       "      <td>6</td>\n",
       "      <td>13</td>\n",
       "    </tr>\n",
       "    <tr>\n",
       "      <th>Chelsea</th>\n",
       "      <td>62</td>\n",
       "      <td>38</td>\n",
       "      <td>70</td>\n",
       "      <td>21</td>\n",
       "      <td>7</td>\n",
       "      <td>10</td>\n",
       "    </tr>\n",
       "    <tr>\n",
       "      <th>Liverpool</th>\n",
       "      <td>84</td>\n",
       "      <td>38</td>\n",
       "      <td>75</td>\n",
       "      <td>21</td>\n",
       "      <td>12</td>\n",
       "      <td>5</td>\n",
       "    </tr>\n",
       "    <tr>\n",
       "      <th>Tottenham Hotspur</th>\n",
       "      <td>74</td>\n",
       "      <td>36</td>\n",
       "      <td>77</td>\n",
       "      <td>23</td>\n",
       "      <td>8</td>\n",
       "      <td>7</td>\n",
       "    </tr>\n",
       "    <tr>\n",
       "      <th>Manchester United</th>\n",
       "      <td>68</td>\n",
       "      <td>28</td>\n",
       "      <td>81</td>\n",
       "      <td>25</td>\n",
       "      <td>6</td>\n",
       "      <td>7</td>\n",
       "    </tr>\n",
       "    <tr>\n",
       "      <th>Manchester City</th>\n",
       "      <td>106</td>\n",
       "      <td>27</td>\n",
       "      <td>100</td>\n",
       "      <td>32</td>\n",
       "      <td>4</td>\n",
       "      <td>2</td>\n",
       "    </tr>\n",
       "  </tbody>\n",
       "</table>\n",
       "</div>"
      ],
      "text/plain": [
       "                        goals  goals_against  points  wins  draws  losses\n",
       "West Bromwich Albion       31             56      31     6     13      19\n",
       "Stoke City                 35             68      33     7     12      19\n",
       "Swansea City               28             56      33     8      9      21\n",
       "Southampton                37             56      36     7     15      16\n",
       "Huddersfield Town          28             58      37     9     10      19\n",
       "Brighton & Hove Albion     34             54      40     9     13      16\n",
       "Watford                    44             64      41    11      8      19\n",
       "West Ham United            48             68      42    10     12      16\n",
       "AFC Bournemouth            45             61      44    11     11      16\n",
       "Crystal Palace             45             55      44    11     11      16\n",
       "Newcastle United           39             47      44    12      8      18\n",
       "Leicester City             56             60      47    12     11      15\n",
       "Everton                    44             58      49    13     10      15\n",
       "Burnley                    36             39      54    14     12      12\n",
       "Arsenal                    74             51      63    19      6      13\n",
       "Chelsea                    62             38      70    21      7      10\n",
       "Liverpool                  84             38      75    21     12       5\n",
       "Tottenham Hotspur          74             36      77    23      8       7\n",
       "Manchester United          68             28      81    25      6       7\n",
       "Manchester City           106             27     100    32      4       2"
      ]
     },
     "execution_count": 17,
     "metadata": {},
     "output_type": "execute_result"
    }
   ],
   "source": [
    "table.sort_values(by = 'points')"
   ]
  },
  {
   "cell_type": "code",
   "execution_count": 18,
   "id": "ae7c1537",
   "metadata": {
    "execution": {
     "iopub.execute_input": "2022-09-01T16:44:26.848466Z",
     "iopub.status.busy": "2022-09-01T16:44:26.847814Z",
     "iopub.status.idle": "2022-09-01T16:44:26.856152Z",
     "shell.execute_reply": "2022-09-01T16:44:26.855407Z"
    },
    "papermill": {
     "duration": 0.019537,
     "end_time": "2022-09-01T16:44:26.858492",
     "exception": false,
     "start_time": "2022-09-01T16:44:26.838955",
     "status": "completed"
    },
    "tags": []
   },
   "outputs": [],
   "source": [
    "table.to_csv(\"epl_table.csv\")"
   ]
  },
  {
   "cell_type": "code",
   "execution_count": 19,
   "id": "4cb9df14",
   "metadata": {
    "execution": {
     "iopub.execute_input": "2022-09-01T16:44:26.875876Z",
     "iopub.status.busy": "2022-09-01T16:44:26.875505Z",
     "iopub.status.idle": "2022-09-01T16:44:26.915392Z",
     "shell.execute_reply": "2022-09-01T16:44:26.914337Z"
    },
    "papermill": {
     "duration": 0.051195,
     "end_time": "2022-09-01T16:44:26.917772",
     "exception": false,
     "start_time": "2022-09-01T16:44:26.866577",
     "status": "completed"
    },
    "tags": []
   },
   "outputs": [
    {
     "name": "stderr",
     "output_type": "stream",
     "text": [
      "/opt/conda/lib/python3.7/site-packages/ipykernel_launcher.py:2: FutureWarning: Dropping of nuisance columns in DataFrame reductions (with 'numeric_only=None') is deprecated; in a future version this will raise TypeError.  Select only valid columns before calling the reduction.\n",
      "  \n"
     ]
    },
    {
     "name": "stdout",
     "output_type": "stream",
     "text": [
      "status\n",
      "gameweek\n",
      "dateutc\n",
      "winner\n",
      "venue\n",
      "wyId\n",
      "label\n",
      "date\n",
      "referees\n",
      "duration\n",
      "teamsData_1646_coachId\n",
      "teamsData_1646_side\n",
      "teamsData_1646_score\n",
      "teamsData_1646_formation_bench\n",
      "teamsData_1646_formation_lineup\n",
      "teamsData_1646_formation_substitutions\n",
      "teamsData_1646_scoreHT\n",
      "teamsData_1659_coachId\n",
      "teamsData_1659_side\n",
      "teamsData_1659_score\n",
      "teamsData_1659_formation_bench\n",
      "teamsData_1659_formation_lineup\n",
      "teamsData_1659_formation_substitutions\n",
      "teamsData_1659_scoreHT\n",
      "teamsData_1628_coachId\n",
      "teamsData_1628_side\n",
      "teamsData_1628_score\n",
      "teamsData_1628_formation_bench\n",
      "teamsData_1628_formation_lineup\n",
      "teamsData_1628_formation_substitutions\n",
      "teamsData_1628_scoreHT\n",
      "teamsData_1627_coachId\n",
      "teamsData_1627_side\n",
      "teamsData_1627_score\n",
      "teamsData_1627_formation_bench\n",
      "teamsData_1627_formation_lineup\n",
      "teamsData_1627_formation_substitutions\n",
      "teamsData_1627_scoreHT\n",
      "teamsData_1609_coachId\n",
      "teamsData_1609_side\n",
      "teamsData_1609_score\n",
      "teamsData_1609_formation_bench\n",
      "teamsData_1609_formation_lineup\n",
      "teamsData_1609_formation_substitutions\n",
      "teamsData_1609_scoreHT\n",
      "teamsData_1673_coachId\n",
      "teamsData_1673_side\n",
      "teamsData_1673_score\n",
      "teamsData_1673_formation_bench\n",
      "teamsData_1673_formation_lineup\n",
      "teamsData_1673_formation_substitutions\n",
      "teamsData_1673_scoreHT\n",
      "teamsData_1651_coachId\n",
      "teamsData_1651_side\n",
      "teamsData_1651_score\n",
      "teamsData_1651_formation_bench\n",
      "teamsData_1651_formation_lineup\n",
      "teamsData_1651_formation_substitutions\n",
      "teamsData_1651_scoreHT\n",
      "teamsData_1612_coachId\n",
      "teamsData_1612_side\n",
      "teamsData_1612_score\n",
      "teamsData_1612_formation_bench\n",
      "teamsData_1612_formation_lineup\n",
      "teamsData_1612_formation_substitutions\n",
      "teamsData_1612_scoreHT\n",
      "teamsData_1644_coachId\n",
      "teamsData_1644_side\n",
      "teamsData_1644_score\n",
      "teamsData_1644_formation_bench\n",
      "teamsData_1644_formation_lineup\n",
      "teamsData_1644_formation_substitutions\n",
      "teamsData_1644_scoreHT\n",
      "teamsData_1611_coachId\n",
      "teamsData_1611_side\n",
      "teamsData_1611_score\n",
      "teamsData_1611_formation_bench\n",
      "teamsData_1611_formation_lineup\n",
      "teamsData_1611_formation_substitutions\n",
      "teamsData_1611_scoreHT\n",
      "teamsData_1613_coachId\n",
      "teamsData_1613_side\n",
      "teamsData_1613_score\n",
      "teamsData_1613_formation_bench\n",
      "teamsData_1613_formation_lineup\n",
      "teamsData_1613_formation_substitutions\n",
      "teamsData_1613_scoreHT\n",
      "teamsData_1610_coachId\n",
      "teamsData_1610_side\n",
      "teamsData_1610_score\n",
      "teamsData_1610_formation_bench\n",
      "teamsData_1610_formation_lineup\n",
      "teamsData_1610_formation_substitutions\n",
      "teamsData_1610_scoreHT\n",
      "teamsData_1625_side\n",
      "teamsData_1625_score\n",
      "teamsData_1625_formation_bench\n",
      "teamsData_1625_formation_lineup\n",
      "teamsData_1625_formation_substitutions\n",
      "teamsData_1625_scoreHT\n",
      "teamsData_1619_coachId\n",
      "teamsData_1619_side\n",
      "teamsData_1619_score\n",
      "teamsData_1619_formation_bench\n",
      "teamsData_1619_formation_lineup\n",
      "teamsData_1619_formation_substitutions\n",
      "teamsData_1619_scoreHT\n",
      "teamsData_10531_coachId\n",
      "teamsData_10531_side\n",
      "teamsData_10531_score\n",
      "teamsData_10531_formation_bench\n",
      "teamsData_10531_formation_lineup\n",
      "teamsData_10531_formation_substitutions\n",
      "teamsData_10531_scoreHT\n",
      "teamsData_1639_coachId\n",
      "teamsData_1639_side\n",
      "teamsData_1639_score\n",
      "teamsData_1639_formation_bench\n",
      "teamsData_1639_formation_lineup\n",
      "teamsData_1639_formation_substitutions\n",
      "teamsData_1639_scoreHT\n",
      "teamsData_1631_coachId\n",
      "teamsData_1631_side\n",
      "teamsData_1631_score\n",
      "teamsData_1631_formation_bench\n",
      "teamsData_1631_formation_lineup\n",
      "teamsData_1631_formation_substitutions\n",
      "teamsData_1631_scoreHT\n",
      "teamsData_1624_coachId\n",
      "teamsData_1624_side\n",
      "teamsData_1624_score\n",
      "teamsData_1624_formation_bench\n",
      "teamsData_1624_formation_lineup\n",
      "teamsData_1624_formation_substitutions\n",
      "teamsData_1624_scoreHT\n",
      "teamsData_1623_coachId\n",
      "teamsData_1623_side\n",
      "teamsData_1623_score\n",
      "teamsData_1623_formation_bench\n",
      "teamsData_1623_formation_lineup\n",
      "teamsData_1623_formation_substitutions\n",
      "teamsData_1623_scoreHT\n",
      "teamsData_1633_coachId\n",
      "teamsData_1633_side\n",
      "teamsData_1633_score\n",
      "teamsData_1633_formation_bench\n",
      "teamsData_1633_formation_lineup\n",
      "teamsData_1633_formation_substitutions\n",
      "teamsData_1633_scoreHT\n",
      "home_team\n",
      "away_team\n",
      "home_score\n",
      "away_score\n"
     ]
    }
   ],
   "source": [
    "df = matches\n",
    "df = df.drop(df.var()[df.var() == 0].index.values, axis=1)\n",
    "for col in df.columns:\n",
    "    print(col)"
   ]
  },
  {
   "cell_type": "code",
   "execution_count": 20,
   "id": "5ec61cd4",
   "metadata": {
    "execution": {
     "iopub.execute_input": "2022-09-01T16:44:26.935141Z",
     "iopub.status.busy": "2022-09-01T16:44:26.934820Z",
     "iopub.status.idle": "2022-09-01T16:44:26.947453Z",
     "shell.execute_reply": "2022-09-01T16:44:26.946545Z"
    },
    "papermill": {
     "duration": 0.023313,
     "end_time": "2022-09-01T16:44:26.949260",
     "exception": false,
     "start_time": "2022-09-01T16:44:26.925947",
     "status": "completed"
    },
    "tags": []
   },
   "outputs": [
    {
     "data": {
      "text/html": [
       "<div>\n",
       "<style scoped>\n",
       "    .dataframe tbody tr th:only-of-type {\n",
       "        vertical-align: middle;\n",
       "    }\n",
       "\n",
       "    .dataframe tbody tr th {\n",
       "        vertical-align: top;\n",
       "    }\n",
       "\n",
       "    .dataframe thead th {\n",
       "        text-align: right;\n",
       "    }\n",
       "</style>\n",
       "<table border=\"1\" class=\"dataframe\">\n",
       "  <thead>\n",
       "    <tr style=\"text-align: right;\">\n",
       "      <th></th>\n",
       "      <th>wyId</th>\n",
       "      <th>away_team</th>\n",
       "      <th>home_team</th>\n",
       "      <th>label</th>\n",
       "    </tr>\n",
       "  </thead>\n",
       "  <tbody>\n",
       "    <tr>\n",
       "      <th>370</th>\n",
       "      <td>2499724</td>\n",
       "      <td>West Ham United</td>\n",
       "      <td>Manchester United</td>\n",
       "      <td>Manchester United - West Ham United, 4 - 0</td>\n",
       "    </tr>\n",
       "    <tr>\n",
       "      <th>371</th>\n",
       "      <td>2499725</td>\n",
       "      <td>Tottenham Hotspur</td>\n",
       "      <td>Newcastle United</td>\n",
       "      <td>Newcastle United - Tottenham Hotspur, 0 - 2</td>\n",
       "    </tr>\n",
       "    <tr>\n",
       "      <th>372</th>\n",
       "      <td>2499720</td>\n",
       "      <td>Manchester City</td>\n",
       "      <td>Brighton &amp; Hove Albion</td>\n",
       "      <td>Brighton &amp; Hove Albion - Manchester City, 0 - 2</td>\n",
       "    </tr>\n",
       "    <tr>\n",
       "      <th>373</th>\n",
       "      <td>2499721</td>\n",
       "      <td>Burnley</td>\n",
       "      <td>Chelsea</td>\n",
       "      <td>Chelsea - Burnley, 2 - 3</td>\n",
       "    </tr>\n",
       "    <tr>\n",
       "      <th>374</th>\n",
       "      <td>2499722</td>\n",
       "      <td>Huddersfield Town</td>\n",
       "      <td>Crystal Palace</td>\n",
       "      <td>Crystal Palace - Huddersfield Town, 0 - 3</td>\n",
       "    </tr>\n",
       "    <tr>\n",
       "      <th>375</th>\n",
       "      <td>2499723</td>\n",
       "      <td>Stoke City</td>\n",
       "      <td>Everton</td>\n",
       "      <td>Everton - Stoke City, 1 - 0</td>\n",
       "    </tr>\n",
       "    <tr>\n",
       "      <th>376</th>\n",
       "      <td>2499726</td>\n",
       "      <td>Swansea City</td>\n",
       "      <td>Southampton</td>\n",
       "      <td>Southampton - Swansea City, 0 - 0</td>\n",
       "    </tr>\n",
       "    <tr>\n",
       "      <th>377</th>\n",
       "      <td>2499728</td>\n",
       "      <td>AFC Bournemouth</td>\n",
       "      <td>West Bromwich Albion</td>\n",
       "      <td>West Bromwich Albion - AFC Bournemouth, 1 - 0</td>\n",
       "    </tr>\n",
       "    <tr>\n",
       "      <th>378</th>\n",
       "      <td>2499727</td>\n",
       "      <td>Liverpool</td>\n",
       "      <td>Watford</td>\n",
       "      <td>Watford - Liverpool, 3 - 3</td>\n",
       "    </tr>\n",
       "    <tr>\n",
       "      <th>379</th>\n",
       "      <td>2499719</td>\n",
       "      <td>Leicester City</td>\n",
       "      <td>Arsenal</td>\n",
       "      <td>Arsenal - Leicester City, 4 - 3</td>\n",
       "    </tr>\n",
       "  </tbody>\n",
       "</table>\n",
       "</div>"
      ],
      "text/plain": [
       "        wyId          away_team               home_team  \\\n",
       "370  2499724    West Ham United       Manchester United   \n",
       "371  2499725  Tottenham Hotspur        Newcastle United   \n",
       "372  2499720    Manchester City  Brighton & Hove Albion   \n",
       "373  2499721            Burnley                 Chelsea   \n",
       "374  2499722  Huddersfield Town          Crystal Palace   \n",
       "375  2499723         Stoke City                 Everton   \n",
       "376  2499726       Swansea City             Southampton   \n",
       "377  2499728    AFC Bournemouth    West Bromwich Albion   \n",
       "378  2499727          Liverpool                 Watford   \n",
       "379  2499719     Leicester City                 Arsenal   \n",
       "\n",
       "                                               label  \n",
       "370       Manchester United - West Ham United, 4 - 0  \n",
       "371      Newcastle United - Tottenham Hotspur, 0 - 2  \n",
       "372  Brighton & Hove Albion - Manchester City, 0 - 2  \n",
       "373                         Chelsea - Burnley, 2 - 3  \n",
       "374        Crystal Palace - Huddersfield Town, 0 - 3  \n",
       "375                      Everton - Stoke City, 1 - 0  \n",
       "376                Southampton - Swansea City, 0 - 0  \n",
       "377    West Bromwich Albion - AFC Bournemouth, 1 - 0  \n",
       "378                       Watford - Liverpool, 3 - 3  \n",
       "379                  Arsenal - Leicester City, 4 - 3  "
      ]
     },
     "execution_count": 20,
     "metadata": {},
     "output_type": "execute_result"
    }
   ],
   "source": [
    "week1 = matches[matches.gameweek == 1][['wyId', 'away_team', 'home_team', 'label']]\n",
    "week1"
   ]
  },
  {
   "cell_type": "code",
   "execution_count": 21,
   "id": "00a9a649",
   "metadata": {
    "execution": {
     "iopub.execute_input": "2022-09-01T16:44:26.967003Z",
     "iopub.status.busy": "2022-09-01T16:44:26.966147Z",
     "iopub.status.idle": "2022-09-01T16:44:31.788992Z",
     "shell.execute_reply": "2022-09-01T16:44:31.787785Z"
    },
    "papermill": {
     "duration": 4.834554,
     "end_time": "2022-09-01T16:44:31.791841",
     "exception": false,
     "start_time": "2022-09-01T16:44:26.957287",
     "status": "completed"
    },
    "tags": []
   },
   "outputs": [],
   "source": [
    "games = []\n",
    "for index, game in week1.iterrows():\n",
    "    df = datasets.load('wyscout', match_id = game.wyId).to_pandas()\n",
    "    df['team'] = df['team_id'].apply(lambda x: teams_map[int(x)])\n",
    "    games.append(df)"
   ]
  },
  {
   "cell_type": "code",
   "execution_count": 22,
   "id": "66118b2f",
   "metadata": {
    "execution": {
     "iopub.execute_input": "2022-09-01T16:44:31.810605Z",
     "iopub.status.busy": "2022-09-01T16:44:31.809932Z",
     "iopub.status.idle": "2022-09-01T16:44:31.827784Z",
     "shell.execute_reply": "2022-09-01T16:44:31.826711Z"
    },
    "papermill": {
     "duration": 0.030058,
     "end_time": "2022-09-01T16:44:31.830387",
     "exception": false,
     "start_time": "2022-09-01T16:44:31.800329",
     "status": "completed"
    },
    "tags": []
   },
   "outputs": [],
   "source": [
    "gameweek1 = pd.concat(games)"
   ]
  },
  {
   "cell_type": "code",
   "execution_count": 23,
   "id": "e22fb292",
   "metadata": {
    "execution": {
     "iopub.execute_input": "2022-09-01T16:44:31.848794Z",
     "iopub.status.busy": "2022-09-01T16:44:31.848274Z",
     "iopub.status.idle": "2022-09-01T16:44:31.868306Z",
     "shell.execute_reply": "2022-09-01T16:44:31.867398Z"
    },
    "papermill": {
     "duration": 0.03152,
     "end_time": "2022-09-01T16:44:31.870295",
     "exception": false,
     "start_time": "2022-09-01T16:44:31.838775",
     "status": "completed"
    },
    "tags": []
   },
   "outputs": [
    {
     "data": {
      "text/html": [
       "<div>\n",
       "<style scoped>\n",
       "    .dataframe tbody tr th:only-of-type {\n",
       "        vertical-align: middle;\n",
       "    }\n",
       "\n",
       "    .dataframe tbody tr th {\n",
       "        vertical-align: top;\n",
       "    }\n",
       "\n",
       "    .dataframe thead th {\n",
       "        text-align: right;\n",
       "    }\n",
       "</style>\n",
       "<table border=\"1\" class=\"dataframe\">\n",
       "  <thead>\n",
       "    <tr style=\"text-align: right;\">\n",
       "      <th></th>\n",
       "      <th>team</th>\n",
       "      <th>event_type</th>\n",
       "      <th>0</th>\n",
       "    </tr>\n",
       "  </thead>\n",
       "  <tbody>\n",
       "    <tr>\n",
       "      <th>73</th>\n",
       "      <td>Manchester City</td>\n",
       "      <td>PASS</td>\n",
       "      <td>795</td>\n",
       "    </tr>\n",
       "    <tr>\n",
       "      <th>119</th>\n",
       "      <td>Tottenham Hotspur</td>\n",
       "      <td>PASS</td>\n",
       "      <td>738</td>\n",
       "    </tr>\n",
       "    <tr>\n",
       "      <th>9</th>\n",
       "      <td>Arsenal</td>\n",
       "      <td>PASS</td>\n",
       "      <td>657</td>\n",
       "    </tr>\n",
       "    <tr>\n",
       "      <th>3</th>\n",
       "      <td>AFC Bournemouth</td>\n",
       "      <td>PASS</td>\n",
       "      <td>639</td>\n",
       "    </tr>\n",
       "    <tr>\n",
       "      <th>95</th>\n",
       "      <td>Southampton</td>\n",
       "      <td>PASS</td>\n",
       "      <td>562</td>\n",
       "    </tr>\n",
       "    <tr>\n",
       "      <th>30</th>\n",
       "      <td>Chelsea</td>\n",
       "      <td>PASS</td>\n",
       "      <td>552</td>\n",
       "    </tr>\n",
       "    <tr>\n",
       "      <th>44</th>\n",
       "      <td>Everton</td>\n",
       "      <td>PASS</td>\n",
       "      <td>539</td>\n",
       "    </tr>\n",
       "    <tr>\n",
       "      <th>80</th>\n",
       "      <td>Manchester United</td>\n",
       "      <td>PASS</td>\n",
       "      <td>511</td>\n",
       "    </tr>\n",
       "    <tr>\n",
       "      <th>66</th>\n",
       "      <td>Liverpool</td>\n",
       "      <td>PASS</td>\n",
       "      <td>499</td>\n",
       "    </tr>\n",
       "    <tr>\n",
       "      <th>125</th>\n",
       "      <td>Watford</td>\n",
       "      <td>PASS</td>\n",
       "      <td>427</td>\n",
       "    </tr>\n",
       "    <tr>\n",
       "      <th>37</th>\n",
       "      <td>Crystal Palace</td>\n",
       "      <td>PASS</td>\n",
       "      <td>422</td>\n",
       "    </tr>\n",
       "    <tr>\n",
       "      <th>141</th>\n",
       "      <td>West Ham United</td>\n",
       "      <td>PASS</td>\n",
       "      <td>409</td>\n",
       "    </tr>\n",
       "    <tr>\n",
       "      <th>111</th>\n",
       "      <td>Swansea City</td>\n",
       "      <td>PASS</td>\n",
       "      <td>378</td>\n",
       "    </tr>\n",
       "    <tr>\n",
       "      <th>23</th>\n",
       "      <td>Burnley</td>\n",
       "      <td>PASS</td>\n",
       "      <td>335</td>\n",
       "    </tr>\n",
       "    <tr>\n",
       "      <th>52</th>\n",
       "      <td>Huddersfield Town</td>\n",
       "      <td>PASS</td>\n",
       "      <td>329</td>\n",
       "    </tr>\n",
       "    <tr>\n",
       "      <th>103</th>\n",
       "      <td>Stoke City</td>\n",
       "      <td>PASS</td>\n",
       "      <td>325</td>\n",
       "    </tr>\n",
       "    <tr>\n",
       "      <th>59</th>\n",
       "      <td>Leicester City</td>\n",
       "      <td>PASS</td>\n",
       "      <td>292</td>\n",
       "    </tr>\n",
       "    <tr>\n",
       "      <th>133</th>\n",
       "      <td>West Bromwich Albion</td>\n",
       "      <td>PASS</td>\n",
       "      <td>284</td>\n",
       "    </tr>\n",
       "    <tr>\n",
       "      <th>88</th>\n",
       "      <td>Newcastle United</td>\n",
       "      <td>PASS</td>\n",
       "      <td>277</td>\n",
       "    </tr>\n",
       "    <tr>\n",
       "      <th>15</th>\n",
       "      <td>Brighton &amp; Hove Albion</td>\n",
       "      <td>PASS</td>\n",
       "      <td>226</td>\n",
       "    </tr>\n",
       "  </tbody>\n",
       "</table>\n",
       "</div>"
      ],
      "text/plain": [
       "                       team event_type    0\n",
       "73          Manchester City       PASS  795\n",
       "119       Tottenham Hotspur       PASS  738\n",
       "9                   Arsenal       PASS  657\n",
       "3           AFC Bournemouth       PASS  639\n",
       "95              Southampton       PASS  562\n",
       "30                  Chelsea       PASS  552\n",
       "44                  Everton       PASS  539\n",
       "80        Manchester United       PASS  511\n",
       "66                Liverpool       PASS  499\n",
       "125                 Watford       PASS  427\n",
       "37           Crystal Palace       PASS  422\n",
       "141         West Ham United       PASS  409\n",
       "111            Swansea City       PASS  378\n",
       "23                  Burnley       PASS  335\n",
       "52        Huddersfield Town       PASS  329\n",
       "103              Stoke City       PASS  325\n",
       "59           Leicester City       PASS  292\n",
       "133    West Bromwich Albion       PASS  284\n",
       "88         Newcastle United       PASS  277\n",
       "15   Brighton & Hove Albion       PASS  226"
      ]
     },
     "execution_count": 23,
     "metadata": {},
     "output_type": "execute_result"
    }
   ],
   "source": [
    "eventdf = gameweek1.groupby(['team', 'event_type']).size().reset_index()\n",
    "eventdf[eventdf.event_type == 'PASS'].sort_values(by=0, ascending = False)"
   ]
  },
  {
   "cell_type": "code",
   "execution_count": 24,
   "id": "23bfd9d8",
   "metadata": {
    "execution": {
     "iopub.execute_input": "2022-09-01T16:44:31.889159Z",
     "iopub.status.busy": "2022-09-01T16:44:31.888806Z",
     "iopub.status.idle": "2022-09-01T16:44:31.895311Z",
     "shell.execute_reply": "2022-09-01T16:44:31.894393Z"
    },
    "papermill": {
     "duration": 0.018006,
     "end_time": "2022-09-01T16:44:31.897021",
     "exception": false,
     "start_time": "2022-09-01T16:44:31.879015",
     "status": "completed"
    },
    "tags": []
   },
   "outputs": [
    {
     "data": {
      "text/plain": [
       "array(['CARD', 'FOUL_COMMITTED', 'GENERIC:generic', 'PASS', 'RECOVERY',\n",
       "       'SHOT', 'TAKE_ON', 'BALL_OUT'], dtype=object)"
      ]
     },
     "execution_count": 24,
     "metadata": {},
     "output_type": "execute_result"
    }
   ],
   "source": [
    "eventdf.event_type.unique()"
   ]
  },
  {
   "cell_type": "code",
   "execution_count": 25,
   "id": "760c1ab4",
   "metadata": {
    "execution": {
     "iopub.execute_input": "2022-09-01T16:44:31.915823Z",
     "iopub.status.busy": "2022-09-01T16:44:31.915416Z",
     "iopub.status.idle": "2022-09-01T16:44:31.931044Z",
     "shell.execute_reply": "2022-09-01T16:44:31.930085Z"
    },
    "papermill": {
     "duration": 0.027775,
     "end_time": "2022-09-01T16:44:31.933328",
     "exception": false,
     "start_time": "2022-09-01T16:44:31.905553",
     "status": "completed"
    },
    "tags": []
   },
   "outputs": [
    {
     "data": {
      "text/html": [
       "<div>\n",
       "<style scoped>\n",
       "    .dataframe tbody tr th:only-of-type {\n",
       "        vertical-align: middle;\n",
       "    }\n",
       "\n",
       "    .dataframe tbody tr th {\n",
       "        vertical-align: top;\n",
       "    }\n",
       "\n",
       "    .dataframe thead th {\n",
       "        text-align: right;\n",
       "    }\n",
       "</style>\n",
       "<table border=\"1\" class=\"dataframe\">\n",
       "  <thead>\n",
       "    <tr style=\"text-align: right;\">\n",
       "      <th></th>\n",
       "      <th>team</th>\n",
       "      <th>event_type</th>\n",
       "      <th>0</th>\n",
       "    </tr>\n",
       "  </thead>\n",
       "  <tbody>\n",
       "    <tr>\n",
       "      <th>11</th>\n",
       "      <td>Arsenal</td>\n",
       "      <td>SHOT</td>\n",
       "      <td>27</td>\n",
       "    </tr>\n",
       "    <tr>\n",
       "      <th>28</th>\n",
       "      <td>Chelsea</td>\n",
       "      <td>CARD</td>\n",
       "      <td>6</td>\n",
       "    </tr>\n",
       "    <tr>\n",
       "      <th>43</th>\n",
       "      <td>Everton</td>\n",
       "      <td>GENERIC:generic</td>\n",
       "      <td>5</td>\n",
       "    </tr>\n",
       "    <tr>\n",
       "      <th>56</th>\n",
       "      <td>Leicester City</td>\n",
       "      <td>BALL_OUT</td>\n",
       "      <td>84</td>\n",
       "    </tr>\n",
       "    <tr>\n",
       "      <th>65</th>\n",
       "      <td>Liverpool</td>\n",
       "      <td>GENERIC:generic</td>\n",
       "      <td>5</td>\n",
       "    </tr>\n",
       "    <tr>\n",
       "      <th>67</th>\n",
       "      <td>Liverpool</td>\n",
       "      <td>RECOVERY</td>\n",
       "      <td>81</td>\n",
       "    </tr>\n",
       "    <tr>\n",
       "      <th>73</th>\n",
       "      <td>Manchester City</td>\n",
       "      <td>PASS</td>\n",
       "      <td>795</td>\n",
       "    </tr>\n",
       "    <tr>\n",
       "      <th>78</th>\n",
       "      <td>Manchester United</td>\n",
       "      <td>FOUL_COMMITTED</td>\n",
       "      <td>17</td>\n",
       "    </tr>\n",
       "    <tr>\n",
       "      <th>99</th>\n",
       "      <td>Stoke City</td>\n",
       "      <td>BALL_OUT</td>\n",
       "      <td>84</td>\n",
       "    </tr>\n",
       "    <tr>\n",
       "      <th>128</th>\n",
       "      <td>Watford</td>\n",
       "      <td>TAKE_ON</td>\n",
       "      <td>266</td>\n",
       "    </tr>\n",
       "  </tbody>\n",
       "</table>\n",
       "</div>"
      ],
      "text/plain": [
       "                  team       event_type    0\n",
       "11             Arsenal             SHOT   27\n",
       "28             Chelsea             CARD    6\n",
       "43             Everton  GENERIC:generic    5\n",
       "56      Leicester City         BALL_OUT   84\n",
       "65           Liverpool  GENERIC:generic    5\n",
       "67           Liverpool         RECOVERY   81\n",
       "73     Manchester City             PASS  795\n",
       "78   Manchester United   FOUL_COMMITTED   17\n",
       "99          Stoke City         BALL_OUT   84\n",
       "128            Watford          TAKE_ON  266"
      ]
     },
     "execution_count": 25,
     "metadata": {},
     "output_type": "execute_result"
    }
   ],
   "source": [
    "eventdf[eventdf.groupby('event_type')[0].transform(max) == eventdf[0]]"
   ]
  },
  {
   "cell_type": "code",
   "execution_count": 26,
   "id": "1f270bfa",
   "metadata": {
    "execution": {
     "iopub.execute_input": "2022-09-01T16:44:31.952876Z",
     "iopub.status.busy": "2022-09-01T16:44:31.952492Z",
     "iopub.status.idle": "2022-09-01T16:44:31.964449Z",
     "shell.execute_reply": "2022-09-01T16:44:31.963640Z"
    },
    "papermill": {
     "duration": 0.023376,
     "end_time": "2022-09-01T16:44:31.966023",
     "exception": false,
     "start_time": "2022-09-01T16:44:31.942647",
     "status": "completed"
    },
    "tags": []
   },
   "outputs": [
    {
     "data": {
      "text/html": [
       "<div>\n",
       "<style scoped>\n",
       "    .dataframe tbody tr th:only-of-type {\n",
       "        vertical-align: middle;\n",
       "    }\n",
       "\n",
       "    .dataframe tbody tr th {\n",
       "        vertical-align: top;\n",
       "    }\n",
       "\n",
       "    .dataframe thead th {\n",
       "        text-align: right;\n",
       "    }\n",
       "</style>\n",
       "<table border=\"1\" class=\"dataframe\">\n",
       "  <thead>\n",
       "    <tr style=\"text-align: right;\">\n",
       "      <th></th>\n",
       "      <th>team</th>\n",
       "      <th>event_type</th>\n",
       "      <th>0</th>\n",
       "    </tr>\n",
       "  </thead>\n",
       "  <tbody>\n",
       "    <tr>\n",
       "      <th>11</th>\n",
       "      <td>Arsenal</td>\n",
       "      <td>SHOT</td>\n",
       "      <td>27</td>\n",
       "    </tr>\n",
       "    <tr>\n",
       "      <th>28</th>\n",
       "      <td>Chelsea</td>\n",
       "      <td>CARD</td>\n",
       "      <td>6</td>\n",
       "    </tr>\n",
       "    <tr>\n",
       "      <th>43</th>\n",
       "      <td>Everton</td>\n",
       "      <td>GENERIC:generic</td>\n",
       "      <td>5</td>\n",
       "    </tr>\n",
       "    <tr>\n",
       "      <th>56</th>\n",
       "      <td>Leicester City</td>\n",
       "      <td>BALL_OUT</td>\n",
       "      <td>84</td>\n",
       "    </tr>\n",
       "    <tr>\n",
       "      <th>65</th>\n",
       "      <td>Liverpool</td>\n",
       "      <td>GENERIC:generic</td>\n",
       "      <td>5</td>\n",
       "    </tr>\n",
       "    <tr>\n",
       "      <th>67</th>\n",
       "      <td>Liverpool</td>\n",
       "      <td>RECOVERY</td>\n",
       "      <td>81</td>\n",
       "    </tr>\n",
       "    <tr>\n",
       "      <th>73</th>\n",
       "      <td>Manchester City</td>\n",
       "      <td>PASS</td>\n",
       "      <td>795</td>\n",
       "    </tr>\n",
       "    <tr>\n",
       "      <th>78</th>\n",
       "      <td>Manchester United</td>\n",
       "      <td>FOUL_COMMITTED</td>\n",
       "      <td>17</td>\n",
       "    </tr>\n",
       "    <tr>\n",
       "      <th>99</th>\n",
       "      <td>Stoke City</td>\n",
       "      <td>BALL_OUT</td>\n",
       "      <td>84</td>\n",
       "    </tr>\n",
       "    <tr>\n",
       "      <th>128</th>\n",
       "      <td>Watford</td>\n",
       "      <td>TAKE_ON</td>\n",
       "      <td>266</td>\n",
       "    </tr>\n",
       "  </tbody>\n",
       "</table>\n",
       "</div>"
      ],
      "text/plain": [
       "                  team       event_type    0\n",
       "11             Arsenal             SHOT   27\n",
       "28             Chelsea             CARD    6\n",
       "43             Everton  GENERIC:generic    5\n",
       "56      Leicester City         BALL_OUT   84\n",
       "65           Liverpool  GENERIC:generic    5\n",
       "67           Liverpool         RECOVERY   81\n",
       "73     Manchester City             PASS  795\n",
       "78   Manchester United   FOUL_COMMITTED   17\n",
       "99          Stoke City         BALL_OUT   84\n",
       "128            Watford          TAKE_ON  266"
      ]
     },
     "execution_count": 26,
     "metadata": {},
     "output_type": "execute_result"
    }
   ],
   "source": [
    "eventdf[eventdf[0] == eventdf.groupby('event_type')[0].transform('max')]"
   ]
  },
  {
   "cell_type": "code",
   "execution_count": 27,
   "id": "0fb413f0",
   "metadata": {
    "execution": {
     "iopub.execute_input": "2022-09-01T16:44:31.985699Z",
     "iopub.status.busy": "2022-09-01T16:44:31.985245Z",
     "iopub.status.idle": "2022-09-01T16:44:31.991085Z",
     "shell.execute_reply": "2022-09-01T16:44:31.990404Z"
    },
    "papermill": {
     "duration": 0.017746,
     "end_time": "2022-09-01T16:44:31.992883",
     "exception": false,
     "start_time": "2022-09-01T16:44:31.975137",
     "status": "completed"
    },
    "tags": []
   },
   "outputs": [],
   "source": [
    "eventdf.to_csv('gameweek1.csv', index = False)"
   ]
  },
  {
   "cell_type": "code",
   "execution_count": 28,
   "id": "0b3e3219",
   "metadata": {
    "execution": {
     "iopub.execute_input": "2022-09-01T16:44:32.012134Z",
     "iopub.status.busy": "2022-09-01T16:44:32.011756Z",
     "iopub.status.idle": "2022-09-01T16:44:32.042193Z",
     "shell.execute_reply": "2022-09-01T16:44:32.041183Z"
    },
    "papermill": {
     "duration": 0.043109,
     "end_time": "2022-09-01T16:44:32.045181",
     "exception": false,
     "start_time": "2022-09-01T16:44:32.002072",
     "status": "completed"
    },
    "tags": []
   },
   "outputs": [
    {
     "data": {
      "text/plain": [
       "'[{\"team\":\"West Ham United\",\"event_type\":\"CARD\",\"0\":6},{\"team\":\"AFC Bournemouth\",\"event_type\":\"CARD\",\"0\":1},{\"team\":\"West Ham United\",\"event_type\":\"FOUL_COMMITTED\",\"0\":17},{\"team\":\"AFC Bournemouth\",\"event_type\":\"FOUL_COMMITTED\",\"0\":3},{\"team\":\"West Ham United\",\"event_type\":\"PASS\",\"0\":795},{\"team\":\"AFC Bournemouth\",\"event_type\":\"PASS\",\"0\":226},{\"team\":\"West Ham United\",\"event_type\":\"RECOVERY\",\"0\":81},{\"team\":\"AFC Bournemouth\",\"event_type\":\"RECOVERY\",\"0\":32},{\"team\":\"West Ham United\",\"event_type\":\"SHOT\",\"0\":27},{\"team\":\"AFC Bournemouth\",\"event_type\":\"SHOT\",\"0\":4},{\"team\":\"West Ham United\",\"event_type\":\"TAKE_ON\",\"0\":266},{\"team\":\"AFC Bournemouth\",\"event_type\":\"TAKE_ON\",\"0\":176},{\"team\":\"West Ham United\",\"event_type\":\"BALL_OUT\",\"0\":84},{\"team\":\"Brighton & Hove Albion\",\"event_type\":\"BALL_OUT\",\"0\":1}]'"
      ]
     },
     "execution_count": 28,
     "metadata": {},
     "output_type": "execute_result"
    }
   ],
   "source": [
    "maxminstats = dict()\n",
    "for event in eventdf.event_type.unique():\n",
    "    if event == 'GENERIC:generic':\n",
    "        continue\n",
    "    maxminstats[event] = {'max': eventdf[eventdf.event_type == event].max(), 'min': eventdf[eventdf.event_type == event].min()}\n",
    "pd.DataFrame.from_dict({(i,j): maxminstats[i][j] \n",
    "                           for i in maxminstats.keys() \n",
    "                           for j in maxminstats[i].keys()},\n",
    "                       orient='index').to_json(orient='records')"
   ]
  },
  {
   "cell_type": "code",
   "execution_count": null,
   "id": "4fc0d96e",
   "metadata": {
    "papermill": {
     "duration": 0.008928,
     "end_time": "2022-09-01T16:44:32.063743",
     "exception": false,
     "start_time": "2022-09-01T16:44:32.054815",
     "status": "completed"
    },
    "tags": []
   },
   "outputs": [],
   "source": []
  }
 ],
 "metadata": {
  "kernelspec": {
   "display_name": "Python 3",
   "language": "python",
   "name": "python3"
  },
  "language_info": {
   "codemirror_mode": {
    "name": "ipython",
    "version": 3
   },
   "file_extension": ".py",
   "mimetype": "text/x-python",
   "name": "python",
   "nbconvert_exporter": "python",
   "pygments_lexer": "ipython3",
   "version": "3.7.12"
  },
  "papermill": {
   "default_parameters": {},
   "duration": 27.747537,
   "end_time": "2022-09-01T16:44:32.793442",
   "environment_variables": {},
   "exception": null,
   "input_path": "__notebook__.ipynb",
   "output_path": "__notebook__.ipynb",
   "parameters": {},
   "start_time": "2022-09-01T16:44:05.045905",
   "version": "2.3.4"
  }
 },
 "nbformat": 4,
 "nbformat_minor": 5
}
